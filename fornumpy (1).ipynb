{
  "nbformat": 4,
  "nbformat_minor": 0,
  "metadata": {
    "colab": {
      "provenance": []
    },
    "kernelspec": {
      "name": "python3",
      "display_name": "Python 3"
    },
    "language_info": {
      "name": "python"
    }
  },
  "cells": [
    {
      "cell_type": "code",
      "execution_count": null,
      "metadata": {
        "colab": {
          "base_uri": "https://localhost:8080/"
        },
        "id": "eh1M13bZgRHy",
        "outputId": "96e117c6-e060-4e14-aec3-703b7d540a08"
      },
      "outputs": [
        {
          "output_type": "stream",
          "name": "stdout",
          "text": [
            "{'a': 2}\n"
          ]
        }
      ],
      "source": [
        "#In python strip() is used for removing trailing and starting spaces.\n",
        "#sets are only datatypes in python that don't take duplicates and all datatypes in python are ordered except sets and dictionaries\n",
        "#lists are ordered,changable and allows duplicates\n",
        "a={'a':1,'a':2}\n",
        "print(a)\n",
        "#dictionaries dont take duplicate keys, incase you give duplicates, only the last key-value pair will be taken."
      ]
    },
    {
      "cell_type": "code",
      "source": [
        "my_str=\"\"\n",
        "not_str=not my_str\n",
        "print(not_str)\n",
        "lnm=True or False\n",
        "print(not_str==lnm)\n",
        "# not my_str is True as empty string always evaluates to False and the not of that would be True"
      ],
      "metadata": {
        "colab": {
          "base_uri": "https://localhost:8080/"
        },
        "id": "ZcS9lcQhh0ee",
        "outputId": "ea88b683-51b3-4588-9981-39fa4373dd38"
      },
      "execution_count": null,
      "outputs": [
        {
          "output_type": "stream",
          "name": "stdout",
          "text": [
            "True\n",
            "True\n"
          ]
        }
      ]
    },
    {
      "cell_type": "code",
      "source": [
        "#numpy is the fundamental package used for scientific computing in python.\n",
        "#Numpy is a fundamental package used for scientific computation in python. At the core of numpy is ndarray object which encapsulates\n",
        "#n-dimensional array of homogeneous datatypes in python."
      ],
      "metadata": {
        "id": "LwWFwdPZjCJ3"
      },
      "execution_count": null,
      "outputs": []
    },
    {
      "cell_type": "code",
      "source": [
        "#1.Numpy arrays have a fixed size at creation unlike python lists(which grow dynamically). Changing the size of array will delete the original\n",
        "#array and create a new one.\n",
        "#2.The elements in Numpy array are all required to be of the same datatype and hence will be of the same datatype in the memory.\n",
        "#3.Numpy arrays facilitate advanced mathematical operations on large datasets. Typically these operations are performed more efficiently and\n",
        "#and with less code than is possible with python built-in sequences.\n",
        "#4. A growing plethora of python packages are using numpy although they use python sequence input they convert such inputs to numpy array\n",
        "#before processing and they often output numpy arrays.\n",
        "#4. As numpy arrays contain homogeneous elements so unlike python lists they don't have to use referencial arrays(which stores references\n",
        "# to every item in the list and hence is more flexible for accomodating different datatypes which can be alloted any amount of memory at\n",
        "# any different memory location).You can directly store numbers in the memory.\n",
        "#Python datatypes are also slow because they store references to each object , so references are stored in a memory and we have to go\n",
        "#within that memory location to fetch the references were the actual objects are stored.\n",
        "#Python is also slow because of dynamic typing because the type of each variable has to be determined during execution, secondly it\n",
        "#is an interpreter language whose code is executed line by line by the interpreter and datatypes like list are dynamically expandable\n",
        "#hence occupying more memory.\n",
        "#5.Python lists are slower than numpy because each item in python lists are dynamically typed meaning datatype of each item is determined\n",
        "#during the runtime, secondly they store references of each item of the list and not the objects directly thirdly they are dynamic arrays\n",
        "#meaning that they can be expanded dynamically.\n",
        "#6. If a variable is initialized at the global scope then it can be accessed within a function as well as shown in cells 14 and 15."
      ],
      "metadata": {
        "id": "kzkfmjiJy7Lk"
      },
      "execution_count": null,
      "outputs": []
    },
    {
      "cell_type": "code",
      "source": [
        "import numpy as np\n",
        "a=np.array([1,2,3])\n",
        "print(a)\n",
        "#this is vector"
      ],
      "metadata": {
        "colab": {
          "base_uri": "https://localhost:8080/"
        },
        "id": "fsfUag_zPl0g",
        "outputId": "8308d879-0b0a-4456-c408-0084f1c9290b"
      },
      "execution_count": null,
      "outputs": [
        {
          "output_type": "stream",
          "name": "stdout",
          "text": [
            "[1 2 3]\n"
          ]
        }
      ]
    },
    {
      "cell_type": "code",
      "source": [
        "import numpy as np\n",
        "a=np.array([[1,2,3],[4,5,6]])\n",
        "print(a)\n",
        "#This is a 2D numpy array meaning matrix."
      ],
      "metadata": {
        "colab": {
          "base_uri": "https://localhost:8080/"
        },
        "id": "0mWGb0LafpZU",
        "outputId": "3cf1aabc-f7e2-4d34-8a06-af5652eb1365"
      },
      "execution_count": null,
      "outputs": [
        {
          "output_type": "stream",
          "name": "stdout",
          "text": [
            "[[1 2 3]\n",
            " [4 5 6]]\n"
          ]
        }
      ]
    },
    {
      "cell_type": "code",
      "source": [
        "import numpy as np\n",
        "a=np.array([[[1,2],[3,4]],[[5,6],[7,8]]])\n",
        "print(a)\n",
        "#This is a 3D numpy array meaning Tensor"
      ],
      "metadata": {
        "colab": {
          "base_uri": "https://localhost:8080/"
        },
        "id": "2EDDxUgxf7qi",
        "outputId": "e1f40e6c-05a7-4ab3-b44e-974d72f1388e"
      },
      "execution_count": null,
      "outputs": [
        {
          "output_type": "stream",
          "name": "stdout",
          "text": [
            "[[[1 2]\n",
            "  [3 4]]\n",
            "\n",
            " [[5 6]\n",
            "  [7 8]]]\n"
          ]
        }
      ]
    },
    {
      "cell_type": "code",
      "source": [
        "def multiply_func(x):\n",
        "  x*=1\n",
        "  return value*2\n",
        "value=10\n",
        "value=multiply_func(value)\n",
        "print(value)"
      ],
      "metadata": {
        "colab": {
          "base_uri": "https://localhost:8080/"
        },
        "id": "A5o_XpyPhpR4",
        "outputId": "c810bea5-18bd-432e-d692-0b6c3d17a59f"
      },
      "execution_count": null,
      "outputs": [
        {
          "output_type": "stream",
          "name": "stdout",
          "text": [
            "20\n"
          ]
        }
      ]
    },
    {
      "cell_type": "code",
      "source": [
        "a=10\n",
        "def lambesh():\n",
        "  return a*2\n",
        "a=lambesh()\n",
        "print(a)\n"
      ],
      "metadata": {
        "colab": {
          "base_uri": "https://localhost:8080/"
        },
        "id": "W2lrUNpdjOFE",
        "outputId": "c6d0e965-8a3c-485d-b884-783c40979d25"
      },
      "execution_count": null,
      "outputs": [
        {
          "output_type": "stream",
          "name": "stdout",
          "text": [
            "20\n"
          ]
        }
      ]
    },
    {
      "cell_type": "code",
      "source": [
        "#dtype\n",
        "import numpy as np\n",
        "a1=np.array([1,2,3],dtype=float)\n",
        "print(a1)"
      ],
      "metadata": {
        "colab": {
          "base_uri": "https://localhost:8080/"
        },
        "id": "GXPJlRBukA0Y",
        "outputId": "5d8680b1-2670-466b-f37e-aac976b45bd7"
      },
      "execution_count": null,
      "outputs": [
        {
          "output_type": "stream",
          "name": "stdout",
          "text": [
            "[1. 2. 3.]\n"
          ]
        }
      ]
    },
    {
      "cell_type": "code",
      "source": [
        "#for creating numpy nd array having a given range of data\n",
        "np.arange(1,11)\n",
        "#in this case the first element is included(1 is included) but last element is excluded(11 is excluded)"
      ],
      "metadata": {
        "colab": {
          "base_uri": "https://localhost:8080/"
        },
        "id": "YgLd5tZa8F0A",
        "outputId": "9faa75ab-90d7-43ce-934c-4a36c9d3a816"
      },
      "execution_count": null,
      "outputs": [
        {
          "output_type": "execute_result",
          "data": {
            "text/plain": [
              "array([ 1,  2,  3,  4,  5,  6,  7,  8,  9, 10])"
            ]
          },
          "metadata": {},
          "execution_count": 21
        }
      ]
    },
    {
      "cell_type": "code",
      "source": [
        "np.arange(1,11,2)\n",
        "#in this case alternate elements are included, after 1 3 is included and so on"
      ],
      "metadata": {
        "colab": {
          "base_uri": "https://localhost:8080/"
        },
        "id": "AhYeBoviAVUP",
        "outputId": "860b869e-b1d0-4b47-9de8-951584ab8e41"
      },
      "execution_count": null,
      "outputs": [
        {
          "output_type": "execute_result",
          "data": {
            "text/plain": [
              "array([1, 3, 5, 7, 9])"
            ]
          },
          "metadata": {},
          "execution_count": 23
        }
      ]
    },
    {
      "cell_type": "code",
      "source": [
        "#reshaping\n",
        "np.arange(1,11).reshape(5,2)\n",
        "#reshape(5,2) would mean reshaping into 5 rows and 2 columns"
      ],
      "metadata": {
        "colab": {
          "base_uri": "https://localhost:8080/"
        },
        "id": "xDa8kQOVBG4V",
        "outputId": "848dcd03-f379-4300-9f44-b578d010cf2a"
      },
      "execution_count": null,
      "outputs": [
        {
          "output_type": "execute_result",
          "data": {
            "text/plain": [
              "array([[ 1,  2],\n",
              "       [ 3,  4],\n",
              "       [ 5,  6],\n",
              "       [ 7,  8],\n",
              "       [ 9, 10]])"
            ]
          },
          "metadata": {},
          "execution_count": 25
        }
      ]
    },
    {
      "cell_type": "code",
      "source": [
        "np.arange(1,11).reshape(2,5)\n",
        "#reshape(2,5) would mean reshaping into 2 rows and 5 columns"
      ],
      "metadata": {
        "colab": {
          "base_uri": "https://localhost:8080/"
        },
        "id": "qmTgD-68DikW",
        "outputId": "1def801a-50bf-4f58-bdc4-cc666a5066e4"
      },
      "execution_count": null,
      "outputs": [
        {
          "output_type": "execute_result",
          "data": {
            "text/plain": [
              "array([[ 1,  2,  3,  4,  5],\n",
              "       [ 6,  7,  8,  9, 10]])"
            ]
          },
          "metadata": {},
          "execution_count": 26
        }
      ]
    },
    {
      "cell_type": "code",
      "source": [
        "np.arange(1,13).reshape(3,4)"
      ],
      "metadata": {
        "colab": {
          "base_uri": "https://localhost:8080/"
        },
        "id": "Zdxvr5K6J2Ai",
        "outputId": "2bee6e5b-df3b-43ca-8f78-6cbbc425a40e"
      },
      "execution_count": null,
      "outputs": [
        {
          "output_type": "execute_result",
          "data": {
            "text/plain": [
              "array([[ 1,  2,  3,  4],\n",
              "       [ 5,  6,  7,  8],\n",
              "       [ 9, 10, 11, 12]])"
            ]
          },
          "metadata": {},
          "execution_count": 27
        }
      ]
    },
    {
      "cell_type": "code",
      "source": [
        "np.arange(1,13).reshape(4,3)"
      ],
      "metadata": {
        "colab": {
          "base_uri": "https://localhost:8080/"
        },
        "id": "0vLXgBGxL08y",
        "outputId": "73d5329b-7c24-4ef4-8b25-4569309cd66e"
      },
      "execution_count": null,
      "outputs": [
        {
          "output_type": "execute_result",
          "data": {
            "text/plain": [
              "array([[ 1,  2,  3],\n",
              "       [ 4,  5,  6],\n",
              "       [ 7,  8,  9],\n",
              "       [10, 11, 12]])"
            ]
          },
          "metadata": {},
          "execution_count": 28
        }
      ]
    },
    {
      "cell_type": "code",
      "source": [
        "np.arange(1,13).reshape(2,6)"
      ],
      "metadata": {
        "colab": {
          "base_uri": "https://localhost:8080/"
        },
        "id": "PzlgiIopL5r8",
        "outputId": "48d9330c-701f-4bd9-fcd6-71adf687a099"
      },
      "execution_count": null,
      "outputs": [
        {
          "output_type": "execute_result",
          "data": {
            "text/plain": [
              "array([[ 1,  2,  3,  4,  5,  6],\n",
              "       [ 7,  8,  9, 10, 11, 12]])"
            ]
          },
          "metadata": {},
          "execution_count": 29
        }
      ]
    },
    {
      "cell_type": "code",
      "source": [
        "np.arange(1,13).reshape(6,2)"
      ],
      "metadata": {
        "colab": {
          "base_uri": "https://localhost:8080/"
        },
        "id": "GUYrWzshL-H3",
        "outputId": "3b1a9b33-2c0b-46ed-8fd8-0d9674b9afc9"
      },
      "execution_count": null,
      "outputs": [
        {
          "output_type": "execute_result",
          "data": {
            "text/plain": [
              "array([[ 1,  2],\n",
              "       [ 3,  4],\n",
              "       [ 5,  6],\n",
              "       [ 7,  8],\n",
              "       [ 9, 10],\n",
              "       [11, 12]])"
            ]
          },
          "metadata": {},
          "execution_count": 30
        }
      ]
    },
    {
      "cell_type": "code",
      "source": [
        "np.ones((3,4))\n",
        "#ones in 3 rows and 4 columns"
      ],
      "metadata": {
        "colab": {
          "base_uri": "https://localhost:8080/"
        },
        "id": "hpPPvKaHSPzR",
        "outputId": "c91253cd-debc-4bff-8a72-67ab45aab033"
      },
      "execution_count": null,
      "outputs": [
        {
          "output_type": "execute_result",
          "data": {
            "text/plain": [
              "array([[1., 1., 1., 1.],\n",
              "       [1., 1., 1., 1.],\n",
              "       [1., 1., 1., 1.]])"
            ]
          },
          "metadata": {},
          "execution_count": 35
        }
      ]
    },
    {
      "cell_type": "code",
      "source": [
        "np.zeros((5,2))\n",
        "#zeros in 5 rows and 2 columns....np.ones((3,4)) and np.zeros((5,2)) is used to initialize weights in neural networks"
      ],
      "metadata": {
        "colab": {
          "base_uri": "https://localhost:8080/"
        },
        "id": "1p-JDMAsSavr",
        "outputId": "b047c45a-647e-4f21-da5a-c0fb3cae2516"
      },
      "execution_count": null,
      "outputs": [
        {
          "output_type": "execute_result",
          "data": {
            "text/plain": [
              "array([[0., 0.],\n",
              "       [0., 0.],\n",
              "       [0., 0.],\n",
              "       [0., 0.],\n",
              "       [0., 0.]])"
            ]
          },
          "metadata": {},
          "execution_count": 34
        }
      ]
    },
    {
      "cell_type": "code",
      "source": [
        "np.random.random((3,4))\n",
        "#generates array of 3 rows and 4 columns containing number between 0 and 1"
      ],
      "metadata": {
        "colab": {
          "base_uri": "https://localhost:8080/"
        },
        "id": "rF5w-9tGSvMt",
        "outputId": "fe9c6fb8-371e-42d6-809e-ece43e8da1e6"
      },
      "execution_count": null,
      "outputs": [
        {
          "output_type": "execute_result",
          "data": {
            "text/plain": [
              "array([[0.13345738, 0.37904454, 0.42725196, 0.48326559],\n",
              "       [0.85073284, 0.86512927, 0.94293801, 0.90790546],\n",
              "       [0.7701993 , 0.97302512, 0.60972562, 0.11335976]])"
            ]
          },
          "metadata": {},
          "execution_count": 37
        }
      ]
    },
    {
      "cell_type": "code",
      "source": [
        "def outer_func(x):\n",
        "  y=x+1\n",
        "  def inner_func():\n",
        "    x=2\n",
        "    def inner_inner():\n",
        "      x=3\n",
        "      return x+y\n",
        "    return inner_inner\n",
        "  return inner_func\n",
        "results=outer_func(4)\n",
        "my_results=results()\n",
        "print(my_results()+2)"
      ],
      "metadata": {
        "colab": {
          "base_uri": "https://localhost:8080/"
        },
        "id": "KHNDzMM6WI3r",
        "outputId": "dc5eb1da-065f-4cb8-eadd-a9126c8c52e0"
      },
      "execution_count": null,
      "outputs": [
        {
          "output_type": "stream",
          "name": "stdout",
          "text": [
            "10\n"
          ]
        }
      ]
    },
    {
      "cell_type": "code",
      "source": [
        "np.linspace(-10,10,10)\n",
        "#np.linspace would create 10 equally spaced items between -10 and 10"
      ],
      "metadata": {
        "colab": {
          "base_uri": "https://localhost:8080/"
        },
        "id": "cDk43CenZ8Dh",
        "outputId": "8cc7273a-9912-45a4-c0ee-c0115c721821"
      },
      "execution_count": null,
      "outputs": [
        {
          "output_type": "execute_result",
          "data": {
            "text/plain": [
              "array([-10.        ,  -7.77777778,  -5.55555556,  -3.33333333,\n",
              "        -1.11111111,   1.11111111,   3.33333333,   5.55555556,\n",
              "         7.77777778,  10.        ])"
            ]
          },
          "metadata": {},
          "execution_count": 40
        }
      ]
    },
    {
      "cell_type": "code",
      "source": [
        "np.identity(3)\n",
        "#It is used for creating a 3*3 identity matrix."
      ],
      "metadata": {
        "colab": {
          "base_uri": "https://localhost:8080/"
        },
        "id": "nXr89-Ocl5GA",
        "outputId": "6adb66f9-3e94-42ad-ad54-af68694056d3"
      },
      "execution_count": null,
      "outputs": [
        {
          "output_type": "execute_result",
          "data": {
            "text/plain": [
              "array([[1., 0., 0.],\n",
              "       [0., 1., 0.],\n",
              "       [0., 0., 1.]])"
            ]
          },
          "metadata": {},
          "execution_count": 42
        }
      ]
    },
    {
      "cell_type": "code",
      "source": [
        "np.arange(16).reshape(2,2,2,2)"
      ],
      "metadata": {
        "colab": {
          "base_uri": "https://localhost:8080/"
        },
        "id": "pYzXOkMlt5CK",
        "outputId": "c20ca61d-c162-4773-9772-022614744360"
      },
      "execution_count": null,
      "outputs": [
        {
          "output_type": "execute_result",
          "data": {
            "text/plain": [
              "array([[[[ 0,  1],\n",
              "         [ 2,  3]],\n",
              "\n",
              "        [[ 4,  5],\n",
              "         [ 6,  7]]],\n",
              "\n",
              "\n",
              "       [[[ 8,  9],\n",
              "         [10, 11]],\n",
              "\n",
              "        [[12, 13],\n",
              "         [14, 15]]]])"
            ]
          },
          "metadata": {},
          "execution_count": 43
        }
      ]
    },
    {
      "cell_type": "code",
      "source": [
        "import numpy as np\n",
        "a1=np.arange(10)\n",
        "a1"
      ],
      "metadata": {
        "colab": {
          "base_uri": "https://localhost:8080/"
        },
        "id": "0TbTGTBIFn9v",
        "outputId": "b5afd998-2859-4041-d95d-79270a054d9b"
      },
      "execution_count": null,
      "outputs": [
        {
          "output_type": "execute_result",
          "data": {
            "text/plain": [
              "array([0, 1, 2, 3, 4, 5, 6, 7, 8, 9])"
            ]
          },
          "metadata": {},
          "execution_count": 2
        }
      ]
    },
    {
      "cell_type": "code",
      "source": [
        "a2=np.arange(12,dtype=float).reshape(3,4)\n",
        "a2\n",
        "#a2 is 2D numpy array or a matrix"
      ],
      "metadata": {
        "colab": {
          "base_uri": "https://localhost:8080/"
        },
        "id": "Xn0ZkTcAHsTj",
        "outputId": "f8c632fc-e708-4f45-f1ee-b4ddd1e56b0e"
      },
      "execution_count": null,
      "outputs": [
        {
          "output_type": "execute_result",
          "data": {
            "text/plain": [
              "array([[ 0.,  1.,  2.,  3.],\n",
              "       [ 4.,  5.,  6.,  7.],\n",
              "       [ 8.,  9., 10., 11.]])"
            ]
          },
          "metadata": {},
          "execution_count": 5
        }
      ]
    },
    {
      "cell_type": "code",
      "source": [
        "a3=np.arange(8).reshape(2,2,2)\n",
        "a3\n",
        "#a3 is 3D numpy array or a tensor"
      ],
      "metadata": {
        "colab": {
          "base_uri": "https://localhost:8080/"
        },
        "id": "tKiPCOgMH8Ry",
        "outputId": "fdfdf75c-54f5-413e-dd6b-deda06e6e1ce"
      },
      "execution_count": null,
      "outputs": [
        {
          "output_type": "execute_result",
          "data": {
            "text/plain": [
              "array([[[0, 1],\n",
              "        [2, 3]],\n",
              "\n",
              "       [[4, 5],\n",
              "        [6, 7]]])"
            ]
          },
          "metadata": {},
          "execution_count": 6
        }
      ]
    },
    {
      "cell_type": "code",
      "source": [
        "a1.ndim"
      ],
      "metadata": {
        "colab": {
          "base_uri": "https://localhost:8080/"
        },
        "id": "cGdaw3G1ITE4",
        "outputId": "51154266-976e-41ce-eee7-9e1bad1d4bc3"
      },
      "execution_count": null,
      "outputs": [
        {
          "output_type": "execute_result",
          "data": {
            "text/plain": [
              "1"
            ]
          },
          "metadata": {},
          "execution_count": 7
        }
      ]
    },
    {
      "cell_type": "code",
      "source": [
        "a2.ndim"
      ],
      "metadata": {
        "colab": {
          "base_uri": "https://localhost:8080/"
        },
        "id": "kSU5cdLQQTxV",
        "outputId": "3fcd0e9f-0870-4d88-c24c-5ab8de026eca"
      },
      "execution_count": null,
      "outputs": [
        {
          "output_type": "execute_result",
          "data": {
            "text/plain": [
              "2"
            ]
          },
          "metadata": {},
          "execution_count": 8
        }
      ]
    },
    {
      "cell_type": "code",
      "source": [
        "a3.ndim\n",
        "#describes the dimension of a3 numpy array, a2.ndim describes the dimension of a2 numpy array, a3.ndim describes the dimension of\n",
        "#a3 numpy array.\n",
        "#a1 is 1D array, a2 is 2D array and a3 is 3D array"
      ],
      "metadata": {
        "colab": {
          "base_uri": "https://localhost:8080/"
        },
        "id": "ugmBT434QVxE",
        "outputId": "577806e5-fd8d-452b-ff3e-c69c71c619c7"
      },
      "execution_count": null,
      "outputs": [
        {
          "output_type": "execute_result",
          "data": {
            "text/plain": [
              "3"
            ]
          },
          "metadata": {},
          "execution_count": 10
        }
      ]
    },
    {
      "cell_type": "code",
      "source": [
        "a1.shape\n",
        "#a1 has 10 items and is 1D array."
      ],
      "metadata": {
        "colab": {
          "base_uri": "https://localhost:8080/"
        },
        "id": "Luap6FdlQqd1",
        "outputId": "45b5f8d2-af6a-4b4b-ba34-90f1a4514dfd"
      },
      "execution_count": null,
      "outputs": [
        {
          "output_type": "execute_result",
          "data": {
            "text/plain": [
              "(10,)"
            ]
          },
          "metadata": {},
          "execution_count": 13
        }
      ]
    },
    {
      "cell_type": "code",
      "source": [
        "a2.shape\n",
        "#a2 has 12 items and it has 3 rows and 4 columns.It is a 2D array."
      ],
      "metadata": {
        "colab": {
          "base_uri": "https://localhost:8080/"
        },
        "id": "LS0SPXNkVMrl",
        "outputId": "c1fee579-6a6d-43e6-81d0-cefd7108e8d8"
      },
      "execution_count": null,
      "outputs": [
        {
          "output_type": "execute_result",
          "data": {
            "text/plain": [
              "(3, 4)"
            ]
          },
          "metadata": {},
          "execution_count": 17
        }
      ]
    },
    {
      "cell_type": "code",
      "source": [
        "a3.shape\n",
        "#a3 is a 3D array. It is a tensor.\n",
        "#It means that it has got 2 2D arrays of the size 2*2"
      ],
      "metadata": {
        "colab": {
          "base_uri": "https://localhost:8080/"
        },
        "id": "yVnMyKraVqFd",
        "outputId": "fa67a7e2-f2a7-4816-8a58-5d435dfae96d"
      },
      "execution_count": null,
      "outputs": [
        {
          "output_type": "execute_result",
          "data": {
            "text/plain": [
              "(2, 2, 2)"
            ]
          },
          "metadata": {},
          "execution_count": 20
        }
      ]
    },
    {
      "cell_type": "code",
      "source": [
        "a1.size\n",
        "#it gives the number of elements in an array a1"
      ],
      "metadata": {
        "colab": {
          "base_uri": "https://localhost:8080/"
        },
        "id": "69scJ6WcWOTu",
        "outputId": "6768bb94-b446-42e0-8641-c767dac4dbdf"
      },
      "execution_count": null,
      "outputs": [
        {
          "output_type": "execute_result",
          "data": {
            "text/plain": [
              "10"
            ]
          },
          "metadata": {},
          "execution_count": 24
        }
      ]
    },
    {
      "cell_type": "code",
      "source": [
        "a2.size\n",
        "#it gives the number of elements in an array a2"
      ],
      "metadata": {
        "colab": {
          "base_uri": "https://localhost:8080/"
        },
        "id": "TZfgVk2YZYMw",
        "outputId": "982d5005-0cfb-4714-d1c4-62e025a0b24f"
      },
      "execution_count": null,
      "outputs": [
        {
          "output_type": "execute_result",
          "data": {
            "text/plain": [
              "12"
            ]
          },
          "metadata": {},
          "execution_count": 25
        }
      ]
    },
    {
      "cell_type": "code",
      "source": [
        "a3.size\n",
        "#it gives the number of elements in array a3"
      ],
      "metadata": {
        "colab": {
          "base_uri": "https://localhost:8080/"
        },
        "id": "QH8wtp9NaXRc",
        "outputId": "c33b17ff-49e2-4dfb-d855-524700a804b2"
      },
      "execution_count": null,
      "outputs": [
        {
          "output_type": "execute_result",
          "data": {
            "text/plain": [
              "8"
            ]
          },
          "metadata": {},
          "execution_count": 26
        }
      ]
    },
    {
      "cell_type": "code",
      "source": [
        "a1.itemsize\n",
        "#it gives size of each item of array a1. Each item of a1 array occupies 8 bytes of memory"
      ],
      "metadata": {
        "colab": {
          "base_uri": "https://localhost:8080/"
        },
        "id": "N_LGbpTdbqh3",
        "outputId": "8f8ebc33-8f7b-451f-e87a-c0b1a4747c17"
      },
      "execution_count": null,
      "outputs": [
        {
          "output_type": "execute_result",
          "data": {
            "text/plain": [
              "8"
            ]
          },
          "metadata": {},
          "execution_count": 31
        }
      ]
    },
    {
      "cell_type": "code",
      "source": [
        "a2.itemsize\n",
        "#it gives size of each item of array a2. Each item of a2 array occupies 8 bytes of memory"
      ],
      "metadata": {
        "colab": {
          "base_uri": "https://localhost:8080/"
        },
        "id": "zHL5M4FRbx6d",
        "outputId": "3e82124c-80d5-4887-ecc3-d066df1914b4"
      },
      "execution_count": null,
      "outputs": [
        {
          "output_type": "execute_result",
          "data": {
            "text/plain": [
              "8"
            ]
          },
          "metadata": {},
          "execution_count": 32
        }
      ]
    },
    {
      "cell_type": "code",
      "source": [
        "a3.itemsize\n",
        "#it gives size of each item of array a3. Each item of a3 array occupies 8 bytes of memory."
      ],
      "metadata": {
        "colab": {
          "base_uri": "https://localhost:8080/"
        },
        "id": "wdl53-iLcst7",
        "outputId": "718d3737-e80e-473c-b664-fdab62f38f6b"
      },
      "execution_count": null,
      "outputs": [
        {
          "output_type": "execute_result",
          "data": {
            "text/plain": [
              "8"
            ]
          },
          "metadata": {},
          "execution_count": 33
        }
      ]
    },
    {
      "cell_type": "code",
      "source": [
        "a4=np.arange(16,dtype='int32').reshape(4,4)\n",
        "a4"
      ],
      "metadata": {
        "colab": {
          "base_uri": "https://localhost:8080/"
        },
        "id": "EBQd5KO4gIJ0",
        "outputId": "8bafb457-3774-4b3a-ddf6-c0fe6589fb8c"
      },
      "execution_count": null,
      "outputs": [
        {
          "output_type": "execute_result",
          "data": {
            "text/plain": [
              "array([[ 0,  1,  2,  3],\n",
              "       [ 4,  5,  6,  7],\n",
              "       [ 8,  9, 10, 11],\n",
              "       [12, 13, 14, 15]], dtype=int32)"
            ]
          },
          "metadata": {},
          "execution_count": 35
        }
      ]
    },
    {
      "cell_type": "code",
      "source": [
        "a4.itemsize\n",
        "#as you can see itemsize of each item by default is 8 bytes whereas itemsize of each item if you change the datatype to int32 is\n",
        "#4 bytes"
      ],
      "metadata": {
        "colab": {
          "base_uri": "https://localhost:8080/"
        },
        "id": "cMQlyfRDgfbQ",
        "outputId": "5f8613e2-dbfe-4a84-e174-83199f5371f8"
      },
      "execution_count": null,
      "outputs": [
        {
          "output_type": "execute_result",
          "data": {
            "text/plain": [
              "4"
            ]
          },
          "metadata": {},
          "execution_count": 38
        }
      ]
    },
    {
      "cell_type": "code",
      "source": [
        "def akal(a,b):\n",
        "  return a+5,b+5\n",
        "result=akal(2,3)\n",
        "print(result)"
      ],
      "metadata": {
        "colab": {
          "base_uri": "https://localhost:8080/"
        },
        "id": "k3LuMkAui1LU",
        "outputId": "7fcd1d5c-193b-43a1-d003-450a65ac8f5c"
      },
      "execution_count": null,
      "outputs": [
        {
          "output_type": "stream",
          "name": "stdout",
          "text": [
            "(7, 8)\n"
          ]
        }
      ]
    },
    {
      "cell_type": "code",
      "source": [
        "#a1.ndim tells the dimension, a1.shape tells the total number of items in each dimension and a1.size tells us the total number of items"
      ],
      "metadata": {
        "id": "RY8uozKYjpm6"
      },
      "execution_count": null,
      "outputs": []
    },
    {
      "cell_type": "code",
      "source": [
        "# a1.itemsize tells the space every item occupies in the memory."
      ],
      "metadata": {
        "id": "fuqsW3uMkhbt"
      },
      "execution_count": null,
      "outputs": []
    },
    {
      "cell_type": "code",
      "source": [
        "a1.dtype"
      ],
      "metadata": {
        "colab": {
          "base_uri": "https://localhost:8080/"
        },
        "id": "AgLZEmwlppEL",
        "outputId": "bc4236c6-21fa-4b8b-ecf6-8bd5f06dc59f"
      },
      "execution_count": null,
      "outputs": [
        {
          "output_type": "execute_result",
          "data": {
            "text/plain": [
              "dtype('int64')"
            ]
          },
          "metadata": {},
          "execution_count": 41
        }
      ]
    },
    {
      "cell_type": "code",
      "source": [
        "a2.dtype"
      ],
      "metadata": {
        "colab": {
          "base_uri": "https://localhost:8080/"
        },
        "id": "Z-5Lxz1nprhb",
        "outputId": "ff0cdd52-eed2-42ec-f965-b48c59bc7b61"
      },
      "execution_count": null,
      "outputs": [
        {
          "output_type": "execute_result",
          "data": {
            "text/plain": [
              "dtype('float64')"
            ]
          },
          "metadata": {},
          "execution_count": 42
        }
      ]
    },
    {
      "cell_type": "code",
      "source": [
        "a3.dtype"
      ],
      "metadata": {
        "colab": {
          "base_uri": "https://localhost:8080/"
        },
        "id": "RZ5BXsEBptru",
        "outputId": "341b2bb7-3d02-4e3e-8c4a-98a8ce078976"
      },
      "execution_count": null,
      "outputs": [
        {
          "output_type": "execute_result",
          "data": {
            "text/plain": [
              "dtype('int64')"
            ]
          },
          "metadata": {},
          "execution_count": 43
        }
      ]
    },
    {
      "cell_type": "code",
      "source": [
        "a1.astype('int32')"
      ],
      "metadata": {
        "colab": {
          "base_uri": "https://localhost:8080/"
        },
        "id": "x-LGLCY_pvx9",
        "outputId": "046be3c7-f96b-4439-f3d2-1a8ebad8440b"
      },
      "execution_count": null,
      "outputs": [
        {
          "output_type": "execute_result",
          "data": {
            "text/plain": [
              "array([0, 1, 2, 3, 4, 5, 6, 7, 8, 9], dtype=int32)"
            ]
          },
          "metadata": {},
          "execution_count": 50
        }
      ]
    },
    {
      "cell_type": "code",
      "source": [
        "a1.dtype"
      ],
      "metadata": {
        "colab": {
          "base_uri": "https://localhost:8080/"
        },
        "id": "G2e8uNN1p6A2",
        "outputId": "1a6c86ea-6c4a-4c72-9356-0fbabc2a90f8"
      },
      "execution_count": null,
      "outputs": [
        {
          "output_type": "execute_result",
          "data": {
            "text/plain": [
              "dtype('int64')"
            ]
          },
          "metadata": {},
          "execution_count": 52
        }
      ]
    },
    {
      "cell_type": "code",
      "source": [
        "import numpy as np\n",
        "a12=np.arange(16).reshape(4,4)\n",
        "a12"
      ],
      "metadata": {
        "colab": {
          "base_uri": "https://localhost:8080/"
        },
        "id": "9RutTLvrw_Vk",
        "outputId": "5fab4206-b9a2-42bb-f35a-1e0919eb48ad"
      },
      "execution_count": null,
      "outputs": [
        {
          "output_type": "execute_result",
          "data": {
            "text/plain": [
              "array([[ 0,  1,  2,  3],\n",
              "       [ 4,  5,  6,  7],\n",
              "       [ 8,  9, 10, 11],\n",
              "       [12, 13, 14, 15]])"
            ]
          },
          "metadata": {},
          "execution_count": 53
        }
      ]
    },
    {
      "cell_type": "code",
      "source": [
        "a12.ndim"
      ],
      "metadata": {
        "colab": {
          "base_uri": "https://localhost:8080/"
        },
        "id": "WHrFYDrlxKzU",
        "outputId": "aa338a48-2f8d-4267-9cd0-c55832ed7915"
      },
      "execution_count": null,
      "outputs": [
        {
          "output_type": "execute_result",
          "data": {
            "text/plain": [
              "2"
            ]
          },
          "metadata": {},
          "execution_count": 54
        }
      ]
    },
    {
      "cell_type": "code",
      "source": [
        "a12.shape"
      ],
      "metadata": {
        "colab": {
          "base_uri": "https://localhost:8080/"
        },
        "id": "ydfHGoRXxN-f",
        "outputId": "ae97d237-52f1-4c33-97fd-f8f040f1c2f9"
      },
      "execution_count": null,
      "outputs": [
        {
          "output_type": "execute_result",
          "data": {
            "text/plain": [
              "(4, 4)"
            ]
          },
          "metadata": {},
          "execution_count": 55
        }
      ]
    },
    {
      "cell_type": "code",
      "source": [
        "a12.dtype\n",
        "#by default the datatype of an array is int64"
      ],
      "metadata": {
        "colab": {
          "base_uri": "https://localhost:8080/"
        },
        "id": "AVSqPsDtxRyx",
        "outputId": "56a79040-4ac8-4e73-c7e4-2c9643240db9"
      },
      "execution_count": null,
      "outputs": [
        {
          "output_type": "execute_result",
          "data": {
            "text/plain": [
              "dtype('int64')"
            ]
          },
          "metadata": {},
          "execution_count": 57
        }
      ]
    },
    {
      "cell_type": "code",
      "source": [
        "#To change the datatype to something else we use astype"
      ],
      "metadata": {
        "id": "1fuEJUVqxgG7"
      },
      "execution_count": null,
      "outputs": []
    },
    {
      "cell_type": "code",
      "source": [
        "a12=a12.astype(np.int32)\n",
        "print(a12)"
      ],
      "metadata": {
        "colab": {
          "base_uri": "https://localhost:8080/"
        },
        "id": "nFxV50pExmu2",
        "outputId": "76969e80-0c13-4387-d869-7783a94c7e43"
      },
      "execution_count": null,
      "outputs": [
        {
          "output_type": "stream",
          "name": "stdout",
          "text": [
            "[[ 0  1  2  3]\n",
            " [ 4  5  6  7]\n",
            " [ 8  9 10 11]\n",
            " [12 13 14 15]]\n"
          ]
        }
      ]
    },
    {
      "cell_type": "code",
      "source": [
        "a12.dtype\n",
        "#by default the datatype is int64 but it can be changed to int32"
      ],
      "metadata": {
        "colab": {
          "base_uri": "https://localhost:8080/"
        },
        "id": "pFkbiDdJx8nW",
        "outputId": "7de7a2aa-fdc8-4251-9780-6105bdcd6502"
      },
      "execution_count": null,
      "outputs": [
        {
          "output_type": "execute_result",
          "data": {
            "text/plain": [
              "dtype('int32')"
            ]
          },
          "metadata": {},
          "execution_count": 61
        }
      ]
    },
    {
      "cell_type": "code",
      "source": [
        "#int32 is used to store relatively small integers while int64 stores relatively large integers."
      ],
      "metadata": {
        "id": "UPgINWt3yJOT"
      },
      "execution_count": null,
      "outputs": []
    },
    {
      "cell_type": "code",
      "source": [
        "import numpy as np\n",
        "a1=np.arange(12).reshape(3,4)\n",
        "a2=np.arange(12,24).reshape(3,4)\n",
        "a1"
      ],
      "metadata": {
        "colab": {
          "base_uri": "https://localhost:8080/"
        },
        "id": "tGUy2cEsS38z",
        "outputId": "c80e8195-2d9c-4947-b8ec-edeaab6fed7a"
      },
      "execution_count": null,
      "outputs": [
        {
          "output_type": "execute_result",
          "data": {
            "text/plain": [
              "array([[ 0,  1,  2,  3],\n",
              "       [ 4,  5,  6,  7],\n",
              "       [ 8,  9, 10, 11]])"
            ]
          },
          "metadata": {},
          "execution_count": 1
        }
      ]
    },
    {
      "cell_type": "code",
      "source": [
        "a2"
      ],
      "metadata": {
        "colab": {
          "base_uri": "https://localhost:8080/"
        },
        "id": "e0ZrxaiqTEh5",
        "outputId": "fc34f0f0-6985-4d6e-cb29-a6dc99c4b70f"
      },
      "execution_count": null,
      "outputs": [
        {
          "output_type": "execute_result",
          "data": {
            "text/plain": [
              "array([[12, 13, 14, 15],\n",
              "       [16, 17, 18, 19],\n",
              "       [20, 21, 22, 23]])"
            ]
          },
          "metadata": {},
          "execution_count": 2
        }
      ]
    },
    {
      "cell_type": "code",
      "source": [
        "#scalar operations\n",
        "#arithmetic operations\n",
        "#These are called scalar operations as this help you perform arithmetic operation between a numpy array and a sclar\n",
        "a1*2"
      ],
      "metadata": {
        "colab": {
          "base_uri": "https://localhost:8080/"
        },
        "id": "Jf_tWJG5TGOD",
        "outputId": "b07b79c4-7cd0-455b-ddfc-117b0d026f2d"
      },
      "execution_count": null,
      "outputs": [
        {
          "output_type": "execute_result",
          "data": {
            "text/plain": [
              "array([[ 0,  2,  4,  6],\n",
              "       [ 8, 10, 12, 14],\n",
              "       [16, 18, 20, 22]])"
            ]
          },
          "metadata": {},
          "execution_count": 13
        }
      ]
    },
    {
      "cell_type": "code",
      "source": [
        "a1**2"
      ],
      "metadata": {
        "colab": {
          "base_uri": "https://localhost:8080/"
        },
        "id": "_fk67O_STNDa",
        "outputId": "fc8b6797-edef-4fb8-a24c-08001bcfc186"
      },
      "execution_count": null,
      "outputs": [
        {
          "output_type": "execute_result",
          "data": {
            "text/plain": [
              "array([[  0,   1,   4,   9],\n",
              "       [ 16,  25,  36,  49],\n",
              "       [ 64,  81, 100, 121]])"
            ]
          },
          "metadata": {},
          "execution_count": 4
        }
      ]
    },
    {
      "cell_type": "code",
      "source": [
        "a1+2"
      ],
      "metadata": {
        "colab": {
          "base_uri": "https://localhost:8080/"
        },
        "id": "mt7cQsxdTQBv",
        "outputId": "9871a3ac-5082-400e-fb6e-934c91a1acc0"
      },
      "execution_count": null,
      "outputs": [
        {
          "output_type": "execute_result",
          "data": {
            "text/plain": [
              "array([[ 2,  3,  4,  5],\n",
              "       [ 6,  7,  8,  9],\n",
              "       [10, 11, 12, 13]])"
            ]
          },
          "metadata": {},
          "execution_count": 5
        }
      ]
    },
    {
      "cell_type": "code",
      "source": [
        "#relational operators\n",
        "a1>5"
      ],
      "metadata": {
        "colab": {
          "base_uri": "https://localhost:8080/"
        },
        "id": "NVnETpX-TS-3",
        "outputId": "48d9c6d6-64bf-409f-c094-c2a70d38571f"
      },
      "execution_count": null,
      "outputs": [
        {
          "output_type": "execute_result",
          "data": {
            "text/plain": [
              "array([[False, False, False, False],\n",
              "       [False, False,  True,  True],\n",
              "       [ True,  True,  True,  True]])"
            ]
          },
          "metadata": {},
          "execution_count": 6
        }
      ]
    },
    {
      "cell_type": "code",
      "source": [
        "a1==5"
      ],
      "metadata": {
        "colab": {
          "base_uri": "https://localhost:8080/"
        },
        "id": "elitQuWdTZQd",
        "outputId": "a388edec-8b73-40e7-89a3-40effc9bcf15"
      },
      "execution_count": null,
      "outputs": [
        {
          "output_type": "execute_result",
          "data": {
            "text/plain": [
              "array([[False, False, False, False],\n",
              "       [False,  True, False, False],\n",
              "       [False, False, False, False]])"
            ]
          },
          "metadata": {},
          "execution_count": 7
        }
      ]
    },
    {
      "cell_type": "code",
      "source": [
        "#vector operations\n",
        "#This is called vector operations as it happens between 2 numpy arrays\n",
        "a1+a2"
      ],
      "metadata": {
        "colab": {
          "base_uri": "https://localhost:8080/"
        },
        "id": "swFu6B-WTcql",
        "outputId": "c67e0f48-88d3-4119-f065-86ce3a9f9c36"
      },
      "execution_count": null,
      "outputs": [
        {
          "output_type": "execute_result",
          "data": {
            "text/plain": [
              "array([[12, 14, 16, 18],\n",
              "       [20, 22, 24, 26],\n",
              "       [28, 30, 32, 34]])"
            ]
          },
          "metadata": {},
          "execution_count": 8
        }
      ]
    },
    {
      "cell_type": "code",
      "source": [
        "a1/a2"
      ],
      "metadata": {
        "colab": {
          "base_uri": "https://localhost:8080/"
        },
        "id": "W3ed6aF9T2yr",
        "outputId": "db441a29-6aba-45e4-9525-210d0f3ef854"
      },
      "execution_count": null,
      "outputs": [
        {
          "output_type": "execute_result",
          "data": {
            "text/plain": [
              "array([[0.        , 0.07692308, 0.14285714, 0.2       ],\n",
              "       [0.25      , 0.29411765, 0.33333333, 0.36842105],\n",
              "       [0.4       , 0.42857143, 0.45454545, 0.47826087]])"
            ]
          },
          "metadata": {},
          "execution_count": 9
        }
      ]
    },
    {
      "cell_type": "code",
      "source": [
        "a1*a2"
      ],
      "metadata": {
        "colab": {
          "base_uri": "https://localhost:8080/"
        },
        "id": "1-ZCtMpDT5RB",
        "outputId": "5e3f866e-9ea9-4775-8e73-3ecdfc2155c4"
      },
      "execution_count": null,
      "outputs": [
        {
          "output_type": "execute_result",
          "data": {
            "text/plain": [
              "array([[  0,  13,  28,  45],\n",
              "       [ 64,  85, 108, 133],\n",
              "       [160, 189, 220, 253]])"
            ]
          },
          "metadata": {},
          "execution_count": 10
        }
      ]
    },
    {
      "cell_type": "code",
      "source": [
        "a1**a2"
      ],
      "metadata": {
        "colab": {
          "base_uri": "https://localhost:8080/"
        },
        "id": "wUKXcPRGT78E",
        "outputId": "702a28b4-0d1b-4315-c97a-12ea453a7fd3"
      },
      "execution_count": null,
      "outputs": [
        {
          "output_type": "execute_result",
          "data": {
            "text/plain": [
              "array([[                   0,                    1,                16384,\n",
              "                    14348907],\n",
              "       [          4294967296,         762939453125,      101559956668416,\n",
              "           11398895185373143],\n",
              "       [ 1152921504606846976, -1261475310744950487,  1864712049423024128,\n",
              "         6839173302027254275]])"
            ]
          },
          "metadata": {},
          "execution_count": 11
        }
      ]
    },
    {
      "cell_type": "code",
      "source": [
        "#vector are essentially tensors.... vector operations are possible only within arrays of the same shape"
      ],
      "metadata": {
        "id": "kA5l0tybXqgb"
      },
      "execution_count": null,
      "outputs": []
    },
    {
      "cell_type": "code",
      "source": [
        "import numpy as np\n",
        "a1=np.random.random((3,3))\n",
        "a1"
      ],
      "metadata": {
        "colab": {
          "base_uri": "https://localhost:8080/"
        },
        "id": "Sokd9OMsYMid",
        "outputId": "02ba5da5-1485-454c-be58-4b680543e6f8"
      },
      "execution_count": null,
      "outputs": [
        {
          "output_type": "execute_result",
          "data": {
            "text/plain": [
              "array([[0.63427548, 0.60882997, 0.81735947],\n",
              "       [0.24516543, 0.46882268, 0.59050034],\n",
              "       [0.16785663, 0.22469272, 0.5687961 ]])"
            ]
          },
          "metadata": {},
          "execution_count": 15
        }
      ]
    },
    {
      "cell_type": "code",
      "source": [
        "a1=np.round(a1*100)\n",
        "a1"
      ],
      "metadata": {
        "colab": {
          "base_uri": "https://localhost:8080/"
        },
        "id": "Aopm82JcbFCL",
        "outputId": "e079d4d5-bde7-4b60-ea08-e78674dd9a2c"
      },
      "execution_count": null,
      "outputs": [
        {
          "output_type": "execute_result",
          "data": {
            "text/plain": [
              "array([[63., 61., 82.],\n",
              "       [25., 47., 59.],\n",
              "       [17., 22., 57.]])"
            ]
          },
          "metadata": {},
          "execution_count": 16
        }
      ]
    },
    {
      "cell_type": "code",
      "source": [
        "np.sum(a1)"
      ],
      "metadata": {
        "colab": {
          "base_uri": "https://localhost:8080/"
        },
        "id": "ppMeWTxweXOv",
        "outputId": "51719a5d-e763-4e7f-ab21-ac12cb69bc5a"
      },
      "execution_count": null,
      "outputs": [
        {
          "output_type": "execute_result",
          "data": {
            "text/plain": [
              "433.0"
            ]
          },
          "metadata": {},
          "execution_count": 17
        }
      ]
    },
    {
      "cell_type": "code",
      "source": [
        "np.prod(a1)"
      ],
      "metadata": {
        "colab": {
          "base_uri": "https://localhost:8080/"
        },
        "id": "h7QUhJ6hfKQ3",
        "outputId": "aaae233f-0e72-4333-8edd-d140dc788c46"
      },
      "execution_count": null,
      "outputs": [
        {
          "output_type": "execute_result",
          "data": {
            "text/plain": [
              "465715371914100.0"
            ]
          },
          "metadata": {},
          "execution_count": 18
        }
      ]
    },
    {
      "cell_type": "code",
      "source": [
        "np.max(a1)"
      ],
      "metadata": {
        "colab": {
          "base_uri": "https://localhost:8080/"
        },
        "id": "We8I6YAHhwHR",
        "outputId": "d2ebd0ca-9b6d-4762-bb9c-65050476a520"
      },
      "execution_count": null,
      "outputs": [
        {
          "output_type": "execute_result",
          "data": {
            "text/plain": [
              "82.0"
            ]
          },
          "metadata": {},
          "execution_count": 19
        }
      ]
    },
    {
      "cell_type": "code",
      "source": [
        "np.min(a1)"
      ],
      "metadata": {
        "colab": {
          "base_uri": "https://localhost:8080/"
        },
        "id": "u00LtOo0hyh4",
        "outputId": "c4dc4d9f-4fcb-4cd9-da59-cdb67a263ffa"
      },
      "execution_count": null,
      "outputs": [
        {
          "output_type": "execute_result",
          "data": {
            "text/plain": [
              "17.0"
            ]
          },
          "metadata": {},
          "execution_count": 20
        }
      ]
    },
    {
      "cell_type": "code",
      "source": [
        "np.max(a1,axis=0)\n",
        "#max item across each column"
      ],
      "metadata": {
        "colab": {
          "base_uri": "https://localhost:8080/"
        },
        "id": "yMYVRSmwh1tV",
        "outputId": "8260d71f-2d8c-410f-b275-ea12fffa1f69"
      },
      "execution_count": null,
      "outputs": [
        {
          "output_type": "execute_result",
          "data": {
            "text/plain": [
              "array([63., 61., 82.])"
            ]
          },
          "metadata": {},
          "execution_count": 22
        }
      ]
    },
    {
      "cell_type": "code",
      "source": [
        "np.max(a1,axis=1)\n",
        "#max item across each row"
      ],
      "metadata": {
        "colab": {
          "base_uri": "https://localhost:8080/"
        },
        "id": "BvDLJ9GTh-he",
        "outputId": "33a70ced-484e-464f-ae78-d0ad05e8f753"
      },
      "execution_count": null,
      "outputs": [
        {
          "output_type": "execute_result",
          "data": {
            "text/plain": [
              "array([82., 59., 57.])"
            ]
          },
          "metadata": {},
          "execution_count": 24
        }
      ]
    },
    {
      "cell_type": "code",
      "source": [
        "np.min(a1,axis=0)\n",
        "#min item across each column"
      ],
      "metadata": {
        "colab": {
          "base_uri": "https://localhost:8080/"
        },
        "id": "irG3P9XNi5i-",
        "outputId": "c409d4d6-f66e-4167-db1a-12d77f36f55b"
      },
      "execution_count": null,
      "outputs": [
        {
          "output_type": "execute_result",
          "data": {
            "text/plain": [
              "array([17., 22., 57.])"
            ]
          },
          "metadata": {},
          "execution_count": 26
        }
      ]
    },
    {
      "cell_type": "code",
      "source": [
        "np.min(a1,axis=1)\n",
        "#min item across each row"
      ],
      "metadata": {
        "colab": {
          "base_uri": "https://localhost:8080/"
        },
        "id": "o1ylx1XpjBCV",
        "outputId": "d59d096e-45d5-47e2-8ca9-4036beeba5e3"
      },
      "execution_count": null,
      "outputs": [
        {
          "output_type": "execute_result",
          "data": {
            "text/plain": [
              "array([61., 25., 17.])"
            ]
          },
          "metadata": {},
          "execution_count": 27
        }
      ]
    },
    {
      "cell_type": "code",
      "source": [
        "np.mean(a1,axis=1)"
      ],
      "metadata": {
        "colab": {
          "base_uri": "https://localhost:8080/"
        },
        "id": "8HJs_GMfjGul",
        "outputId": "e90534b1-f1b9-47ad-a62c-99d4fccd7c1b"
      },
      "execution_count": null,
      "outputs": [
        {
          "output_type": "execute_result",
          "data": {
            "text/plain": [
              "array([68.66666667, 43.66666667, 32.        ])"
            ]
          },
          "metadata": {},
          "execution_count": 28
        }
      ]
    },
    {
      "cell_type": "code",
      "source": [
        "np.var(a1,axis=1)"
      ],
      "metadata": {
        "colab": {
          "base_uri": "https://localhost:8080/"
        },
        "id": "DZPJHcALkKfn",
        "outputId": "e808d935-a34d-4b35-f54c-eee7ad894282"
      },
      "execution_count": null,
      "outputs": [
        {
          "output_type": "execute_result",
          "data": {
            "text/plain": [
              "array([ 89.55555556, 198.22222222, 316.66666667])"
            ]
          },
          "metadata": {},
          "execution_count": 29
        }
      ]
    },
    {
      "cell_type": "code",
      "source": [
        "np.median(a1,axis=0)"
      ],
      "metadata": {
        "colab": {
          "base_uri": "https://localhost:8080/"
        },
        "id": "v48ZYsZ9mArK",
        "outputId": "9716876c-abb6-40a4-d805-ffc4facdae9d"
      },
      "execution_count": null,
      "outputs": [
        {
          "output_type": "execute_result",
          "data": {
            "text/plain": [
              "array([25., 47., 59.])"
            ]
          },
          "metadata": {},
          "execution_count": 30
        }
      ]
    },
    {
      "cell_type": "code",
      "source": [
        "np.std(a1,axis=0)"
      ],
      "metadata": {
        "colab": {
          "base_uri": "https://localhost:8080/"
        },
        "id": "-OaLv_8zmFEC",
        "outputId": "513b7549-88cb-4f2a-be12-3e64895d79f6"
      },
      "execution_count": null,
      "outputs": [
        {
          "output_type": "execute_result",
          "data": {
            "text/plain": [
              "array([20.06655592, 16.13140484, 11.34313302])"
            ]
          },
          "metadata": {},
          "execution_count": 31
        }
      ]
    },
    {
      "cell_type": "code",
      "source": [
        "np.sin(a1)"
      ],
      "metadata": {
        "colab": {
          "base_uri": "https://localhost:8080/"
        },
        "id": "vJLoBvNYmIIS",
        "outputId": "51158bb9-6f42-4286-e893-a3c259be241e"
      },
      "execution_count": null,
      "outputs": [
        {
          "output_type": "execute_result",
          "data": {
            "text/plain": [
              "array([[ 0.1673557 , -0.96611777,  0.31322878],\n",
              "       [-0.13235175,  0.12357312,  0.63673801],\n",
              "       [-0.96139749, -0.00885131,  0.43616476]])"
            ]
          },
          "metadata": {},
          "execution_count": 32
        }
      ]
    },
    {
      "cell_type": "code",
      "source": [
        "#Dot product between 2 arrays a1 and a2 is only possible if number of columns in a1 is the same as number of rows in a2"
      ],
      "metadata": {
        "id": "k9TbLaXjnGfU"
      },
      "execution_count": null,
      "outputs": []
    },
    {
      "cell_type": "code",
      "source": [
        "import numpy as np\n",
        "a1=np.arange(12).reshape(3,4)\n",
        "a1"
      ],
      "metadata": {
        "colab": {
          "base_uri": "https://localhost:8080/"
        },
        "id": "iitf47l4on3E",
        "outputId": "872983ea-f4f1-47eb-e5ed-241254e05a3d"
      },
      "execution_count": null,
      "outputs": [
        {
          "output_type": "execute_result",
          "data": {
            "text/plain": [
              "array([[ 0,  1,  2,  3],\n",
              "       [ 4,  5,  6,  7],\n",
              "       [ 8,  9, 10, 11]])"
            ]
          },
          "metadata": {},
          "execution_count": 36
        }
      ]
    },
    {
      "cell_type": "code",
      "source": [
        "import numpy as np\n",
        "a2=np.arange(12,24).reshape(4,3)\n",
        "a2\n"
      ],
      "metadata": {
        "colab": {
          "base_uri": "https://localhost:8080/"
        },
        "id": "XvHVplx7qtYS",
        "outputId": "f4fb1dc1-07a4-4110-b841-a947efe211c2"
      },
      "execution_count": null,
      "outputs": [
        {
          "output_type": "execute_result",
          "data": {
            "text/plain": [
              "array([[12, 13, 14],\n",
              "       [15, 16, 17],\n",
              "       [18, 19, 20],\n",
              "       [21, 22, 23]])"
            ]
          },
          "metadata": {},
          "execution_count": 37
        }
      ]
    },
    {
      "cell_type": "code",
      "source": [
        "np.dot(a1,a2)"
      ],
      "metadata": {
        "colab": {
          "base_uri": "https://localhost:8080/"
        },
        "id": "E1PXGXpnrKE_",
        "outputId": "7ca3aa26-cbb4-4fe5-b618-5b08300a70cb"
      },
      "execution_count": null,
      "outputs": [
        {
          "output_type": "execute_result",
          "data": {
            "text/plain": [
              "array([[114, 120, 126],\n",
              "       [378, 400, 422],\n",
              "       [642, 680, 718]])"
            ]
          },
          "metadata": {},
          "execution_count": 38
        }
      ]
    },
    {
      "cell_type": "code",
      "source": [
        "np.dot(a2,a1)"
      ],
      "metadata": {
        "colab": {
          "base_uri": "https://localhost:8080/"
        },
        "id": "qZDtQyeTrQPM",
        "outputId": "0d8c3a5c-a2a1-453e-d881-456015845ba9"
      },
      "execution_count": null,
      "outputs": [
        {
          "output_type": "execute_result",
          "data": {
            "text/plain": [
              "array([[164, 203, 242, 281],\n",
              "       [200, 248, 296, 344],\n",
              "       [236, 293, 350, 407],\n",
              "       [272, 338, 404, 470]])"
            ]
          },
          "metadata": {},
          "execution_count": 39
        }
      ]
    },
    {
      "cell_type": "code",
      "source": [
        "np.log(a1)"
      ],
      "metadata": {
        "colab": {
          "base_uri": "https://localhost:8080/"
        },
        "id": "_PA2KKi3segS",
        "outputId": "afe186fa-20cc-4de9-d34f-b2655c4a96b2"
      },
      "execution_count": null,
      "outputs": [
        {
          "output_type": "stream",
          "name": "stderr",
          "text": [
            "<ipython-input-40-f50b4f369011>:1: RuntimeWarning: divide by zero encountered in log\n",
            "  np.log(a1)\n"
          ]
        },
        {
          "output_type": "execute_result",
          "data": {
            "text/plain": [
              "array([[      -inf, 0.        , 0.69314718, 1.09861229],\n",
              "       [1.38629436, 1.60943791, 1.79175947, 1.94591015],\n",
              "       [2.07944154, 2.19722458, 2.30258509, 2.39789527]])"
            ]
          },
          "metadata": {},
          "execution_count": 40
        }
      ]
    },
    {
      "cell_type": "code",
      "source": [
        "np.exp(a1)"
      ],
      "metadata": {
        "colab": {
          "base_uri": "https://localhost:8080/"
        },
        "id": "6dsMuI6TskvP",
        "outputId": "8ec0345e-8fb7-46be-ebf4-6f2b1118f768"
      },
      "execution_count": null,
      "outputs": [
        {
          "output_type": "execute_result",
          "data": {
            "text/plain": [
              "array([[1.00000000e+00, 2.71828183e+00, 7.38905610e+00, 2.00855369e+01],\n",
              "       [5.45981500e+01, 1.48413159e+02, 4.03428793e+02, 1.09663316e+03],\n",
              "       [2.98095799e+03, 8.10308393e+03, 2.20264658e+04, 5.98741417e+04]])"
            ]
          },
          "metadata": {},
          "execution_count": 41
        }
      ]
    },
    {
      "cell_type": "code",
      "source": [
        "#round/floor/ceil\n",
        "np.random.random((2,3))"
      ],
      "metadata": {
        "colab": {
          "base_uri": "https://localhost:8080/"
        },
        "id": "hUgjXcd-sn4g",
        "outputId": "9875db46-0720-4e49-d988-02edf8cb142f"
      },
      "execution_count": null,
      "outputs": [
        {
          "output_type": "execute_result",
          "data": {
            "text/plain": [
              "array([[0.41764505, 0.18939056, 0.48181553],\n",
              "       [0.74545029, 0.31869498, 0.7476102 ]])"
            ]
          },
          "metadata": {},
          "execution_count": 42
        }
      ]
    },
    {
      "cell_type": "code",
      "source": [
        "np.random.random((3,2))"
      ],
      "metadata": {
        "colab": {
          "base_uri": "https://localhost:8080/"
        },
        "id": "Nd36nUvztHZm",
        "outputId": "edbdb988-87f0-4ca8-82f2-0de3a3df1897"
      },
      "execution_count": null,
      "outputs": [
        {
          "output_type": "execute_result",
          "data": {
            "text/plain": [
              "array([[0.38417088, 0.22943253],\n",
              "       [0.59619633, 0.67338479],\n",
              "       [0.30431884, 0.89814865]])"
            ]
          },
          "metadata": {},
          "execution_count": 43
        }
      ]
    },
    {
      "cell_type": "code",
      "source": [
        "np.random.random((3,2))*100\n",
        "#*100 brings the number between 1 and 100"
      ],
      "metadata": {
        "colab": {
          "base_uri": "https://localhost:8080/"
        },
        "id": "3nyvp6sHtM5u",
        "outputId": "28cb795c-5b96-4c1d-ab51-277898fcbebb"
      },
      "execution_count": null,
      "outputs": [
        {
          "output_type": "execute_result",
          "data": {
            "text/plain": [
              "array([[26.45037603, 12.44577443],\n",
              "       [57.27204537, 24.48125132],\n",
              "       [42.32550504, 12.86112014]])"
            ]
          },
          "metadata": {},
          "execution_count": 45
        }
      ]
    },
    {
      "cell_type": "code",
      "source": [
        "np.round(np.random.random((3,2))*100)"
      ],
      "metadata": {
        "colab": {
          "base_uri": "https://localhost:8080/"
        },
        "id": "3S95pY_6uDck",
        "outputId": "5a80a9e9-5448-4d8f-b471-f3c16becda9c"
      },
      "execution_count": null,
      "outputs": [
        {
          "output_type": "execute_result",
          "data": {
            "text/plain": [
              "array([[47., 12.],\n",
              "       [57.,  4.],\n",
              "       [15., 86.]])"
            ]
          },
          "metadata": {},
          "execution_count": 46
        }
      ]
    },
    {
      "cell_type": "code",
      "source": [
        "#floor does 47.8 to 47 and ceil makes 47.8 to 48 or 47.2 to 48"
      ],
      "metadata": {
        "id": "E-8Rw1mGuLqX"
      },
      "execution_count": null,
      "outputs": []
    },
    {
      "cell_type": "code",
      "source": [
        "import numpy as np\n",
        "a1=np.arange(8)\n",
        "a1"
      ],
      "metadata": {
        "colab": {
          "base_uri": "https://localhost:8080/"
        },
        "id": "T4PN5qDRuXZg",
        "outputId": "2eeb7253-d0db-4511-fee3-f15e0fa8e47a"
      },
      "execution_count": null,
      "outputs": [
        {
          "output_type": "execute_result",
          "data": {
            "text/plain": [
              "array([0, 1, 2, 3, 4, 5, 6, 7])"
            ]
          },
          "metadata": {},
          "execution_count": 1
        }
      ]
    },
    {
      "cell_type": "code",
      "source": [
        "a2=np.arange(12).reshape(3,4)\n",
        "a2\n",
        "#this is how you make a matrix using arange and reshape"
      ],
      "metadata": {
        "colab": {
          "base_uri": "https://localhost:8080/"
        },
        "id": "kw0MHX0Tpun3",
        "outputId": "90fdfda5-391b-4406-d518-479f49488459"
      },
      "execution_count": null,
      "outputs": [
        {
          "output_type": "execute_result",
          "data": {
            "text/plain": [
              "array([[ 0,  1,  2,  3],\n",
              "       [ 4,  5,  6,  7],\n",
              "       [ 8,  9, 10, 11]])"
            ]
          },
          "metadata": {},
          "execution_count": 4
        }
      ]
    },
    {
      "cell_type": "code",
      "source": [
        "a3=np.arange(8).reshape(2,2,2)\n",
        "a3\n",
        "#this is how you make a 3D numpy array or tensor"
      ],
      "metadata": {
        "colab": {
          "base_uri": "https://localhost:8080/"
        },
        "id": "52nhJzNgp1eK",
        "outputId": "626026cb-4517-42ae-a467-51366554ecbb"
      },
      "execution_count": null,
      "outputs": [
        {
          "output_type": "execute_result",
          "data": {
            "text/plain": [
              "array([[[0, 1],\n",
              "        [2, 3]],\n",
              "\n",
              "       [[4, 5],\n",
              "        [6, 7]]])"
            ]
          },
          "metadata": {},
          "execution_count": 5
        }
      ]
    },
    {
      "cell_type": "code",
      "source": [
        "#how to do slicing and extract a particular element say 6 from matrix a2\n",
        "a2[1,2]\n",
        "#6 is present on the 1st row and in the 2nd column hence a2[1,2] would extract 6."
      ],
      "metadata": {
        "colab": {
          "base_uri": "https://localhost:8080/"
        },
        "id": "Fz8T4RpHqOS5",
        "outputId": "d886da74-49a4-41ab-9708-8e65932a5511"
      },
      "execution_count": null,
      "outputs": [
        {
          "output_type": "execute_result",
          "data": {
            "text/plain": [
              "6"
            ]
          },
          "metadata": {},
          "execution_count": 8
        }
      ]
    },
    {
      "cell_type": "code",
      "source": [
        "#to extract 10\n",
        "a2[2,2]\n",
        "#10 is present on the 2nd row and 2nd column"
      ],
      "metadata": {
        "colab": {
          "base_uri": "https://localhost:8080/"
        },
        "id": "2atDwWMN1lgp",
        "outputId": "bf29b699-8b52-412e-d8e4-1a8524daa1c5"
      },
      "execution_count": null,
      "outputs": [
        {
          "output_type": "execute_result",
          "data": {
            "text/plain": [
              "10"
            ]
          },
          "metadata": {},
          "execution_count": 10
        }
      ]
    },
    {
      "cell_type": "code",
      "source": [
        "#to extract 9\n",
        "a2[2,1]\n",
        "#2nd row and 1st column in which 9 is present"
      ],
      "metadata": {
        "colab": {
          "base_uri": "https://localhost:8080/"
        },
        "id": "dAYPSv-x1w7C",
        "outputId": "725496d1-7e6d-43dc-9c86-e09ad33acdc3"
      },
      "execution_count": null,
      "outputs": [
        {
          "output_type": "execute_result",
          "data": {
            "text/plain": [
              "9"
            ]
          },
          "metadata": {},
          "execution_count": 12
        }
      ]
    },
    {
      "cell_type": "code",
      "source": [
        "a91=np.arange(24).reshape(4,3,2)\n",
        "a91"
      ],
      "metadata": {
        "colab": {
          "base_uri": "https://localhost:8080/"
        },
        "id": "JWoq0-kR3dGS",
        "outputId": "21dd88d8-99b4-4972-93ce-2d832f48fd4c"
      },
      "execution_count": null,
      "outputs": [
        {
          "output_type": "execute_result",
          "data": {
            "text/plain": [
              "array([[[ 0,  1],\n",
              "        [ 2,  3],\n",
              "        [ 4,  5]],\n",
              "\n",
              "       [[ 6,  7],\n",
              "        [ 8,  9],\n",
              "        [10, 11]],\n",
              "\n",
              "       [[12, 13],\n",
              "        [14, 15],\n",
              "        [16, 17]],\n",
              "\n",
              "       [[18, 19],\n",
              "        [20, 21],\n",
              "        [22, 23]]])"
            ]
          },
          "metadata": {},
          "execution_count": 13
        }
      ]
    },
    {
      "cell_type": "code",
      "source": [
        "a91[3,0,1]\n",
        "#It means 3rd 2D array's 0th row and 1 column"
      ],
      "metadata": {
        "colab": {
          "base_uri": "https://localhost:8080/"
        },
        "id": "0DsUpOQ95ppb",
        "outputId": "43550fc6-9634-4cd9-bcfc-e9cdb7579943"
      },
      "execution_count": null,
      "outputs": [
        {
          "output_type": "execute_result",
          "data": {
            "text/plain": [
              "19"
            ]
          },
          "metadata": {},
          "execution_count": 15
        }
      ]
    },
    {
      "cell_type": "code",
      "source": [
        "a91[2,0,1]\n",
        "#It means 2nd 2D array's 0th row and 1st column"
      ],
      "metadata": {
        "colab": {
          "base_uri": "https://localhost:8080/"
        },
        "id": "BmYOqVNF7wsv",
        "outputId": "8e0f0424-9c86-4669-ed45-d90abf323942"
      },
      "execution_count": null,
      "outputs": [
        {
          "output_type": "execute_result",
          "data": {
            "text/plain": [
              "13"
            ]
          },
          "metadata": {},
          "execution_count": 17
        }
      ]
    },
    {
      "cell_type": "code",
      "source": [
        "a91[3,1,1]\n",
        "#It means 3rd 2D array's 1st row's 1st column"
      ],
      "metadata": {
        "colab": {
          "base_uri": "https://localhost:8080/"
        },
        "id": "6aL_gjJe9bGp",
        "outputId": "ef320f76-7f2b-415b-89c9-0eb6c39dd104"
      },
      "execution_count": null,
      "outputs": [
        {
          "output_type": "execute_result",
          "data": {
            "text/plain": [
              "21"
            ]
          },
          "metadata": {},
          "execution_count": 19
        }
      ]
    },
    {
      "cell_type": "code",
      "source": [
        "import numpy as np\n",
        "a11=np.arange(12).reshape(3,4)\n",
        "a11"
      ],
      "metadata": {
        "id": "lRZ5V7i8_Pbs",
        "colab": {
          "base_uri": "https://localhost:8080/"
        },
        "outputId": "d8511604-b771-4658-bdc7-68034a16fc10"
      },
      "execution_count": null,
      "outputs": [
        {
          "output_type": "execute_result",
          "data": {
            "text/plain": [
              "array([[ 0,  1,  2,  3],\n",
              "       [ 4,  5,  6,  7],\n",
              "       [ 8,  9, 10, 11]])"
            ]
          },
          "metadata": {},
          "execution_count": 1
        }
      ]
    },
    {
      "cell_type": "code",
      "source": [
        "#slicing\n",
        "a11[0,:]\n",
        "#we need the entire 1st row. 0 represents 1st row and : this represents all the columns."
      ],
      "metadata": {
        "colab": {
          "base_uri": "https://localhost:8080/"
        },
        "id": "104GTC_cmzrP",
        "outputId": "152bf575-a4ba-4a46-824d-2f1d30f14573"
      },
      "execution_count": null,
      "outputs": [
        {
          "output_type": "execute_result",
          "data": {
            "text/plain": [
              "array([0, 1, 2, 3])"
            ]
          },
          "metadata": {},
          "execution_count": 4
        }
      ]
    },
    {
      "cell_type": "code",
      "source": [
        "a11[1,:]\n",
        "#we need the entire 2nd row. 1 represents 2nd row and : this represents all the columns."
      ],
      "metadata": {
        "colab": {
          "base_uri": "https://localhost:8080/"
        },
        "id": "PRDnJnPkpNse",
        "outputId": "313611cd-1114-40b3-cba0-514767be662a"
      },
      "execution_count": null,
      "outputs": [
        {
          "output_type": "execute_result",
          "data": {
            "text/plain": [
              "array([4, 5, 6, 7])"
            ]
          },
          "metadata": {},
          "execution_count": 6
        }
      ]
    },
    {
      "cell_type": "code",
      "source": [
        "a11[2,:]\n",
        "#we need the entire 3rd row. 2 represents 3rd row and : this represents all the columns"
      ],
      "metadata": {
        "colab": {
          "base_uri": "https://localhost:8080/"
        },
        "id": "IL9HeJK8ptCW",
        "outputId": "47b01f60-3ed5-48a4-ff75-e0bd0134d68d"
      },
      "execution_count": null,
      "outputs": [
        {
          "output_type": "execute_result",
          "data": {
            "text/plain": [
              "array([ 8,  9, 10, 11])"
            ]
          },
          "metadata": {},
          "execution_count": 7
        }
      ]
    },
    {
      "cell_type": "code",
      "source": [
        "a11[:,0]\n",
        "#the : represents all the rows and 0 represents the 1st column."
      ],
      "metadata": {
        "colab": {
          "base_uri": "https://localhost:8080/"
        },
        "id": "4swD83qzs0SV",
        "outputId": "ea429b7a-461a-4fc2-887c-1c8a07f4c14b"
      },
      "execution_count": null,
      "outputs": [
        {
          "output_type": "execute_result",
          "data": {
            "text/plain": [
              "array([0, 4, 8])"
            ]
          },
          "metadata": {},
          "execution_count": 9
        }
      ]
    },
    {
      "cell_type": "code",
      "source": [
        "a11[:,1]\n",
        "#the : represents all the rows and 1 represents the 2nd column."
      ],
      "metadata": {
        "colab": {
          "base_uri": "https://localhost:8080/"
        },
        "id": "0Vm9ffXEuDV2",
        "outputId": "ec42e484-48b0-4903-f371-e8630c619e2b"
      },
      "execution_count": null,
      "outputs": [
        {
          "output_type": "execute_result",
          "data": {
            "text/plain": [
              "array([1, 5, 9])"
            ]
          },
          "metadata": {},
          "execution_count": 10
        }
      ]
    },
    {
      "cell_type": "code",
      "source": [
        "a11[:,2]\n",
        "#the : represents all the rows and 2 represents the 3rd column."
      ],
      "metadata": {
        "colab": {
          "base_uri": "https://localhost:8080/"
        },
        "id": "7wnCqtjUuXm1",
        "outputId": "26951356-4925-4e7e-8f7c-3a1e1cfa0e2a"
      },
      "execution_count": null,
      "outputs": [
        {
          "output_type": "execute_result",
          "data": {
            "text/plain": [
              "array([ 2,  6, 10])"
            ]
          },
          "metadata": {},
          "execution_count": 11
        }
      ]
    },
    {
      "cell_type": "code",
      "source": [
        "a11[:,0:2]\n",
        "#represents the first 2 columns."
      ],
      "metadata": {
        "colab": {
          "base_uri": "https://localhost:8080/"
        },
        "id": "eKwPiV9pu9H4",
        "outputId": "de3b3bb9-0c1a-412c-a4ea-6501e34ea6c2"
      },
      "execution_count": null,
      "outputs": [
        {
          "output_type": "execute_result",
          "data": {
            "text/plain": [
              "array([[0, 1],\n",
              "       [4, 5],\n",
              "       [8, 9]])"
            ]
          },
          "metadata": {},
          "execution_count": 13
        }
      ]
    },
    {
      "cell_type": "code",
      "source": [
        "a11[1:,0:2]\n",
        "#represents the 2nd and 3rd row, and 1st column and 2nd column"
      ],
      "metadata": {
        "colab": {
          "base_uri": "https://localhost:8080/"
        },
        "id": "_UNphmJ-vQUX",
        "outputId": "29fd228f-cbd0-4ec0-e32e-5db7a6d491db"
      },
      "execution_count": null,
      "outputs": [
        {
          "output_type": "execute_result",
          "data": {
            "text/plain": [
              "array([[4, 5],\n",
              "       [8, 9]])"
            ]
          },
          "metadata": {},
          "execution_count": 15
        }
      ]
    },
    {
      "cell_type": "code",
      "source": [
        "a11[:,::3]\n",
        "#extracting the entire 1st and last column"
      ],
      "metadata": {
        "colab": {
          "base_uri": "https://localhost:8080/"
        },
        "id": "eaJodtyRyfx_",
        "outputId": "4b7f5c93-1a42-4977-a7bd-f69f3d73db5b"
      },
      "execution_count": null,
      "outputs": [
        {
          "output_type": "execute_result",
          "data": {
            "text/plain": [
              "array([[ 0,  3],\n",
              "       [ 4,  7],\n",
              "       [ 8, 11]])"
            ]
          },
          "metadata": {},
          "execution_count": 17
        }
      ]
    },
    {
      "cell_type": "code",
      "source": [
        "a11[::2,::3]\n",
        "#returns the elements of all the corners\n",
        "#a11[::2] this returns every 2nd element of every row, a11[::2,::3] returns every 3rd element of column."
      ],
      "metadata": {
        "colab": {
          "base_uri": "https://localhost:8080/"
        },
        "id": "LUCVoTe70ccU",
        "outputId": "997d7bad-42d8-4f6c-912f-51e3d39b4b28"
      },
      "execution_count": null,
      "outputs": [
        {
          "output_type": "execute_result",
          "data": {
            "text/plain": [
              "array([[ 0,  3],\n",
              "       [ 8, 11]])"
            ]
          },
          "metadata": {},
          "execution_count": 19
        }
      ]
    },
    {
      "cell_type": "code",
      "source": [
        "#how to extract 1 3 9 11 now\n",
        "a11[1:3,:]\n",
        "#returns 2nd and 3rd row and all the columns"
      ],
      "metadata": {
        "colab": {
          "base_uri": "https://localhost:8080/"
        },
        "id": "zwXEmKpU5s72",
        "outputId": "b84a1f8b-1eda-4121-97b4-9925c69c900b"
      },
      "execution_count": null,
      "outputs": [
        {
          "output_type": "execute_result",
          "data": {
            "text/plain": [
              "array([[ 4,  5,  6,  7],\n",
              "       [ 8,  9, 10, 11]])"
            ]
          },
          "metadata": {},
          "execution_count": 22
        }
      ]
    },
    {
      "cell_type": "code",
      "source": [
        "a11"
      ],
      "metadata": {
        "colab": {
          "base_uri": "https://localhost:8080/"
        },
        "id": "x113Xcat6fQu",
        "outputId": "4510c18a-a51b-45ac-959f-ea489bff0b26"
      },
      "execution_count": null,
      "outputs": [
        {
          "output_type": "execute_result",
          "data": {
            "text/plain": [
              "array([[ 0,  1,  2,  3],\n",
              "       [ 4,  5,  6,  7],\n",
              "       [ 8,  9, 10, 11]])"
            ]
          },
          "metadata": {},
          "execution_count": 23
        }
      ]
    },
    {
      "cell_type": "code",
      "source": [
        "a11[::2,1::2]\n",
        "#It returns every item of row from alternate positions and every item from column 2nd but at alternate positions."
      ],
      "metadata": {
        "colab": {
          "base_uri": "https://localhost:8080/"
        },
        "id": "HxraKo5V7N1t",
        "outputId": "1e3e8bd3-f6b6-466d-8146-f91dc136b146"
      },
      "execution_count": null,
      "outputs": [
        {
          "output_type": "execute_result",
          "data": {
            "text/plain": [
              "array([[ 1,  3],\n",
              "       [ 9, 11]])"
            ]
          },
          "metadata": {},
          "execution_count": 25
        }
      ]
    },
    {
      "cell_type": "code",
      "source": [
        "import numpy as np\n",
        "a11=np.arange(12).reshape(3,4)"
      ],
      "metadata": {
        "id": "kc_tnvpt7jaO"
      },
      "execution_count": null,
      "outputs": []
    },
    {
      "cell_type": "code",
      "source": [
        "a11"
      ],
      "metadata": {
        "colab": {
          "base_uri": "https://localhost:8080/"
        },
        "id": "yaXG_upftUdq",
        "outputId": "6a293ec4-7a55-4091-e94b-898f8031943f"
      },
      "execution_count": null,
      "outputs": [
        {
          "output_type": "execute_result",
          "data": {
            "text/plain": [
              "array([[ 0,  1,  2,  3],\n",
              "       [ 4,  5,  6,  7],\n",
              "       [ 8,  9, 10, 11]])"
            ]
          },
          "metadata": {},
          "execution_count": 2
        }
      ]
    },
    {
      "cell_type": "code",
      "source": [
        "a11[1,::3]\n",
        "#This is how ypu extract 4 and 7 from this matrix, as you are only concerned with 2nd row so you first use a11[1] for extracting\n",
        "#second row then use ::3 for columns where all columns are extracted with a gap of 2 between then or the third one."
      ],
      "metadata": {
        "colab": {
          "base_uri": "https://localhost:8080/"
        },
        "id": "FrLF2cIVtV-q",
        "outputId": "a6896e6f-8355-4407-d20a-1acbc32e2fd8"
      },
      "execution_count": null,
      "outputs": [
        {
          "output_type": "execute_result",
          "data": {
            "text/plain": [
              "array([4, 7])"
            ]
          },
          "metadata": {},
          "execution_count": 4
        }
      ]
    },
    {
      "cell_type": "code",
      "source": [
        "a11[0:2,1:]\n",
        "#to extract the first 2 rows we use a11[0:2] and to extract the rest of the columns from 1 we use a11[0:2,1:]"
      ],
      "metadata": {
        "colab": {
          "base_uri": "https://localhost:8080/"
        },
        "id": "yaLS-GykvsqO",
        "outputId": "291ad47d-ae55-4feb-8546-94a1934516a0"
      },
      "execution_count": null,
      "outputs": [
        {
          "output_type": "execute_result",
          "data": {
            "text/plain": [
              "array([[1, 2, 3],\n",
              "       [5, 6, 7]])"
            ]
          },
          "metadata": {},
          "execution_count": 6
        }
      ]
    },
    {
      "cell_type": "code",
      "source": [
        "#how to extract 1 3 and 5 and 7\n",
        "a11[0:2,1::2]\n",
        "#the first 2 rows will be extracted using 0:2 and 2nd 3rd and 4th column will be extracted using 1::2...1::2 picks up every alternate\n",
        "#element in the row"
      ],
      "metadata": {
        "colab": {
          "base_uri": "https://localhost:8080/"
        },
        "id": "aGhxylBE5ois",
        "outputId": "805a8e35-31d3-4a97-b9f2-56c1ca087ee1"
      },
      "execution_count": null,
      "outputs": [
        {
          "output_type": "execute_result",
          "data": {
            "text/plain": [
              "array([[1, 3],\n",
              "       [5, 7]])"
            ]
          },
          "metadata": {},
          "execution_count": 9
        }
      ]
    },
    {
      "cell_type": "code",
      "source": [
        "import numpy as np\n",
        "a14=np.arange(27).reshape(3,3,3)\n",
        "a14"
      ],
      "metadata": {
        "colab": {
          "base_uri": "https://localhost:8080/"
        },
        "id": "vAcPDF-g8r0z",
        "outputId": "e9a128b8-cc45-4c17-8c38-4be6ec37dd2d"
      },
      "execution_count": null,
      "outputs": [
        {
          "output_type": "execute_result",
          "data": {
            "text/plain": [
              "array([[[ 0,  1,  2],\n",
              "        [ 3,  4,  5],\n",
              "        [ 6,  7,  8]],\n",
              "\n",
              "       [[ 9, 10, 11],\n",
              "        [12, 13, 14],\n",
              "        [15, 16, 17]],\n",
              "\n",
              "       [[18, 19, 20],\n",
              "        [21, 22, 23],\n",
              "        [24, 25, 26]]])"
            ]
          },
          "metadata": {},
          "execution_count": 10
        }
      ]
    },
    {
      "cell_type": "code",
      "source": [
        "a14[0] #represents the first 2D array"
      ],
      "metadata": {
        "colab": {
          "base_uri": "https://localhost:8080/"
        },
        "id": "Cj73iNwDEeAs",
        "outputId": "b2aded2e-47b5-4713-9924-653ca71c30fa"
      },
      "execution_count": null,
      "outputs": [
        {
          "output_type": "execute_result",
          "data": {
            "text/plain": [
              "array([[0, 1, 2],\n",
              "       [3, 4, 5],\n",
              "       [6, 7, 8]])"
            ]
          },
          "metadata": {},
          "execution_count": 16
        }
      ]
    },
    {
      "cell_type": "code",
      "source": [
        "a14[1] #represents the second 2D array"
      ],
      "metadata": {
        "colab": {
          "base_uri": "https://localhost:8080/"
        },
        "id": "pYtmVMkyEh7d",
        "outputId": "069080af-e6e6-4ac6-bbef-5d12a26d553c"
      },
      "execution_count": null,
      "outputs": [
        {
          "output_type": "execute_result",
          "data": {
            "text/plain": [
              "array([[ 9, 10, 11],\n",
              "       [12, 13, 14],\n",
              "       [15, 16, 17]])"
            ]
          },
          "metadata": {},
          "execution_count": 15
        }
      ]
    },
    {
      "cell_type": "code",
      "source": [
        "a14[2] #represents the third 2D array"
      ],
      "metadata": {
        "colab": {
          "base_uri": "https://localhost:8080/"
        },
        "id": "383en7D3Ek3j",
        "outputId": "bbe88cc5-5ee5-4612-a2d6-7f6141725ba8"
      },
      "execution_count": null,
      "outputs": [
        {
          "output_type": "execute_result",
          "data": {
            "text/plain": [
              "array([[18, 19, 20],\n",
              "       [21, 22, 23],\n",
              "       [24, 25, 26]])"
            ]
          },
          "metadata": {},
          "execution_count": 17
        }
      ]
    },
    {
      "cell_type": "code",
      "source": [
        "a14[0,1,:] #represents second row of first 2D array"
      ],
      "metadata": {
        "colab": {
          "base_uri": "https://localhost:8080/"
        },
        "id": "TSakC1SfEn8R",
        "outputId": "8c987ae0-9182-46bc-8516-3c8cb5c9c295"
      },
      "execution_count": null,
      "outputs": [
        {
          "output_type": "execute_result",
          "data": {
            "text/plain": [
              "array([3, 4, 5])"
            ]
          },
          "metadata": {},
          "execution_count": 19
        }
      ]
    },
    {
      "cell_type": "code",
      "source": [
        "#how to extract [9,10,11]\n",
        "a14[1,1,:]\n",
        "#this is how you extract all the columns from"
      ],
      "metadata": {
        "colab": {
          "base_uri": "https://localhost:8080/"
        },
        "id": "l7F_8uwZIpZ3",
        "outputId": "b34409f9-135e-4ff6-aeaf-f35cf8061f5a"
      },
      "execution_count": null,
      "outputs": [
        {
          "output_type": "execute_result",
          "data": {
            "text/plain": [
              "array([12, 13, 14])"
            ]
          },
          "metadata": {},
          "execution_count": 20
        }
      ]
    },
    {
      "cell_type": "code",
      "source": [
        "a14[1,0,:]\n",
        "#this would extract all columns of the first row from 2nd 2D array"
      ],
      "metadata": {
        "colab": {
          "base_uri": "https://localhost:8080/"
        },
        "id": "Xz_nPho-JzPp",
        "outputId": "db950384-1dfb-41c8-ee94-a310e8bb310a"
      },
      "execution_count": null,
      "outputs": [
        {
          "output_type": "execute_result",
          "data": {
            "text/plain": [
              "array([ 9, 10, 11])"
            ]
          },
          "metadata": {},
          "execution_count": 22
        }
      ]
    },
    {
      "cell_type": "code",
      "source": [
        "a14[1,:,1]\n",
        "#this would extract the 2nd column from the second 2D array"
      ],
      "metadata": {
        "colab": {
          "base_uri": "https://localhost:8080/"
        },
        "id": "3xKIOfprLkwm",
        "outputId": "ff69fef2-908d-4aae-e8a4-5fcf1f57e2e4"
      },
      "execution_count": null,
      "outputs": [
        {
          "output_type": "execute_result",
          "data": {
            "text/plain": [
              "array([10, 13, 16])"
            ]
          },
          "metadata": {},
          "execution_count": 24
        }
      ]
    },
    {
      "cell_type": "code",
      "source": [
        "a14[2,1:,1:]\n",
        "#This will extract the entire first and second row's first and second column from the 2nd 2D array"
      ],
      "metadata": {
        "colab": {
          "base_uri": "https://localhost:8080/"
        },
        "id": "-DsOkmvBORQI",
        "outputId": "568f5269-585c-4841-a839-7614150ae8ae"
      },
      "execution_count": null,
      "outputs": [
        {
          "output_type": "execute_result",
          "data": {
            "text/plain": [
              "array([[22, 23],\n",
              "       [25, 26]])"
            ]
          },
          "metadata": {},
          "execution_count": 26
        }
      ]
    },
    {
      "cell_type": "code",
      "source": [
        "a14"
      ],
      "metadata": {
        "colab": {
          "base_uri": "https://localhost:8080/"
        },
        "id": "CFg9mVh8Uswj",
        "outputId": "7ae9a150-ceb4-4c49-898c-2b75fd1e3fe7"
      },
      "execution_count": null,
      "outputs": [
        {
          "output_type": "execute_result",
          "data": {
            "text/plain": [
              "array([[[ 0,  1,  2],\n",
              "        [ 3,  4,  5],\n",
              "        [ 6,  7,  8]],\n",
              "\n",
              "       [[ 9, 10, 11],\n",
              "        [12, 13, 14],\n",
              "        [15, 16, 17]],\n",
              "\n",
              "       [[18, 19, 20],\n",
              "        [21, 22, 23],\n",
              "        [24, 25, 26]]])"
            ]
          },
          "metadata": {},
          "execution_count": 27
        }
      ]
    },
    {
      "cell_type": "code",
      "source": [
        "#how to extract 0 2 18 and 20\n",
        "a14[::2,0,::2]\n",
        "#::2 means every alternate 2D array, 0 means every 1st row of the 2D array and ::2 means 1st and 3rd column of 2D array."
      ],
      "metadata": {
        "colab": {
          "base_uri": "https://localhost:8080/"
        },
        "id": "b434Ui1UWm0O",
        "outputId": "b5bd7a52-48dc-4016-8c07-c4a2b1f1f7e2"
      },
      "execution_count": null,
      "outputs": [
        {
          "output_type": "execute_result",
          "data": {
            "text/plain": [
              "array([[ 0,  2],\n",
              "       [18, 20]])"
            ]
          },
          "metadata": {},
          "execution_count": 29
        }
      ]
    },
    {
      "cell_type": "code",
      "source": [
        "#Iteration\n",
        "a01=np.arange(10)\n",
        "a02=np.arange(12).reshape(3,4)"
      ],
      "metadata": {
        "id": "2A75GheelSK_"
      },
      "execution_count": null,
      "outputs": []
    },
    {
      "cell_type": "code",
      "source": [
        "for i in np.nditer(a14):\n",
        "  print(i)"
      ],
      "metadata": {
        "colab": {
          "base_uri": "https://localhost:8080/"
        },
        "id": "yR6b7ZlV1mTd",
        "outputId": "96708b90-c75c-444f-db87-9cf2b88f1279"
      },
      "execution_count": null,
      "outputs": [
        {
          "output_type": "stream",
          "name": "stdout",
          "text": [
            "0\n",
            "1\n",
            "2\n",
            "3\n",
            "4\n",
            "5\n",
            "6\n",
            "7\n",
            "8\n",
            "9\n",
            "10\n",
            "11\n",
            "12\n",
            "13\n",
            "14\n",
            "15\n",
            "16\n",
            "17\n",
            "18\n",
            "19\n",
            "20\n",
            "21\n",
            "22\n",
            "23\n",
            "24\n",
            "25\n",
            "26\n"
          ]
        }
      ]
    },
    {
      "cell_type": "code",
      "source": [
        "for i in np.nditer(a02):\n",
        "  print(i)\n",
        "#This is how you can loop through every item of 2D 0r 3D or any dimensional array using np.nditer(array_name)....np.nditer(array_name)\n",
        "#np.nditer(array_name)"
      ],
      "metadata": {
        "colab": {
          "base_uri": "https://localhost:8080/"
        },
        "id": "gGlk3QJx1tC5",
        "outputId": "bc2d8542-0118-44c2-b775-3cb972cf4cbf"
      },
      "execution_count": null,
      "outputs": [
        {
          "output_type": "stream",
          "name": "stdout",
          "text": [
            "0\n",
            "1\n",
            "2\n",
            "3\n",
            "4\n",
            "5\n",
            "6\n",
            "7\n",
            "8\n",
            "9\n",
            "10\n",
            "11\n"
          ]
        }
      ]
    },
    {
      "cell_type": "code",
      "source": [
        "#iteration through multiple dimensional array is done through for i in np.nditer(arrayname)\n",
        "#Transpose\n",
        "a01"
      ],
      "metadata": {
        "colab": {
          "base_uri": "https://localhost:8080/"
        },
        "id": "7frfWdrv118I",
        "outputId": "24711c45-ef3b-4193-d023-cf1f88f1800c"
      },
      "execution_count": null,
      "outputs": [
        {
          "output_type": "execute_result",
          "data": {
            "text/plain": [
              "array([0, 1, 2, 3, 4, 5, 6, 7, 8, 9])"
            ]
          },
          "metadata": {},
          "execution_count": 34
        }
      ]
    },
    {
      "cell_type": "code",
      "source": [
        "a02"
      ],
      "metadata": {
        "colab": {
          "base_uri": "https://localhost:8080/"
        },
        "id": "VlEIFm8M79Dc",
        "outputId": "7125690a-ef05-49c4-b19d-c3537839604f"
      },
      "execution_count": null,
      "outputs": [
        {
          "output_type": "execute_result",
          "data": {
            "text/plain": [
              "array([[ 0,  1,  2,  3],\n",
              "       [ 4,  5,  6,  7],\n",
              "       [ 8,  9, 10, 11]])"
            ]
          },
          "metadata": {},
          "execution_count": 35
        }
      ]
    },
    {
      "cell_type": "code",
      "source": [
        "#Transpose can be done in 2 ways\n",
        "np.transpose(a02)"
      ],
      "metadata": {
        "colab": {
          "base_uri": "https://localhost:8080/"
        },
        "id": "RUa0TsW67_5v",
        "outputId": "7c31677f-3143-4a8b-a02f-6b4b8554ae59"
      },
      "execution_count": null,
      "outputs": [
        {
          "output_type": "execute_result",
          "data": {
            "text/plain": [
              "array([[ 0,  4,  8],\n",
              "       [ 1,  5,  9],\n",
              "       [ 2,  6, 10],\n",
              "       [ 3,  7, 11]])"
            ]
          },
          "metadata": {},
          "execution_count": 36
        }
      ]
    },
    {
      "cell_type": "code",
      "source": [
        "#This is the second way of doing transpose\n",
        "a02.T"
      ],
      "metadata": {
        "colab": {
          "base_uri": "https://localhost:8080/"
        },
        "id": "2yOsMZs_8H3p",
        "outputId": "35e68ed6-59a1-4f89-f233-e220b3b10ea0"
      },
      "execution_count": null,
      "outputs": [
        {
          "output_type": "execute_result",
          "data": {
            "text/plain": [
              "array([[ 0,  4,  8],\n",
              "       [ 1,  5,  9],\n",
              "       [ 2,  6, 10],\n",
              "       [ 3,  7, 11]])"
            ]
          },
          "metadata": {},
          "execution_count": 37
        }
      ]
    },
    {
      "cell_type": "code",
      "source": [
        "#ravel is the function using which we can flatten any dimensional array into a 1D array as shown\n",
        "a02.ravel()"
      ],
      "metadata": {
        "colab": {
          "base_uri": "https://localhost:8080/"
        },
        "id": "iMMrfUJ68Sgh",
        "outputId": "c97bdf53-9348-4d79-bff7-0bb25b3a4358"
      },
      "execution_count": null,
      "outputs": [
        {
          "output_type": "execute_result",
          "data": {
            "text/plain": [
              "array([ 0,  1,  2,  3,  4,  5,  6,  7,  8,  9, 10, 11])"
            ]
          },
          "metadata": {},
          "execution_count": 38
        }
      ]
    },
    {
      "cell_type": "code",
      "source": [
        "a14.ravel()\n",
        "#here we have flattened a 3D array into a 1D array through ravel()"
      ],
      "metadata": {
        "colab": {
          "base_uri": "https://localhost:8080/"
        },
        "id": "e3zVBDxa8k0N",
        "outputId": "6f1616b2-f55b-49b0-f81b-c1a1a6439b57"
      },
      "execution_count": null,
      "outputs": [
        {
          "output_type": "execute_result",
          "data": {
            "text/plain": [
              "array([ 0,  1,  2,  3,  4,  5,  6,  7,  8,  9, 10, 11, 12, 13, 14, 15, 16,\n",
              "       17, 18, 19, 20, 21, 22, 23, 24, 25, 26])"
            ]
          },
          "metadata": {},
          "execution_count": 41
        }
      ]
    },
    {
      "cell_type": "code",
      "source": [
        "#horizontal stacking leads to same rows but an increase in number of columns\n",
        "#vertical stacking leads to increase in number of rows but the columns remains the same\n",
        "#horizontal stacking leads to same rows but an increase in number of columns\n",
        "#vertical stacking leads to increase in number of rows but the columns remain same\n",
        "#for example if 2 2*2 matrix are stacked together horizontally(horizontal stacking) then it leads to 2*4 array\n",
        "#if 2 2*2 matrix are stacked together vertically(vertical stacking) then it leads to 4*2 array where there would be 4 rows and 2 columns\n",
        "#The only criteria for stacking is that the shapes of both the arrays need to be the same."
      ],
      "metadata": {
        "id": "jrgSmoku-MJV"
      },
      "execution_count": null,
      "outputs": []
    },
    {
      "cell_type": "code",
      "source": [
        "#horizontal splitting is splitting an nd array vertically and vertical splitting is splitting an nd array horizontally."
      ],
      "metadata": {
        "id": "gm6BIIXQAMkA"
      },
      "execution_count": null,
      "outputs": []
    },
    {
      "cell_type": "code",
      "source": [
        "import numpy as np\n",
        "a111=np.arange(10)\n",
        "a112=np.arange(12).reshape(3,4)\n",
        "a114=np.arange(27).reshape(3,3,3)"
      ],
      "metadata": {
        "id": "cwtf4bQdEPBu"
      },
      "execution_count": null,
      "outputs": []
    },
    {
      "cell_type": "code",
      "source": [
        "a116=np.arange(12,24).reshape(3,4)"
      ],
      "metadata": {
        "id": "TXosSS6Qfv3T"
      },
      "execution_count": null,
      "outputs": []
    },
    {
      "cell_type": "code",
      "source": [
        "np.hstack((a112,a116))"
      ],
      "metadata": {
        "colab": {
          "base_uri": "https://localhost:8080/"
        },
        "id": "FFn-lFckf8sM",
        "outputId": "b23dddc5-edae-40d1-dcdd-5a38f7ad0b23"
      },
      "execution_count": null,
      "outputs": [
        {
          "output_type": "execute_result",
          "data": {
            "text/plain": [
              "array([[ 0,  1,  2,  3, 12, 13, 14, 15],\n",
              "       [ 4,  5,  6,  7, 16, 17, 18, 19],\n",
              "       [ 8,  9, 10, 11, 20, 21, 22, 23]])"
            ]
          },
          "metadata": {},
          "execution_count": 4
        }
      ]
    },
    {
      "cell_type": "code",
      "source": [
        "np.vstack((a112,a116))"
      ],
      "metadata": {
        "colab": {
          "base_uri": "https://localhost:8080/"
        },
        "id": "g1ciHT-WhGH6",
        "outputId": "2764aab7-6dfc-4a79-e56e-fb2b7750a97c"
      },
      "execution_count": null,
      "outputs": [
        {
          "output_type": "execute_result",
          "data": {
            "text/plain": [
              "array([[ 0,  1,  2,  3],\n",
              "       [ 4,  5,  6,  7],\n",
              "       [ 8,  9, 10, 11],\n",
              "       [12, 13, 14, 15],\n",
              "       [16, 17, 18, 19],\n",
              "       [20, 21, 22, 23]])"
            ]
          },
          "metadata": {},
          "execution_count": 5
        }
      ]
    },
    {
      "cell_type": "code",
      "source": [
        "np.hsplit(a112,2)\n",
        "#when you split by 2 then 2 arrays are formed"
      ],
      "metadata": {
        "colab": {
          "base_uri": "https://localhost:8080/"
        },
        "id": "SM8dgVd-jRgF",
        "outputId": "32a00f5b-53e2-40b9-e7de-7604c65902b4"
      },
      "execution_count": null,
      "outputs": [
        {
          "output_type": "execute_result",
          "data": {
            "text/plain": [
              "[array([[0, 1],\n",
              "        [4, 5],\n",
              "        [8, 9]]),\n",
              " array([[ 2,  3],\n",
              "        [ 6,  7],\n",
              "        [10, 11]])]"
            ]
          },
          "metadata": {},
          "execution_count": 7
        }
      ]
    },
    {
      "cell_type": "code",
      "source": [
        "a112"
      ],
      "metadata": {
        "colab": {
          "base_uri": "https://localhost:8080/"
        },
        "id": "prwnzqxflJCP",
        "outputId": "b6a99c08-5573-4059-d51a-22a906a10ede"
      },
      "execution_count": null,
      "outputs": [
        {
          "output_type": "execute_result",
          "data": {
            "text/plain": [
              "array([[ 0,  1,  2,  3],\n",
              "       [ 4,  5,  6,  7],\n",
              "       [ 8,  9, 10, 11]])"
            ]
          },
          "metadata": {},
          "execution_count": 8
        }
      ]
    },
    {
      "cell_type": "code",
      "source": [
        "np.hsplit(a112,4)\n",
        "#it divides into 4 parts the n-dimensional array"
      ],
      "metadata": {
        "colab": {
          "base_uri": "https://localhost:8080/"
        },
        "id": "vD_x5fRLmHj2",
        "outputId": "74af8589-3508-4467-b0cd-80a7add7de29"
      },
      "execution_count": null,
      "outputs": [
        {
          "output_type": "execute_result",
          "data": {
            "text/plain": [
              "[array([[0],\n",
              "        [4],\n",
              "        [8]]),\n",
              " array([[1],\n",
              "        [5],\n",
              "        [9]]),\n",
              " array([[ 2],\n",
              "        [ 6],\n",
              "        [10]]),\n",
              " array([[ 3],\n",
              "        [ 7],\n",
              "        [11]])]"
            ]
          },
          "metadata": {},
          "execution_count": 10
        }
      ]
    },
    {
      "cell_type": "code",
      "source": [
        "np.vsplit(a112,3)\n",
        "#hsplit and vsplit function divides the ndimensional array equally into few parts"
      ],
      "metadata": {
        "colab": {
          "base_uri": "https://localhost:8080/"
        },
        "id": "UnHKC0zBqsmJ",
        "outputId": "10392094-65b5-44f6-9dcb-d96fe7a07a38"
      },
      "execution_count": null,
      "outputs": [
        {
          "output_type": "execute_result",
          "data": {
            "text/plain": [
              "[array([[0, 1, 2, 3]]), array([[4, 5, 6, 7]]), array([[ 8,  9, 10, 11]])]"
            ]
          },
          "metadata": {},
          "execution_count": 12
        }
      ]
    },
    {
      "cell_type": "code",
      "source": [
        "def outer_func(x):\n",
        "    y = x + 1\n",
        "\n",
        "    def inner_func():\n",
        "        x = 2\n",
        "\n",
        "        def inner_inner():\n",
        "            x = 3\n",
        "            return x + y\n",
        "\n",
        "        return inner_inner\n",
        "\n",
        "    return inner_func\n",
        "\n",
        "results = outer_func(4)\n",
        "my_results = results()\n",
        "print(my_results() + 2)\n",
        "#The inner function(inner_func in this case) has access to variables from the outer scope(variable y) even after outer_func has already\n",
        "#finished its execution. This is called closure property\n",
        "#In this case outer_func(4) returns inner_func, results() returns inner_inner and my_results() returns 8 as 3+5(y) is 8. Now value\n",
        "#of 5 has been retained during execution of inner_inner even though outer_func has already been executed earlier.\n",
        "# This is happening because of closure property."
      ],
      "metadata": {
        "colab": {
          "base_uri": "https://localhost:8080/"
        },
        "id": "xcWZHqNBrjhd",
        "outputId": "8fb454a8-7029-4e80-96da-62c7d06409fc"
      },
      "execution_count": null,
      "outputs": [
        {
          "output_type": "stream",
          "name": "stdout",
          "text": [
            "10\n"
          ]
        }
      ]
    },
    {
      "cell_type": "code",
      "source": [
        "a1=[1,2,3,4,2,2,5]\n",
        "a1.count(2)\n",
        "#here a1.count(2) here counts the number of times 2 has appeared in the list a1"
      ],
      "metadata": {
        "colab": {
          "base_uri": "https://localhost:8080/"
        },
        "id": "mbS9cNJHvuuu",
        "outputId": "6e2386f3-149a-4f2a-e28c-aaadd9c81559"
      },
      "execution_count": null,
      "outputs": [
        {
          "output_type": "execute_result",
          "data": {
            "text/plain": [
              "3"
            ]
          },
          "metadata": {},
          "execution_count": 15
        }
      ]
    },
    {
      "cell_type": "code",
      "source": [
        "a2=[1,2,3,4,5,10,11,10,21,10,14,10]\n",
        "a2.count(10)\n",
        "#here a2.count(10) counts the number of times 10 has appeared in the list."
      ],
      "metadata": {
        "colab": {
          "base_uri": "https://localhost:8080/"
        },
        "id": "DiC81xRl0ujJ",
        "outputId": "f9b5b06e-f2d6-4c38-c09c-b7eb20ad7e1d"
      },
      "execution_count": null,
      "outputs": [
        {
          "output_type": "execute_result",
          "data": {
            "text/plain": [
              "4"
            ]
          },
          "metadata": {},
          "execution_count": 17
        }
      ]
    },
    {
      "cell_type": "code",
      "source": [
        "lst=[10,20,30,40,10]\n",
        "print(lst[:].count(10))\n",
        "#here lst[:] slices the same list lst and returns the entire the list lst. count(10) counts the number of time 10 has occured in the list."
      ],
      "metadata": {
        "colab": {
          "base_uri": "https://localhost:8080/"
        },
        "id": "iHcwAFfE1Nvl",
        "outputId": "f1ac5869-0168-4e87-8121-ac7eb124c01b"
      },
      "execution_count": null,
      "outputs": [
        {
          "output_type": "stream",
          "name": "stdout",
          "text": [
            "2\n"
          ]
        }
      ]
    },
    {
      "cell_type": "code",
      "source": [
        "def func():\n",
        "  return 2 and 0\n",
        "func()"
      ],
      "metadata": {
        "colab": {
          "base_uri": "https://localhost:8080/"
        },
        "id": "Rra_WxKz2rt_",
        "outputId": "3c8dc6bb-706c-4154-8131-4ab4cdc42809"
      },
      "execution_count": null,
      "outputs": [
        {
          "output_type": "execute_result",
          "data": {
            "text/plain": [
              "0"
            ]
          },
          "metadata": {},
          "execution_count": 22
        }
      ]
    },
    {
      "cell_type": "code",
      "source": [
        "def func():\n",
        "  return 0 and 2\n",
        "func()"
      ],
      "metadata": {
        "colab": {
          "base_uri": "https://localhost:8080/"
        },
        "id": "PMAPvsPj6lM8",
        "outputId": "12fba269-fffd-4860-afd9-b2026676cdc4"
      },
      "execution_count": null,
      "outputs": [
        {
          "output_type": "execute_result",
          "data": {
            "text/plain": [
              "0"
            ]
          },
          "metadata": {},
          "execution_count": 23
        }
      ]
    },
    {
      "cell_type": "code",
      "source": [
        "def func():\n",
        "  return 0 and 0\n",
        "func()"
      ],
      "metadata": {
        "colab": {
          "base_uri": "https://localhost:8080/"
        },
        "id": "gd05aDaP6tg9",
        "outputId": "19a89f77-4a75-4016-f28a-1f5067595ea7"
      },
      "execution_count": null,
      "outputs": [
        {
          "output_type": "execute_result",
          "data": {
            "text/plain": [
              "0"
            ]
          },
          "metadata": {},
          "execution_count": 24
        }
      ]
    },
    {
      "cell_type": "code",
      "source": [
        "#so if a and b if first value a is True and b is True as well then the last True value is returned, if a is False and b is True then\n",
        "#a is returned as we see above when return 0 and 2 then 0 was returned and when a was True and b was False then b was returned\n",
        "#when a True and b False then b was returned\n",
        "#when a False and b True then a was returned\n",
        "#when a True and b True then b was returned\n",
        "#when a False and b False then a was returned"
      ],
      "metadata": {
        "id": "unDBmoK06zVx"
      },
      "execution_count": null,
      "outputs": []
    },
    {
      "cell_type": "code",
      "source": [
        "def tricky_list(lm):\n",
        "  return lm[:-1] and lm[:-2] \\\n",
        "  if len(lm[1])==len(lm[-1])\\\n",
        "  else lm[1:]\n",
        "names=[\"Ben\",\"Ken\",\"len\"]\n",
        "tricky_list(names)"
      ],
      "metadata": {
        "colab": {
          "base_uri": "https://localhost:8080/",
          "height": 142
        },
        "id": "UwpcTkf22rmG",
        "outputId": "e2e4661c-db1f-4466-ea11-187e28d46110"
      },
      "execution_count": null,
      "outputs": [
        {
          "output_type": "error",
          "ename": "SyntaxError",
          "evalue": "ignored",
          "traceback": [
            "\u001b[0;36m  File \u001b[0;32m\"<ipython-input-4-9f0a926fb8b1>\"\u001b[0;36m, line \u001b[0;32m2\u001b[0m\n\u001b[0;31m    return lm[:-1] and lm[:-2] \\\u001b[0m\n\u001b[0m                                ^\u001b[0m\n\u001b[0;31mSyntaxError\u001b[0m\u001b[0;31m:\u001b[0m unexpected character after line continuation character\n"
          ]
        }
      ]
    },
    {
      "cell_type": "code",
      "source": [
        "#Null vector is that vector that is filled with zeros.\n",
        "#How to make null vector having 1 in the middle\n",
        "import numpy as np\n",
        "a1=np.zeros(10)\n",
        "a1[4]=1\n",
        "a1"
      ],
      "metadata": {
        "colab": {
          "base_uri": "https://localhost:8080/"
        },
        "id": "Spr-jL3i6wtX",
        "outputId": "d7acca16-c070-48f0-b47f-5499213ee5e6"
      },
      "execution_count": null,
      "outputs": [
        {
          "output_type": "execute_result",
          "data": {
            "text/plain": [
              "array([0., 0., 0., 0., 1., 0., 0., 0., 0., 0.])"
            ]
          },
          "metadata": {},
          "execution_count": 2
        }
      ]
    },
    {
      "cell_type": "code",
      "source": [
        "#take input a and b and then generate an array of shape (a,b) and also average of the array"
      ],
      "metadata": {
        "id": "0zHMG_RIvtep"
      },
      "execution_count": null,
      "outputs": []
    },
    {
      "cell_type": "code",
      "source": [
        "import numpy as np\n",
        "a=int(input())\n",
        "b=int(input())\n",
        "a11=np.round(np.random.random()*100)\n",
        "a11"
      ],
      "metadata": {
        "colab": {
          "base_uri": "https://localhost:8080/"
        },
        "id": "KCBNVpIk0y5c",
        "outputId": "614d5802-3048-4900-e19c-5b91a39511c3"
      },
      "execution_count": null,
      "outputs": [
        {
          "name": "stdout",
          "output_type": "stream",
          "text": [
            "3\n",
            "4\n"
          ]
        },
        {
          "output_type": "execute_result",
          "data": {
            "text/plain": [
              "16.0"
            ]
          },
          "metadata": {},
          "execution_count": 4
        }
      ]
    },
    {
      "cell_type": "code",
      "source": [
        "import numpy as np\n",
        "a=int(input())\n",
        "b=int(input())\n",
        "a11=np.round(np.random.random((a,b))*100)\n",
        "a11"
      ],
      "metadata": {
        "colab": {
          "base_uri": "https://localhost:8080/"
        },
        "id": "8468ubJi5YEP",
        "outputId": "72a69ef9-1d72-4d0d-a58e-bcfa0fe345fb"
      },
      "execution_count": null,
      "outputs": [
        {
          "name": "stdout",
          "output_type": "stream",
          "text": [
            "3\n",
            "4\n"
          ]
        },
        {
          "output_type": "execute_result",
          "data": {
            "text/plain": [
              "array([[ 2.,  8., 99.,  1.],\n",
              "       [35., 72., 82., 67.],\n",
              "       [25.,  6., 73., 62.]])"
            ]
          },
          "metadata": {},
          "execution_count": 8
        }
      ]
    },
    {
      "cell_type": "code",
      "source": [
        "np.mean(a11)"
      ],
      "metadata": {
        "colab": {
          "base_uri": "https://localhost:8080/"
        },
        "id": "y8n95n6m6xDL",
        "outputId": "eb47bf74-693a-45fd-850e-fb5d2c7f188e"
      },
      "execution_count": null,
      "outputs": [
        {
          "output_type": "execute_result",
          "data": {
            "text/plain": [
              "44.333333333333336"
            ]
          },
          "metadata": {},
          "execution_count": 11
        }
      ]
    },
    {
      "cell_type": "code",
      "source": [
        "import numpy as np\n",
        "a=int(input())\n",
        "b=int(input())\n",
        "a12=np.round(np.random.random((a,b))*100)\n",
        "a12\n",
        "#np.round(np.random.random((3,4))*100) is how you create an array containing integers."
      ],
      "metadata": {
        "colab": {
          "base_uri": "https://localhost:8080/"
        },
        "id": "pxkivoy07OFn",
        "outputId": "4a5fded5-fa4e-48bb-fd54-93770511eb57"
      },
      "execution_count": null,
      "outputs": [
        {
          "name": "stdout",
          "output_type": "stream",
          "text": [
            "4\n",
            "5\n"
          ]
        },
        {
          "output_type": "execute_result",
          "data": {
            "text/plain": [
              "array([[ 21.,  51.,  44.,  87.,  80.],\n",
              "       [100.,   7.,  61.,   9.,  52.],\n",
              "       [ 69.,  21.,  85.,  31.,  30.],\n",
              "       [ 46.,  47.,  50.,  66.,  28.]])"
            ]
          },
          "metadata": {},
          "execution_count": 13
        }
      ]
    },
    {
      "cell_type": "code",
      "source": [
        "np.mean(a12)\n",
        "#This is how you find the mean of the numpy array."
      ],
      "metadata": {
        "colab": {
          "base_uri": "https://localhost:8080/"
        },
        "id": "UwoprH1z8_qk",
        "outputId": "f48c1cb5-095d-4772-a661-2be3676c67f0"
      },
      "execution_count": null,
      "outputs": [
        {
          "output_type": "execute_result",
          "data": {
            "text/plain": [
              "49.25"
            ]
          },
          "metadata": {},
          "execution_count": 15
        }
      ]
    },
    {
      "cell_type": "code",
      "source": [
        "import numpy as np\n",
        "a14=np.round(np.random.random((3,4))*100)\n",
        "a14"
      ],
      "metadata": {
        "colab": {
          "base_uri": "https://localhost:8080/"
        },
        "id": "QHUWbLWg9MBf",
        "outputId": "5ad34805-27b9-425c-bac4-988ebcc5fbcb"
      },
      "execution_count": null,
      "outputs": [
        {
          "output_type": "execute_result",
          "data": {
            "text/plain": [
              "array([[78., 93., 99., 47.],\n",
              "       [12., 75., 75., 54.],\n",
              "       [58., 77., 46., 84.]])"
            ]
          },
          "metadata": {},
          "execution_count": 16
        }
      ]
    },
    {
      "cell_type": "code",
      "source": [
        "a14[:,-1]\n",
        "#as you can see a14[:,-1] directly picks up the last column"
      ],
      "metadata": {
        "id": "w8nK1VubCi3m"
      },
      "execution_count": null,
      "outputs": []
    },
    {
      "cell_type": "code",
      "source": [
        "a14[-1,:]\n",
        "#as you can see a14[-1,:] picks up the last row"
      ],
      "metadata": {
        "colab": {
          "base_uri": "https://localhost:8080/"
        },
        "id": "6WgVrOntCsbR",
        "outputId": "f112a028-21d7-4744-83a1-0f64ea5422b0"
      },
      "execution_count": null,
      "outputs": [
        {
          "output_type": "execute_result",
          "data": {
            "text/plain": [
              "array([58., 77., 46., 84.])"
            ]
          },
          "metadata": {},
          "execution_count": 18
        }
      ]
    },
    {
      "cell_type": "code",
      "source": [
        "import numpy as np\n",
        "a15=np.round(np.random.random((3,4))*100)\n",
        "a15"
      ],
      "metadata": {
        "colab": {
          "base_uri": "https://localhost:8080/"
        },
        "id": "d_NkI7R0sqpb",
        "outputId": "b2c6f3b2-af3e-4402-d7f4-a95a78f05c5a"
      },
      "execution_count": null,
      "outputs": [
        {
          "output_type": "execute_result",
          "data": {
            "text/plain": [
              "array([[11., 51.,  5., 68.],\n",
              "       [63., 89.,  8., 34.],\n",
              "       [93., 35., 44., 14.]])"
            ]
          },
          "metadata": {},
          "execution_count": 1
        }
      ]
    },
    {
      "cell_type": "code",
      "source": [
        "a15[-1,:]\n",
        "#returns the last row, -1"
      ],
      "metadata": {
        "colab": {
          "base_uri": "https://localhost:8080/"
        },
        "id": "oC03Grn8yvMp",
        "outputId": "ac806262-32f8-4ca0-d1fb-061deba6e660"
      },
      "execution_count": null,
      "outputs": [
        {
          "output_type": "execute_result",
          "data": {
            "text/plain": [
              "array([93., 35., 44., 14.])"
            ]
          },
          "metadata": {},
          "execution_count": 3
        }
      ]
    },
    {
      "cell_type": "code",
      "source": [
        "a15[:,-1]\n",
        "#returns the last column, -1 representsthe last column and : represents all the rows"
      ],
      "metadata": {
        "colab": {
          "base_uri": "https://localhost:8080/"
        },
        "id": "H7-JCzs4zIgW",
        "outputId": "d2c5a404-97c6-494f-a3c0-e31b398111a7"
      },
      "execution_count": null,
      "outputs": [
        {
          "output_type": "execute_result",
          "data": {
            "text/plain": [
              "array([68., 34., 14.])"
            ]
          },
          "metadata": {},
          "execution_count": 5
        }
      ]
    },
    {
      "cell_type": "code",
      "source": [
        "#3.function to create a 2D array with 1 across the border, function should take (a,b) as parameter to the function."
      ],
      "metadata": {
        "id": "th8w9cp15f_P"
      },
      "execution_count": null,
      "outputs": []
    },
    {
      "cell_type": "code",
      "source": [
        "import numpy as np\n",
        "def oner(a,b):\n",
        "  a122=np.zeros(a*b).reshape(a,b)\n",
        "  a122[0,:]=1\n",
        "  a122[:,0]=1\n",
        "  a122[-1,:]=1\n",
        "  a122[:,-1]=1\n",
        "  return a122\n",
        "oner(6,5)\n"
      ],
      "metadata": {
        "colab": {
          "base_uri": "https://localhost:8080/"
        },
        "id": "z9yXWem-50mL",
        "outputId": "98c9df7e-fae8-45dd-a8c8-e47a66e710bc"
      },
      "execution_count": null,
      "outputs": [
        {
          "output_type": "execute_result",
          "data": {
            "text/plain": [
              "array([[1., 1., 1., 1., 1.],\n",
              "       [1., 0., 0., 0., 1.],\n",
              "       [1., 0., 0., 0., 1.],\n",
              "       [1., 0., 0., 0., 1.],\n",
              "       [1., 0., 0., 0., 1.],\n",
              "       [1., 1., 1., 1., 1.]])"
            ]
          },
          "metadata": {},
          "execution_count": 15
        }
      ]
    },
    {
      "cell_type": "code",
      "source": [
        "import numpy as np\n",
        "np.zeros(12).reshape(3,4)\n",
        "#1.a12[0,:] refers to the first row, 0 refers to the fact that the operation will only be restricted to the first row and : refers to all the columns\n",
        "#so a12[0,:] refers to all the columns of the first row.\n",
        "# 2.a12[:,0] refers to the first column, : refers to the fact that operations will happen on all the rows and 0 refers to the fact that only\n",
        "#first column will be involved, so a12[0,:] points that the operation will be restricted to the first column.\n",
        "#3. a12[-1,:] refers to the last row, -1 in the beginning refers to the fact that the operation is restricted only to the last row\n",
        "# and : refers to all the columns. Hence a12[-1,:] refers to last row\n",
        "#4. a12[:,-1] refers to the last column, : in the beginning refers to the fact that the operation will happen on all rows and -1 refers to\n",
        "#the fact that the operation will happen on last column. Hence a12[:,-1] refers to the last column."
      ],
      "metadata": {
        "colab": {
          "base_uri": "https://localhost:8080/"
        },
        "id": "d2FPZtKY_kVG",
        "outputId": "3fdc137b-b16c-47b7-d2fd-4b200685faac"
      },
      "execution_count": null,
      "outputs": [
        {
          "output_type": "execute_result",
          "data": {
            "text/plain": [
              "array([[0., 0., 0., 0.],\n",
              "       [0., 0., 0., 0.],\n",
              "       [0., 0., 0., 0.]])"
            ]
          },
          "metadata": {},
          "execution_count": 16
        }
      ]
    },
    {
      "cell_type": "code",
      "source": [
        "import numpy as np\n",
        "np.random.random(10).reshape(1,2,5)\n",
        "#np.random.random() excludes 1 and is only restricted between 0 and 1(excluding 1)"
      ],
      "metadata": {
        "colab": {
          "base_uri": "https://localhost:8080/"
        },
        "id": "CBrpjegIYO1a",
        "outputId": "cbfa0c91-c70d-4877-fe22-18396c2a018e"
      },
      "execution_count": null,
      "outputs": [
        {
          "output_type": "execute_result",
          "data": {
            "text/plain": [
              "array([[[0.35154329, 0.58555681, 0.65429316, 0.76702881, 0.0153948 ],\n",
              "        [0.92862433, 0.4405195 , 0.70936936, 0.4298775 , 0.21848028]]])"
            ]
          },
          "metadata": {},
          "execution_count": 18
        }
      ]
    },
    {
      "cell_type": "code",
      "source": [
        "import numpy as np\n",
        "np.linspace(0,1,10)"
      ],
      "metadata": {
        "colab": {
          "base_uri": "https://localhost:8080/"
        },
        "id": "CQorC8JwchFn",
        "outputId": "c8f82a32-240f-43a6-feb1-b7651cf989b0"
      },
      "execution_count": null,
      "outputs": [
        {
          "output_type": "execute_result",
          "data": {
            "text/plain": [
              "array([0.        , 0.11111111, 0.22222222, 0.33333333, 0.44444444,\n",
              "       0.55555556, 0.66666667, 0.77777778, 0.88888889, 1.        ])"
            ]
          },
          "metadata": {},
          "execution_count": 19
        }
      ]
    },
    {
      "cell_type": "code",
      "source": [
        "np.linspace(0,1,10,endpoint=False)\n",
        "#endpoint excludes the last end as we can see here"
      ],
      "metadata": {
        "colab": {
          "base_uri": "https://localhost:8080/"
        },
        "id": "CQ7e4bg_cvJT",
        "outputId": "03c1c50e-c4f2-490d-b398-719aee621cc0"
      },
      "execution_count": null,
      "outputs": [
        {
          "output_type": "execute_result",
          "data": {
            "text/plain": [
              "array([0. , 0.1, 0.2, 0.3, 0.4, 0.5, 0.6, 0.7, 0.8, 0.9])"
            ]
          },
          "metadata": {},
          "execution_count": 22
        }
      ]
    },
    {
      "cell_type": "code",
      "source": [
        "np.linspace(0,1,11,endpoint=False)[1:]\n",
        "#1D array is vector, 2D array is matrix and 3D or anything above 3D array is tensor."
      ],
      "metadata": {
        "colab": {
          "base_uri": "https://localhost:8080/"
        },
        "id": "7i8lZuqjc6Wi",
        "outputId": "6c8869cd-35e3-4f3e-c189-0a469f4fb919"
      },
      "execution_count": null,
      "outputs": [
        {
          "output_type": "execute_result",
          "data": {
            "text/plain": [
              "array([0.09090909, 0.18181818, 0.27272727, 0.36363636, 0.45454545,\n",
              "       0.54545455, 0.63636364, 0.72727273, 0.81818182, 0.90909091])"
            ]
          },
          "metadata": {},
          "execution_count": 25
        }
      ]
    },
    {
      "cell_type": "code",
      "source": [
        "np.linspace(0,1,11,endpoint=False)[1:]\n",
        "#1D array is a vector, linspace function creates 11 items between 0 and 1 and as endpoint=False so last item that is 1 is removed\n",
        "#Hence in total there are 10 items within the 1D array(vector)."
      ],
      "metadata": {
        "colab": {
          "base_uri": "https://localhost:8080/"
        },
        "id": "L3yfRAu9f1cZ",
        "outputId": "a71a3fe3-99d6-4f0f-b161-ba90ea3bc4f9"
      },
      "execution_count": null,
      "outputs": [
        {
          "output_type": "execute_result",
          "data": {
            "text/plain": [
              "array([0.09090909, 0.18181818, 0.27272727, 0.36363636, 0.45454545,\n",
              "       0.54545455, 0.63636364, 0.72727273, 0.81818182, 0.90909091])"
            ]
          },
          "metadata": {},
          "execution_count": 26
        }
      ]
    },
    {
      "cell_type": "code",
      "source": [
        "#Q4. Create a vector of size 10 with size ranging between 0 and 1(both excluded).\n",
        "import numpy as np\n",
        "np.linspace(0,1,11,endpoint=False)[1:]"
      ],
      "metadata": {
        "colab": {
          "base_uri": "https://localhost:8080/"
        },
        "id": "Iy4BDzeljEzr",
        "outputId": "3bc2303d-0528-4b8e-8d23-722748e90d78"
      },
      "execution_count": null,
      "outputs": [
        {
          "output_type": "execute_result",
          "data": {
            "text/plain": [
              "array([0.09090909, 0.18181818, 0.27272727, 0.36363636, 0.45454545,\n",
              "       0.54545455, 0.63636364, 0.72727273, 0.81818182, 0.90909091])"
            ]
          },
          "metadata": {},
          "execution_count": 28
        }
      ]
    },
    {
      "cell_type": "code",
      "source": [
        "np.identity(4)"
      ],
      "metadata": {
        "colab": {
          "base_uri": "https://localhost:8080/"
        },
        "id": "-aMvTV7WpFqV",
        "outputId": "eb892492-a6dd-4bf7-d0b4-ce952a5e2589"
      },
      "execution_count": null,
      "outputs": [
        {
          "output_type": "execute_result",
          "data": {
            "text/plain": [
              "array([[1., 0., 0., 0.],\n",
              "       [0., 1., 0., 0.],\n",
              "       [0., 0., 1., 0.],\n",
              "       [0., 0., 0., 1.]])"
            ]
          },
          "metadata": {},
          "execution_count": 34
        }
      ]
    },
    {
      "cell_type": "code",
      "source": [
        "#identity matrix can be created when number of rows is equal to the number of columns."
      ],
      "metadata": {
        "id": "W76TA62CqKnD"
      },
      "execution_count": null,
      "outputs": []
    },
    {
      "cell_type": "code",
      "source": [
        "#identity matrix can be created when number of rows is equal to the number of columns."
      ],
      "metadata": {
        "id": "eJkAZzmvslDg"
      },
      "execution_count": null,
      "outputs": []
    },
    {
      "cell_type": "code",
      "source": [
        "np.identity(3)\n",
        "#np.identity(3) would create a 3*3 matrix and np.identity(4) would create a 4*4 matrix."
      ],
      "metadata": {
        "colab": {
          "base_uri": "https://localhost:8080/"
        },
        "id": "n1T-41iesytv",
        "outputId": "ad584cdf-d46a-4073-f973-e1abc45a4be8"
      },
      "execution_count": null,
      "outputs": [
        {
          "output_type": "execute_result",
          "data": {
            "text/plain": [
              "array([[1., 0., 0.],\n",
              "       [0., 1., 0.],\n",
              "       [0., 0., 1.]])"
            ]
          },
          "metadata": {},
          "execution_count": 38
        }
      ]
    },
    {
      "cell_type": "code",
      "source": [
        "#Create a 5*5 matrix with each row value ranging from 0 to 4\n",
        "import numpy as np\n",
        "np.zeros((5,5))+np.arange(5)"
      ],
      "metadata": {
        "colab": {
          "base_uri": "https://localhost:8080/"
        },
        "id": "XaluZlUfuG4u",
        "outputId": "78c4d080-2e3c-4e68-c60a-a17a3d22590a"
      },
      "execution_count": null,
      "outputs": [
        {
          "output_type": "execute_result",
          "data": {
            "text/plain": [
              "array([[0., 1., 2., 3., 4.],\n",
              "       [0., 1., 2., 3., 4.],\n",
              "       [0., 1., 2., 3., 4.],\n",
              "       [0., 1., 2., 3., 4.],\n",
              "       [0., 1., 2., 3., 4.]])"
            ]
          },
          "metadata": {},
          "execution_count": 45
        }
      ]
    },
    {
      "cell_type": "code",
      "source": [
        "np.arange(5)"
      ],
      "metadata": {
        "colab": {
          "base_uri": "https://localhost:8080/",
          "height": 177
        },
        "id": "ReVaBGYH2fxY",
        "outputId": "94575429-6930-44e8-942a-1da4d5aec5a9"
      },
      "execution_count": null,
      "outputs": [
        {
          "output_type": "error",
          "ename": "ValueError",
          "evalue": "ignored",
          "traceback": [
            "\u001b[0;31m---------------------------------------------------------------------------\u001b[0m",
            "\u001b[0;31mValueError\u001b[0m                                Traceback (most recent call last)",
            "\u001b[0;32m<ipython-input-44-36a34808c191>\u001b[0m in \u001b[0;36m<cell line: 1>\u001b[0;34m()\u001b[0m\n\u001b[0;32m----> 1\u001b[0;31m \u001b[0mnp\u001b[0m\u001b[0;34m.\u001b[0m\u001b[0marange\u001b[0m\u001b[0;34m(\u001b[0m\u001b[0;36m5\u001b[0m\u001b[0;34m)\u001b[0m\u001b[0;34m.\u001b[0m\u001b[0mreshape\u001b[0m\u001b[0;34m(\u001b[0m\u001b[0;36m5\u001b[0m\u001b[0;34m,\u001b[0m\u001b[0;36m5\u001b[0m\u001b[0;34m)\u001b[0m\u001b[0;34m\u001b[0m\u001b[0;34m\u001b[0m\u001b[0m\n\u001b[0m",
            "\u001b[0;31mValueError\u001b[0m: cannot reshape array of size 5 into shape (5,5)"
          ]
        }
      ]
    },
    {
      "cell_type": "code",
      "source": [
        "import numpy as np\n",
        "a1=np.zeros((2,3))\n",
        "a2=np.array([1,2,3,4,5])\n",
        "a1+a2"
      ],
      "metadata": {
        "colab": {
          "base_uri": "https://localhost:8080/",
          "height": 211
        },
        "id": "mWqlFrVf4i1h",
        "outputId": "5073ebb8-933f-4e11-e920-13c6942378d8"
      },
      "execution_count": null,
      "outputs": [
        {
          "output_type": "error",
          "ename": "ValueError",
          "evalue": "ignored",
          "traceback": [
            "\u001b[0;31m---------------------------------------------------------------------------\u001b[0m",
            "\u001b[0;31mValueError\u001b[0m                                Traceback (most recent call last)",
            "\u001b[0;32m<ipython-input-46-0a99de76e3a2>\u001b[0m in \u001b[0;36m<cell line: 4>\u001b[0;34m()\u001b[0m\n\u001b[1;32m      2\u001b[0m \u001b[0ma1\u001b[0m\u001b[0;34m=\u001b[0m\u001b[0mnp\u001b[0m\u001b[0;34m.\u001b[0m\u001b[0mzeros\u001b[0m\u001b[0;34m(\u001b[0m\u001b[0;34m(\u001b[0m\u001b[0;36m2\u001b[0m\u001b[0;34m,\u001b[0m\u001b[0;36m3\u001b[0m\u001b[0;34m)\u001b[0m\u001b[0;34m)\u001b[0m\u001b[0;34m\u001b[0m\u001b[0;34m\u001b[0m\u001b[0m\n\u001b[1;32m      3\u001b[0m \u001b[0ma2\u001b[0m\u001b[0;34m=\u001b[0m\u001b[0mnp\u001b[0m\u001b[0;34m.\u001b[0m\u001b[0marray\u001b[0m\u001b[0;34m(\u001b[0m\u001b[0;34m[\u001b[0m\u001b[0;36m1\u001b[0m\u001b[0;34m,\u001b[0m\u001b[0;36m2\u001b[0m\u001b[0;34m,\u001b[0m\u001b[0;36m3\u001b[0m\u001b[0;34m,\u001b[0m\u001b[0;36m4\u001b[0m\u001b[0;34m,\u001b[0m\u001b[0;36m5\u001b[0m\u001b[0;34m]\u001b[0m\u001b[0;34m)\u001b[0m\u001b[0;34m\u001b[0m\u001b[0;34m\u001b[0m\u001b[0m\n\u001b[0;32m----> 4\u001b[0;31m \u001b[0ma1\u001b[0m\u001b[0;34m+\u001b[0m\u001b[0ma2\u001b[0m\u001b[0;34m\u001b[0m\u001b[0;34m\u001b[0m\u001b[0m\n\u001b[0m",
            "\u001b[0;31mValueError\u001b[0m: operands could not be broadcast together with shapes (2,3) (5,) "
          ]
        }
      ]
    },
    {
      "cell_type": "code",
      "source": [
        "import numpy as np\n",
        "\n",
        "matrix = np.array([[1, 2, 3],\n",
        "                   [4, 5, 6]])\n",
        "\n",
        "tensor = np.array([[[10], [20], [30]],\n",
        "                   [[40], [50], [60]]])\n",
        "\n",
        "result = matrix + tensor  # Broadcasting between matrix and tensor\n",
        "\n",
        "print(result)\n"
      ],
      "metadata": {
        "colab": {
          "base_uri": "https://localhost:8080/",
          "height": 246
        },
        "id": "MEaEczgC7imv",
        "outputId": "042cae70-61f9-4568-9e0f-0bb3b867129b"
      },
      "execution_count": null,
      "outputs": [
        {
          "output_type": "error",
          "ename": "ValueError",
          "evalue": "ignored",
          "traceback": [
            "\u001b[0;31m---------------------------------------------------------------------------\u001b[0m",
            "\u001b[0;31mValueError\u001b[0m                                Traceback (most recent call last)",
            "\u001b[0;32m<ipython-input-47-61acea977efd>\u001b[0m in \u001b[0;36m<cell line: 9>\u001b[0;34m()\u001b[0m\n\u001b[1;32m      7\u001b[0m                    [[40], [50], [60]]])\n\u001b[1;32m      8\u001b[0m \u001b[0;34m\u001b[0m\u001b[0m\n\u001b[0;32m----> 9\u001b[0;31m \u001b[0mresult\u001b[0m \u001b[0;34m=\u001b[0m \u001b[0mmatrix\u001b[0m \u001b[0;34m+\u001b[0m \u001b[0mtensor\u001b[0m  \u001b[0;31m# Broadcasting between matrix and tensor\u001b[0m\u001b[0;34m\u001b[0m\u001b[0;34m\u001b[0m\u001b[0m\n\u001b[0m\u001b[1;32m     10\u001b[0m \u001b[0;34m\u001b[0m\u001b[0m\n\u001b[1;32m     11\u001b[0m \u001b[0mprint\u001b[0m\u001b[0;34m(\u001b[0m\u001b[0mresult\u001b[0m\u001b[0;34m)\u001b[0m\u001b[0;34m\u001b[0m\u001b[0;34m\u001b[0m\u001b[0m\n",
            "\u001b[0;31mValueError\u001b[0m: operands could not be broadcast together with shapes (2,3) (2,3,1) "
          ]
        }
      ]
    },
    {
      "cell_type": "code",
      "source": [
        "a1=[[1,2],[3,4]]\n",
        "a2=[1,2]\n",
        "print(a1)\n"
      ],
      "metadata": {
        "colab": {
          "base_uri": "https://localhost:8080/"
        },
        "id": "kaozNu_d7mYy",
        "outputId": "6a58d8f4-909d-4ab6-a4d0-e570007d468f"
      },
      "execution_count": null,
      "outputs": [
        {
          "output_type": "stream",
          "name": "stdout",
          "text": [
            "[[1, 2], [3, 4]]\n"
          ]
        }
      ]
    },
    {
      "cell_type": "code",
      "source": [
        "#2*2\n",
        "#1*2\n",
        "#resultant is 2*2\n",
        "a3=[[],[]]\n",
        "a0,a1=(2,2)\n",
        "for i in range(a0):\n",
        "  for j in range(a1):\n",
        "    a3[i][j]=a1[i][j]+a2[j]\n",
        "print(a3)\n",
        "#we were getting int object not subscriptable error as a3 was not initialized with any object"
      ],
      "metadata": {
        "id": "nLDEKCuNjOs7",
        "colab": {
          "base_uri": "https://localhost:8080/",
          "height": 246
        },
        "outputId": "3c2a36fc-baab-4b61-cb4c-f94fa78e725a"
      },
      "execution_count": null,
      "outputs": [
        {
          "output_type": "error",
          "ename": "TypeError",
          "evalue": "ignored",
          "traceback": [
            "\u001b[0;31m---------------------------------------------------------------------------\u001b[0m",
            "\u001b[0;31mTypeError\u001b[0m                                 Traceback (most recent call last)",
            "\u001b[0;32m<ipython-input-8-e1ad51f69961>\u001b[0m in \u001b[0;36m<cell line: 6>\u001b[0;34m()\u001b[0m\n\u001b[1;32m      6\u001b[0m \u001b[0;32mfor\u001b[0m \u001b[0mi\u001b[0m \u001b[0;32min\u001b[0m \u001b[0mrange\u001b[0m\u001b[0;34m(\u001b[0m\u001b[0ma0\u001b[0m\u001b[0;34m)\u001b[0m\u001b[0;34m:\u001b[0m\u001b[0;34m\u001b[0m\u001b[0;34m\u001b[0m\u001b[0m\n\u001b[1;32m      7\u001b[0m   \u001b[0;32mfor\u001b[0m \u001b[0mj\u001b[0m \u001b[0;32min\u001b[0m \u001b[0mrange\u001b[0m\u001b[0;34m(\u001b[0m\u001b[0ma1\u001b[0m\u001b[0;34m)\u001b[0m\u001b[0;34m:\u001b[0m\u001b[0;34m\u001b[0m\u001b[0;34m\u001b[0m\u001b[0m\n\u001b[0;32m----> 8\u001b[0;31m     \u001b[0ma3\u001b[0m\u001b[0;34m[\u001b[0m\u001b[0mi\u001b[0m\u001b[0;34m]\u001b[0m\u001b[0;34m[\u001b[0m\u001b[0mj\u001b[0m\u001b[0;34m]\u001b[0m\u001b[0;34m=\u001b[0m\u001b[0ma1\u001b[0m\u001b[0;34m[\u001b[0m\u001b[0mi\u001b[0m\u001b[0;34m]\u001b[0m\u001b[0;34m[\u001b[0m\u001b[0mj\u001b[0m\u001b[0;34m]\u001b[0m\u001b[0;34m+\u001b[0m\u001b[0ma2\u001b[0m\u001b[0;34m[\u001b[0m\u001b[0mj\u001b[0m\u001b[0;34m]\u001b[0m\u001b[0;34m\u001b[0m\u001b[0;34m\u001b[0m\u001b[0m\n\u001b[0m\u001b[1;32m      9\u001b[0m \u001b[0mprint\u001b[0m\u001b[0;34m(\u001b[0m\u001b[0ma3\u001b[0m\u001b[0;34m)\u001b[0m\u001b[0;34m\u001b[0m\u001b[0;34m\u001b[0m\u001b[0m\n\u001b[1;32m     10\u001b[0m \u001b[0;31m#we were getting int object not subscriptable error as a3 was not initialized with any object\u001b[0m\u001b[0;34m\u001b[0m\u001b[0;34m\u001b[0m\u001b[0m\n",
            "\u001b[0;31mTypeError\u001b[0m: 'int' object is not subscriptable"
          ]
        }
      ]
    },
    {
      "cell_type": "code",
      "source": [
        "a3=[[0,0],[0,0]]\n",
        "a00,a11=(2,2)\n",
        "for i in range(a00):\n",
        "  for j in range(a11):\n",
        "    a3[i][j]=a1[i][j]+a2[j]\n",
        "print(a3)\n",
        "print(a1)\n",
        "print(a2)\n",
        "#This is how much code we have to write for basic addition between arrays using conventional python datatypes. Numpy solves this problem\n",
        "#using broadcasting rules."
      ],
      "metadata": {
        "colab": {
          "base_uri": "https://localhost:8080/"
        },
        "id": "5JtDeHjIhD5n",
        "outputId": "5d418f53-b5ca-460c-fa62-856307051cfc"
      },
      "execution_count": null,
      "outputs": [
        {
          "output_type": "stream",
          "name": "stdout",
          "text": [
            "[[2, 4], [4, 6]]\n",
            "[[1, 2], [3, 4]]\n",
            "[1, 2]\n"
          ]
        }
      ]
    },
    {
      "cell_type": "code",
      "source": [
        "my_str=\"python\"\n",
        "print(my_str[::-2])"
      ],
      "metadata": {
        "colab": {
          "base_uri": "https://localhost:8080/"
        },
        "id": "DMiqmA38jPpq",
        "outputId": "8d1d48b4-7831-46f2-8062-a304cc1d64ee"
      },
      "execution_count": null,
      "outputs": [
        {
          "output_type": "stream",
          "name": "stdout",
          "text": [
            "nhy\n"
          ]
        }
      ]
    },
    {
      "cell_type": "code",
      "source": [
        "my_str=\"python\"\n",
        "print(my_str[::2])\n",
        "print()\n",
        "print(my_str)\n",
        "print(my_str[::-2])\n",
        "#my_str[::-2] takes items from reverse, my_str[::2] takes items from front."
      ],
      "metadata": {
        "colab": {
          "base_uri": "https://localhost:8080/"
        },
        "id": "EA71bYAKlbz3",
        "outputId": "2d72dd4e-abe3-4c98-d11b-9f07497f09f6"
      },
      "execution_count": null,
      "outputs": [
        {
          "output_type": "stream",
          "name": "stdout",
          "text": [
            "pto\n",
            "\n",
            "python\n",
            "nhy\n"
          ]
        }
      ]
    },
    {
      "cell_type": "code",
      "source": [
        "import numpy as np\n",
        "a1=np.array([[1,2,3,4],[1,3,4,7],[1,8,4,8],[1,9,4,9],[1,11,10,11]])#This is a 5*4 matrix\n",
        "a2=np.array([1,2,3,4])#this array has shape (4,)\n",
        "# a1---->(5*4)\n",
        "# a2---->(4,)\n",
        "# The shape of a2 can now be translated to (1,4) to make it of the same size as a1\n",
        "#now a1-->(5*4)\n",
        "#and a2-->(1*4), so if you compare 5 with 1 it would be the same as 1 is similar to any element it is compared to and 4 is the same as 4\n",
        "#so a1 is compatible with a2 and the output size would be (5*4)\n",
        "print(a1+a2)\n",
        "#As you can see, we get a resultant 5*4 matrix"
      ],
      "metadata": {
        "colab": {
          "base_uri": "https://localhost:8080/"
        },
        "id": "n5HmUTWnnC-J",
        "outputId": "e11cb9ad-8924-4ce7-b85c-070c98df8fee"
      },
      "execution_count": null,
      "outputs": [
        {
          "output_type": "stream",
          "name": "stdout",
          "text": [
            "[[ 2  4  6  8]\n",
            " [ 2  5  7 11]\n",
            " [ 2 10  7 12]\n",
            " [ 2 11  7 13]\n",
            " [ 2 13 13 15]]\n"
          ]
        }
      ]
    },
    {
      "cell_type": "code",
      "source": [
        "a1=np.zeros((2,3,4))\n",
        "print(a1)\n",
        "#shape (2,3,4) means 2 2D arrays of the shape 3*4"
      ],
      "metadata": {
        "colab": {
          "base_uri": "https://localhost:8080/"
        },
        "id": "aPclURQBvJJB",
        "outputId": "00264806-cc46-4181-a246-12b0e54e282e"
      },
      "execution_count": null,
      "outputs": [
        {
          "output_type": "stream",
          "name": "stdout",
          "text": [
            "[[[0. 0. 0. 0.]\n",
            "  [0. 0. 0. 0.]\n",
            "  [0. 0. 0. 0.]]\n",
            "\n",
            " [[0. 0. 0. 0.]\n",
            "  [0. 0. 0. 0.]\n",
            "  [0. 0. 0. 0.]]]\n"
          ]
        }
      ]
    },
    {
      "cell_type": "code",
      "source": [
        "a2=np.array([1,2,3])\n",
        "print(a1+a2)\n",
        "#broadcasting failed because a2 has size (3,) which becomes (1,1,3) and\n",
        "#a1--->(2,3,4) with\n",
        "#a2--->(3,) becomes\n",
        "#a2--->(1,1,3) to make it of the same size as a1 now\n",
        "#a1--->(2,3,4)  and as we see 1 is compatible with any number so it is compatible with 2 and 3 and 3 is not compatible with 4, so a1 is not\n",
        "#compatible with a2."
      ],
      "metadata": {
        "colab": {
          "base_uri": "https://localhost:8080/",
          "height": 246
        },
        "id": "B-JbL_787VmF",
        "outputId": "282fbaf3-4827-484e-d312-8353a7d8794a"
      },
      "execution_count": null,
      "outputs": [
        {
          "output_type": "error",
          "ename": "ValueError",
          "evalue": "ignored",
          "traceback": [
            "\u001b[0;31m---------------------------------------------------------------------------\u001b[0m",
            "\u001b[0;31mValueError\u001b[0m                                Traceback (most recent call last)",
            "\u001b[0;32m<ipython-input-25-62887acc99c7>\u001b[0m in \u001b[0;36m<cell line: 2>\u001b[0;34m()\u001b[0m\n\u001b[1;32m      1\u001b[0m \u001b[0ma2\u001b[0m\u001b[0;34m=\u001b[0m\u001b[0mnp\u001b[0m\u001b[0;34m.\u001b[0m\u001b[0marray\u001b[0m\u001b[0;34m(\u001b[0m\u001b[0;34m[\u001b[0m\u001b[0;36m1\u001b[0m\u001b[0;34m,\u001b[0m\u001b[0;36m2\u001b[0m\u001b[0;34m,\u001b[0m\u001b[0;36m3\u001b[0m\u001b[0;34m]\u001b[0m\u001b[0;34m)\u001b[0m\u001b[0;34m\u001b[0m\u001b[0;34m\u001b[0m\u001b[0m\n\u001b[0;32m----> 2\u001b[0;31m \u001b[0mprint\u001b[0m\u001b[0;34m(\u001b[0m\u001b[0ma1\u001b[0m\u001b[0;34m+\u001b[0m\u001b[0ma2\u001b[0m\u001b[0;34m)\u001b[0m\u001b[0;34m\u001b[0m\u001b[0;34m\u001b[0m\u001b[0m\n\u001b[0m\u001b[1;32m      3\u001b[0m \u001b[0;31m#broadcasting failed because a2 has size (3,) which becomes (1,1,3) and\u001b[0m\u001b[0;34m\u001b[0m\u001b[0;34m\u001b[0m\u001b[0m\n\u001b[1;32m      4\u001b[0m \u001b[0;31m#a1--->(2,3,4) with\u001b[0m\u001b[0;34m\u001b[0m\u001b[0;34m\u001b[0m\u001b[0m\n\u001b[1;32m      5\u001b[0m \u001b[0;31m#a2--->(3,) becomes\u001b[0m\u001b[0;34m\u001b[0m\u001b[0;34m\u001b[0m\u001b[0m\n",
            "\u001b[0;31mValueError\u001b[0m: operands could not be broadcast together with shapes (2,3,4) (3,) "
          ]
        }
      ]
    },
    {
      "cell_type": "code",
      "source": [
        "a3=np.array([1,2,3,4])\n",
        "print(a1+a3)\n",
        "#here a1 is compatible with a3 as\n",
        "#a1--->(2,3,4) and\n",
        "#a3--->(4,) and now a3 would be translated as\n",
        "#a3--->(1,1,4)\n",
        "#a1--->(2,3,4) and a1 is now compatible with a3 as 1 is compatible with any number so it would be compatible to 2 and 3 and 4 is compatible\n",
        "#with 4 anyway."
      ],
      "metadata": {
        "colab": {
          "base_uri": "https://localhost:8080/"
        },
        "id": "lBZso6oh-l_z",
        "outputId": "66ff593a-9ce2-4631-ce3d-c53ca235d17d"
      },
      "execution_count": null,
      "outputs": [
        {
          "output_type": "stream",
          "name": "stdout",
          "text": [
            "[[[1. 2. 3. 4.]\n",
            "  [1. 2. 3. 4.]\n",
            "  [1. 2. 3. 4.]]\n",
            "\n",
            " [[1. 2. 3. 4.]\n",
            "  [1. 2. 3. 4.]\n",
            "  [1. 2. 3. 4.]]]\n"
          ]
        }
      ]
    },
    {
      "cell_type": "code",
      "source": [
        "#shape of (1,1,2) means 1 2D array of shape 1*2\n",
        "a4=np.array([[[3,4]]])\n",
        "a4.shape"
      ],
      "metadata": {
        "colab": {
          "base_uri": "https://localhost:8080/"
        },
        "id": "r4cxY5cyGD43",
        "outputId": "06d81abf-0968-4106-bb30-83e2aaf0f2b0"
      },
      "execution_count": null,
      "outputs": [
        {
          "output_type": "execute_result",
          "data": {
            "text/plain": [
              "(1, 1, 2)"
            ]
          },
          "metadata": {},
          "execution_count": 28
        }
      ]
    },
    {
      "cell_type": "code",
      "source": [
        "#Q6. Create a 5*5 matrix with row values rangin from 0 to 4.\n",
        "import numpy as np\n",
        "a1=np.zeros((5,5))\n",
        "a2=np.arange(5)\n",
        "a2"
      ],
      "metadata": {
        "colab": {
          "base_uri": "https://localhost:8080/"
        },
        "id": "cx3_O9KmI1x3",
        "outputId": "5c33d16b-5f17-4368-8385-871cb3fa09a6"
      },
      "execution_count": null,
      "outputs": [
        {
          "output_type": "execute_result",
          "data": {
            "text/plain": [
              "array([0, 1, 2, 3, 4])"
            ]
          },
          "metadata": {},
          "execution_count": 32
        }
      ]
    },
    {
      "cell_type": "code",
      "source": [
        "a1"
      ],
      "metadata": {
        "colab": {
          "base_uri": "https://localhost:8080/"
        },
        "id": "vxdPkayaKsPN",
        "outputId": "9b923f80-d154-47d5-c441-a0fedf9c1f64"
      },
      "execution_count": null,
      "outputs": [
        {
          "output_type": "execute_result",
          "data": {
            "text/plain": [
              "array([[0., 0., 0., 0., 0.],\n",
              "       [0., 0., 0., 0., 0.],\n",
              "       [0., 0., 0., 0., 0.],\n",
              "       [0., 0., 0., 0., 0.],\n",
              "       [0., 0., 0., 0., 0.]])"
            ]
          },
          "metadata": {},
          "execution_count": 33
        }
      ]
    },
    {
      "cell_type": "code",
      "source": [
        "#Q6. Create a 5*5 matrix with row ranging between 0 and 4.\n",
        "import numpy as np\n",
        "print(np.zeros((5,5))+np.arange(5))\n",
        "#we are able to add 2 arrays of different shapes because of broadcasting rules in numpy. The same with conventional python datatypes would\n",
        "#have required a larger code and would have also increased time-complexity as elaborated above."
      ],
      "metadata": {
        "colab": {
          "base_uri": "https://localhost:8080/"
        },
        "id": "pemCdUMPKvJI",
        "outputId": "94bc19f1-728b-4ccf-e016-5e2564e33b1b"
      },
      "execution_count": null,
      "outputs": [
        {
          "output_type": "stream",
          "name": "stdout",
          "text": [
            "[[0. 1. 2. 3. 4.]\n",
            " [0. 1. 2. 3. 4.]\n",
            " [0. 1. 2. 3. 4.]\n",
            " [0. 1. 2. 3. 4.]\n",
            " [0. 1. 2. 3. 4.]]\n"
          ]
        }
      ]
    },
    {
      "cell_type": "code",
      "source": [
        "#Array broadcasting is a sensible way of doing element-wise operations on arrays of different shapes.\n",
        "#Array broadcasting is a process of doing element-wise operations on arrays of different shapes."
      ],
      "metadata": {
        "id": "q4qLHKEJrnAP"
      },
      "execution_count": null,
      "outputs": []
    },
    {
      "cell_type": "code",
      "source": [
        "#Q7. create an array of random coordinate points from a given point and then compute an array by calculating their distances.\n",
        "import numpy as np\n",
        "a11=np.random.randint(1,101,size=(10,2))\n",
        "a11"
      ],
      "metadata": {
        "colab": {
          "base_uri": "https://localhost:8080/"
        },
        "id": "lPg8N1Rj7BAo",
        "outputId": "ff4643b3-c406-4ec6-a71d-a7aaff014061"
      },
      "execution_count": null,
      "outputs": [
        {
          "output_type": "execute_result",
          "data": {
            "text/plain": [
              "array([[77, 99],\n",
              "       [72, 11],\n",
              "       [81,  2],\n",
              "       [91, 81],\n",
              "       [27, 30],\n",
              "       [64,  8],\n",
              "       [27, 27],\n",
              "       [29, 88],\n",
              "       [15, 30],\n",
              "       [98, 55]])"
            ]
          },
          "metadata": {},
          "execution_count": 8
        }
      ]
    },
    {
      "cell_type": "code",
      "source": [
        "a12=np.array([2,3])\n",
        "distances=np.sqrt(np.sum((a11-a12)**2,axis=1)).astype('int')\n",
        "distances"
      ],
      "metadata": {
        "colab": {
          "base_uri": "https://localhost:8080/"
        },
        "id": "uU7x-ntcJTde",
        "outputId": "563a4d88-3e4a-404f-9b69-6faff94b3287"
      },
      "execution_count": null,
      "outputs": [
        {
          "output_type": "execute_result",
          "data": {
            "text/plain": [
              "array([121,  70,  79, 118,  36,  62,  34,  89,  29, 109])"
            ]
          },
          "metadata": {},
          "execution_count": 10
        }
      ]
    },
    {
      "cell_type": "code",
      "source": [
        "(a11-a12)**2"
      ],
      "metadata": {
        "colab": {
          "base_uri": "https://localhost:8080/"
        },
        "id": "z7_OISdXKjmx",
        "outputId": "92a6b388-8fe1-4070-9f65-9705653e7ba5"
      },
      "execution_count": null,
      "outputs": [
        {
          "output_type": "execute_result",
          "data": {
            "text/plain": [
              "array([[5625, 9216],\n",
              "       [4900,   64],\n",
              "       [6241,    1],\n",
              "       [7921, 6084],\n",
              "       [ 625,  729],\n",
              "       [3844,   25],\n",
              "       [ 625,  576],\n",
              "       [ 729, 7225],\n",
              "       [ 169,  729],\n",
              "       [9216, 2704]])"
            ]
          },
          "metadata": {},
          "execution_count": 11
        }
      ]
    },
    {
      "cell_type": "code",
      "source": [
        "np.sum((a11-a12)**2,axis=1)\n",
        "#np.sum along axis=1 means taking sum along columns"
      ],
      "metadata": {
        "colab": {
          "base_uri": "https://localhost:8080/"
        },
        "id": "jsjYz-zeMsr5",
        "outputId": "6640e815-4e7b-426a-cdef-71cccd8ff932"
      },
      "execution_count": null,
      "outputs": [
        {
          "output_type": "execute_result",
          "data": {
            "text/plain": [
              "array([14841,  4964,  6242, 14005,  1354,  3869,  1201,  7954,   898,\n",
              "       11920])"
            ]
          },
          "metadata": {},
          "execution_count": 15
        }
      ]
    },
    {
      "cell_type": "code",
      "source": [
        "np.sum((a11-a12)**2,axis=0)\n",
        "#np.sum along axis=0 means taking sum along rows"
      ],
      "metadata": {
        "colab": {
          "base_uri": "https://localhost:8080/"
        },
        "id": "dhwrfd9GM227",
        "outputId": "6783e549-a60a-4749-8c16-281d911a3b50"
      },
      "execution_count": null,
      "outputs": [
        {
          "output_type": "execute_result",
          "data": {
            "text/plain": [
              "array([39895, 27353])"
            ]
          },
          "metadata": {},
          "execution_count": 14
        }
      ]
    },
    {
      "cell_type": "code",
      "source": [
        "#Q7 create an array where each row in a vector represents a point , you already have a point given and then compute the cartesian distance\n",
        "#between each of the points to that point.\n"
      ],
      "metadata": {
        "id": "1w8yWD31NO59"
      },
      "execution_count": null,
      "outputs": []
    },
    {
      "cell_type": "code",
      "source": [
        "import numpy as np\n",
        "a11=np.array([2,3])\n",
        "a12=np.random.randint((1,101),size=(10,2))\n",
        "distance=np.sqrt(np.sum((a12-a11)**2,axis=1)).astype('int')\n",
        "print(distance)"
      ],
      "metadata": {
        "colab": {
          "base_uri": "https://localhost:8080/"
        },
        "id": "qtjlItbXQYsD",
        "outputId": "21076ce3-ac65-42e9-b432-d3c079d5d344"
      },
      "execution_count": null,
      "outputs": [
        {
          "output_type": "stream",
          "name": "stdout",
          "text": [
            "[10 14 21 37 64 47 14  6 44 69]\n"
          ]
        }
      ]
    },
    {
      "cell_type": "code",
      "source": [
        "import numpy as np\n",
        "a11=np.array([2,3])\n",
        "a12=np.random.randint((1,101),size=(10,2))\n",
        "distance=np.sqrt(np.sum((a12-a11)**2,axis=1)).astype('int')\n",
        "print(distance)"
      ],
      "metadata": {
        "colab": {
          "base_uri": "https://localhost:8080/"
        },
        "id": "fHMo7B94hLOQ",
        "outputId": "da0a4df4-6032-43f0-cee1-14971058ae87"
      },
      "execution_count": null,
      "outputs": [
        {
          "output_type": "stream",
          "name": "stdout",
          "text": [
            "[64 27 81 89 96 72 10 28 45 30]\n"
          ]
        }
      ]
    },
    {
      "cell_type": "code",
      "source": [
        "import numpy as np\n",
        "shaper=(6,7,8)\n",
        "total_prod=np.prod(shaper)\n",
        "print(total_prod)"
      ],
      "metadata": {
        "colab": {
          "base_uri": "https://localhost:8080/"
        },
        "id": "bhvsfaBSv9Fp",
        "outputId": "3ef1b1ac-4f25-4bfa-b4ee-d46fac6d44b2"
      },
      "execution_count": null,
      "outputs": [
        {
          "output_type": "stream",
          "name": "stdout",
          "text": [
            "336\n"
          ]
        }
      ]
    },
    {
      "cell_type": "code",
      "source": [
        "realer=np.unravel_index(100,shaper)\n",
        "print(realer)\n",
        "#here 100 is the index of the element when the list is flattened."
      ],
      "metadata": {
        "colab": {
          "base_uri": "https://localhost:8080/"
        },
        "id": "7ZU1YAr_79LC",
        "outputId": "ee251073-ba24-4586-84b4-53ea0cfe2b0b"
      },
      "execution_count": null,
      "outputs": [
        {
          "output_type": "stream",
          "name": "stdout",
          "text": [
            "(1, 5, 4)\n"
          ]
        }
      ]
    },
    {
      "cell_type": "code",
      "source": [
        "import numpy as np\n",
        "\n",
        "# Create an array with shape (6, 7, 8)\n",
        "array_shape = (6, 7, 8)\n",
        "total_elements = np.prod(array_shape)  # Calculate total elements in the array\n",
        "desired_index = 100  # Index of the element you want to find\n",
        "\n",
        "# Convert the flattened index to multi-dimensional index\n",
        "index_xyz = np.unravel_index(desired_index, array_shape)\n",
        "\n",
        "print(\"Index (x, y, z) of the 100th element:\", index_xyz)\n"
      ],
      "metadata": {
        "colab": {
          "base_uri": "https://localhost:8080/"
        },
        "id": "Ap7eW9TA91-q",
        "outputId": "517a8f4e-2b7f-4393-dc75-3cfcdbdc42da"
      },
      "execution_count": null,
      "outputs": [
        {
          "output_type": "stream",
          "name": "stdout",
          "text": [
            "Index (x, y, z) of the 100th element: (1, 5, 4)\n"
          ]
        }
      ]
    },
    {
      "cell_type": "code",
      "source": [
        "import numpy as np\n",
        "a11=np.array([[1,2,3],[4,5,6]])\n",
        "a12=np.ravel(a11)\n",
        "a12"
      ],
      "metadata": {
        "colab": {
          "base_uri": "https://localhost:8080/"
        },
        "id": "9V6V3nklQO8o",
        "outputId": "bcbf7807-7088-44a4-cfe1-16fa43d14622"
      },
      "execution_count": null,
      "outputs": [
        {
          "output_type": "execute_result",
          "data": {
            "text/plain": [
              "array([1, 2, 3, 4, 5, 6])"
            ]
          },
          "metadata": {},
          "execution_count": 34
        }
      ]
    },
    {
      "cell_type": "code",
      "source": [
        "index_searcher=np.where(a12==5)\n",
        "print(index_searcher)\n",
        "#as you can see as index_searcher is a tuple containing 1 item that is array so it can be accessed using [0][0]."
      ],
      "metadata": {
        "colab": {
          "base_uri": "https://localhost:8080/"
        },
        "id": "W_GBl5UiVE7w",
        "outputId": "38e3f30c-3e68-410f-e377-9a1463a4daf7"
      },
      "execution_count": null,
      "outputs": [
        {
          "output_type": "stream",
          "name": "stdout",
          "text": [
            "(array([4]),)\n"
          ]
        }
      ]
    },
    {
      "cell_type": "code",
      "source": [
        "i_s=index_searcher[0]\n",
        "i_s"
      ],
      "metadata": {
        "colab": {
          "base_uri": "https://localhost:8080/"
        },
        "id": "_4H3ufuCVSrL",
        "outputId": "ee1b9cc8-15af-4dbb-a84f-862728220cf2"
      },
      "execution_count": null,
      "outputs": [
        {
          "output_type": "execute_result",
          "data": {
            "text/plain": [
              "array([4])"
            ]
          },
          "metadata": {},
          "execution_count": 36
        }
      ]
    },
    {
      "cell_type": "code",
      "source": [
        "i_s.shape"
      ],
      "metadata": {
        "colab": {
          "base_uri": "https://localhost:8080/"
        },
        "id": "Xfj8lj6yYXox",
        "outputId": "3f5be511-8f03-417b-8bb7-dc8d986a44ab"
      },
      "execution_count": null,
      "outputs": [
        {
          "output_type": "execute_result",
          "data": {
            "text/plain": [
              "(1,)"
            ]
          },
          "metadata": {},
          "execution_count": 37
        }
      ]
    },
    {
      "cell_type": "code",
      "source": [
        "print(index_searcher[0][0])"
      ],
      "metadata": {
        "colab": {
          "base_uri": "https://localhost:8080/"
        },
        "id": "pRgcPJiaZnDz",
        "outputId": "23074952-2de0-4f4d-c99d-2f6e8e6c97a9"
      },
      "execution_count": null,
      "outputs": [
        {
          "output_type": "stream",
          "name": "stdout",
          "text": [
            "4\n"
          ]
        }
      ]
    },
    {
      "cell_type": "code",
      "source": [
        "s1=a11.shape\n",
        "anew=np.unravel_index(index_searcher[0][0],s1)\n",
        "print(anew)\n",
        "#np.unravel_index function uses the flattened index and converts it into a multidimensional index."
      ],
      "metadata": {
        "colab": {
          "base_uri": "https://localhost:8080/"
        },
        "id": "IUk2EPKVZ8aJ",
        "outputId": "1fe48878-6810-46f5-fe65-519531ed41a2"
      },
      "execution_count": null,
      "outputs": [
        {
          "output_type": "stream",
          "name": "stdout",
          "text": [
            "(1, 1)\n"
          ]
        }
      ]
    },
    {
      "cell_type": "code",
      "source": [
        "import numpy as np\n",
        "a11=np.array([[1,2,3],[4,5,6],[7,8,9]])\n",
        "ok=a11.shape\n",
        "a12=np.ravel(a11)\n",
        "s11=np.where(a12==8)[0][0]\n",
        "s12=np.unravel_index(s11,ok)\n",
        "print(s12)"
      ],
      "metadata": {
        "colab": {
          "base_uri": "https://localhost:8080/"
        },
        "id": "1kfMCnJ2dJX5",
        "outputId": "8b47c259-1612-42d6-91c1-7a1b71506fa4"
      },
      "execution_count": null,
      "outputs": [
        {
          "output_type": "stream",
          "name": "stdout",
          "text": [
            "(2, 1)\n"
          ]
        }
      ]
    },
    {
      "cell_type": "code",
      "source": [
        "#Q8.An array is of shape (6,7,8). What will be the multi-dimensional index of 100th element\n",
        "import numpy as np\n",
        "shape=(6,7,8)\n",
        "numbers=np.prod(shape)\n",
        "prin=np.unravel_index(100,shape)\n",
        "print(prin)\n",
        "#np.unravel_index(flattened_index,multidimensional_shape) is used to find out the multi-dimesnsional shape"
      ],
      "metadata": {
        "colab": {
          "base_uri": "https://localhost:8080/"
        },
        "id": "3uNuo-5KpMcL",
        "outputId": "bc8c9e5b-7a45-4ee2-de7b-a756ba8ecc1a"
      },
      "execution_count": null,
      "outputs": [
        {
          "output_type": "stream",
          "name": "stdout",
          "text": [
            "(1, 5, 4)\n"
          ]
        }
      ]
    },
    {
      "cell_type": "code",
      "source": [
        "import numpy as np\n",
        "a=np.array(list(map(int,input().split()))[::-1]).astype('float')\n",
        "print(a)"
      ],
      "metadata": {
        "colab": {
          "base_uri": "https://localhost:8080/"
        },
        "id": "H1ZT2HxRs13X",
        "outputId": "88f2eff2-6995-474a-93cf-7123bb64a6e1"
      },
      "execution_count": null,
      "outputs": [
        {
          "output_type": "stream",
          "name": "stdout",
          "text": [
            "1 2 3 4 -8 -10\n",
            "[-10.  -8.   4.   3.   2.   1.]\n"
          ]
        }
      ]
    },
    {
      "cell_type": "code",
      "source": [
        "a=[1,2,3,4]\n",
        "print(a)"
      ],
      "metadata": {
        "colab": {
          "base_uri": "https://localhost:8080/"
        },
        "id": "zDHxqwTP5Cn9",
        "outputId": "870a30c5-56d1-4f29-ff9d-896593977988"
      },
      "execution_count": null,
      "outputs": [
        {
          "output_type": "stream",
          "name": "stdout",
          "text": [
            "[1, 2, 3, 4]\n"
          ]
        }
      ]
    },
    {
      "cell_type": "code",
      "source": [
        "#Q9. 1 2 3 4 -8 -10 are taken as input seperated by space and then we output numpy array in the reverse order.\n",
        "import numpy as np\n",
        "a1=np.array(list(map(int,input().split()))[::-1]).astype('float')\n",
        "print(a1)"
      ],
      "metadata": {
        "colab": {
          "base_uri": "https://localhost:8080/"
        },
        "id": "yzwRZSC45Wtb",
        "outputId": "84a5dd63-30db-45a8-bd52-22f7e840efd7"
      },
      "execution_count": null,
      "outputs": [
        {
          "output_type": "stream",
          "name": "stdout",
          "text": [
            "1 2 3 4 -8 -10\n",
            "[-10.  -8.   4.   3.   2.   1.]\n"
          ]
        }
      ]
    },
    {
      "cell_type": "code",
      "source": [
        "a=np.array([])\n",
        "a1=a.shape\n",
        "a2=np.prod(a1)\n",
        "print(a2)"
      ],
      "metadata": {
        "colab": {
          "base_uri": "https://localhost:8080/"
        },
        "id": "kV0cF2456-Ck",
        "outputId": "1f622bc2-e07c-4b77-efbf-30156bf36e93"
      },
      "execution_count": null,
      "outputs": [
        {
          "output_type": "stream",
          "name": "stdout",
          "text": [
            "0\n"
          ]
        }
      ]
    },
    {
      "cell_type": "code",
      "source": [
        "# Q10. Count the number of elements in a numpy array.\n",
        "import numpy as np\n",
        "a1=np.array([[1,2],[3,4]])\n",
        "a2=a1.shape\n",
        "a3=np.prod(a2)\n",
        "print(a3)\n"
      ],
      "metadata": {
        "id": "3rZyTJV49EwJ",
        "colab": {
          "base_uri": "https://localhost:8080/"
        },
        "outputId": "d33ee87d-186e-4095-df7e-fdfd317671ed"
      },
      "execution_count": null,
      "outputs": [
        {
          "output_type": "stream",
          "name": "stdout",
          "text": [
            "4\n"
          ]
        }
      ]
    },
    {
      "cell_type": "code",
      "source": [
        "import numpy as np\n",
        "a11=np.array([1,2,3,4])\n",
        "a11.ndim"
      ],
      "metadata": {
        "colab": {
          "base_uri": "https://localhost:8080/"
        },
        "id": "i01zfgx9zj58",
        "outputId": "c187cd41-aa60-4fba-e3a0-144d17e5bcef"
      },
      "execution_count": null,
      "outputs": [
        {
          "output_type": "execute_result",
          "data": {
            "text/plain": [
              "1"
            ]
          },
          "metadata": {},
          "execution_count": 4
        }
      ]
    },
    {
      "cell_type": "code",
      "source": [
        "a12=np.array([[1,2,3,4],[5,6,7,8],[9,10,11,12]])\n",
        "a12.ndim"
      ],
      "metadata": {
        "colab": {
          "base_uri": "https://localhost:8080/"
        },
        "id": "Qk1mxBDr5oYv",
        "outputId": "39eb7bbd-e10f-4cd3-d04b-c0f8663c5020"
      },
      "execution_count": null,
      "outputs": [
        {
          "output_type": "execute_result",
          "data": {
            "text/plain": [
              "2"
            ]
          },
          "metadata": {},
          "execution_count": 5
        }
      ]
    },
    {
      "cell_type": "code",
      "source": [
        "#Q11. Create a python function which takes 1D array and returns softmax equation. It takes only 1D array else it returns error.\n",
        "import numpy as np\n",
        "def softmax(bhr):\n",
        "  if bhr.ndim==1:\n",
        "      a11=np.exp(bhr)/np.sum(np.exp(bhr))\n",
        "      return a11\n",
        "  else:\n",
        "    raise Exception(\"The dimension can be only 1\")\n",
        "# anew=[86.03331084 37.7285648  48.64908087 87.16563062 38.40852563 37.20006318]\n",
        "anew=np.array([86.03331084, 37.7285648,  48.64908087, 87.16563062, 38.40852563, 37.20006318])\n",
        "softmax(anew)"
      ],
      "metadata": {
        "colab": {
          "base_uri": "https://localhost:8080/"
        },
        "id": "7cNznj5p7L_U",
        "outputId": "a6146f31-0436-4f0e-f60a-bd329bb9a360"
      },
      "execution_count": null,
      "outputs": [
        {
          "output_type": "execute_result",
          "data": {
            "text/plain": [
              "array([2.43733248e-01, 2.56112114e-22, 1.41628283e-17, 7.56266752e-01,\n",
              "       5.05514197e-22, 1.50974911e-22])"
            ]
          },
          "metadata": {},
          "execution_count": 13
        }
      ]
    },
    {
      "cell_type": "code",
      "source": [
        "softmax(a12)"
      ],
      "metadata": {
        "colab": {
          "base_uri": "https://localhost:8080/",
          "height": 298
        },
        "id": "xhZtraYbBPnL",
        "outputId": "ef598050-07ee-49d9-eb93-a7a906584d6c"
      },
      "execution_count": null,
      "outputs": [
        {
          "output_type": "error",
          "ename": "Exception",
          "evalue": "ignored",
          "traceback": [
            "\u001b[0;31m---------------------------------------------------------------------------\u001b[0m",
            "\u001b[0;31mException\u001b[0m                                 Traceback (most recent call last)",
            "\u001b[0;32m<ipython-input-12-ea36ffaa795f>\u001b[0m in \u001b[0;36m<cell line: 1>\u001b[0;34m()\u001b[0m\n\u001b[0;32m----> 1\u001b[0;31m \u001b[0msoftmax\u001b[0m\u001b[0;34m(\u001b[0m\u001b[0ma12\u001b[0m\u001b[0;34m)\u001b[0m\u001b[0;34m\u001b[0m\u001b[0;34m\u001b[0m\u001b[0m\n\u001b[0m",
            "\u001b[0;32m<ipython-input-11-ff331ea1b455>\u001b[0m in \u001b[0;36msoftmax\u001b[0;34m(bhr)\u001b[0m\n\u001b[1;32m      5\u001b[0m       \u001b[0;32mreturn\u001b[0m \u001b[0ma11\u001b[0m\u001b[0;34m\u001b[0m\u001b[0;34m\u001b[0m\u001b[0m\n\u001b[1;32m      6\u001b[0m   \u001b[0;32melse\u001b[0m\u001b[0;34m:\u001b[0m\u001b[0;34m\u001b[0m\u001b[0;34m\u001b[0m\u001b[0m\n\u001b[0;32m----> 7\u001b[0;31m     \u001b[0;32mraise\u001b[0m \u001b[0mException\u001b[0m\u001b[0;34m(\u001b[0m\u001b[0;34m\"The dimension can be only 1\"\u001b[0m\u001b[0;34m)\u001b[0m\u001b[0;34m\u001b[0m\u001b[0;34m\u001b[0m\u001b[0m\n\u001b[0m\u001b[1;32m      8\u001b[0m \u001b[0;31m# anew=[86.03331084 37.7285648  48.64908087 87.16563062 38.40852563 37.20006318]\u001b[0m\u001b[0;34m\u001b[0m\u001b[0;34m\u001b[0m\u001b[0m\n\u001b[1;32m      9\u001b[0m \u001b[0manew\u001b[0m\u001b[0;34m=\u001b[0m\u001b[0mnp\u001b[0m\u001b[0;34m.\u001b[0m\u001b[0marray\u001b[0m\u001b[0;34m(\u001b[0m\u001b[0;34m[\u001b[0m\u001b[0;36m86.03331084\u001b[0m\u001b[0;34m,\u001b[0m \u001b[0;36m37.7285648\u001b[0m\u001b[0;34m,\u001b[0m  \u001b[0;36m48.64908087\u001b[0m\u001b[0;34m,\u001b[0m \u001b[0;36m87.16563062\u001b[0m\u001b[0;34m,\u001b[0m \u001b[0;36m38.40852563\u001b[0m\u001b[0;34m,\u001b[0m \u001b[0;36m37.20006318\u001b[0m\u001b[0;34m]\u001b[0m\u001b[0;34m)\u001b[0m\u001b[0;34m\u001b[0m\u001b[0;34m\u001b[0m\u001b[0m\n",
            "\u001b[0;31mException\u001b[0m: The dimension can be only 1"
          ]
        }
      ]
    },
    {
      "cell_type": "code",
      "source": [
        "def phanor(*args):\n",
        "  print(args)\n",
        "phanor(1,2,3,4,5,6)"
      ],
      "metadata": {
        "colab": {
          "base_uri": "https://localhost:8080/"
        },
        "id": "LaNq413EBYPz",
        "outputId": "024eb1c3-2dde-4d66-a89d-02eeacce438d"
      },
      "execution_count": null,
      "outputs": [
        {
          "output_type": "stream",
          "name": "stdout",
          "text": [
            "(1, 2, 3, 4, 5, 6)\n"
          ]
        }
      ]
    },
    {
      "cell_type": "code",
      "source": [
        "a1=(1,2,3,4)\n",
        "def mhn(a1):\n",
        "    for i in a1:\n",
        "      if type(i)==int:\n",
        "        print(\"lemb\")\n",
        "      else:\n",
        "        raise Exception(\"who is this\")\n",
        "    print(\"what is this\")\n",
        "\n",
        "mhn(a1)\n"
      ],
      "metadata": {
        "colab": {
          "base_uri": "https://localhost:8080/"
        },
        "id": "tboKvr98KZyN",
        "outputId": "ab647712-7c11-48a6-ac87-d8b9a41e1e27"
      },
      "execution_count": null,
      "outputs": [
        {
          "output_type": "stream",
          "name": "stdout",
          "text": [
            "lemb\n",
            "lemb\n",
            "lemb\n",
            "lemb\n",
            "what is this\n"
          ]
        }
      ]
    },
    {
      "cell_type": "code",
      "source": [
        "a1=(1,2,3.5,4)\n",
        "def mhn1(a1):\n",
        "  for i in a1:\n",
        "    if type(i)!=int:\n",
        "      raise Exception(\"what the hell\")\n",
        "  print(\"what\")\n",
        "mhn1(a1)"
      ],
      "metadata": {
        "colab": {
          "base_uri": "https://localhost:8080/",
          "height": 333
        },
        "id": "PaMHJnx7RSWN",
        "outputId": "d70c073d-8347-4173-e8d3-ff14f6ee12f0"
      },
      "execution_count": null,
      "outputs": [
        {
          "output_type": "error",
          "ename": "Exception",
          "evalue": "ignored",
          "traceback": [
            "\u001b[0;31m---------------------------------------------------------------------------\u001b[0m",
            "\u001b[0;31mException\u001b[0m                                 Traceback (most recent call last)",
            "\u001b[0;32m<ipython-input-18-0d5e2bc6ce68>\u001b[0m in \u001b[0;36m<cell line: 7>\u001b[0;34m()\u001b[0m\n\u001b[1;32m      5\u001b[0m       \u001b[0;32mraise\u001b[0m \u001b[0mException\u001b[0m\u001b[0;34m(\u001b[0m\u001b[0;34m\"what the hell\"\u001b[0m\u001b[0;34m)\u001b[0m\u001b[0;34m\u001b[0m\u001b[0;34m\u001b[0m\u001b[0m\n\u001b[1;32m      6\u001b[0m   \u001b[0mprint\u001b[0m\u001b[0;34m(\u001b[0m\u001b[0;34m\"what\"\u001b[0m\u001b[0;34m)\u001b[0m\u001b[0;34m\u001b[0m\u001b[0;34m\u001b[0m\u001b[0m\n\u001b[0;32m----> 7\u001b[0;31m \u001b[0mmhn1\u001b[0m\u001b[0;34m(\u001b[0m\u001b[0ma1\u001b[0m\u001b[0;34m)\u001b[0m\u001b[0;34m\u001b[0m\u001b[0;34m\u001b[0m\u001b[0m\n\u001b[0m",
            "\u001b[0;32m<ipython-input-18-0d5e2bc6ce68>\u001b[0m in \u001b[0;36mmhn1\u001b[0;34m(a1)\u001b[0m\n\u001b[1;32m      3\u001b[0m   \u001b[0;32mfor\u001b[0m \u001b[0mi\u001b[0m \u001b[0;32min\u001b[0m \u001b[0ma1\u001b[0m\u001b[0;34m:\u001b[0m\u001b[0;34m\u001b[0m\u001b[0;34m\u001b[0m\u001b[0m\n\u001b[1;32m      4\u001b[0m     \u001b[0;32mif\u001b[0m \u001b[0mtype\u001b[0m\u001b[0;34m(\u001b[0m\u001b[0mi\u001b[0m\u001b[0;34m)\u001b[0m\u001b[0;34m!=\u001b[0m\u001b[0mint\u001b[0m\u001b[0;34m:\u001b[0m\u001b[0;34m\u001b[0m\u001b[0;34m\u001b[0m\u001b[0m\n\u001b[0;32m----> 5\u001b[0;31m       \u001b[0;32mraise\u001b[0m \u001b[0mException\u001b[0m\u001b[0;34m(\u001b[0m\u001b[0;34m\"what the hell\"\u001b[0m\u001b[0;34m)\u001b[0m\u001b[0;34m\u001b[0m\u001b[0;34m\u001b[0m\u001b[0m\n\u001b[0m\u001b[1;32m      6\u001b[0m   \u001b[0mprint\u001b[0m\u001b[0;34m(\u001b[0m\u001b[0;34m\"what\"\u001b[0m\u001b[0;34m)\u001b[0m\u001b[0;34m\u001b[0m\u001b[0;34m\u001b[0m\u001b[0m\n\u001b[1;32m      7\u001b[0m \u001b[0mmhn1\u001b[0m\u001b[0;34m(\u001b[0m\u001b[0ma1\u001b[0m\u001b[0;34m)\u001b[0m\u001b[0;34m\u001b[0m\u001b[0;34m\u001b[0m\u001b[0m\n",
            "\u001b[0;31mException\u001b[0m: what the hell"
          ]
        }
      ]
    },
    {
      "cell_type": "code",
      "source": [
        "a2=(1,2,3,4)\n",
        "mhn1(a2)"
      ],
      "metadata": {
        "colab": {
          "base_uri": "https://localhost:8080/"
        },
        "id": "edTVqduHSplI",
        "outputId": "3ecc2df1-3290-4ab9-ee76-0878102b41cb"
      },
      "execution_count": null,
      "outputs": [
        {
          "output_type": "stream",
          "name": "stdout",
          "text": [
            "what\n"
          ]
        }
      ]
    },
    {
      "cell_type": "code",
      "source": [
        "#Q12. A python function that takes in infinite number of numpy arrays and vertically stacks them. Then returns new array as result.\n",
        "#The function only accepts numpy array otherwise returns error.\n",
        "import numpy as np\n",
        "def funcer(*arg):\n",
        "  for i in arg:\n",
        "    if type(i)!=np.ndarray:\n",
        "      raise Exception(\"datatype can only be numpy array\")\n",
        "  return np.vstack(arg)\n",
        "a11=np.array([[0, 1, 2, 3, 4],[5, 6, 7, 8, 9]])\n",
        "a12=np.array([[1, 1, 1, 1, 1],[1, 1, 1, 1, 1]])\n",
        "a14=np.array([[0.10117373, 0.1677244,  0.73764059, 0.83166097, 0.48985695],[0.44581567, 0.13502419, 0.55692335, 0.16479622, 0.61193593]])\n",
        "funcer(a11,a12,a14)\n"
      ],
      "metadata": {
        "colab": {
          "base_uri": "https://localhost:8080/"
        },
        "id": "iJNdvTEIRvh-",
        "outputId": "1605f2b3-fe1f-4b08-ae98-d34ca578a4cc"
      },
      "execution_count": null,
      "outputs": [
        {
          "output_type": "execute_result",
          "data": {
            "text/plain": [
              "array([[0.        , 1.        , 2.        , 3.        , 4.        ],\n",
              "       [5.        , 6.        , 7.        , 8.        , 9.        ],\n",
              "       [1.        , 1.        , 1.        , 1.        , 1.        ],\n",
              "       [1.        , 1.        , 1.        , 1.        , 1.        ],\n",
              "       [0.10117373, 0.1677244 , 0.73764059, 0.83166097, 0.48985695],\n",
              "       [0.44581567, 0.13502419, 0.55692335, 0.16479622, 0.61193593]])"
            ]
          },
          "metadata": {},
          "execution_count": 11
        }
      ]
    },
    {
      "cell_type": "code",
      "source": [
        "import numpy as np\n",
        "a11=np.array([[1,2,4],[3,5,7],[9,11,14]])\n",
        "print(type(a11))\n",
        "print(type(a11)==np.ndarray)"
      ],
      "metadata": {
        "colab": {
          "base_uri": "https://localhost:8080/"
        },
        "id": "rJBKiEDhVI3E",
        "outputId": "2e688db7-6f64-4f76-d151-75f380438c2b"
      },
      "execution_count": null,
      "outputs": [
        {
          "output_type": "stream",
          "name": "stdout",
          "text": [
            "<class 'numpy.ndarray'>\n",
            "True\n"
          ]
        }
      ]
    },
    {
      "cell_type": "code",
      "source": [
        "np.vstack((a11,a12,a14))\n",
        "#as you can see all the arrays to be vertically stacked by passing them within () these brackets in the arguments.\n",
        "# np.vstack((a11,a12,a14))"
      ],
      "metadata": {
        "colab": {
          "base_uri": "https://localhost:8080/"
        },
        "id": "fYB-Hn4rBIhG",
        "outputId": "95a920e3-de3c-4d0b-e0e8-d331e4d14009"
      },
      "execution_count": null,
      "outputs": [
        {
          "output_type": "execute_result",
          "data": {
            "text/plain": [
              "array([[0.        , 1.        , 2.        , 3.        , 4.        ],\n",
              "       [5.        , 6.        , 7.        , 8.        , 9.        ],\n",
              "       [1.        , 1.        , 1.        , 1.        , 1.        ],\n",
              "       [1.        , 1.        , 1.        , 1.        , 1.        ],\n",
              "       [0.10117373, 0.1677244 , 0.73764059, 0.83166097, 0.48985695],\n",
              "       [0.44581567, 0.13502419, 0.55692335, 0.16479622, 0.61193593]])"
            ]
          },
          "metadata": {},
          "execution_count": 9
        }
      ]
    },
    {
      "cell_type": "code",
      "source": [
        "#Q12\n",
        "import numpy as np\n",
        "def abuser(*args):\n",
        "  for i in args:\n",
        "    if type(i)!=np.ndarray:\n",
        "      raise Exception(\"pass only numpy arrays\")\n",
        "  return np.vstack(args)\n",
        "a11=np.array([[0, 1, 2, 3, 4],[5, 6, 7, 8, 9]])\n",
        "a12=np.array([[1, 1, 1, 1, 1],[1, 1, 1, 1, 1]])\n",
        "a14=np.array([[0, 1, 2, 3, 4],[5, 6, 7, 8, 9]])\n",
        "a16=np.array([[1, 1, 1, 1, 1],[1, 1, 1, 1, 1]])\n",
        "a18=np.array([[0.10117373, 0.1677244,  0.73764059, 0.83166097, 0.48985695],[0.44581567, 0.13502419, 0.55692335, 0.16479622, 0.61193593]])\n",
        "abuser(a14,a16,a18)"
      ],
      "metadata": {
        "colab": {
          "base_uri": "https://localhost:8080/"
        },
        "id": "Vb3XbLeKBV2D",
        "outputId": "b4db98dd-a1e9-4a2a-d0d2-2e70f5f8dcea"
      },
      "execution_count": null,
      "outputs": [
        {
          "output_type": "execute_result",
          "data": {
            "text/plain": [
              "array([[0.        , 1.        , 2.        , 3.        , 4.        ],\n",
              "       [5.        , 6.        , 7.        , 8.        , 9.        ],\n",
              "       [1.        , 1.        , 1.        , 1.        , 1.        ],\n",
              "       [1.        , 1.        , 1.        , 1.        , 1.        ],\n",
              "       [0.10117373, 0.1677244 , 0.73764059, 0.83166097, 0.48985695],\n",
              "       [0.44581567, 0.13502419, 0.55692335, 0.16479622, 0.61193593]])"
            ]
          },
          "metadata": {},
          "execution_count": 15
        }
      ]
    },
    {
      "cell_type": "code",
      "source": [
        "import numpy as np\n",
        "def dater(start = '2020-09-15', end = '2020-09-25'):\n",
        "  a=list(map(int,start.split('-')))[-1]\n",
        "  b=list(map(int,end.split('-')))[-1]\n",
        "  i=a\n",
        "  a2=[]\n",
        "  while i<=b:\n",
        "    a1=start[:-2]+str(i)\n",
        "    i+=1\n",
        "    a2.append(a1)\n",
        "  return np.array(a2)\n",
        "dater()\n"
      ],
      "metadata": {
        "colab": {
          "base_uri": "https://localhost:8080/"
        },
        "id": "isMCz_9WVQdA",
        "outputId": "4b509785-1f74-4733-de0c-2e278f28ee68"
      },
      "execution_count": null,
      "outputs": [
        {
          "output_type": "execute_result",
          "data": {
            "text/plain": [
              "array(['2020-09-15', '2020-09-16', '2020-09-17', '2020-09-18',\n",
              "       '2020-09-19', '2020-09-20', '2020-09-21', '2020-09-22',\n",
              "       '2020-09-23', '2020-09-24', '2020-09-25'], dtype='<U10')"
            ]
          },
          "metadata": {},
          "execution_count": 18
        }
      ]
    },
    {
      "cell_type": "code",
      "source": [
        "import numpy as np\n",
        "def datums(**kwargs):\n",
        "  print(kwargs)\n",
        "datums(start='9566',end='87776')"
      ],
      "metadata": {
        "colab": {
          "base_uri": "https://localhost:8080/"
        },
        "id": "01uOpI0R8Rpu",
        "outputId": "c776cf97-cbe9-4257-933d-7a330405cc13"
      },
      "execution_count": null,
      "outputs": [
        {
          "output_type": "stream",
          "name": "stdout",
          "text": [
            "{'start': '9566', 'end': '87776'}\n"
          ]
        }
      ]
    },
    {
      "cell_type": "code",
      "source": [
        "import numpy as np\n",
        "def datums(**kwargs):\n",
        "  if len(kwargs)!=2:\n",
        "    raise Exception(\"More than two arguments\")\n",
        "  else:\n",
        "    a1=list(map(int,kwargs['start'].split('-')))[-1]\n",
        "    a2=list(map(int,kwargs['end'].split('-')))[-1]\n",
        "    a3=[]\n",
        "    i=a1\n",
        "    while i<=a2:\n",
        "      k1=kwargs['start'][:-2]+str(i)\n",
        "      a3.append(k1)\n",
        "      i+=1\n",
        "    return np.array(a3)\n",
        "datums(start = '2020-09-15', end = '2020-09-25')"
      ],
      "metadata": {
        "colab": {
          "base_uri": "https://localhost:8080/"
        },
        "id": "kazSUk-T_PDc",
        "outputId": "f0646759-2e58-4637-e662-4a8ac6c20572"
      },
      "execution_count": null,
      "outputs": [
        {
          "output_type": "execute_result",
          "data": {
            "text/plain": [
              "array(['2020-09-15', '2020-09-16', '2020-09-17', '2020-09-18',\n",
              "       '2020-09-19', '2020-09-20', '2020-09-21', '2020-09-22',\n",
              "       '2020-09-23', '2020-09-24', '2020-09-25'], dtype='<U10')"
            ]
          },
          "metadata": {},
          "execution_count": 20
        }
      ]
    },
    {
      "cell_type": "code",
      "source": [
        "datums(start = '2022-12-01', end = '2022-12-06')"
      ],
      "metadata": {
        "colab": {
          "base_uri": "https://localhost:8080/"
        },
        "id": "kn5nEdzlT5mE",
        "outputId": "16994c4b-e7f6-4335-be09-46858fe7ab27"
      },
      "execution_count": null,
      "outputs": [
        {
          "output_type": "execute_result",
          "data": {
            "text/plain": [
              "array(['2022-12-1', '2022-12-2', '2022-12-3', '2022-12-4', '2022-12-5',\n",
              "       '2022-12-6'], dtype='<U9')"
            ]
          },
          "metadata": {},
          "execution_count": 21
        }
      ]
    },
    {
      "cell_type": "code",
      "source": [
        "datums(start = '2020-11-25', end = '2020-11-30')"
      ],
      "metadata": {
        "colab": {
          "base_uri": "https://localhost:8080/"
        },
        "id": "LyGCBZHTU1B7",
        "outputId": "2f2cfe37-29db-4687-8378-2e1962b127c8"
      },
      "execution_count": null,
      "outputs": [
        {
          "output_type": "execute_result",
          "data": {
            "text/plain": [
              "array(['2020-11-25', '2020-11-26', '2020-11-27', '2020-11-28',\n",
              "       '2020-11-29', '2020-11-30'], dtype='<U10')"
            ]
          },
          "metadata": {},
          "execution_count": 22
        }
      ]
    },
    {
      "cell_type": "code",
      "source": [
        "#Q14.\n",
        "import numpy as np\n",
        "a11=np.array([[1,2,3],\n",
        "              [4,5,6],\n",
        "              [7,8,9]])\n",
        "a12=np.mean(a11,axis=1)\n",
        "print(a12)\n",
        "print(a12.shape)\n",
        "print(a11.shape)\n",
        "print(a11-a12)"
      ],
      "metadata": {
        "colab": {
          "base_uri": "https://localhost:8080/"
        },
        "id": "267lCbKAU87P",
        "outputId": "8eec5edb-0b4f-445c-ea16-fc99af490550"
      },
      "execution_count": null,
      "outputs": [
        {
          "output_type": "stream",
          "name": "stdout",
          "text": [
            "[2. 5. 8.]\n",
            "(3,)\n",
            "(3, 3)\n",
            "[[-1. -3. -5.]\n",
            " [ 2.  0. -2.]\n",
            " [ 5.  3.  1.]]\n"
          ]
        }
      ]
    },
    {
      "cell_type": "code",
      "source": [
        "#Q14\n",
        "import numpy as np\n",
        "a11=np.array([[1,2,3],\n",
        "              [4,5,6],\n",
        "              [7,8,9]])\n",
        "a12=np.mean(a11,axis=1,keepdims=True)\n",
        "a12"
      ],
      "metadata": {
        "colab": {
          "base_uri": "https://localhost:8080/"
        },
        "id": "KHieJHvHPuSg",
        "outputId": "cbece3ae-c9a5-44df-f2cc-d5875799399f"
      },
      "execution_count": null,
      "outputs": [
        {
          "output_type": "execute_result",
          "data": {
            "text/plain": [
              "array([[2.],\n",
              "       [5.],\n",
              "       [8.]])"
            ]
          },
          "metadata": {},
          "execution_count": 1
        }
      ]
    },
    {
      "cell_type": "code",
      "source": [
        "import numpy as np\n",
        "a12=np.array([[1,2,3],\n",
        "              [4,5,6],\n",
        "              [7,8,9]])\n",
        "a14=np.mean(a12,axis=1)\n",
        "print(a14)\n",
        "#the shape of a14 is (3,). To make it compatible it would become according to broadcasting rules, it would become (1,3)\n",
        "#which will end up subtracting each row of a12 with [[2,5,8]] and as we don't want that so we keep keepdims=True which makes a12 equal to\n",
        "#[[2],\n",
        "# [5],\n",
        "# [8]] and this is subtracted from every row of a12"
      ],
      "metadata": {
        "colab": {
          "base_uri": "https://localhost:8080/"
        },
        "id": "cN5LoobEU7G2",
        "outputId": "c925091c-b8ba-4a58-9fd8-08b38c524e74"
      },
      "execution_count": null,
      "outputs": [
        {
          "output_type": "stream",
          "name": "stdout",
          "text": [
            "[2. 5. 8.]\n"
          ]
        }
      ]
    },
    {
      "cell_type": "code",
      "source": [
        "#Q14.Subtract the mean of each row from a matrix\n",
        "import numpy as np\n",
        "a12=np.array([[1,2,3],\n",
        "              [4,5,6],\n",
        "              [7,8,9]])\n",
        "a14=np.mean(a12,axis=1,keepdims=True)\n",
        "print(a12-a14)\n"
      ],
      "metadata": {
        "colab": {
          "base_uri": "https://localhost:8080/"
        },
        "id": "XX6JYZajeCq3",
        "outputId": "7bff1a0e-aacd-40fc-c447-5cd03be23d3d"
      },
      "execution_count": null,
      "outputs": [
        {
          "output_type": "stream",
          "name": "stdout",
          "text": [
            "[[-1.  0.  1.]\n",
            " [-1.  0.  1.]\n",
            " [-1.  0.  1.]]\n"
          ]
        }
      ]
    },
    {
      "cell_type": "code",
      "source": [
        "#swap column1 of array with column2 in the array\n",
        "import numpy as np\n",
        "a12[-1,:]"
      ],
      "metadata": {
        "colab": {
          "base_uri": "https://localhost:8080/"
        },
        "id": "4SXBtsRphyy6",
        "outputId": "8ec2a9d6-a83d-4461-dd4e-1320eb77848f"
      },
      "execution_count": null,
      "outputs": [
        {
          "output_type": "execute_result",
          "data": {
            "text/plain": [
              "array([7, 8, 9])"
            ]
          },
          "metadata": {},
          "execution_count": 6
        }
      ]
    },
    {
      "cell_type": "code",
      "source": [
        "a12[:,-1]"
      ],
      "metadata": {
        "colab": {
          "base_uri": "https://localhost:8080/"
        },
        "id": "UKLR6-gHlMKh",
        "outputId": "7258d820-3bbf-41a4-ad17-49782978bf47"
      },
      "execution_count": null,
      "outputs": [
        {
          "output_type": "execute_result",
          "data": {
            "text/plain": [
              "array([3, 6, 9])"
            ]
          },
          "metadata": {},
          "execution_count": 7
        }
      ]
    },
    {
      "cell_type": "code",
      "source": [
        "import numpy as np\n",
        "a1=np.array([1,2,3,4,5])\n",
        "a1[1]"
      ],
      "metadata": {
        "colab": {
          "base_uri": "https://localhost:8080/"
        },
        "id": "2xV35SA7lnf7",
        "outputId": "2d33eeb7-45eb-4190-942d-cfaf2043d46d"
      },
      "execution_count": null,
      "outputs": [
        {
          "output_type": "execute_result",
          "data": {
            "text/plain": [
              "2"
            ]
          },
          "metadata": {},
          "execution_count": 2
        }
      ]
    },
    {
      "cell_type": "code",
      "source": [
        "a1[[1,2]]\n"
      ],
      "metadata": {
        "colab": {
          "base_uri": "https://localhost:8080/"
        },
        "id": "RQoAyYFHosKh",
        "outputId": "595d261d-4e18-4efe-ac20-4fa8b3fa602d"
      },
      "execution_count": null,
      "outputs": [
        {
          "output_type": "execute_result",
          "data": {
            "text/plain": [
              "array([2, 3])"
            ]
          },
          "metadata": {},
          "execution_count": 10
        }
      ]
    },
    {
      "cell_type": "code",
      "source": [
        "a1[[1,4]]\n",
        "#this is how you pick up elements arbitarily in a 1D array.... This same can be done for 2D arrays as well....for respective column and row\n",
        "#indices,"
      ],
      "metadata": {
        "colab": {
          "base_uri": "https://localhost:8080/"
        },
        "id": "AvR2XP3Go2-V",
        "outputId": "4f2806d4-e7af-4d07-a979-d1badfa07066"
      },
      "execution_count": null,
      "outputs": [
        {
          "output_type": "execute_result",
          "data": {
            "text/plain": [
              "array([2, 5])"
            ]
          },
          "metadata": {},
          "execution_count": 3
        }
      ]
    },
    {
      "cell_type": "code",
      "source": [
        "import numpy as np\n",
        "a11=np.array([[1,2,3],\n",
        "              [4,5,6],\n",
        "              [7,8,9]])\n",
        "a11[:,[0,2]]\n",
        "#picks all of rows and specifically 2 columns"
      ],
      "metadata": {
        "colab": {
          "base_uri": "https://localhost:8080/"
        },
        "id": "UohhNXJWbUqb",
        "outputId": "fb6f3bc8-b9c5-439d-f617-9501e12c94e1"
      },
      "execution_count": null,
      "outputs": [
        {
          "output_type": "execute_result",
          "data": {
            "text/plain": [
              "array([[1, 3],\n",
              "       [4, 6],\n",
              "       [7, 9]])"
            ]
          },
          "metadata": {},
          "execution_count": 6
        }
      ]
    },
    {
      "cell_type": "code",
      "source": [
        "a11[[0,2],:]\n",
        "#picks all of rows and specifically 2 rows"
      ],
      "metadata": {
        "colab": {
          "base_uri": "https://localhost:8080/"
        },
        "id": "OAJ5U7GmgW7b",
        "outputId": "a5f900bf-6b42-45c8-bcf0-dc5df5658347"
      },
      "execution_count": null,
      "outputs": [
        {
          "output_type": "execute_result",
          "data": {
            "text/plain": [
              "array([[1, 2, 3],\n",
              "       [7, 8, 9]])"
            ]
          },
          "metadata": {},
          "execution_count": 8
        }
      ]
    },
    {
      "cell_type": "code",
      "source": [
        "#Q15. Swap column 1 of array with column 3 of the array\n",
        "import numpy as np\n",
        "a11=np.array([[1,2,3],\n",
        "              [4,5,6],\n",
        "              [7,8,9]])\n",
        "a11[:,[0,1]]=a11[:,[1,0]]\n",
        "a11"
      ],
      "metadata": {
        "colab": {
          "base_uri": "https://localhost:8080/"
        },
        "id": "V6I7YJAPgj4x",
        "outputId": "fe045be1-b409-4529-879c-709a458445cc"
      },
      "execution_count": null,
      "outputs": [
        {
          "output_type": "execute_result",
          "data": {
            "text/plain": [
              "array([[2, 1, 3],\n",
              "       [5, 4, 6],\n",
              "       [8, 7, 9]])"
            ]
          },
          "metadata": {},
          "execution_count": 9
        }
      ]
    },
    {
      "cell_type": "code",
      "source": [
        "a11"
      ],
      "metadata": {
        "colab": {
          "base_uri": "https://localhost:8080/"
        },
        "id": "iD-qRXHVuQa_",
        "outputId": "77019cf3-5751-4cef-f744-d89a7ce2bdbe"
      },
      "execution_count": null,
      "outputs": [
        {
          "output_type": "execute_result",
          "data": {
            "text/plain": [
              "array([[2, 1, 3],\n",
              "       [5, 4, 6],\n",
              "       [8, 7, 9]])"
            ]
          },
          "metadata": {},
          "execution_count": 10
        }
      ]
    },
    {
      "cell_type": "code",
      "source": [
        "a22=[]\n",
        "a1shape=a11.shape\n",
        "for i in np.nditer(a11):\n",
        "  print(type(i))\n",
        "\n"
      ],
      "metadata": {
        "colab": {
          "base_uri": "https://localhost:8080/"
        },
        "id": "vzCd2smTzn4n",
        "outputId": "e526c1fd-d38e-4c26-be19-6fafe699e380"
      },
      "execution_count": null,
      "outputs": [
        {
          "output_type": "stream",
          "name": "stdout",
          "text": [
            "<class 'numpy.ndarray'>\n",
            "<class 'numpy.ndarray'>\n",
            "<class 'numpy.ndarray'>\n",
            "<class 'numpy.ndarray'>\n",
            "<class 'numpy.ndarray'>\n",
            "<class 'numpy.ndarray'>\n",
            "<class 'numpy.ndarray'>\n",
            "<class 'numpy.ndarray'>\n",
            "<class 'numpy.ndarray'>\n"
          ]
        }
      ]
    },
    {
      "cell_type": "code",
      "source": [
        "a11=[True,False,True]\n",
        "print(len(a11))"
      ],
      "metadata": {
        "colab": {
          "base_uri": "https://localhost:8080/"
        },
        "id": "TekpYqEQJGEv",
        "outputId": "045f106f-55e3-48a7-fc7e-1df519e0005b"
      },
      "execution_count": null,
      "outputs": [
        {
          "output_type": "stream",
          "name": "stdout",
          "text": [
            "3\n"
          ]
        }
      ]
    },
    {
      "cell_type": "code",
      "source": [
        "import numpy as np\n",
        "a11=np.array([1,2,3,4,5,8,10,20,25,2])\n",
        "mask=a11>5\n",
        "print(mask)\n",
        "print(type(mask))\n"
      ],
      "metadata": {
        "colab": {
          "base_uri": "https://localhost:8080/"
        },
        "id": "RN8hkYHuOUGU",
        "outputId": "a11a0ca3-7d31-49e9-c78d-1ff75d9183bd"
      },
      "execution_count": null,
      "outputs": [
        {
          "output_type": "stream",
          "name": "stdout",
          "text": [
            "[False False False False False  True  True  True  True False]\n",
            "<class 'numpy.ndarray'>\n"
          ]
        }
      ]
    },
    {
      "cell_type": "code",
      "source": [
        "a11[mask]\n",
        "#masking in Numpy involves using boolean arrays to extract and modify values in arrays based on certain conditions."
      ],
      "metadata": {
        "colab": {
          "base_uri": "https://localhost:8080/"
        },
        "id": "sb4mJUkxUmMa",
        "outputId": "803c0855-6a5f-4894-d9a8-938080247c7d"
      },
      "execution_count": null,
      "outputs": [
        {
          "output_type": "execute_result",
          "data": {
            "text/plain": [
              "array([ 8, 10, 20, 25])"
            ]
          },
          "metadata": {},
          "execution_count": 18
        }
      ]
    },
    {
      "cell_type": "code",
      "source": [
        "#masking in Numpy involves using boolean arrays to extract either a part of array or modify them\n",
        "#masking in Numpy involves using boolean array to extract either a part of aeeay or modifying them.\n",
        "import numpy as np\n",
        "a1=np.array([[1,2,3],\n",
        "             [4,5,6],\n",
        "             [7,8,9]])\n",
        "a1[a1%2!=0]=-1\n",
        "a1"
      ],
      "metadata": {
        "colab": {
          "base_uri": "https://localhost:8080/"
        },
        "id": "cFzVrOamVxZJ",
        "outputId": "53f3ecd1-1ba7-42f8-ae0d-cef887c58e4c"
      },
      "execution_count": null,
      "outputs": [
        {
          "output_type": "execute_result",
          "data": {
            "text/plain": [
              "array([[-1,  2, -1],\n",
              "       [ 4, -1,  6],\n",
              "       [-1,  8, -1]])"
            ]
          },
          "metadata": {},
          "execution_count": 21
        }
      ]
    },
    {
      "cell_type": "code",
      "source": [
        "import numpy as np\n",
        "a11=np.array([[1,2,3,4,5],\n",
        "              [6,7,8,9,10],\n",
        "              [11,12,13,14,15]])\n",
        "a11[a11%2!=0]=-1\n",
        "a11\n",
        "#this a11%2!=0 creates a boolean array"
      ],
      "metadata": {
        "colab": {
          "base_uri": "https://localhost:8080/"
        },
        "id": "-mP7Wj4arH9c",
        "outputId": "1afe8710-edb6-49f8-da2a-a83d9a52bf19"
      },
      "execution_count": null,
      "outputs": [
        {
          "output_type": "execute_result",
          "data": {
            "text/plain": [
              "array([[-1,  2, -1,  4, -1],\n",
              "       [ 6, -1,  8, -1, 10],\n",
              "       [-1, 12, -1, 14, -1]])"
            ]
          },
          "metadata": {},
          "execution_count": 23
        }
      ]
    },
    {
      "cell_type": "code",
      "source": [
        "#np.maximum() is used to compute the element wise maximum between 2 arrays. It compares the elements between 2 arrays at a position and\n",
        "#returns the maximum at that position. It also follows the broadcasting rules.\n"
      ],
      "metadata": {
        "id": "Ba0KzoREuVsr"
      },
      "execution_count": null,
      "outputs": []
    },
    {
      "cell_type": "code",
      "source": [
        "import numpy as np\n",
        "a11=np.array([[25,95,35],\n",
        "              [29,41,53],\n",
        "              [31,34,37]])\n",
        "a22=np.array([30,42,45])\n",
        "result=np.maximum(a11,a22)\n",
        "print(result)"
      ],
      "metadata": {
        "colab": {
          "base_uri": "https://localhost:8080/"
        },
        "id": "gnMUwTgu2pJ1",
        "outputId": "30c58ef0-ba24-4860-d681-3512289f3704"
      },
      "execution_count": null,
      "outputs": [
        {
          "output_type": "stream",
          "name": "stdout",
          "text": [
            "[[30 95 45]\n",
            " [30 42 53]\n",
            " [31 42 45]]\n"
          ]
        }
      ]
    },
    {
      "cell_type": "code",
      "source": [
        "#Q17 Given 2 arrays find the maximum between two arrays\n",
        "#numpy.maximum() is used to compute the element-wise maximum between 2 arrays."
      ],
      "metadata": {
        "id": "L-hWXJKP3Qbu"
      },
      "execution_count": null,
      "outputs": []
    },
    {
      "cell_type": "code",
      "source": [
        "#Q18\n",
        "arr1=np.random.randint(low=1, high=10000, size=40).reshape(8,5)\n",
        "arr1"
      ],
      "metadata": {
        "colab": {
          "base_uri": "https://localhost:8080/"
        },
        "id": "iOKbcgUABaD0",
        "outputId": "a2c0510f-2a46-41dd-ef0e-b3d6190bc58e"
      },
      "execution_count": null,
      "outputs": [
        {
          "output_type": "execute_result",
          "data": {
            "text/plain": [
              "array([[4062, 6404, 7408, 9685, 3252],\n",
              "       [1739, 5475, 6306, 4150, 4015],\n",
              "       [6292, 2017, 5954, 9759, 6133],\n",
              "       [9405,  488, 6725, 8423, 7621],\n",
              "       [5484, 3185, 4736, 5924, 5902],\n",
              "       [4734, 9208, 9388, 5440, 7318],\n",
              "       [1249, 1926,  856, 3075,  576],\n",
              "       [1120,   69, 7582, 6771, 4823]])"
            ]
          },
          "metadata": {},
          "execution_count": 29
        }
      ]
    },
    {
      "cell_type": "code",
      "source": [
        "arr1[:,::2]\n",
        "#This is how you choose alternate columns"
      ],
      "metadata": {
        "colab": {
          "base_uri": "https://localhost:8080/"
        },
        "id": "GRcaOghhGdkA",
        "outputId": "e731d91d-5b1e-4d92-c8d2-88652c4ff4dc"
      },
      "execution_count": null,
      "outputs": [
        {
          "output_type": "execute_result",
          "data": {
            "text/plain": [
              "array([[4062, 7408, 3252],\n",
              "       [1739, 6306, 4015],\n",
              "       [6292, 5954, 6133],\n",
              "       [9405, 6725, 7621],\n",
              "       [5484, 4736, 5902],\n",
              "       [4734, 9388, 7318],\n",
              "       [1249,  856,  576],\n",
              "       [1120, 7582, 4823]])"
            ]
          },
          "metadata": {},
          "execution_count": 31
        }
      ]
    },
    {
      "cell_type": "code",
      "source": [
        "#np.partition() function efficiently re-arranges the function in such a way that the elements smaller than kth element are placed\n",
        "#before it and the elements larger than kth element are placed after it.\n"
      ],
      "metadata": {
        "id": "RqQ8WlY9HrfO"
      },
      "execution_count": null,
      "outputs": []
    },
    {
      "cell_type": "code",
      "source": [
        "import numpy as np\n",
        "arr=(12,34,40,7,1,0)\n",
        "a11=np.array([12,34,40,7,1,0])\n",
        "a11"
      ],
      "metadata": {
        "colab": {
          "base_uri": "https://localhost:8080/"
        },
        "id": "vkEjNvb8lrQV",
        "outputId": "1c202291-e04a-4d9f-b099-e104d935fc7b"
      },
      "execution_count": null,
      "outputs": [
        {
          "output_type": "execute_result",
          "data": {
            "text/plain": [
              "array([12, 34, 40,  7,  1,  0])"
            ]
          },
          "metadata": {},
          "execution_count": 4
        }
      ]
    },
    {
      "cell_type": "code",
      "source": [
        "a2=np.partition(a11,3)\n",
        "a2"
      ],
      "metadata": {
        "colab": {
          "base_uri": "https://localhost:8080/"
        },
        "id": "U8S8Jje1mGfx",
        "outputId": "521eaf31-b7a5-471d-f651-7344deb44595"
      },
      "execution_count": null,
      "outputs": [
        {
          "output_type": "execute_result",
          "data": {
            "text/plain": [
              "array([ 7,  0,  1, 12, 34, 40])"
            ]
          },
          "metadata": {},
          "execution_count": 7
        }
      ]
    },
    {
      "cell_type": "code",
      "source": [
        "#Question 18 19 20 is doubtful .....Now i will repeat it all ."
      ],
      "metadata": {
        "id": "HBPixZKdourL"
      },
      "execution_count": null,
      "outputs": []
    },
    {
      "cell_type": "code",
      "source": [
        "#Q1 A null vector of size 10 but the 5th value is 1.\n",
        "import numpy as np\n",
        "a11=np.zeros(10)\n",
        "a11[5]=1\n",
        "a11"
      ],
      "metadata": {
        "colab": {
          "base_uri": "https://localhost:8080/"
        },
        "id": "hnHimeo1qV2k",
        "outputId": "4aa55777-0e49-4d6b-857b-1a7411d83d71"
      },
      "execution_count": null,
      "outputs": [
        {
          "output_type": "execute_result",
          "data": {
            "text/plain": [
              "array([0., 0., 0., 0., 0., 1., 0., 0., 0., 0.])"
            ]
          },
          "metadata": {},
          "execution_count": 10
        }
      ]
    },
    {
      "cell_type": "code",
      "source": [
        "#Q2 .A user to input 2 numbers a and b. Write a program to generate random array of shape (a,b) and print the array and avg of the array.\n",
        "import numpy as np\n",
        "def manner(a,b):\n",
        "  a11=np.round(np.random.random(a*b)*100).reshape(a,b)\n",
        "  return a11\n",
        "manner(3,4)\n",
        "\n"
      ],
      "metadata": {
        "colab": {
          "base_uri": "https://localhost:8080/"
        },
        "id": "-0L3XHlDsR_J",
        "outputId": "58402bc4-07f8-4fe3-db5c-1ac8ce97ce50"
      },
      "execution_count": null,
      "outputs": [
        {
          "output_type": "execute_result",
          "data": {
            "text/plain": [
              "array([[37., 15., 34., 34.],\n",
              "       [40.,  0., 29., 10.],\n",
              "       [34.,  2.,  9., 68.]])"
            ]
          },
          "metadata": {},
          "execution_count": 21
        }
      ]
    },
    {
      "cell_type": "code",
      "source": [
        "import numpy as np\n",
        "def manner1(a,b):\n",
        "  a1=np.round(np.random.random(a*b)*100).reshape(a,b)\n",
        "  return a1\n",
        "manner1(3,4)"
      ],
      "metadata": {
        "colab": {
          "base_uri": "https://localhost:8080/"
        },
        "id": "tz3F45fjxe2X",
        "outputId": "863b4cae-0b64-4a52-9da6-dbe782d4950b"
      },
      "execution_count": null,
      "outputs": [
        {
          "output_type": "execute_result",
          "data": {
            "text/plain": [
              "array([[33., 22., 15., 42.],\n",
              "       [ 7., 75.,  2., 61.],\n",
              "       [99.,  4., 20., 43.]])"
            ]
          },
          "metadata": {},
          "execution_count": 1
        }
      ]
    },
    {
      "cell_type": "code",
      "source": [
        "manner1(4,5)"
      ],
      "metadata": {
        "colab": {
          "base_uri": "https://localhost:8080/"
        },
        "id": "b6ktQZyWdu6Q",
        "outputId": "b8ad02c6-9647-472b-9e14-7e4244f07b54"
      },
      "execution_count": null,
      "outputs": [
        {
          "output_type": "execute_result",
          "data": {
            "text/plain": [
              "array([[24., 57., 86.,  0., 18.],\n",
              "       [32., 93., 61., 53., 92.],\n",
              "       [20., 21., 91., 37., 36.],\n",
              "       [54., 57., 17., 59., 33.]])"
            ]
          },
          "metadata": {},
          "execution_count": 2
        }
      ]
    },
    {
      "cell_type": "code",
      "source": [
        "#Q3.Write a function to create a 2D array with 1 on the sides and 0 inside.\n",
        "import numpy as np\n",
        "def mannersw1(a,b):\n",
        "  a11=np.zeros(a*b).reshape(a,b)\n",
        "  a11[:,0]=1\n",
        "  a11[0,:]=1\n",
        "  a11[-1,:]=1#all columns and the last row\n",
        "  a11[:,-1]=1#all rows and last column\n",
        "  return a11\n",
        "mannersw1(5,6)"
      ],
      "metadata": {
        "colab": {
          "base_uri": "https://localhost:8080/"
        },
        "id": "1A9NfqdPdyy-",
        "outputId": "56fd5074-2a30-4c5c-bcc4-90fa945308a9"
      },
      "execution_count": null,
      "outputs": [
        {
          "output_type": "execute_result",
          "data": {
            "text/plain": [
              "array([[1., 1., 1., 1., 1., 1.],\n",
              "       [1., 0., 0., 0., 0., 1.],\n",
              "       [1., 0., 0., 0., 0., 1.],\n",
              "       [1., 0., 0., 0., 0., 1.],\n",
              "       [1., 1., 1., 1., 1., 1.]])"
            ]
          },
          "metadata": {},
          "execution_count": 6
        }
      ]
    },
    {
      "cell_type": "code",
      "source": [
        "#Q4. Create a vector of size 10 between 0 and 1(both excluded).\n",
        "import numpy as np\n",
        "a11=np.linspace(0,1,12,endpoint=False)[1:]\n",
        "a11"
      ],
      "metadata": {
        "colab": {
          "base_uri": "https://localhost:8080/"
        },
        "id": "sbpLGPvx0qjc",
        "outputId": "2473fa02-737b-4efa-ed92-a859978b85d8"
      },
      "execution_count": null,
      "outputs": [
        {
          "output_type": "execute_result",
          "data": {
            "text/plain": [
              "array([0.08333333, 0.16666667, 0.25      , 0.33333333, 0.41666667,\n",
              "       0.5       , 0.58333333, 0.66666667, 0.75      , 0.83333333,\n",
              "       0.91666667])"
            ]
          },
          "metadata": {},
          "execution_count": 7
        }
      ]
    },
    {
      "cell_type": "code",
      "source": [
        "#Q5. Identity matrix of size (3,4)?\n",
        "import numpy as np\n",
        "a11=np.identity(3)\n",
        "a11"
      ],
      "metadata": {
        "colab": {
          "base_uri": "https://localhost:8080/"
        },
        "id": "7lE1fLS_4-a5",
        "outputId": "3fcde1e9-f127-4442-b601-9a1e77ae8c8d"
      },
      "execution_count": null,
      "outputs": [
        {
          "output_type": "execute_result",
          "data": {
            "text/plain": [
              "array([[1., 0., 0.],\n",
              "       [0., 1., 0.],\n",
              "       [0., 0., 1.]])"
            ]
          },
          "metadata": {},
          "execution_count": 11
        }
      ]
    },
    {
      "cell_type": "code",
      "source": [
        "#Q6. Create a 5*5 matrix with row values ranging from 0 to 4.\n",
        "import numpy as np\n",
        "a11=np.zeros((5,5))+np.arange(0,5)\n",
        "a11"
      ],
      "metadata": {
        "colab": {
          "base_uri": "https://localhost:8080/"
        },
        "id": "s33lbLR27EKQ",
        "outputId": "cfb30d7f-2a8c-4116-bc9d-4ed919c7d719"
      },
      "execution_count": null,
      "outputs": [
        {
          "output_type": "execute_result",
          "data": {
            "text/plain": [
              "array([[0., 1., 2., 3., 4.],\n",
              "       [0., 1., 2., 3., 4.],\n",
              "       [0., 1., 2., 3., 4.],\n",
              "       [0., 1., 2., 3., 4.],\n",
              "       [0., 1., 2., 3., 4.]])"
            ]
          },
          "metadata": {},
          "execution_count": 13
        }
      ]
    },
    {
      "cell_type": "code",
      "source": [
        "#Q7\n",
        "import numpy as np\n",
        "a11=np.random.randint(1,100,size=(10,2))\n",
        "a12=np.array([2,3])\n",
        "a14=np.sqrt(np.sum((a11-a12)**2,axis=1))\n",
        "a14"
      ],
      "metadata": {
        "colab": {
          "base_uri": "https://localhost:8080/"
        },
        "id": "GqddoOWz94BR",
        "outputId": "742b3717-d7b6-41d2-f704-76f3ddfb4235"
      },
      "execution_count": null,
      "outputs": [
        {
          "output_type": "execute_result",
          "data": {
            "text/plain": [
              "array([ 91.70605214,  76.21679605, 126.62148317,  34.71310992,\n",
              "       130.83195328,  49.72926704,  78.77182237,  58.85575588,\n",
              "       113.84638773,  52.20153254])"
            ]
          },
          "metadata": {},
          "execution_count": 2
        }
      ]
    },
    {
      "cell_type": "code",
      "source": [
        "#Q8\n",
        "import numpy as np\n",
        "a11=np.round(np.random.random(6*7*8)*100).reshape(6,7,8)\n",
        "a11"
      ],
      "metadata": {
        "id": "Uw9WqphleTMc",
        "colab": {
          "base_uri": "https://localhost:8080/"
        },
        "outputId": "c6298edc-5083-40ca-e342-d79850233e24"
      },
      "execution_count": null,
      "outputs": [
        {
          "output_type": "execute_result",
          "data": {
            "text/plain": [
              "array([[[43., 82., 85., 86., 69., 46., 29., 65.],\n",
              "        [39., 29., 38., 34., 19., 32., 33., 85.],\n",
              "        [96., 77., 33., 53., 65.,  9., 91., 67.],\n",
              "        [54., 71., 15., 48., 75., 83., 48., 29.],\n",
              "        [16., 68., 80., 57., 71., 80., 57., 81.],\n",
              "        [51., 25., 23., 19., 64., 13., 34.,  3.],\n",
              "        [ 3., 44., 21., 39., 10., 94.,  7., 36.]],\n",
              "\n",
              "       [[53., 66., 32., 43., 35.,  4., 46., 47.],\n",
              "        [51., 45., 54., 69., 24., 15., 43., 46.],\n",
              "        [63., 55.,  4., 87.,  6.,  6., 51., 31.],\n",
              "        [27., 43., 46., 26., 12., 28., 40., 88.],\n",
              "        [22., 21., 77.,  7., 22., 94., 96., 64.],\n",
              "        [44., 28., 44., 37., 17., 67., 25., 28.],\n",
              "        [69., 21., 61., 85., 43., 89., 99., 85.]],\n",
              "\n",
              "       [[96., 82., 81., 51., 23., 57., 42., 93.],\n",
              "        [41.,  8., 38., 33., 92., 86., 26., 58.],\n",
              "        [59.,  3., 74., 60., 24., 77., 61., 56.],\n",
              "        [39., 33., 72.,  1., 25., 50., 65., 35.],\n",
              "        [76., 17.,  2., 35., 17., 52., 16., 45.],\n",
              "        [53., 22., 65., 30., 27., 69., 65., 84.],\n",
              "        [80.,  8., 30., 33.,  2., 75., 94., 52.]],\n",
              "\n",
              "       [[17., 29., 82., 26., 41., 25., 92., 35.],\n",
              "        [22., 52., 86., 10., 20., 52., 15., 91.],\n",
              "        [31., 84., 59., 97.,  9., 76., 72., 30.],\n",
              "        [ 4., 38., 33., 41., 16., 49., 49., 17.],\n",
              "        [36., 48., 47., 28., 20., 73.,  1., 24.],\n",
              "        [33., 16., 75.,  1., 86., 91., 68., 45.],\n",
              "        [25., 38., 86., 68., 70., 65., 85., 50.]],\n",
              "\n",
              "       [[ 1., 24.,  3.,  6., 72., 54., 23., 36.],\n",
              "        [20., 65., 83., 31., 84.,  9., 99., 61.],\n",
              "        [13., 51., 90., 84.,  8., 98., 20., 85.],\n",
              "        [74., 10., 51., 28., 23., 19., 69., 44.],\n",
              "        [25., 17., 23., 85., 57., 39., 98., 78.],\n",
              "        [63., 74., 77., 24., 32., 33., 68., 12.],\n",
              "        [60., 49., 49.,  9., 16.,  1., 14.,  5.]],\n",
              "\n",
              "       [[91., 68., 43., 23., 29., 39., 50., 72.],\n",
              "        [85., 23., 12.,  8., 72., 40., 38., 64.],\n",
              "        [ 2., 44., 22., 52., 41., 93.,  3., 83.],\n",
              "        [86., 58., 31., 75., 54., 52., 97., 37.],\n",
              "        [45., 56., 90., 10., 38.,  7., 49., 62.],\n",
              "        [13., 68., 96., 93., 14., 11., 10., 39.],\n",
              "        [18., 94., 99.,  1.,  2., 37., 22., 72.]]])"
            ]
          },
          "metadata": {},
          "execution_count": 2
        }
      ]
    },
    {
      "cell_type": "code",
      "source": [
        "au1=np.unravel_index(100,(6,7,8))\n",
        "au1"
      ],
      "metadata": {
        "colab": {
          "base_uri": "https://localhost:8080/"
        },
        "id": "yYkxBs8jilR-",
        "outputId": "9afa54b9-4085-4270-d9c3-bc2117dd6dd7"
      },
      "execution_count": null,
      "outputs": [
        {
          "output_type": "execute_result",
          "data": {
            "text/plain": [
              "(1, 5, 4)"
            ]
          },
          "metadata": {},
          "execution_count": 5
        }
      ]
    },
    {
      "cell_type": "code",
      "source": [
        "import numpy as np\n",
        "au1=np.unravel_index(100,(6,7,8))\n",
        "au1\n",
        "#unravel_index() function takes 2 arguments, the first being given index of flattened array and second being shape of the array."
      ],
      "metadata": {
        "colab": {
          "base_uri": "https://localhost:8080/"
        },
        "id": "7Cp5MmrOpmVa",
        "outputId": "d8fc4be4-1683-4254-8c14-4fda7408205e"
      },
      "execution_count": null,
      "outputs": [
        {
          "output_type": "execute_result",
          "data": {
            "text/plain": [
              "(1, 5, 4)"
            ]
          },
          "metadata": {},
          "execution_count": 7
        }
      ]
    },
    {
      "cell_type": "code",
      "source": [
        "a1=list(map(int,input().split()))[::-1]\n",
        "a2=np.array(a1).astype('float')\n",
        "a2"
      ],
      "metadata": {
        "colab": {
          "base_uri": "https://localhost:8080/"
        },
        "id": "LgtEBYWyqqYS",
        "outputId": "3e4a8dfa-0878-4c12-9207-8f8d04184b29"
      },
      "execution_count": null,
      "outputs": [
        {
          "name": "stdout",
          "output_type": "stream",
          "text": [
            "1 2 3 4 -8 -10\n"
          ]
        },
        {
          "output_type": "execute_result",
          "data": {
            "text/plain": [
              "array([-10.,  -8.,   4.,   3.,   2.,   1.])"
            ]
          },
          "metadata": {},
          "execution_count": 8
        }
      ]
    },
    {
      "cell_type": "code",
      "source": [
        "import numpy as np\n",
        "a1=np.array([[1,2],\n",
        "             [3,4],\n",
        "             [5,6],\n",
        "             [7,8]])\n",
        "a2=a1.shape\n",
        "print(np.prod(a2))"
      ],
      "metadata": {
        "colab": {
          "base_uri": "https://localhost:8080/"
        },
        "id": "d3CwiEnFutY0",
        "outputId": "ed2aed8d-d57e-44ad-db3f-beb7c0b8878d"
      },
      "execution_count": null,
      "outputs": [
        {
          "output_type": "stream",
          "name": "stdout",
          "text": [
            "8\n"
          ]
        }
      ]
    },
    {
      "cell_type": "code",
      "source": [
        "#Q11\n",
        "import numpy as np\n",
        "def manner1(n):\n",
        "  if n.ndim!=1:\n",
        "    raise Exception(\"This is wrong\")\n",
        "  else:\n",
        "    a11=np.exp(n)/np.sum(np.exp(n))\n",
        "    return a11\n",
        "a12=np.array([[86.03331084, 37.7285648,  48.64908087, 87.16563062, 38.40852563, 37.20006318]])\n",
        "manner1(a12)"
      ],
      "metadata": {
        "colab": {
          "base_uri": "https://localhost:8080/",
          "height": 333
        },
        "id": "l9iwu4Qqyn2r",
        "outputId": "82d10dcb-1e88-4e45-c678-f2fd17619cfe"
      },
      "execution_count": null,
      "outputs": [
        {
          "output_type": "error",
          "ename": "Exception",
          "evalue": "ignored",
          "traceback": [
            "\u001b[0;31m---------------------------------------------------------------------------\u001b[0m",
            "\u001b[0;31mException\u001b[0m                                 Traceback (most recent call last)",
            "\u001b[0;32m<ipython-input-15-65dc5b90a3fe>\u001b[0m in \u001b[0;36m<cell line: 10>\u001b[0;34m()\u001b[0m\n\u001b[1;32m      8\u001b[0m     \u001b[0;32mreturn\u001b[0m \u001b[0ma11\u001b[0m\u001b[0;34m\u001b[0m\u001b[0;34m\u001b[0m\u001b[0m\n\u001b[1;32m      9\u001b[0m \u001b[0ma12\u001b[0m\u001b[0;34m=\u001b[0m\u001b[0mnp\u001b[0m\u001b[0;34m.\u001b[0m\u001b[0marray\u001b[0m\u001b[0;34m(\u001b[0m\u001b[0;34m[\u001b[0m\u001b[0;34m[\u001b[0m\u001b[0;36m86.03331084\u001b[0m\u001b[0;34m,\u001b[0m \u001b[0;36m37.7285648\u001b[0m\u001b[0;34m,\u001b[0m  \u001b[0;36m48.64908087\u001b[0m\u001b[0;34m,\u001b[0m \u001b[0;36m87.16563062\u001b[0m\u001b[0;34m,\u001b[0m \u001b[0;36m38.40852563\u001b[0m\u001b[0;34m,\u001b[0m \u001b[0;36m37.20006318\u001b[0m\u001b[0;34m]\u001b[0m\u001b[0;34m]\u001b[0m\u001b[0;34m)\u001b[0m\u001b[0;34m\u001b[0m\u001b[0;34m\u001b[0m\u001b[0m\n\u001b[0;32m---> 10\u001b[0;31m \u001b[0mmanner1\u001b[0m\u001b[0;34m(\u001b[0m\u001b[0ma12\u001b[0m\u001b[0;34m)\u001b[0m\u001b[0;34m\u001b[0m\u001b[0;34m\u001b[0m\u001b[0m\n\u001b[0m",
            "\u001b[0;32m<ipython-input-15-65dc5b90a3fe>\u001b[0m in \u001b[0;36mmanner1\u001b[0;34m(n)\u001b[0m\n\u001b[1;32m      3\u001b[0m \u001b[0;32mdef\u001b[0m \u001b[0mmanner1\u001b[0m\u001b[0;34m(\u001b[0m\u001b[0mn\u001b[0m\u001b[0;34m)\u001b[0m\u001b[0;34m:\u001b[0m\u001b[0;34m\u001b[0m\u001b[0;34m\u001b[0m\u001b[0m\n\u001b[1;32m      4\u001b[0m   \u001b[0;32mif\u001b[0m \u001b[0mn\u001b[0m\u001b[0;34m.\u001b[0m\u001b[0mndim\u001b[0m\u001b[0;34m!=\u001b[0m\u001b[0;36m1\u001b[0m\u001b[0;34m:\u001b[0m\u001b[0;34m\u001b[0m\u001b[0;34m\u001b[0m\u001b[0m\n\u001b[0;32m----> 5\u001b[0;31m     \u001b[0;32mraise\u001b[0m \u001b[0mException\u001b[0m\u001b[0;34m(\u001b[0m\u001b[0;34m\"This is wrong\"\u001b[0m\u001b[0;34m)\u001b[0m\u001b[0;34m\u001b[0m\u001b[0;34m\u001b[0m\u001b[0m\n\u001b[0m\u001b[1;32m      6\u001b[0m   \u001b[0;32melse\u001b[0m\u001b[0;34m:\u001b[0m\u001b[0;34m\u001b[0m\u001b[0;34m\u001b[0m\u001b[0m\n\u001b[1;32m      7\u001b[0m     \u001b[0ma11\u001b[0m\u001b[0;34m=\u001b[0m\u001b[0mnp\u001b[0m\u001b[0;34m.\u001b[0m\u001b[0mexp\u001b[0m\u001b[0;34m(\u001b[0m\u001b[0mn\u001b[0m\u001b[0;34m)\u001b[0m\u001b[0;34m/\u001b[0m\u001b[0mnp\u001b[0m\u001b[0;34m.\u001b[0m\u001b[0msum\u001b[0m\u001b[0;34m(\u001b[0m\u001b[0mnp\u001b[0m\u001b[0;34m.\u001b[0m\u001b[0mexp\u001b[0m\u001b[0;34m(\u001b[0m\u001b[0mn\u001b[0m\u001b[0;34m)\u001b[0m\u001b[0;34m)\u001b[0m\u001b[0;34m\u001b[0m\u001b[0;34m\u001b[0m\u001b[0m\n",
            "\u001b[0;31mException\u001b[0m: This is wrong"
          ]
        }
      ]
    },
    {
      "cell_type": "code",
      "source": [
        "import numpy as np\n",
        "a=np.array([[1,2,3,4],\n",
        "            [5,6,7,8],\n",
        "            [9,10,11,12]])\n",
        "a.ndim"
      ],
      "metadata": {
        "colab": {
          "base_uri": "https://localhost:8080/"
        },
        "id": "cyFY9fjj9IkX",
        "outputId": "08010b24-41a2-43fb-9cb4-6a081691cdd1"
      },
      "execution_count": null,
      "outputs": [
        {
          "output_type": "execute_result",
          "data": {
            "text/plain": [
              "2"
            ]
          },
          "metadata": {},
          "execution_count": 12
        }
      ]
    },
    {
      "cell_type": "code",
      "source": [
        "import numpy as np\n",
        "def mumbo(*args):\n",
        "  for i in args:\n",
        "      if type(i)!=np.ndarray:\n",
        "        raise Exception(\"wrong datatype, only ndarrays of numpy\")\n",
        "\n",
        "  a11=np.vstack(args)\n",
        "  return a11\n",
        "a14=np.array([[0, 1, 2, 3, 4],\n",
        " [5, 6, 7, 8, 9]])\n",
        "\n",
        "a15=np.array([[1, 1, 1, 1, 1],\n",
        " [1, 1, 1, 1, 1]])\n",
        "mumbo(a14,a15)\n"
      ],
      "metadata": {
        "colab": {
          "base_uri": "https://localhost:8080/"
        },
        "id": "Z8zxf2X-S_Qo",
        "outputId": "99de10d5-34f3-4aa9-99db-acc792088e2f"
      },
      "execution_count": null,
      "outputs": [
        {
          "output_type": "execute_result",
          "data": {
            "text/plain": [
              "array([[0, 1, 2, 3, 4],\n",
              "       [5, 6, 7, 8, 9],\n",
              "       [1, 1, 1, 1, 1],\n",
              "       [1, 1, 1, 1, 1]])"
            ]
          },
          "metadata": {},
          "execution_count": 2
        }
      ]
    },
    {
      "cell_type": "code",
      "source": [
        "import numpy as np\n",
        "def murmu(**kwargs):\n",
        "  if len(kwargs)!=2:\n",
        "    raise Exception(\"what a bullshit\")\n",
        "  else:\n",
        "    a11=list(map(int,kwargs['start'].split('-')))[-1]\n",
        "    a12=list(map(int,kwargs['end'].split('-')))[-1]\n",
        "    i=a11\n",
        "    a14=[]\n",
        "    while i<=a12:\n",
        "      aq=kwargs['start'][:-2]+str(i)\n",
        "      a14.append(aq)\n",
        "      i+=1\n",
        "    return np.array(a14)\n",
        "murmu(start = '2020-09-15', end = '2020-09-25')\n"
      ],
      "metadata": {
        "colab": {
          "base_uri": "https://localhost:8080/"
        },
        "id": "Y_9jy8vkm6ee",
        "outputId": "8ca8131f-d5c6-4075-92f1-54b7919ba4db"
      },
      "execution_count": null,
      "outputs": [
        {
          "output_type": "execute_result",
          "data": {
            "text/plain": [
              "array(['2020-09-15', '2020-09-16', '2020-09-17', '2020-09-18',\n",
              "       '2020-09-19', '2020-09-20', '2020-09-21', '2020-09-22',\n",
              "       '2020-09-23', '2020-09-24', '2020-09-25'], dtype='<U10')"
            ]
          },
          "metadata": {},
          "execution_count": 3
        }
      ]
    },
    {
      "cell_type": "code",
      "source": [
        "#Q14\n",
        "import numpy as np\n",
        "a11=np.round(np.random.random(3*4)*100).reshape(3,4)\n",
        "a11"
      ],
      "metadata": {
        "colab": {
          "base_uri": "https://localhost:8080/"
        },
        "id": "X1lP_HN21wpb",
        "outputId": "063b10db-da47-4400-d753-bd26042518b2"
      },
      "execution_count": null,
      "outputs": [
        {
          "output_type": "execute_result",
          "data": {
            "text/plain": [
              "array([[65., 60., 80., 94.],\n",
              "       [67., 69., 95., 26.],\n",
              "       [41., 30., 35., 74.]])"
            ]
          },
          "metadata": {},
          "execution_count": 4
        }
      ]
    },
    {
      "cell_type": "code",
      "source": [
        "a12=np.mean(a11,keepdims=True,axis=1)\n",
        "a12"
      ],
      "metadata": {
        "colab": {
          "base_uri": "https://localhost:8080/"
        },
        "id": "Nnmnbd3B8YXb",
        "outputId": "a740a18e-6dd7-4fb8-8415-09845093684a"
      },
      "execution_count": null,
      "outputs": [
        {
          "output_type": "execute_result",
          "data": {
            "text/plain": [
              "array([[74.75],\n",
              "       [64.25],\n",
              "       [45.  ]])"
            ]
          },
          "metadata": {},
          "execution_count": 6
        }
      ]
    },
    {
      "cell_type": "code",
      "source": [
        "a14=np.mean(a11,axis=1)\n",
        "print(a11-a14)\n",
        "#This is why the dimension has to be maintained."
      ],
      "metadata": {
        "colab": {
          "base_uri": "https://localhost:8080/",
          "height": 211
        },
        "id": "54qQuzHw80H7",
        "outputId": "7d4537d9-dbb4-4e64-b233-90a11b80b9ea"
      },
      "execution_count": null,
      "outputs": [
        {
          "output_type": "error",
          "ename": "ValueError",
          "evalue": "ignored",
          "traceback": [
            "\u001b[0;31m---------------------------------------------------------------------------\u001b[0m",
            "\u001b[0;31mValueError\u001b[0m                                Traceback (most recent call last)",
            "\u001b[0;32m<ipython-input-8-6d2d577141e7>\u001b[0m in \u001b[0;36m<cell line: 2>\u001b[0;34m()\u001b[0m\n\u001b[1;32m      1\u001b[0m \u001b[0ma14\u001b[0m\u001b[0;34m=\u001b[0m\u001b[0mnp\u001b[0m\u001b[0;34m.\u001b[0m\u001b[0mmean\u001b[0m\u001b[0;34m(\u001b[0m\u001b[0ma11\u001b[0m\u001b[0;34m,\u001b[0m\u001b[0maxis\u001b[0m\u001b[0;34m=\u001b[0m\u001b[0;36m1\u001b[0m\u001b[0;34m)\u001b[0m\u001b[0;34m\u001b[0m\u001b[0;34m\u001b[0m\u001b[0m\n\u001b[0;32m----> 2\u001b[0;31m \u001b[0mprint\u001b[0m\u001b[0;34m(\u001b[0m\u001b[0ma11\u001b[0m\u001b[0;34m-\u001b[0m\u001b[0ma14\u001b[0m\u001b[0;34m)\u001b[0m\u001b[0;34m\u001b[0m\u001b[0;34m\u001b[0m\u001b[0m\n\u001b[0m\u001b[1;32m      3\u001b[0m \u001b[0;31m#This is why the dimension has to be maintained.\u001b[0m\u001b[0;34m\u001b[0m\u001b[0;34m\u001b[0m\u001b[0m\n",
            "\u001b[0;31mValueError\u001b[0m: operands could not be broadcast together with shapes (3,4) (3,) "
          ]
        }
      ]
    },
    {
      "cell_type": "code",
      "source": [
        "#Q14\n",
        "import numpy as np\n",
        "a11=np.round(np.random.random(3*4)*100).reshape(3,4)\n",
        "a12=np.mean(a11,axis=1,keepdims=True)\n",
        "print(a11-a12)"
      ],
      "metadata": {
        "colab": {
          "base_uri": "https://localhost:8080/"
        },
        "id": "pQR35USa9NCu",
        "outputId": "8bea9831-393e-48c8-f36e-36a985b5e6a9"
      },
      "execution_count": null,
      "outputs": [
        {
          "output_type": "stream",
          "name": "stdout",
          "text": [
            "[[-25.    18.   -30.    37.  ]\n",
            " [-42.5  -32.5   51.5   23.5 ]\n",
            " [ 31.25  14.25  10.25 -55.75]]\n"
          ]
        }
      ]
    },
    {
      "cell_type": "code",
      "source": [
        "#Q15. Swap column 1 and column 2\n",
        "import numpy as np\n",
        "a11=np.round(np.random.random(3*4)*100).reshape(3,4)\n",
        "print(a11)\n",
        "a11[:,[0,1]]=a11[:,[1,0]]\n",
        "print(a11)"
      ],
      "metadata": {
        "colab": {
          "base_uri": "https://localhost:8080/"
        },
        "id": "N5sjqD0eAQ2U",
        "outputId": "c16b8745-f26c-4a28-f6cc-8a025a2b8a38"
      },
      "execution_count": null,
      "outputs": [
        {
          "output_type": "execute_result",
          "data": {
            "text/plain": [
              "array([[58., 40., 27., 99.],\n",
              "       [94., 88.,  3., 93.],\n",
              "       [65., 59., 82., 72.]])"
            ]
          },
          "metadata": {},
          "execution_count": 10
        }
      ]
    },
    {
      "cell_type": "code",
      "source": [
        "#Q16.Replace odd elements in array with -1\n",
        "import numpy as np\n",
        "a11=np.round(np.random.random(3*4)*100).reshape(3,4)\n",
        "a11[a11%2!=0]=-1\n",
        "a11"
      ],
      "metadata": {
        "colab": {
          "base_uri": "https://localhost:8080/"
        },
        "id": "xa9-Zr-mIAGU",
        "outputId": "4f7262a6-fc38-49c7-e041-7a6b7c471eb9"
      },
      "execution_count": null,
      "outputs": [
        {
          "output_type": "execute_result",
          "data": {
            "text/plain": [
              "array([[-1., -1., 38., -1.],\n",
              "       [52., -1., -1.,  2.],\n",
              "       [-1., 10., -1., -1.]])"
            ]
          },
          "metadata": {},
          "execution_count": 11
        }
      ]
    },
    {
      "cell_type": "code",
      "source": [
        "#Q17\n",
        "import numpy as np\n",
        "a1=np.array([6,3,1,5,8])\n",
        "a2=np.array([3,2,1,7,2])\n",
        "print(np.maximum(a1,a2))\n",
        "#np.maximum() function performs element-wise maximum and returns the maximum at each position."
      ],
      "metadata": {
        "colab": {
          "base_uri": "https://localhost:8080/"
        },
        "id": "9756LI9PKRFO",
        "outputId": "9d6f51f9-756a-4787-a579-5ccb5fcf2bab"
      },
      "execution_count": null,
      "outputs": [
        {
          "output_type": "stream",
          "name": "stdout",
          "text": [
            "[6 3 1 7 8]\n"
          ]
        }
      ]
    },
    {
      "cell_type": "code",
      "source": [
        "#We now go through solutions----The better ones"
      ],
      "metadata": {
        "id": "bHnYrYQlSV_U"
      },
      "execution_count": null,
      "outputs": []
    },
    {
      "cell_type": "code",
      "source": [
        "#Q1.Create a null vector with size 10 but 5th value is 1.\n",
        "import numpy as np\n",
        "a11=np.empty(10)\n",
        "a11"
      ],
      "metadata": {
        "colab": {
          "base_uri": "https://localhost:8080/"
        },
        "id": "NXMx6C6IVVnj",
        "outputId": "6b47ab75-7662-49a4-b9ea-26efd002a252"
      },
      "execution_count": null,
      "outputs": [
        {
          "output_type": "execute_result",
          "data": {
            "text/plain": [
              "array([0.0e+000, 4.9e-324, 9.9e-324, 1.5e-323, 2.0e-323, 2.5e-323,\n",
              "       3.0e-323, 3.5e-323, 4.0e-323, 4.4e-323])"
            ]
          },
          "metadata": {},
          "execution_count": 15
        }
      ]
    },
    {
      "cell_type": "code",
      "source": [
        "#np.empty doesnot initialize the array elements, they just allocate memory for the array without setting values."
      ],
      "metadata": {
        "id": "kz_GbwowXzLf"
      },
      "execution_count": null,
      "outputs": []
    },
    {
      "cell_type": "code",
      "source": [
        "#np.empty doesnot initialize the array elements, they just allocate memory for the array without setting values.\n",
        "#Q1.Create a null vector of size 10 where 5th element is 1.\n",
        "import numpy as np\n",
        "n11=np.nan*np.empty(10)\n",
        "n11[4]=1\n",
        "n11"
      ],
      "metadata": {
        "colab": {
          "base_uri": "https://localhost:8080/"
        },
        "id": "q4hvBl5yYJUZ",
        "outputId": "044d1df6-bdb5-4b73-8f1e-71070a00383d"
      },
      "execution_count": null,
      "outputs": [
        {
          "output_type": "execute_result",
          "data": {
            "text/plain": [
              "array([nan, nan, nan, nan,  1., nan, nan, nan, nan, nan])"
            ]
          },
          "metadata": {},
          "execution_count": 19
        }
      ]
    },
    {
      "cell_type": "code",
      "source": [
        "#Q2. Ask user to input 2 numbers a and b, Create a random array of shape (a,b) and also avg of the array?\n",
        "import numpy as np\n",
        "a,b=list(map(int,input().split()))\n",
        "a11=np.round(np.random.random((a,b))*100)\n",
        "print(a11)\n",
        "print(a11.mean())"
      ],
      "metadata": {
        "colab": {
          "base_uri": "https://localhost:8080/"
        },
        "id": "rH81fjf2bR-m",
        "outputId": "b4af5994-c2eb-4546-d968-e3007072b6e2"
      },
      "execution_count": null,
      "outputs": [
        {
          "output_type": "stream",
          "name": "stdout",
          "text": [
            "3 5\n",
            "[[52. 75. 69. 86. 28.]\n",
            " [62.  3. 12. 76. 87.]\n",
            " [56. 15. 37. 26. 40.]]\n",
            "48.266666666666666\n"
          ]
        }
      ]
    },
    {
      "cell_type": "code",
      "source": [
        "#Q3. Write a function to create a 2D array with 1 on the border and 0 inside. Take 2-D array shape of (a,b) as parameter to the function?\n",
        "import numpy as np\n",
        "def murmu(a,b):\n",
        "  a11=np.ones((a,b))\n",
        "  a11[1:-1,1:-1]=0\n",
        "  return a11\n",
        "murmu(5,5)\n",
        "#a11[1:-1,1:-1] means 1st row till second-last row and first column till second-last column"
      ],
      "metadata": {
        "colab": {
          "base_uri": "https://localhost:8080/"
        },
        "id": "DCSnRVTfhjwv",
        "outputId": "bc8831c5-07a3-4558-cc2c-75ac77faf873"
      },
      "execution_count": null,
      "outputs": [
        {
          "output_type": "execute_result",
          "data": {
            "text/plain": [
              "array([[1., 1., 1., 1., 1.],\n",
              "       [1., 0., 0., 0., 1.],\n",
              "       [1., 0., 0., 0., 1.],\n",
              "       [1., 0., 0., 0., 1.],\n",
              "       [1., 1., 1., 1., 1.]])"
            ]
          },
          "metadata": {},
          "execution_count": 24
        }
      ]
    },
    {
      "cell_type": "code",
      "source": [
        "#Another way of doing it is as shown below:\n",
        "import numpy as np\n",
        "def murmu1(a,b):\n",
        "  a12=np.zeros((a,b))\n",
        "  a12[:,0]=1 #all rows and 1st column\n",
        "  a12[0,:]=1 #1st row and all columns\n",
        "  a12[-1,:]=1 #last row and all columns\n",
        "  a12[:,-1]=1 #all rows and last column\n",
        "  return a12\n",
        "murmu1(5,6)"
      ],
      "metadata": {
        "colab": {
          "base_uri": "https://localhost:8080/"
        },
        "id": "sHC03fY7tuog",
        "outputId": "72b9dee5-3fd7-41f4-ff59-7ed6efd9b95b"
      },
      "execution_count": null,
      "outputs": [
        {
          "output_type": "execute_result",
          "data": {
            "text/plain": [
              "array([[1., 1., 1., 1., 1., 1.],\n",
              "       [1., 0., 0., 0., 0., 1.],\n",
              "       [1., 0., 0., 0., 0., 1.],\n",
              "       [1., 0., 0., 0., 0., 1.],\n",
              "       [1., 1., 1., 1., 1., 1.]])"
            ]
          },
          "metadata": {},
          "execution_count": 26
        }
      ]
    },
    {
      "cell_type": "code",
      "source": [
        "np.ones((3,4))"
      ],
      "metadata": {
        "colab": {
          "base_uri": "https://localhost:8080/"
        },
        "id": "Al_Ic7emly6z",
        "outputId": "bff8f757-10f0-4a0a-a71f-ecebcd96833e"
      },
      "execution_count": null,
      "outputs": [
        {
          "output_type": "execute_result",
          "data": {
            "text/plain": [
              "array([[1., 1., 1., 1.],\n",
              "       [1., 1., 1., 1.],\n",
              "       [1., 1., 1., 1.]])"
            ]
          },
          "metadata": {},
          "execution_count": 22
        }
      ]
    },
    {
      "cell_type": "code",
      "source": [
        "import numpy as np\n",
        "a12=np.ones((4,5))\n",
        "a12[1:-1,1:-1]=0\n",
        "print(a12)"
      ],
      "metadata": {
        "colab": {
          "base_uri": "https://localhost:8080/"
        },
        "id": "TpS5OAhyw7lE",
        "outputId": "43087e38-4220-4d54-c0f2-244087527158"
      },
      "execution_count": null,
      "outputs": [
        {
          "output_type": "stream",
          "name": "stdout",
          "text": [
            "[[1. 1. 1. 1. 1.]\n",
            " [1. 0. 0. 0. 1.]\n",
            " [1. 0. 0. 0. 1.]\n",
            " [1. 1. 1. 1. 1.]]\n"
          ]
        }
      ]
    },
    {
      "cell_type": "code",
      "source": [
        "#The value of no.random.random() function will be between 0 and 1(where 0 is included but 1 is not). Hence for creating a vector of size\n",
        "#10 with values between 0 and 1(both excluded) we cannot use np.random.random() function."
      ],
      "metadata": {
        "id": "VzUWfUeHyEZh"
      },
      "execution_count": null,
      "outputs": []
    },
    {
      "cell_type": "code",
      "source": [
        "import numpy as np\n",
        "a11=np.random.randint(low=0,high=100,size=(3,4),dtype='int')\n",
        "a11\n",
        "#here the value of low keyword is inclusive but value of high keyword is exclusive"
      ],
      "metadata": {
        "colab": {
          "base_uri": "https://localhost:8080/"
        },
        "id": "rhXWu-xB1Vym",
        "outputId": "41f83700-be69-471c-ed22-c3265fa062f1"
      },
      "execution_count": null,
      "outputs": [
        {
          "output_type": "execute_result",
          "data": {
            "text/plain": [
              "array([[ 6, 25,  5,  2],\n",
              "       [ 9, 46, 48, 27],\n",
              "       [35, 19, 68, 47]])"
            ]
          },
          "metadata": {},
          "execution_count": 31
        }
      ]
    },
    {
      "cell_type": "code",
      "source": [
        "#so there is only 1 way of decisively producing vector of size 10 with values ranging between 0 and 1, both excluded and that can be done\n",
        "#by using np.linspace.\n",
        "#Q4. Create a vector of size 10 with values ranging between 0 and 1, both excluded?\n",
        "import numpy as np\n",
        "a1=np.linspace(0,1,12,endpoint=False)[1:]\n",
        "a1"
      ],
      "metadata": {
        "colab": {
          "base_uri": "https://localhost:8080/"
        },
        "id": "gKd_JVkn2sJI",
        "outputId": "b16f407b-b2d3-423d-e71d-1c62e03c1afe"
      },
      "execution_count": null,
      "outputs": [
        {
          "output_type": "execute_result",
          "data": {
            "text/plain": [
              "array([0.08333333, 0.16666667, 0.25      , 0.33333333, 0.41666667,\n",
              "       0.5       , 0.58333333, 0.66666667, 0.75      , 0.83333333,\n",
              "       0.91666667])"
            ]
          },
          "metadata": {},
          "execution_count": 2
        }
      ]
    },
    {
      "cell_type": "code",
      "source": [
        "a11=np.linspace(0,1,12)[1:-1]\n",
        "a11"
      ],
      "metadata": {
        "colab": {
          "base_uri": "https://localhost:8080/"
        },
        "id": "YorZM3H4G5oj",
        "outputId": "96a0159b-a9c6-48bb-a9dd-335687ebdd55"
      },
      "execution_count": null,
      "outputs": [
        {
          "output_type": "execute_result",
          "data": {
            "text/plain": [
              "array([0.09090909, 0.18181818, 0.27272727, 0.36363636, 0.45454545,\n",
              "       0.54545455, 0.63636364, 0.72727273, 0.81818182, 0.90909091])"
            ]
          },
          "metadata": {},
          "execution_count": 3
        }
      ]
    },
    {
      "cell_type": "code",
      "source": [
        "#Q5. Can you create an identity matrix of shape (3,4)?Please explain?\n",
        "#Answer is No, u cannot create an identity matrix which is of non-square shape\n",
        "import numpy as np\n",
        "a11=np.identity(3)\n",
        "a11"
      ],
      "metadata": {
        "colab": {
          "base_uri": "https://localhost:8080/"
        },
        "id": "bU8GVHVQHHbd",
        "outputId": "fe0d6b4a-1f0b-4df9-f9cb-2e11792d584c"
      },
      "execution_count": null,
      "outputs": [
        {
          "output_type": "execute_result",
          "data": {
            "text/plain": [
              "array([[1., 0., 0.],\n",
              "       [0., 1., 0.],\n",
              "       [0., 0., 1.]])"
            ]
          },
          "metadata": {},
          "execution_count": 4
        }
      ]
    },
    {
      "cell_type": "code",
      "source": [
        "a12=np.eye(4)\n",
        "a12"
      ],
      "metadata": {
        "id": "it4X8b0FJFeA",
        "outputId": "8dabaf48-d81b-4c33-ac98-8e9c8a1ce1d0",
        "colab": {
          "base_uri": "https://localhost:8080/"
        }
      },
      "execution_count": null,
      "outputs": [
        {
          "output_type": "execute_result",
          "data": {
            "text/plain": [
              "array([[1., 0., 0., 0.],\n",
              "       [0., 1., 0., 0.],\n",
              "       [0., 0., 1., 0.],\n",
              "       [0., 0., 0., 1.]])"
            ]
          },
          "metadata": {},
          "execution_count": 5
        }
      ]
    },
    {
      "cell_type": "code",
      "source": [
        "# Q-6: Create a 5x5 matrix with row values ranging from 0 to 4.\n",
        "import numpy as np\n",
        "a11=np.zeros((5,5))\n",
        "a11+=np.arange(5)\n",
        "a11"
      ],
      "metadata": {
        "colab": {
          "base_uri": "https://localhost:8080/"
        },
        "id": "tIOSFcLoCjKV",
        "outputId": "63c8aad5-ec8f-4501-8260-02252d4b8cd9"
      },
      "execution_count": null,
      "outputs": [
        {
          "output_type": "execute_result",
          "data": {
            "text/plain": [
              "array([[0., 1., 2., 3., 4.],\n",
              "       [0., 1., 2., 3., 4.],\n",
              "       [0., 1., 2., 3., 4.],\n",
              "       [0., 1., 2., 3., 4.],\n",
              "       [0., 1., 2., 3., 4.]])"
            ]
          },
          "metadata": {},
          "execution_count": 1
        }
      ]
    },
    {
      "cell_type": "code",
      "source": [
        "# Q-7: Consider a random integer (in range 1 to 100) vector with shape (10,2) representing coordinates,\n",
        "# and coordinates of a point as array is given.\n",
        "# Create an array of distance of each point in the random vectros from the given point. Distance array should be interger type.\n",
        "import numpy as np\n",
        "a11=np.random.randint(1,101,size=(10,2))\n",
        "a12=np.array([2,3])\n",
        "np.sqrt(np.sum((a11-a12)**2,axis=1)).astype('int')"
      ],
      "metadata": {
        "colab": {
          "base_uri": "https://localhost:8080/"
        },
        "id": "loDn1XAOCyqO",
        "outputId": "0458f852-332c-4d13-b71a-dc8c0f8a3a72"
      },
      "execution_count": null,
      "outputs": [
        {
          "output_type": "execute_result",
          "data": {
            "text/plain": [
              "array([ 93,  76,  59,  76, 117,  40,  82,  77, 109,  99])"
            ]
          },
          "metadata": {},
          "execution_count": 4
        }
      ]
    },
    {
      "cell_type": "code",
      "source": [
        "# Q-8: Consider a (6,7,8) shape array, what is the index (x,y,z) of the 100th element?\n",
        "import numpy as np\n",
        "print(np.unravel_index(100,(6,7,8)))"
      ],
      "metadata": {
        "colab": {
          "base_uri": "https://localhost:8080/"
        },
        "id": "XI_HYv7gDkiD",
        "outputId": "1ede84ff-289a-44a9-d572-9c15b447328c"
      },
      "execution_count": null,
      "outputs": [
        {
          "output_type": "stream",
          "name": "stdout",
          "text": [
            "(1, 5, 4)\n"
          ]
        }
      ]
    },
    {
      "cell_type": "code",
      "source": [
        "# Q-9:You are given a space separated list of numbers. Your task is to print a reversed NumPy array with the element type float.\n",
        "c=\"    a   \"\n",
        "print(c)\n",
        "print(c.strip())\n",
        "#strip() function removes white spaces before and after a string"
      ],
      "metadata": {
        "colab": {
          "base_uri": "https://localhost:8080/"
        },
        "id": "OPoXy6zoFX7T",
        "outputId": "0a829005-cf24-4be7-bdee-a9c6d24a6d38"
      },
      "execution_count": null,
      "outputs": [
        {
          "output_type": "stream",
          "name": "stdout",
          "text": [
            "    a   \n",
            "a\n"
          ]
        }
      ]
    },
    {
      "cell_type": "code",
      "source": [
        "a1,b1=input().strip().split()\n",
        "print(a1,b1)\n",
        "#As you can see strip() function is used to strip white-spaces that come in the strings earlier or later.  The split() when you donot pass\n",
        "#any white space by default then it splits on the basis of white-space present in between the strings."
      ],
      "metadata": {
        "colab": {
          "base_uri": "https://localhost:8080/"
        },
        "id": "iEYSTC0G3GqJ",
        "outputId": "cb32af7a-5f20-4790-9942-9095fb140cd5"
      },
      "execution_count": null,
      "outputs": [
        {
          "output_type": "stream",
          "name": "stdout",
          "text": [
            "2    3\n",
            "2 3\n"
          ]
        }
      ]
    },
    {
      "cell_type": "code",
      "source": [
        "a2,b2=input().split()\n",
        "print(a2,b2)"
      ],
      "metadata": {
        "colab": {
          "base_uri": "https://localhost:8080/"
        },
        "id": "mO9ULOrX35_l",
        "outputId": "d44db281-41cf-4ca5-87c3-0a37b8eaa485"
      },
      "execution_count": null,
      "outputs": [
        {
          "output_type": "stream",
          "name": "stdout",
          "text": [
            "   2   3\n",
            "2 3\n"
          ]
        }
      ]
    },
    {
      "cell_type": "code",
      "source": [
        "#Q-9 You are given a space separated list of numbers. Your task is to print a reversed NumPy array with the element type float.\n",
        "import numpy as np\n",
        "a1=input().split()[::-1]\n",
        "print(np.array(a1).astype('float'))"
      ],
      "metadata": {
        "colab": {
          "base_uri": "https://localhost:8080/"
        },
        "id": "RDfHJojZ6xHR",
        "outputId": "97e15572-04c4-4172-c84b-0f57a6988d75"
      },
      "execution_count": null,
      "outputs": [
        {
          "output_type": "stream",
          "name": "stdout",
          "text": [
            "1 2 3 4 -8 -10\n",
            "[-10.  -8.   4.   3.   2.   1.]\n"
          ]
        }
      ]
    },
    {
      "cell_type": "code",
      "source": [
        "#Q10 Count the number of elements of a numpy array?\n",
        "import numpy as np\n",
        "a11=np.array([[1,2,3],\n",
        "              [4,5,6],\n",
        "              [7,8,9],\n",
        "              [10,11,12]])\n",
        "a11.size"
      ],
      "metadata": {
        "id": "wFCuFhkT7Xe7",
        "colab": {
          "base_uri": "https://localhost:8080/"
        },
        "outputId": "c4363694-f6bb-4b90-abb3-9288f6a97b91"
      },
      "execution_count": null,
      "outputs": [
        {
          "output_type": "execute_result",
          "data": {
            "text/plain": [
              "12"
            ]
          },
          "metadata": {},
          "execution_count": 10
        }
      ]
    },
    {
      "cell_type": "code",
      "source": [
        "a12=np.array([1,2])\n",
        "a12.size\n",
        "#as you can see a12.size returns the number of elements in a array."
      ],
      "metadata": {
        "colab": {
          "base_uri": "https://localhost:8080/"
        },
        "id": "AGQ-kRUIHI5j",
        "outputId": "0d6e3960-53e5-40d3-f7bc-19a2a76c5eab"
      },
      "execution_count": null,
      "outputs": [
        {
          "output_type": "execute_result",
          "data": {
            "text/plain": [
              "2"
            ]
          },
          "metadata": {},
          "execution_count": 12
        }
      ]
    },
    {
      "cell_type": "code",
      "source": [
        "# Q11. Create a Python function to calculate the Softmax of the given numpy 1D array.\n",
        "# The function only accepts the numpy 1D array, otherwise raise error.\n",
        "def softmax(arr):\n",
        "  s=np.sum(np.exp(arr))\n",
        "  return np.exp(arr)/s\n",
        "softmax([86.03331084, 37.7285648,  48.64908087, 87.16563062, 38.40852563, 37.20006318])"
      ],
      "metadata": {
        "colab": {
          "base_uri": "https://localhost:8080/"
        },
        "id": "0pTygqk9KS-r",
        "outputId": "5ad7db99-6e51-4f89-e88f-0a6ce1ca586e"
      },
      "execution_count": null,
      "outputs": [
        {
          "output_type": "execute_result",
          "data": {
            "text/plain": [
              "array([2.43733248e-01, 2.56112114e-22, 1.41628283e-17, 7.56266752e-01,\n",
              "       5.05514197e-22, 1.50974911e-22])"
            ]
          },
          "metadata": {},
          "execution_count": 13
        }
      ]
    },
    {
      "cell_type": "code",
      "source": [
        "#But we also have to ensure that the input argument should be a numpy array of 1 dimension.\n",
        "import numpy as np\n",
        "def softmax1(arr):\n",
        "  if type(arr)!=np.ndarray:\n",
        "    raise TypeError(\"Type array please\")\n",
        "  if arr.ndim!=1:\n",
        "    raise TypeError(\"Dimension can only be 1\")\n",
        "  s=np.sum(np.exp(arr))\n",
        "  return np.exp(arr)/s\n",
        "softmax1([86.03331084, 37.7285648,  48.64908087, 87.16563062, 38.40852563, 37.20006318])"
      ],
      "metadata": {
        "colab": {
          "base_uri": "https://localhost:8080/",
          "height": 333
        },
        "id": "59CpeOKvLo1r",
        "outputId": "1cc3414a-5df7-4c67-b6c2-53ad5a9b2f2a"
      },
      "execution_count": null,
      "outputs": [
        {
          "output_type": "error",
          "ename": "TypeError",
          "evalue": "ignored",
          "traceback": [
            "\u001b[0;31m---------------------------------------------------------------------------\u001b[0m",
            "\u001b[0;31mTypeError\u001b[0m                                 Traceback (most recent call last)",
            "\u001b[0;32m<ipython-input-15-2d8164aaa675>\u001b[0m in \u001b[0;36m<cell line: 10>\u001b[0;34m()\u001b[0m\n\u001b[1;32m      8\u001b[0m   \u001b[0ms\u001b[0m\u001b[0;34m=\u001b[0m\u001b[0mnp\u001b[0m\u001b[0;34m.\u001b[0m\u001b[0msum\u001b[0m\u001b[0;34m(\u001b[0m\u001b[0mnp\u001b[0m\u001b[0;34m.\u001b[0m\u001b[0mexp\u001b[0m\u001b[0;34m(\u001b[0m\u001b[0marr\u001b[0m\u001b[0;34m)\u001b[0m\u001b[0;34m)\u001b[0m\u001b[0;34m\u001b[0m\u001b[0;34m\u001b[0m\u001b[0m\n\u001b[1;32m      9\u001b[0m   \u001b[0;32mreturn\u001b[0m \u001b[0mnp\u001b[0m\u001b[0;34m.\u001b[0m\u001b[0mexp\u001b[0m\u001b[0;34m(\u001b[0m\u001b[0marr\u001b[0m\u001b[0;34m)\u001b[0m\u001b[0;34m/\u001b[0m\u001b[0ms\u001b[0m\u001b[0;34m\u001b[0m\u001b[0;34m\u001b[0m\u001b[0m\n\u001b[0;32m---> 10\u001b[0;31m \u001b[0msoftmax1\u001b[0m\u001b[0;34m(\u001b[0m\u001b[0;34m[\u001b[0m\u001b[0;36m86.03331084\u001b[0m\u001b[0;34m,\u001b[0m \u001b[0;36m37.7285648\u001b[0m\u001b[0;34m,\u001b[0m  \u001b[0;36m48.64908087\u001b[0m\u001b[0;34m,\u001b[0m \u001b[0;36m87.16563062\u001b[0m\u001b[0;34m,\u001b[0m \u001b[0;36m38.40852563\u001b[0m\u001b[0;34m,\u001b[0m \u001b[0;36m37.20006318\u001b[0m\u001b[0;34m]\u001b[0m\u001b[0;34m)\u001b[0m\u001b[0;34m\u001b[0m\u001b[0;34m\u001b[0m\u001b[0m\n\u001b[0m",
            "\u001b[0;32m<ipython-input-15-2d8164aaa675>\u001b[0m in \u001b[0;36msoftmax1\u001b[0;34m(arr)\u001b[0m\n\u001b[1;32m      3\u001b[0m \u001b[0;32mdef\u001b[0m \u001b[0msoftmax1\u001b[0m\u001b[0;34m(\u001b[0m\u001b[0marr\u001b[0m\u001b[0;34m)\u001b[0m\u001b[0;34m:\u001b[0m\u001b[0;34m\u001b[0m\u001b[0;34m\u001b[0m\u001b[0m\n\u001b[1;32m      4\u001b[0m   \u001b[0;32mif\u001b[0m \u001b[0mtype\u001b[0m\u001b[0;34m(\u001b[0m\u001b[0marr\u001b[0m\u001b[0;34m)\u001b[0m\u001b[0;34m!=\u001b[0m\u001b[0mnp\u001b[0m\u001b[0;34m.\u001b[0m\u001b[0mndarray\u001b[0m\u001b[0;34m:\u001b[0m\u001b[0;34m\u001b[0m\u001b[0;34m\u001b[0m\u001b[0m\n\u001b[0;32m----> 5\u001b[0;31m     \u001b[0;32mraise\u001b[0m \u001b[0mTypeError\u001b[0m\u001b[0;34m(\u001b[0m\u001b[0;34m\"Type array please\"\u001b[0m\u001b[0;34m)\u001b[0m\u001b[0;34m\u001b[0m\u001b[0;34m\u001b[0m\u001b[0m\n\u001b[0m\u001b[1;32m      6\u001b[0m   \u001b[0;32mif\u001b[0m \u001b[0marr\u001b[0m\u001b[0;34m.\u001b[0m\u001b[0mndim\u001b[0m\u001b[0;34m!=\u001b[0m\u001b[0;36m1\u001b[0m\u001b[0;34m:\u001b[0m\u001b[0;34m\u001b[0m\u001b[0;34m\u001b[0m\u001b[0m\n\u001b[1;32m      7\u001b[0m     \u001b[0;32mraise\u001b[0m \u001b[0mTypeError\u001b[0m\u001b[0;34m(\u001b[0m\u001b[0;34m\"Dimension can only be 1\"\u001b[0m\u001b[0;34m)\u001b[0m\u001b[0;34m\u001b[0m\u001b[0;34m\u001b[0m\u001b[0m\n",
            "\u001b[0;31mTypeError\u001b[0m: Type array please"
          ]
        }
      ]
    },
    {
      "cell_type": "code",
      "source": [
        "softmax1(np.array([86.03331084, 37.7285648,  48.64908087, 87.16563062, 38.40852563, 37.20006318]))"
      ],
      "metadata": {
        "colab": {
          "base_uri": "https://localhost:8080/"
        },
        "id": "O7IIce5nSunK",
        "outputId": "8e92fd17-f633-4544-f39f-bcd3e5ae0e82"
      },
      "execution_count": null,
      "outputs": [
        {
          "output_type": "execute_result",
          "data": {
            "text/plain": [
              "array([2.43733248e-01, 2.56112114e-22, 1.41628283e-17, 7.56266752e-01,\n",
              "       5.05514197e-22, 1.50974911e-22])"
            ]
          },
          "metadata": {},
          "execution_count": 16
        }
      ]
    },
    {
      "cell_type": "code",
      "source": [
        "#reshape(2,-1)----> Here -1 tells numpy to automatically calculate the other dimension using total number of elements in the array and\n",
        "#the other dimension.\n",
        "import numpy as np\n",
        "a11=np.arange(10).reshape(2,-1)\n",
        "a11 #Here -1 automatically calculates that the other dimension is 5\n",
        "#reshape(2,-1) automatically calculates the second dimension using total number of elements in the array and the other dimension."
      ],
      "metadata": {
        "colab": {
          "base_uri": "https://localhost:8080/"
        },
        "id": "oMfaScomS4Ox",
        "outputId": "be4243c9-9add-4ad8-bbf8-64dbfa7516c7"
      },
      "execution_count": null,
      "outputs": [
        {
          "output_type": "execute_result",
          "data": {
            "text/plain": [
              "array([[0, 1, 2, 3, 4],\n",
              "       [5, 6, 7, 8, 9]])"
            ]
          },
          "metadata": {},
          "execution_count": 21
        }
      ]
    },
    {
      "cell_type": "code",
      "source": [
        "# Q12.Write a python function that accepts infinite number of numpy arrays and do the vertical stack to them.\n",
        "# Then return that new array as result.\n",
        "# The function only accepts the numpy array, otherwise raise error.\n",
        "import numpy as np\n",
        "def mnm(*arg):\n",
        "  for i in arg:\n",
        "    if type(i)!=np.ndarray:\n",
        "      raise TypeError(\"It should be a numpy array\")\n",
        "  return np.vstack(arg)\n",
        "a11=np.arange(10).reshape(2,-1)\n",
        "a11\n",
        "a12=np.repeat(1,10).reshape(2,-1)\n",
        "a12\n",
        "mnm(a11,a12)\n",
        "#np.repeat(1,10) repeats 1 10 times in the array."
      ],
      "metadata": {
        "colab": {
          "base_uri": "https://localhost:8080/"
        },
        "id": "VL4gQ6DLZwJl",
        "outputId": "a483bd3c-7f4c-431c-d533-3372ec29eccb"
      },
      "execution_count": null,
      "outputs": [
        {
          "output_type": "execute_result",
          "data": {
            "text/plain": [
              "array([[0, 1, 2, 3, 4],\n",
              "       [5, 6, 7, 8, 9],\n",
              "       [1, 1, 1, 1, 1],\n",
              "       [1, 1, 1, 1, 1]])"
            ]
          },
          "metadata": {},
          "execution_count": 23
        }
      ]
    },
    {
      "cell_type": "code",
      "source": [
        "import numpy as np\n",
        "a11=np.random.random(10)\n",
        "a11"
      ],
      "metadata": {
        "colab": {
          "base_uri": "https://localhost:8080/"
        },
        "id": "o9ZUIG34qD7C",
        "outputId": "0ffeef32-e3b2-4de6-8ccb-ed6275b91091"
      },
      "execution_count": null,
      "outputs": [
        {
          "output_type": "execute_result",
          "data": {
            "text/plain": [
              "array([0.55925251, 0.26977005, 0.80915179, 0.45254457, 0.48162271,\n",
              "       0.94729518, 0.26842812, 0.83522357, 0.74470498, 0.53084176])"
            ]
          },
          "metadata": {},
          "execution_count": 24
        }
      ]
    },
    {
      "cell_type": "code",
      "source": [
        "a12=np.random.random((2,5))\n",
        "a12"
      ],
      "metadata": {
        "colab": {
          "base_uri": "https://localhost:8080/"
        },
        "id": "M78ZVNMKqZG6",
        "outputId": "c98c88ba-2257-4474-863b-14b99b931c4b"
      },
      "execution_count": null,
      "outputs": [
        {
          "output_type": "execute_result",
          "data": {
            "text/plain": [
              "array([[0.63038167, 0.53838779, 0.98624777, 0.66069176, 0.18510129],\n",
              "       [0.36318766, 0.21150029, 0.86062948, 0.88658433, 0.82642762]])"
            ]
          },
          "metadata": {},
          "execution_count": 25
        }
      ]
    },
    {
      "cell_type": "code",
      "source": [
        "#Q13.Create a python function named date_array that accepts two dates as string format and returns a numpy array of dates between those 2 dates.\n",
        "#  The function only accept 2 strings, otherwise raise error. The date format should be like this only: 2022-12-6.\n",
        "# The end date should be included and for simplicity, choose dates from a same year.\n",
        "import numpy as np\n",
        "def date_array(start:str,end:str):\n",
        "  print(start,end)\n",
        "  print(type(start))\n",
        "date_array(2,3)\n",
        "#start:str,end:str is just a hint to the developer about the type of arguments expected by the function. It is called type-hints\n",
        "#type-hints are not enforced by interpreter meaning that we dont get any error even if the we pass non-string datatypes as arguments."
      ],
      "metadata": {
        "colab": {
          "base_uri": "https://localhost:8080/"
        },
        "id": "dp8M1WOjqfvW",
        "outputId": "637d4116-a8dc-411d-8ea5-a1dcc699ea01"
      },
      "execution_count": null,
      "outputs": [
        {
          "output_type": "stream",
          "name": "stdout",
          "text": [
            "2 3\n",
            "<class 'int'>\n"
          ]
        }
      ]
    },
    {
      "cell_type": "code",
      "source": [
        "import numpy as np\n",
        "def date_array(**kwargs):\n",
        "  if len(kwargs)!=2:\n",
        "    raise TypeError(\"Only 2 keyword arguments please\")\n",
        "  months={'01':'31','02':'28','03':'31','04':'30','05':'31','06':'30','07':'31','08':'31','09':'30','10':'31','11':'30','12':'31'}\n",
        "  laser=kwargs['end'].split('-')\n",
        "  laster=kwargs['end'].split('-')[-1]\n",
        "  laster1=int(laster)+1\n",
        "  if laster1>int(months[laser[-2]]):\n",
        "    a2=laster1-int(months[laser[-2]])\n",
        "    laser[-1]=f\"0{a2}\" if a2<10 else f\"{a2}\"\n",
        "    a1=int(laser[-2])+1\n",
        "    laser[-2]=f\"0{a1}\" if a1<10 else f\"{a1}\"\n",
        "  else:\n",
        "    laser[-1]=f\"0{laster1}\" if laster1<10 else f\"{laster1}\"\n",
        "  ender='-'.join(laser)\n",
        "  return np.arange(kwargs['start'],ender,dtype='datetime64')\n",
        "date_array(start='2022-11-01',end='2022-12-4')\n",
        "\n"
      ],
      "metadata": {
        "colab": {
          "base_uri": "https://localhost:8080/"
        },
        "id": "FrYDWLTG2XMX",
        "outputId": "3b336527-8e7e-4af6-9020-17ee8aae8687"
      },
      "execution_count": null,
      "outputs": [
        {
          "output_type": "execute_result",
          "data": {
            "text/plain": [
              "array(['2022-11-01', '2022-11-02', '2022-11-03', '2022-11-04',\n",
              "       '2022-11-05', '2022-11-06', '2022-11-07', '2022-11-08',\n",
              "       '2022-11-09', '2022-11-10', '2022-11-11', '2022-11-12',\n",
              "       '2022-11-13', '2022-11-14', '2022-11-15', '2022-11-16',\n",
              "       '2022-11-17', '2022-11-18', '2022-11-19', '2022-11-20',\n",
              "       '2022-11-21', '2022-11-22', '2022-11-23', '2022-11-24',\n",
              "       '2022-11-25', '2022-11-26', '2022-11-27', '2022-11-28',\n",
              "       '2022-11-29', '2022-11-30', '2022-12-01', '2022-12-02',\n",
              "       '2022-12-03', '2022-12-04'], dtype='datetime64[D]')"
            ]
          },
          "metadata": {},
          "execution_count": 34
        }
      ]
    },
    {
      "cell_type": "code",
      "source": [
        "#Q13\n",
        "import numpy as np\n",
        "def date_array(**kwargs):\n",
        "  month={'01':'31','02':'28','03':'31','04':'30','05':'31','06':'30','07':'31','08':'31','09':'30','10':'31','11':'30','12':'31'}\n",
        "  laster=kwargs['end'].split('-')\n",
        "  last1=int(laster[-1])+1\n",
        "  if last1>int(month[laster[-2]]):\n",
        "    a1=int(month[laster[-2]])\n",
        "    a2=last1-a1\n",
        "    laster[-1]=f\"0{a2}\" if a2<10 else f\"{a2}\"\n",
        "    a3=int(laster[-2])+1\n",
        "    laster[-2]=f\"0{a3}\" if a3<10 else f\"{a3}\"\n",
        "  else:\n",
        "    a4=last1\n",
        "    laster[-1]=f\"0{a4}\" if a4<10 else f\"{a4}\"\n",
        "  ending='-'.join(laster)\n",
        "  return np.arange(kwargs['start'],ending,dtype='datetime64')\n",
        "date_array(start='2022-11-01',end='2022-11-30')\n",
        "#As the np.arange() function always excludes the last limit so we need to increase the day part but in this case like when end='2022-11-30'\n",
        "#and we increase day by 1 to '2022-11-31' then that would be invalid as November only has 30 days so we enter if loop, there the additional\n",
        "#day is added to next month and then month is incremented and at the end the changed date is returned using arange."
      ],
      "metadata": {
        "colab": {
          "base_uri": "https://localhost:8080/"
        },
        "id": "3-ICe_WZLAQ1",
        "outputId": "bb75a9e0-5352-4425-837d-d7b832ea4079"
      },
      "execution_count": null,
      "outputs": [
        {
          "output_type": "execute_result",
          "data": {
            "text/plain": [
              "array(['2022-11-01', '2022-11-02', '2022-11-03', '2022-11-04',\n",
              "       '2022-11-05', '2022-11-06', '2022-11-07', '2022-11-08',\n",
              "       '2022-11-09', '2022-11-10', '2022-11-11', '2022-11-12',\n",
              "       '2022-11-13', '2022-11-14', '2022-11-15', '2022-11-16',\n",
              "       '2022-11-17', '2022-11-18', '2022-11-19', '2022-11-20',\n",
              "       '2022-11-21', '2022-11-22', '2022-11-23', '2022-11-24',\n",
              "       '2022-11-25', '2022-11-26', '2022-11-27', '2022-11-28',\n",
              "       '2022-11-29', '2022-11-30'], dtype='datetime64[D]')"
            ]
          },
          "metadata": {},
          "execution_count": 9
        }
      ]
    },
    {
      "cell_type": "code",
      "source": [
        "import numpy as np\n",
        "def date_array(**kwargs):\n",
        "  if len(kwargs)!=2:\n",
        "    raise TypeError(\"Not only 2 strings, more than 2 strings please\")\n",
        "  month={'01':'31','02':'28','03':'31','04':'30','05':'31','06':'30','07':'31','08':'31','09':'30','10':'31','11':'30','12':'31'}\n",
        "  last=kwargs['end'].split('-')\n",
        "  last1=int(last[-1])+1\n",
        "  if last1>int(month[last[-2]]):\n",
        "    a1=last1-int(month[last[-2]])\n",
        "    last[-1]=f\"0{a1}\" if a1<10 else f\"{a1}\"\n",
        "    a2=int(last[-2])+1\n",
        "    last[-2]=f\"0{a2}\" if a2<10 else f\"{a2}\"\n",
        "  else:\n",
        "    a3=f\"0{last1}\" if last1<10 else f\"{last1}\"\n",
        "    last[-1]=f\"0{a3}\" if a1<10 else f\"{a3}\"\n",
        "  ender='-'.join(last)\n",
        "  return np.arange(kwargs['start'],ender,dtype='datetime64')\n",
        "date_array(start='2022-11-01',end='2022-11-30')\n"
      ],
      "metadata": {
        "colab": {
          "base_uri": "https://localhost:8080/"
        },
        "id": "Dhp-KbaqB3d-",
        "outputId": "aba8e4bd-806d-4af4-916b-13987095ac9d"
      },
      "execution_count": null,
      "outputs": [
        {
          "output_type": "execute_result",
          "data": {
            "text/plain": [
              "array(['2022-11-01', '2022-11-02', '2022-11-03', '2022-11-04',\n",
              "       '2022-11-05', '2022-11-06', '2022-11-07', '2022-11-08',\n",
              "       '2022-11-09', '2022-11-10', '2022-11-11', '2022-11-12',\n",
              "       '2022-11-13', '2022-11-14', '2022-11-15', '2022-11-16',\n",
              "       '2022-11-17', '2022-11-18', '2022-11-19', '2022-11-20',\n",
              "       '2022-11-21', '2022-11-22', '2022-11-23', '2022-11-24',\n",
              "       '2022-11-25', '2022-11-26', '2022-11-27', '2022-11-28',\n",
              "       '2022-11-29', '2022-11-30'], dtype='datetime64[D]')"
            ]
          },
          "metadata": {},
          "execution_count": 3
        }
      ]
    },
    {
      "cell_type": "code",
      "source": [
        "# Q-14: Subtract the mean of each row from a matrix.\n",
        "import numpy as np\n",
        "a11=np.random.randint(1,100,size=(20,5))\n",
        "a12=a11.mean(axis=1)\n",
        "print(a12)\n",
        "a13=a11-a12\n",
        "print(a13)\n",
        "#a11.mean(axis=1) finds out the mean of each row and outputs a 1D array of the shape (20,). Now a12 cannot be subtracted from a11 using\n",
        "#broadcasting rules and even if the shape was (5,) we would still get wrong answers in the results...to get the right answer we would\n",
        "#retain the dimension."
      ],
      "metadata": {
        "colab": {
          "base_uri": "https://localhost:8080/",
          "height": 281
        },
        "id": "U3kvwp1aJoNx",
        "outputId": "1eab4952-384c-4906-9615-98b278bf753e"
      },
      "execution_count": null,
      "outputs": [
        {
          "output_type": "stream",
          "name": "stdout",
          "text": [
            "[58.4 46.  77.6 39.4 61.2 39.6 75.2 55.6 51.6 42.  72.4 24.6 44.4 42.8\n",
            " 58.4 50.4 57.4 28.2 43.2 60. ]\n"
          ]
        },
        {
          "output_type": "error",
          "ename": "ValueError",
          "evalue": "ignored",
          "traceback": [
            "\u001b[0;31m---------------------------------------------------------------------------\u001b[0m",
            "\u001b[0;31mValueError\u001b[0m                                Traceback (most recent call last)",
            "\u001b[0;32m<ipython-input-1-203dfb26aef7>\u001b[0m in \u001b[0;36m<cell line: 6>\u001b[0;34m()\u001b[0m\n\u001b[1;32m      4\u001b[0m \u001b[0ma12\u001b[0m\u001b[0;34m=\u001b[0m\u001b[0ma11\u001b[0m\u001b[0;34m.\u001b[0m\u001b[0mmean\u001b[0m\u001b[0;34m(\u001b[0m\u001b[0maxis\u001b[0m\u001b[0;34m=\u001b[0m\u001b[0;36m1\u001b[0m\u001b[0;34m)\u001b[0m\u001b[0;34m\u001b[0m\u001b[0;34m\u001b[0m\u001b[0m\n\u001b[1;32m      5\u001b[0m \u001b[0mprint\u001b[0m\u001b[0;34m(\u001b[0m\u001b[0ma12\u001b[0m\u001b[0;34m)\u001b[0m\u001b[0;34m\u001b[0m\u001b[0;34m\u001b[0m\u001b[0m\n\u001b[0;32m----> 6\u001b[0;31m \u001b[0ma13\u001b[0m\u001b[0;34m=\u001b[0m\u001b[0ma11\u001b[0m\u001b[0;34m-\u001b[0m\u001b[0ma12\u001b[0m\u001b[0;34m\u001b[0m\u001b[0;34m\u001b[0m\u001b[0m\n\u001b[0m\u001b[1;32m      7\u001b[0m \u001b[0mprint\u001b[0m\u001b[0;34m(\u001b[0m\u001b[0ma13\u001b[0m\u001b[0;34m)\u001b[0m\u001b[0;34m\u001b[0m\u001b[0;34m\u001b[0m\u001b[0m\n\u001b[1;32m      8\u001b[0m \u001b[0;31m#a11.mean(axis=1) finds out the mean of each row and outputs a 1D array of the shape (20,). Now a12 cannot be subtracted from a11 using\u001b[0m\u001b[0;34m\u001b[0m\u001b[0;34m\u001b[0m\u001b[0m\n",
            "\u001b[0;31mValueError\u001b[0m: operands could not be broadcast together with shapes (20,5) (20,) "
          ]
        }
      ]
    },
    {
      "cell_type": "code",
      "source": [
        "#Q 14. Subtract the mean of each row from a matrix?\n",
        "import numpy as np\n",
        "a11=np.random.randint(1,100,size=(20,5))\n",
        "a12=a11.mean(axis=1,keepdims=True)\n",
        "print(a11-a12)"
      ],
      "metadata": {
        "colab": {
          "base_uri": "https://localhost:8080/"
        },
        "id": "vWmFwjBjsZf5",
        "outputId": "d84b561e-8479-4edd-dcf1-e07ce25c6c35"
      },
      "execution_count": null,
      "outputs": [
        {
          "output_type": "stream",
          "name": "stdout",
          "text": [
            "[[ 20.8 -33.2  26.8   2.8 -17.2]\n",
            " [  6.    4.   -8.    3.   -5. ]\n",
            " [-30.2 -10.2  34.8   6.8  -1.2]\n",
            " [ -7.4 -16.4 -42.4  52.6  13.6]\n",
            " [-23.4  13.6  22.6  15.6 -28.4]\n",
            " [  7.6  15.6   2.6  -2.4 -23.4]\n",
            " [ 23.4  18.4  -9.6 -34.6   2.4]\n",
            " [ 22.8 -47.2  10.8 -26.2  39.8]\n",
            " [ -7.6  13.4 -53.6  33.4  14.4]\n",
            " [ 30.6 -36.4   7.6 -12.4  10.6]\n",
            " [ 31.   27.   26.  -25.  -59. ]\n",
            " [-37.2   3.8  25.8 -10.2  17.8]\n",
            " [-14.   46.   -9.  -29.    6. ]\n",
            " [-14.2 -16.2  16.8  38.8 -25.2]\n",
            " [ -9.6  13.4  15.4 -13.6  -5.6]\n",
            " [ 38.8 -19.2 -30.2 -28.2  38.8]\n",
            " [  6.2  16.2  -4.8  25.2 -42.8]\n",
            " [-40.4   5.6  35.6  -2.4   1.6]\n",
            " [ 38.  -46.  -29.   12.   25. ]\n",
            " [-26.8  14.2 -18.8  -9.8  41.2]]\n"
          ]
        }
      ]
    },
    {
      "cell_type": "code",
      "source": [
        "# Q-15: Swap column-1 of array with column-2 in the array.\n",
        "import numpy as np\n",
        "a11=np.arange(9).reshape(3,-1)\n",
        "print(a11)\n",
        "print(a11[:,[0,2,1]])"
      ],
      "metadata": {
        "colab": {
          "base_uri": "https://localhost:8080/"
        },
        "id": "-Mf7a4XDuHbK",
        "outputId": "70eed254-3b99-4f63-fba2-384cb897a278"
      },
      "execution_count": null,
      "outputs": [
        {
          "output_type": "stream",
          "name": "stdout",
          "text": [
            "[[0 1 2]\n",
            " [3 4 5]\n",
            " [6 7 8]]\n",
            "[[0 2 1]\n",
            " [3 5 4]\n",
            " [6 8 7]]\n"
          ]
        }
      ]
    },
    {
      "cell_type": "code",
      "source": [
        "# Q-16: Replace odd elements in arrays with -1.\n",
        "import numpy as np\n",
        "a11=np.arange(9).reshape(3,-1)\n",
        "print(a11)\n",
        "a11[a11%2==1]=-1\n",
        "print(a11)"
      ],
      "metadata": {
        "colab": {
          "base_uri": "https://localhost:8080/"
        },
        "id": "aBSEDcWZz7sG",
        "outputId": "1c3fb5a4-60e5-4084-cb42-161183845596"
      },
      "execution_count": null,
      "outputs": [
        {
          "output_type": "stream",
          "name": "stdout",
          "text": [
            "[[0 1 2]\n",
            " [3 4 5]\n",
            " [6 7 8]]\n",
            "[[ 0 -1  2]\n",
            " [-1  4 -1]\n",
            " [ 6 -1  8]]\n"
          ]
        }
      ]
    },
    {
      "cell_type": "code",
      "source": [
        "# Q-17: Given two arrays of same shape make an array of max out of two arrays. (Numpy way)\n",
        "a=np.array([6,3,1,5,8])\n",
        "b=np.array([3,2,1,7,2])\n",
        "a[a<b]=b[a<b]\n",
        "a"
      ],
      "metadata": {
        "colab": {
          "base_uri": "https://localhost:8080/"
        },
        "id": "O0q594jL0bj9",
        "outputId": "45071600-81fa-4023-dbd5-4d863a01fc44"
      },
      "execution_count": null,
      "outputs": [
        {
          "output_type": "execute_result",
          "data": {
            "text/plain": [
              "array([6, 3, 1, 7, 8])"
            ]
          },
          "metadata": {},
          "execution_count": 6
        }
      ]
    },
    {
      "cell_type": "code",
      "source": [
        "# Q-18 Answer below asked questions on given array:\n",
        "# Fetch Every alternate column of the array\n",
        "# Normalise the given array\n",
        "import numpy as np\n",
        "a11=np.random.randint(1,10000,size=40).reshape(8,5)\n",
        "print(a11[:,::2])"
      ],
      "metadata": {
        "colab": {
          "base_uri": "https://localhost:8080/"
        },
        "id": "oQrufnOw35qy",
        "outputId": "e15b93e6-4541-4f2c-b2d3-52413685bf4b"
      },
      "execution_count": null,
      "outputs": [
        {
          "output_type": "stream",
          "name": "stdout",
          "text": [
            "[[4138  355 3664]\n",
            " [6138 3860 6990]\n",
            " [1412 6402 6879]\n",
            " [9649 9643 5805]\n",
            " [3366 4358 5420]\n",
            " [9136 6371 4301]\n",
            " [4087 3873 2422]\n",
            " [8037 8450  325]]\n"
          ]
        }
      ]
    },
    {
      "cell_type": "code",
      "source": [
        "a12=(a11-a11.min())/(a11.max()-a11.min()).astype('float')\n",
        "print(a12)"
      ],
      "metadata": {
        "colab": {
          "base_uri": "https://localhost:8080/"
        },
        "id": "G9cgUbTO6m9z",
        "outputId": "694d999f-f0c0-434d-89f4-3d705e57fd6d"
      },
      "execution_count": null,
      "outputs": [
        {
          "output_type": "stream",
          "name": "stdout",
          "text": [
            "[[4.08944659e-01 8.97039897e-01 3.21750322e-03 9.69540970e-01\n",
            "  3.58108108e-01]\n",
            " [6.23444873e-01 8.07700558e-01 3.79129129e-01 6.43286143e-01\n",
            "  7.14821965e-01]\n",
            " [1.16580867e-01 7.71557272e-01 6.51758902e-01 4.43157443e-01\n",
            "  7.02917203e-01]\n",
            " [1.00000000e+00 5.23595024e-01 9.99356499e-01 7.35735736e-02\n",
            "  5.87730588e-01]\n",
            " [3.26147576e-01 3.21750322e-04 4.32539683e-01 9.47340197e-01\n",
            "  5.46439296e-01]\n",
            " [9.44980695e-01 1.17867868e-01 6.48434148e-01 9.75868726e-01\n",
            "  4.26426426e-01]\n",
            " [4.03474903e-01 7.95581296e-01 3.80523381e-01 6.39425139e-01\n",
            "  2.24903475e-01]\n",
            " [8.27112827e-01 4.36078936e-01 8.71407121e-01 6.99485199e-01\n",
            "  0.00000000e+00]]\n"
          ]
        }
      ]
    },
    {
      "cell_type": "code",
      "source": [
        "import numpy as np\n",
        "a11=np.random.randint(1,40,size=30)\n",
        "print(a11)\n",
        "a11.sort()\n",
        "print(a11)\n",
        "#As you can see a11.sort() function sorts the array permanently. And now from the sorted array the nth largest element can be found out\n",
        "#using a11[-n]\n"
      ],
      "metadata": {
        "colab": {
          "base_uri": "https://localhost:8080/"
        },
        "id": "jbowIu5vBJmn",
        "outputId": "f223e823-650f-4050-fbd6-9c2f09310895"
      },
      "execution_count": null,
      "outputs": [
        {
          "output_type": "stream",
          "name": "stdout",
          "text": [
            "[ 7  7 20 28 28 30 23 17 27 21 25 12 35  5 23 28 31  9 35  9 35  7 12 36\n",
            "  7  8 35 13 19 30]\n",
            "[ 5  7  7  7  7  8  9  9 12 12 13 17 19 20 21 23 23 25 27 28 28 28 30 30\n",
            " 31 35 35 35 35 36]\n"
          ]
        }
      ]
    },
    {
      "cell_type": "code",
      "source": [
        "# Q-19: Write a function which will accept 2 arguments.\n",
        "# First: A 1D numpy array arr\n",
        "# Second: An integer n {Please make sure n<=len(arr)}\n",
        "# Output: The output should be the nth largest item out of the array\n",
        "import numpy as np\n",
        "def khanam(arr,n):\n",
        "  if arr.ndim!=1:\n",
        "    raise TypeError(\"Send only 1D array please\")\n",
        "  if n>len(arr):\n",
        "    raise IndexError(\"Index out of range\")\n",
        "  arr.sort()\n",
        "  return arr[-n]\n",
        "khanam(np.array([12,34,40,7,1,0]),3)"
      ],
      "metadata": {
        "colab": {
          "base_uri": "https://localhost:8080/"
        },
        "id": "ASlZ9qixDKrZ",
        "outputId": "f1e53cf4-1f41-4a1c-ecfb-f2e538ac4d2a"
      },
      "execution_count": null,
      "outputs": [
        {
          "output_type": "execute_result",
          "data": {
            "text/plain": [
              "12"
            ]
          },
          "metadata": {},
          "execution_count": 13
        }
      ]
    },
    {
      "cell_type": "code",
      "source": [
        "khanam(np.array([12,34,40,7,1,0]),1)"
      ],
      "metadata": {
        "colab": {
          "base_uri": "https://localhost:8080/"
        },
        "id": "frhwhMZPHXSf",
        "outputId": "4702f7be-7dcf-4277-cf3b-cdd052bbfe70"
      },
      "execution_count": null,
      "outputs": [
        {
          "output_type": "execute_result",
          "data": {
            "text/plain": [
              "40"
            ]
          },
          "metadata": {},
          "execution_count": 14
        }
      ]
    },
    {
      "cell_type": "code",
      "source": [
        "import numpy as np\n",
        "a11=np.arange(12).reshape(3,-1)\n",
        "a11"
      ],
      "metadata": {
        "colab": {
          "base_uri": "https://localhost:8080/"
        },
        "id": "9j-4kD0-He1k",
        "outputId": "6a45bc2b-067e-4305-b680-ff691a834e5a"
      },
      "execution_count": null,
      "outputs": [
        {
          "output_type": "execute_result",
          "data": {
            "text/plain": [
              "array([[ 0,  1,  2,  3],\n",
              "       [ 4,  5,  6,  7],\n",
              "       [ 8,  9, 10, 11]])"
            ]
          },
          "metadata": {},
          "execution_count": 1
        }
      ]
    },
    {
      "cell_type": "code",
      "source": [
        "np.repeat(a11,1,axis=1)"
      ],
      "metadata": {
        "colab": {
          "base_uri": "https://localhost:8080/"
        },
        "id": "-Qfs9L1UZzeS",
        "outputId": "e9158032-8f82-4be4-8eaf-f2261836ab47"
      },
      "execution_count": null,
      "outputs": [
        {
          "output_type": "execute_result",
          "data": {
            "text/plain": [
              "array([[ 0,  1,  2,  3],\n",
              "       [ 4,  5,  6,  7],\n",
              "       [ 8,  9, 10, 11]])"
            ]
          },
          "metadata": {},
          "execution_count": 6
        }
      ]
    },
    {
      "cell_type": "code",
      "source": [
        "np.repeat(a11,2,axis=0)"
      ],
      "metadata": {
        "colab": {
          "base_uri": "https://localhost:8080/"
        },
        "id": "y7xRi5zAa60J",
        "outputId": "4f4f5f4f-6fc9-4ebd-c248-fa180b3b1ee1"
      },
      "execution_count": null,
      "outputs": [
        {
          "output_type": "execute_result",
          "data": {
            "text/plain": [
              "array([[ 0,  1,  2,  3],\n",
              "       [ 0,  1,  2,  3],\n",
              "       [ 4,  5,  6,  7],\n",
              "       [ 4,  5,  6,  7],\n",
              "       [ 8,  9, 10, 11],\n",
              "       [ 8,  9, 10, 11]])"
            ]
          },
          "metadata": {},
          "execution_count": 7
        }
      ]
    },
    {
      "cell_type": "code",
      "source": [
        "np.repeat(a11,2,axis=1)"
      ],
      "metadata": {
        "colab": {
          "base_uri": "https://localhost:8080/"
        },
        "id": "NEkmYM4tbGFr",
        "outputId": "2ea54c6b-32e6-4d15-9d39-ec9c2fcf4c73"
      },
      "execution_count": null,
      "outputs": [
        {
          "output_type": "execute_result",
          "data": {
            "text/plain": [
              "array([[ 0,  0,  1,  1,  2,  2,  3,  3],\n",
              "       [ 4,  4,  5,  5,  6,  6,  7,  7],\n",
              "       [ 8,  8,  9,  9, 10, 10, 11, 11]])"
            ]
          },
          "metadata": {},
          "execution_count": 8
        }
      ]
    },
    {
      "cell_type": "code",
      "source": [
        "np.repeat(a11,2)"
      ],
      "metadata": {
        "colab": {
          "base_uri": "https://localhost:8080/"
        },
        "id": "WWDg6GUVbXQW",
        "outputId": "7ec546e8-10e8-4fe3-97ff-4cfdc656d0e2"
      },
      "execution_count": null,
      "outputs": [
        {
          "output_type": "execute_result",
          "data": {
            "text/plain": [
              "array([ 0,  0,  1,  1,  2,  2,  3,  3,  4,  4,  5,  5,  6,  6,  7,  7,  8,\n",
              "        8,  9,  9, 10, 10, 11, 11])"
            ]
          },
          "metadata": {},
          "execution_count": 9
        }
      ]
    },
    {
      "cell_type": "code",
      "source": [
        "np.repeat(a11,1)"
      ],
      "metadata": {
        "colab": {
          "base_uri": "https://localhost:8080/"
        },
        "id": "-PKgEcYhbkVW",
        "outputId": "d867f687-2727-412c-988d-d69e230a9b4c"
      },
      "execution_count": null,
      "outputs": [
        {
          "output_type": "execute_result",
          "data": {
            "text/plain": [
              "array([ 0,  1,  2,  3,  4,  5,  6,  7,  8,  9, 10, 11])"
            ]
          },
          "metadata": {},
          "execution_count": 10
        }
      ]
    },
    {
      "cell_type": "code",
      "source": [
        "#If we do np.repeat(a11,2) then even if the array is greater than 1D array then it would get flattened first before every element is\n",
        "#repeated like this array([0,0,1,1,2,2,3,3,4,4,5,5,6,6,7,7,8,8,9,9]).\n",
        "#On the other hand when we do np.repeat(a11,2,axis=0) then we get array([[0,1,2,3],\n",
        "#                                                                        [0,1,2,3],\n",
        "#                                                                        [4,5,6,7],\n",
        "#                                                                        [4,5,6,7],\n",
        "#                                                                        [8,9,10,11],\n",
        "#                                                                        [8,9,10,11]])\n",
        "# When you do np.repeat(a11,2,axis=1) then you get array([[0,0,1,1,2,2,3,3],\n",
        "#                                                         [4,4,5,5,6,6,7,7],\n",
        "#                                                         [8,8,9,9,10,10,11,11]])"
      ],
      "metadata": {
        "id": "kuphN2ZhbwIE"
      },
      "execution_count": null,
      "outputs": []
    },
    {
      "cell_type": "code",
      "source": [
        "import numpy as np\n",
        "a11=np.arange(12).reshape(3,-1)\n",
        "a11"
      ],
      "metadata": {
        "colab": {
          "base_uri": "https://localhost:8080/"
        },
        "id": "y26k8ywniFDn",
        "outputId": "b8a5350a-da6b-4325-b525-41522a5d7736"
      },
      "execution_count": null,
      "outputs": [
        {
          "output_type": "execute_result",
          "data": {
            "text/plain": [
              "array([[ 0,  1,  2,  3],\n",
              "       [ 4,  5,  6,  7],\n",
              "       [ 8,  9, 10, 11]])"
            ]
          },
          "metadata": {},
          "execution_count": 12
        }
      ]
    },
    {
      "cell_type": "code",
      "source": [
        "np.tile(a11,2)\n",
        "#np.tile() is used to repeat an array specified number of times.\n",
        "#np.repeat() is used to repeat elements of array specified number of times.\n",
        "#np.tile() is used to repeat an array specified number of times and np.repeat() function is used to repeat elements of array specified\n",
        "#number of times."
      ],
      "metadata": {
        "colab": {
          "base_uri": "https://localhost:8080/"
        },
        "id": "iImBE9-1kGKe",
        "outputId": "8d112284-3a97-4e19-bfba-36443257dfb6"
      },
      "execution_count": null,
      "outputs": [
        {
          "output_type": "execute_result",
          "data": {
            "text/plain": [
              "array([[ 0,  1,  2,  3,  0,  1,  2,  3],\n",
              "       [ 4,  5,  6,  7,  4,  5,  6,  7],\n",
              "       [ 8,  9, 10, 11,  8,  9, 10, 11]])"
            ]
          },
          "metadata": {},
          "execution_count": 15
        }
      ]
    },
    {
      "cell_type": "code",
      "source": [
        "# Q-20: Create the following pattern without hardcoding. Use only numpy functions and the below input array a.\n",
        "import numpy as np\n",
        "a=np.array([1,2,3])\n",
        "np.hstack([np.repeat(a,3),np.tile(a,3)])"
      ],
      "metadata": {
        "colab": {
          "base_uri": "https://localhost:8080/"
        },
        "id": "m5sBFQghntXH",
        "outputId": "bb7744b2-02c1-48da-923e-217633439fcb"
      },
      "execution_count": null,
      "outputs": [
        {
          "output_type": "execute_result",
          "data": {
            "text/plain": [
              "array([1, 1, 1, 2, 2, 2, 3, 3, 3, 1, 2, 3, 1, 2, 3, 1, 2, 3])"
            ]
          },
          "metadata": {},
          "execution_count": 16
        }
      ]
    },
    {
      "cell_type": "code",
      "source": [
        "import numpy as np\n",
        "a=np.array([1,2,3])\n",
        "np.hstack([np.repeat(a,3),np.tile(a,3)])"
      ],
      "metadata": {
        "colab": {
          "base_uri": "https://localhost:8080/"
        },
        "id": "Hc-hDxtBsHUq",
        "outputId": "d417ffb9-43af-456e-c21e-2809c02b97b5"
      },
      "execution_count": null,
      "outputs": [
        {
          "output_type": "execute_result",
          "data": {
            "text/plain": [
              "array([1, 1, 1, 2, 2, 2, 3, 3, 3, 1, 2, 3, 1, 2, 3, 1, 2, 3])"
            ]
          },
          "metadata": {},
          "execution_count": 17
        }
      ]
    },
    {
      "cell_type": "code",
      "source": [
        "a=[i for i in range(10000000)]\n",
        "b=[i for i in range(10000000,20000000)]\n",
        "c=[]\n",
        "import time\n",
        "start=time.time()\n",
        "for i in range(len(a)):\n",
        "  c.append(a[i]+b[i])\n",
        "print(time.time()-start)"
      ],
      "metadata": {
        "colab": {
          "base_uri": "https://localhost:8080/"
        },
        "id": "V36ZWve7ys_M",
        "outputId": "6ad6cb9c-1928-4a17-d49d-d4659df8c96e"
      },
      "execution_count": null,
      "outputs": [
        {
          "output_type": "stream",
          "name": "stdout",
          "text": [
            "5.546984434127808\n"
          ]
        }
      ]
    },
    {
      "cell_type": "code",
      "source": [
        "import numpy as np\n",
        "a=np.arange(10000000)\n",
        "b=np.arange(10000000,20000000)\n",
        "import time\n",
        "start=time.time()\n",
        "c=a+b\n",
        "print(time.time()-start)\n",
        "#element wise operation on the same number of elements takes much lesser time in case of numpy arrays as compared to element wise operation\n",
        "#using traditional python datatypes no wonder numpy is way faster."
      ],
      "metadata": {
        "colab": {
          "base_uri": "https://localhost:8080/"
        },
        "id": "-OfmSKos4Xx-",
        "outputId": "d0828e77-e9c2-4d47-9072-bf5bb5f660b9"
      },
      "execution_count": null,
      "outputs": [
        {
          "output_type": "stream",
          "name": "stdout",
          "text": [
            "0.07423043251037598\n"
          ]
        }
      ]
    },
    {
      "cell_type": "code",
      "source": [
        "#Numpy is faster because numpy arrays are not referential arrays and secondly they are a static arrays...referential arrays only store the\n",
        "#references of objects."
      ],
      "metadata": {
        "id": "JuihfOiNKtZD"
      },
      "execution_count": null,
      "outputs": []
    },
    {
      "cell_type": "code",
      "source": [
        "a=[i for i in range(10000000)]\n",
        "import sys\n",
        "print(sys.getsizeof(a))"
      ],
      "metadata": {
        "colab": {
          "base_uri": "https://localhost:8080/"
        },
        "id": "_0_gk3W2Mt4x",
        "outputId": "1f144460-f701-4ea8-d14d-d30365ebb000"
      },
      "execution_count": null,
      "outputs": [
        {
          "output_type": "stream",
          "name": "stdout",
          "text": [
            "89095160\n"
          ]
        }
      ]
    },
    {
      "cell_type": "code",
      "source": [
        "import numpy as np\n",
        "a11=np.arange(10000000)\n",
        "print(sys.getsizeof(a11))\n",
        "#By default the integer that we use is int64, we can reduce integer to size 32 and so on.... to reduce size"
      ],
      "metadata": {
        "colab": {
          "base_uri": "https://localhost:8080/"
        },
        "id": "2YqlHIp9XzpA",
        "outputId": "b1ae6515-b42d-49a7-f085-3a862e846877"
      },
      "execution_count": null,
      "outputs": [
        {
          "output_type": "stream",
          "name": "stdout",
          "text": [
            "80000112\n"
          ]
        }
      ]
    },
    {
      "cell_type": "code",
      "source": [
        "import numpy as np\n",
        "a12=np.arange(10000000,dtype='int32')\n",
        "print(sys.getsizeof(a12))"
      ],
      "metadata": {
        "colab": {
          "base_uri": "https://localhost:8080/"
        },
        "id": "th1G_VYRZKx_",
        "outputId": "df4b0e9f-7323-4506-c17d-78b261482195"
      },
      "execution_count": null,
      "outputs": [
        {
          "output_type": "stream",
          "name": "stdout",
          "text": [
            "40000112\n"
          ]
        }
      ]
    },
    {
      "cell_type": "code",
      "source": [
        "import numpy as np\n",
        "a11=np.arange(24).reshape(6,4)\n",
        "a11"
      ],
      "metadata": {
        "colab": {
          "base_uri": "https://localhost:8080/"
        },
        "id": "NUM7m3fVbI8i",
        "outputId": "a2917fb8-1041-4f5f-d1c3-8b5c0a7c4e64"
      },
      "execution_count": null,
      "outputs": [
        {
          "output_type": "execute_result",
          "data": {
            "text/plain": [
              "array([[ 0,  1,  2,  3],\n",
              "       [ 4,  5,  6,  7],\n",
              "       [ 8,  9, 10, 11],\n",
              "       [12, 13, 14, 15],\n",
              "       [16, 17, 18, 19],\n",
              "       [20, 21, 22, 23]])"
            ]
          },
          "metadata": {},
          "execution_count": 1
        }
      ]
    },
    {
      "cell_type": "code",
      "source": [
        "import numpy as np\n",
        "a12=np.arange(12).reshape(4,3)\n",
        "a12"
      ],
      "metadata": {
        "colab": {
          "base_uri": "https://localhost:8080/"
        },
        "id": "w4qab2_EOWxB",
        "outputId": "26d87f8b-83cc-4a72-8b73-4fdd48618c6e"
      },
      "execution_count": null,
      "outputs": [
        {
          "output_type": "execute_result",
          "data": {
            "text/plain": [
              "array([[ 0,  1,  2],\n",
              "       [ 3,  4,  5],\n",
              "       [ 6,  7,  8],\n",
              "       [ 9, 10, 11]])"
            ]
          },
          "metadata": {},
          "execution_count": 2
        }
      ]
    },
    {
      "cell_type": "code",
      "source": [
        "#How do you extract 5 from the above array\n",
        "a12[1,2]\n",
        "#1 represents row and 2 after comma(,) represents column."
      ],
      "metadata": {
        "colab": {
          "base_uri": "https://localhost:8080/"
        },
        "id": "F9We4yDiOiDj",
        "outputId": "80ceef96-a0a0-40d6-ed5a-3191a6d89b1d"
      },
      "execution_count": null,
      "outputs": [
        {
          "output_type": "execute_result",
          "data": {
            "text/plain": [
              "5"
            ]
          },
          "metadata": {},
          "execution_count": 4
        }
      ]
    },
    {
      "cell_type": "code",
      "source": [
        "#How to extract 4,5,7 and 8 from the above array using slicing.\n",
        "a12[1:3,1:3]"
      ],
      "metadata": {
        "colab": {
          "base_uri": "https://localhost:8080/"
        },
        "id": "3BD1QoIOPAoU",
        "outputId": "33aaab79-7069-4886-a70d-1649fb758389"
      },
      "execution_count": null,
      "outputs": [
        {
          "output_type": "execute_result",
          "data": {
            "text/plain": [
              "array([[4, 5],\n",
              "       [7, 8]])"
            ]
          },
          "metadata": {},
          "execution_count": 6
        }
      ]
    },
    {
      "cell_type": "code",
      "source": [
        "#How to extract the 1st,3rd and 4th row.\n",
        "a11"
      ],
      "metadata": {
        "colab": {
          "base_uri": "https://localhost:8080/"
        },
        "id": "2Q1vi1VgRMEI",
        "outputId": "0275dd99-3822-4447-83fd-1a570196b876"
      },
      "execution_count": null,
      "outputs": [
        {
          "output_type": "execute_result",
          "data": {
            "text/plain": [
              "array([[ 0,  1,  2,  3],\n",
              "       [ 4,  5,  6,  7],\n",
              "       [ 8,  9, 10, 11],\n",
              "       [12, 13, 14, 15],\n",
              "       [16, 17, 18, 19],\n",
              "       [20, 21, 22, 23]])"
            ]
          },
          "metadata": {},
          "execution_count": 7
        }
      ]
    },
    {
      "cell_type": "code",
      "source": [
        "#This is how we extract rows randomly from an array(first,third,fourth and sixth rows are extracted in this case)\n",
        "a11[[0,2,3,5]]"
      ],
      "metadata": {
        "colab": {
          "base_uri": "https://localhost:8080/"
        },
        "id": "hfpy2-YbSRzz",
        "outputId": "3bc0caca-c7a5-418e-c22e-576db337df93"
      },
      "execution_count": null,
      "outputs": [
        {
          "output_type": "execute_result",
          "data": {
            "text/plain": [
              "array([[ 0,  1,  2,  3],\n",
              "       [ 8,  9, 10, 11],\n",
              "       [12, 13, 14, 15],\n",
              "       [20, 21, 22, 23]])"
            ]
          },
          "metadata": {},
          "execution_count": 9
        }
      ]
    },
    {
      "cell_type": "code",
      "source": [
        "#How we extract 1st, 3rd and 4th column from the array\n",
        "a11[:,[0,2,3]]"
      ],
      "metadata": {
        "colab": {
          "base_uri": "https://localhost:8080/"
        },
        "id": "st9LBcDRVRV4",
        "outputId": "788207c1-e666-42bd-9a7e-726ddddfe107"
      },
      "execution_count": null,
      "outputs": [
        {
          "output_type": "execute_result",
          "data": {
            "text/plain": [
              "array([[ 0,  2,  3],\n",
              "       [ 4,  6,  7],\n",
              "       [ 8, 10, 11],\n",
              "       [12, 14, 15],\n",
              "       [16, 18, 19],\n",
              "       [20, 22, 23]])"
            ]
          },
          "metadata": {},
          "execution_count": 10
        }
      ]
    },
    {
      "cell_type": "code",
      "source": [
        "#Boolean indexing\n",
        "import numpy as np\n",
        "a11=np.random.randint(1,100,(6,4))\n",
        "a11"
      ],
      "metadata": {
        "colab": {
          "base_uri": "https://localhost:8080/"
        },
        "id": "jNNnPUsJXkwn",
        "outputId": "e7afd5d3-bd35-454b-b163-b3f40625fa1c"
      },
      "execution_count": null,
      "outputs": [
        {
          "output_type": "execute_result",
          "data": {
            "text/plain": [
              "array([[48, 52, 27, 37],\n",
              "       [29, 82, 68, 12],\n",
              "       [70, 64, 46, 84],\n",
              "       [ 2, 12, 49, 61],\n",
              "       [27,  7, 96, 22],\n",
              "       [51, 50, 16, 86]])"
            ]
          },
          "metadata": {},
          "execution_count": 6
        }
      ]
    },
    {
      "cell_type": "code",
      "source": [
        "a11>50"
      ],
      "metadata": {
        "colab": {
          "base_uri": "https://localhost:8080/"
        },
        "id": "faR6iuuf8jFg",
        "outputId": "d6c702c5-b0c2-4024-eea2-825a7444ea66"
      },
      "execution_count": null,
      "outputs": [
        {
          "output_type": "execute_result",
          "data": {
            "text/plain": [
              "array([[False, False,  True, False],\n",
              "       [False,  True, False,  True],\n",
              "       [False, False,  True, False],\n",
              "       [False,  True, False,  True],\n",
              "       [False,  True,  True,  True],\n",
              "       [ True, False, False,  True]])"
            ]
          },
          "metadata": {},
          "execution_count": 2
        }
      ]
    },
    {
      "cell_type": "code",
      "source": [
        "a11[a11>50]"
      ],
      "metadata": {
        "colab": {
          "base_uri": "https://localhost:8080/"
        },
        "id": "QdszKqyS-Ew8",
        "outputId": "7b9d6a94-b225-403b-93c7-7ba93aa6192d"
      },
      "execution_count": null,
      "outputs": [
        {
          "output_type": "execute_result",
          "data": {
            "text/plain": [
              "array([83, 98, 60, 66, 92, 58, 87, 64, 89, 57, 54])"
            ]
          },
          "metadata": {},
          "execution_count": 3
        }
      ]
    },
    {
      "cell_type": "code",
      "source": [
        "#find all numbers greater than 50 and are even\n",
        "a11[(a11>50) & (a11%2==0)]"
      ],
      "metadata": {
        "colab": {
          "base_uri": "https://localhost:8080/"
        },
        "id": "6gBSjU8D-IPf",
        "outputId": "82f8d8c8-74ff-4b3b-edf9-0472400dd34d"
      },
      "execution_count": null,
      "outputs": [
        {
          "output_type": "execute_result",
          "data": {
            "text/plain": [
              "array([98, 60, 66, 92, 58, 64, 54])"
            ]
          },
          "metadata": {},
          "execution_count": 4
        }
      ]
    },
    {
      "cell_type": "code",
      "source": [
        "#find all numbers divisible by 7.\n",
        "a11[a11%7==0]"
      ],
      "metadata": {
        "colab": {
          "base_uri": "https://localhost:8080/"
        },
        "id": "82MFhU1DDsKv",
        "outputId": "46befc82-ad61-4248-85b3-6b08a2aec2ec"
      },
      "execution_count": null,
      "outputs": [
        {
          "output_type": "execute_result",
          "data": {
            "text/plain": [
              "array([49, 98])"
            ]
          },
          "metadata": {},
          "execution_count": 5
        }
      ]
    },
    {
      "cell_type": "code",
      "source": [
        "a11[~(a11%7==0)]\n",
        "#There are 2 ways of doing not operation first by using ~ and second by using !="
      ],
      "metadata": {
        "colab": {
          "base_uri": "https://localhost:8080/"
        },
        "id": "JKnYRYMND8Og",
        "outputId": "d40a11d7-e958-44d3-933d-320369334845"
      },
      "execution_count": null,
      "outputs": [
        {
          "output_type": "execute_result",
          "data": {
            "text/plain": [
              "array([48, 52, 27, 37, 29, 82, 68, 12, 64, 46,  2, 12, 61, 27, 96, 22, 51,\n",
              "       50, 16, 86])"
            ]
          },
          "metadata": {},
          "execution_count": 9
        }
      ]
    },
    {
      "cell_type": "code",
      "source": [
        "a11[a11%7!=0]"
      ],
      "metadata": {
        "colab": {
          "base_uri": "https://localhost:8080/"
        },
        "id": "B3rlVTCoUysQ",
        "outputId": "20ce9d7e-a963-40d9-9391-3ab578a21e44"
      },
      "execution_count": null,
      "outputs": [
        {
          "output_type": "execute_result",
          "data": {
            "text/plain": [
              "array([48, 52, 27, 37, 29, 82, 68, 12, 64, 46,  2, 12, 61, 27, 96, 22, 51,\n",
              "       50, 16, 86])"
            ]
          },
          "metadata": {},
          "execution_count": 8
        }
      ]
    },
    {
      "cell_type": "code",
      "source": [
        "#Broadcasting describes how Numpy treats arrays with different shapes during arithmetic operations. The smaller array is broadcasted\n",
        "#across the larger array so that they have compatible shapes."
      ],
      "metadata": {
        "id": "ah3I7tanVFJO"
      },
      "execution_count": null,
      "outputs": []
    },
    {
      "cell_type": "code",
      "source": [
        "#Broadcasting describes how Numpy treats arrays with different shapes during arithmetic operations. The smaller array is broadcasted\n",
        "#across the larger array so that they have compatible shapes."
      ],
      "metadata": {
        "id": "UP96ScLagUuV"
      },
      "execution_count": null,
      "outputs": []
    },
    {
      "cell_type": "code",
      "source": [
        "#Broadcasting describes how Numpy treats arrays of different shapes during arithmetic operations. The smaller array is broadcasted\n",
        "#across the larger array so that they have compatible shapes."
      ],
      "metadata": {
        "id": "iv4X_W1Ci_8x"
      },
      "execution_count": null,
      "outputs": []
    },
    {
      "cell_type": "code",
      "source": [
        "#Broadcasting rules:\n",
        "#1.When u have 2 arrays where a is a 1D array containing 3 items and b is a 1D array containing 1 item then\n",
        "#a=[1,2,3] and b=[5] (a shape is (3,) and shape of b is (1,)) then resultant shape is (1,3)and 5 is broadcasted across a making\n",
        "#b=[5,5,5].\n",
        "#2.When u have 2 arrays where a is a (3,3) array [[1,1,1],\n",
        "#                                                 [1,1,1],\n",
        "#                                                 [1,1,1]]\n",
        "# and b is a array of shape (3,) [0,1,2] then array b will be reshaped as (1,3) b=[[0,1,2]], now when a is added with b the b will be\n",
        "#broadcasted across a as [[0,1,2],                                  [[1,1,1], [[0,1,2], [[1,2,3],\n",
        "#                         [0,1,2],  and now it will be added as a+b= [1,1,1],+ [0,1,2],= [1,2,3],\n",
        "#                         [0,1,2]]                                   [1,1,1]]  [0,1,2]]  [1,2,3]]\n",
        "#3.When u have 2 arrays where a is (3,1) array [[0], and the second array has shape (3,) b=[0,1,2], now when a is added to b then\n",
        "#                                               [1],\n",
        "#                                               [2]]\n",
        "# both a and b will be broadcasted and resultant will be (3,3) as (3,1) and (1,3) would result in (3,3), Now how will u make this (3,3)\n",
        "#Let us think over it. a is broadcasted to [[0,0,0], and b is broadcasted as [[0,1,2], and now a+b=[[0,0,0], [[0,1,2], [[0,1,2],\n",
        "#                                           [1,1,1],                          [0,1,2],              [1,1,1],+ [0,1,2],= [1,2,3],\n",
        "#                                           [2,2,2]]                          [0,1,2]]              [2,2,2]]  [0,1,2]]  [2,3,4]]"
      ],
      "metadata": {
        "id": "gMbhGuHIoeV7"
      },
      "execution_count": null,
      "outputs": []
    },
    {
      "cell_type": "code",
      "source": [
        "#Broadcasting rules:\n",
        "#1.If dimension of 2 arrays are not the same then dimension with size 1 is extended to the size of the other array.\n",
        "#2.If there is a dimension whose size is not 1 are same as the corresponding dimension in other array then an error will be raised\n",
        "#for example if a has shape (3,1) and b is (1,3) then it is compatible as 3 of a is compatible with 1 of b and 1 of a is compatible with\n",
        "#3 of b, but if a has shape (3,1) and b is (2,1) then it is not compataible as 3 of a is not compatible with 2 of b.\n",
        "#3. If the number of dimensions of two arrays are different then add 1 as dimension to the head of the smaller array."
      ],
      "metadata": {
        "id": "DXwBHaq3fQLH"
      },
      "execution_count": null,
      "outputs": []
    },
    {
      "cell_type": "code",
      "source": [
        "#Broadcasting rules:\n",
        "#1.If the number of dimensions of 2 arrays are different then add 1 as dimension to the head of the smaller array.\n",
        "#2. If the sizes of each dimension of the array donot match then dimension with size 1 is stretched to the size of the other array.\n",
        "#3. If there is a dimension whose size is not 1 in either of the 2 arrays(and is not the same) then it cannot be broadcasted."
      ],
      "metadata": {
        "id": "Wq0VlQJCnmZ0"
      },
      "execution_count": null,
      "outputs": []
    },
    {
      "cell_type": "code",
      "source": [
        "#same shape\n",
        "import numpy as np\n",
        "a11=np.arange(6).reshape(2,3)\n",
        "a12=np.arange(6,12).reshape(2,3)\n",
        "print(a11+a12)"
      ],
      "metadata": {
        "colab": {
          "base_uri": "https://localhost:8080/"
        },
        "id": "IyNO0yQ4AbJ5",
        "outputId": "d9859ea7-7464-4419-fcba-48493b64eff4"
      },
      "execution_count": null,
      "outputs": [
        {
          "output_type": "stream",
          "name": "stdout",
          "text": [
            "[[ 6  8 10]\n",
            " [12 14 16]]\n"
          ]
        }
      ]
    },
    {
      "cell_type": "code",
      "source": [
        "#diff shape\n",
        "import numpy as np\n",
        "a11=np.arange(6).reshape(2,3)\n",
        "a12=np.arange(3).reshape(1,3)\n",
        "print(a11)\n",
        "print(a12)\n",
        "print(a11+a12)"
      ],
      "metadata": {
        "colab": {
          "base_uri": "https://localhost:8080/"
        },
        "id": "vAbDu3C7S4bn",
        "outputId": "46614458-59d9-4eaf-89e3-fb8a07f5f342"
      },
      "execution_count": null,
      "outputs": [
        {
          "output_type": "stream",
          "name": "stdout",
          "text": [
            "[[0 1 2]\n",
            " [3 4 5]]\n",
            "[[0 1 2]]\n",
            "[[0 2 4]\n",
            " [3 5 7]]\n"
          ]
        }
      ]
    },
    {
      "cell_type": "code",
      "source": [
        "a = np.arange(12).reshape(4,3)\n",
        "b = np.arange(3)\n",
        "\n",
        "print(a)\n",
        "print(b)\n",
        "\n",
        "print(a+b)"
      ],
      "metadata": {
        "colab": {
          "base_uri": "https://localhost:8080/"
        },
        "id": "nSYiIHGWTfz9",
        "outputId": "cacd6ca5-e72e-4ca8-d1d1-0534a633856e"
      },
      "execution_count": null,
      "outputs": [
        {
          "output_type": "stream",
          "name": "stdout",
          "text": [
            "[[ 0  1  2]\n",
            " [ 3  4  5]\n",
            " [ 6  7  8]\n",
            " [ 9 10 11]]\n",
            "[0 1 2]\n",
            "[[ 0  2  4]\n",
            " [ 3  5  7]\n",
            " [ 6  8 10]\n",
            " [ 9 11 13]]\n"
          ]
        }
      ]
    },
    {
      "cell_type": "code",
      "source": [
        "a = np.arange(12).reshape(3,4)\n",
        "b = np.arange(3)\n",
        "\n",
        "print(a)\n",
        "print(b)\n",
        "\n",
        "print(a+b)"
      ],
      "metadata": {
        "colab": {
          "base_uri": "https://localhost:8080/",
          "height": 281
        },
        "id": "psBlxveIIX9P",
        "outputId": "4ef3bc54-127c-460b-be04-90080cbc3a5f"
      },
      "execution_count": null,
      "outputs": [
        {
          "output_type": "stream",
          "name": "stdout",
          "text": [
            "[[ 0  1  2  3]\n",
            " [ 4  5  6  7]\n",
            " [ 8  9 10 11]]\n",
            "[0 1 2]\n"
          ]
        },
        {
          "output_type": "error",
          "ename": "ValueError",
          "evalue": "ignored",
          "traceback": [
            "\u001b[0;31m---------------------------------------------------------------------------\u001b[0m",
            "\u001b[0;31mValueError\u001b[0m                                Traceback (most recent call last)",
            "\u001b[0;32m<ipython-input-3-cbe04a5cb298>\u001b[0m in \u001b[0;36m<cell line: 7>\u001b[0;34m()\u001b[0m\n\u001b[1;32m      5\u001b[0m \u001b[0mprint\u001b[0m\u001b[0;34m(\u001b[0m\u001b[0mb\u001b[0m\u001b[0;34m)\u001b[0m\u001b[0;34m\u001b[0m\u001b[0;34m\u001b[0m\u001b[0m\n\u001b[1;32m      6\u001b[0m \u001b[0;34m\u001b[0m\u001b[0m\n\u001b[0;32m----> 7\u001b[0;31m \u001b[0mprint\u001b[0m\u001b[0;34m(\u001b[0m\u001b[0ma\u001b[0m\u001b[0;34m+\u001b[0m\u001b[0mb\u001b[0m\u001b[0;34m)\u001b[0m\u001b[0;34m\u001b[0m\u001b[0;34m\u001b[0m\u001b[0m\n\u001b[0m",
            "\u001b[0;31mValueError\u001b[0m: operands could not be broadcast together with shapes (3,4) (3,) "
          ]
        }
      ]
    },
    {
      "cell_type": "code",
      "source": [
        "a = np.arange(3).reshape(1,3)\n",
        "b = np.arange(3).reshape(3,1)\n",
        "\n",
        "print(a)\n",
        "print(b)\n",
        "\n",
        "print(a+b)"
      ],
      "metadata": {
        "colab": {
          "base_uri": "https://localhost:8080/"
        },
        "id": "9icYHBMUI9CV",
        "outputId": "00e71915-dc2b-45a1-e9d7-823695ef6f7f"
      },
      "execution_count": null,
      "outputs": [
        {
          "output_type": "stream",
          "name": "stdout",
          "text": [
            "[[0 1 2]]\n",
            "[[0]\n",
            " [1]\n",
            " [2]]\n",
            "[[0 1 2]\n",
            " [1 2 3]\n",
            " [2 3 4]]\n"
          ]
        }
      ]
    },
    {
      "cell_type": "code",
      "source": [
        "a = np.arange(3).reshape(1,3)\n",
        "b = np.arange(4).reshape(4,1)\n",
        "\n",
        "print(a)\n",
        "print(b)\n",
        "\n",
        "print(a + b)"
      ],
      "metadata": {
        "colab": {
          "base_uri": "https://localhost:8080/"
        },
        "id": "HR-FOkMNJDao",
        "outputId": "1a09a226-92be-47c6-f0d4-311ea2903a2c"
      },
      "execution_count": null,
      "outputs": [
        {
          "output_type": "stream",
          "name": "stdout",
          "text": [
            "[[0 1 2]]\n",
            "[[0]\n",
            " [1]\n",
            " [2]\n",
            " [3]]\n",
            "[[0 1 2]\n",
            " [1 2 3]\n",
            " [2 3 4]\n",
            " [3 4 5]]\n"
          ]
        }
      ]
    },
    {
      "cell_type": "code",
      "source": [
        "a = np.array([1])\n",
        "# shape -> (1,1)\n",
        "b = np.arange(4).reshape(2,2)\n",
        "# shape -> (2,2)\n",
        "\n",
        "print(a)\n",
        "print(b)\n",
        "\n",
        "print(a+b)"
      ],
      "metadata": {
        "colab": {
          "base_uri": "https://localhost:8080/"
        },
        "id": "P7xf97omJtaE",
        "outputId": "8e8a23e2-9a3b-47c0-9dcc-68622baf2de8"
      },
      "execution_count": null,
      "outputs": [
        {
          "output_type": "stream",
          "name": "stdout",
          "text": [
            "[1]\n",
            "[[0 1]\n",
            " [2 3]]\n",
            "[[1 2]\n",
            " [3 4]]\n"
          ]
        }
      ]
    },
    {
      "cell_type": "code",
      "source": [
        "a = np.arange(12).reshape(3,4)\n",
        "b = np.arange(12).reshape(4,3)\n",
        "\n",
        "print(a)\n",
        "print(b)\n",
        "\n",
        "print(a+b)"
      ],
      "metadata": {
        "colab": {
          "base_uri": "https://localhost:8080/",
          "height": 333
        },
        "id": "u_Jv6jBDTlgp",
        "outputId": "b2436ab7-a1b1-4770-cab8-3e2169d867af"
      },
      "execution_count": null,
      "outputs": [
        {
          "output_type": "stream",
          "name": "stdout",
          "text": [
            "[[ 0  1  2  3]\n",
            " [ 4  5  6  7]\n",
            " [ 8  9 10 11]]\n",
            "[[ 0  1  2]\n",
            " [ 3  4  5]\n",
            " [ 6  7  8]\n",
            " [ 9 10 11]]\n"
          ]
        },
        {
          "output_type": "error",
          "ename": "ValueError",
          "evalue": "ignored",
          "traceback": [
            "\u001b[0;31m---------------------------------------------------------------------------\u001b[0m",
            "\u001b[0;31mValueError\u001b[0m                                Traceback (most recent call last)",
            "\u001b[0;32m<ipython-input-7-c590a65467e5>\u001b[0m in \u001b[0;36m<cell line: 7>\u001b[0;34m()\u001b[0m\n\u001b[1;32m      5\u001b[0m \u001b[0mprint\u001b[0m\u001b[0;34m(\u001b[0m\u001b[0mb\u001b[0m\u001b[0;34m)\u001b[0m\u001b[0;34m\u001b[0m\u001b[0;34m\u001b[0m\u001b[0m\n\u001b[1;32m      6\u001b[0m \u001b[0;34m\u001b[0m\u001b[0m\n\u001b[0;32m----> 7\u001b[0;31m \u001b[0mprint\u001b[0m\u001b[0;34m(\u001b[0m\u001b[0ma\u001b[0m\u001b[0;34m+\u001b[0m\u001b[0mb\u001b[0m\u001b[0;34m)\u001b[0m\u001b[0;34m\u001b[0m\u001b[0;34m\u001b[0m\u001b[0m\n\u001b[0m",
            "\u001b[0;31mValueError\u001b[0m: operands could not be broadcast together with shapes (3,4) (4,3) "
          ]
        }
      ]
    },
    {
      "cell_type": "code",
      "source": [
        "a = np.arange(16).reshape(4,4)\n",
        "b = np.arange(4).reshape(2,2)\n",
        "\n",
        "print(a)\n",
        "print(b)\n",
        "\n",
        "print(a+b)"
      ],
      "metadata": {
        "colab": {
          "base_uri": "https://localhost:8080/",
          "height": 315
        },
        "id": "lYX2Jac_VGHu",
        "outputId": "5d0f6c7e-e159-45a7-e790-209ea2641061"
      },
      "execution_count": null,
      "outputs": [
        {
          "output_type": "stream",
          "name": "stdout",
          "text": [
            "[[ 0  1  2  3]\n",
            " [ 4  5  6  7]\n",
            " [ 8  9 10 11]\n",
            " [12 13 14 15]]\n",
            "[[0 1]\n",
            " [2 3]]\n"
          ]
        },
        {
          "output_type": "error",
          "ename": "ValueError",
          "evalue": "ignored",
          "traceback": [
            "\u001b[0;31m---------------------------------------------------------------------------\u001b[0m",
            "\u001b[0;31mValueError\u001b[0m                                Traceback (most recent call last)",
            "\u001b[0;32m<ipython-input-6-57df50a0058a>\u001b[0m in \u001b[0;36m<cell line: 7>\u001b[0;34m()\u001b[0m\n\u001b[1;32m      5\u001b[0m \u001b[0mprint\u001b[0m\u001b[0;34m(\u001b[0m\u001b[0mb\u001b[0m\u001b[0;34m)\u001b[0m\u001b[0;34m\u001b[0m\u001b[0;34m\u001b[0m\u001b[0m\n\u001b[1;32m      6\u001b[0m \u001b[0;34m\u001b[0m\u001b[0m\n\u001b[0;32m----> 7\u001b[0;31m \u001b[0mprint\u001b[0m\u001b[0;34m(\u001b[0m\u001b[0ma\u001b[0m\u001b[0;34m+\u001b[0m\u001b[0mb\u001b[0m\u001b[0;34m)\u001b[0m\u001b[0;34m\u001b[0m\u001b[0;34m\u001b[0m\u001b[0m\n\u001b[0m",
            "\u001b[0;31mValueError\u001b[0m: operands could not be broadcast together with shapes (4,4) (2,2) "
          ]
        }
      ]
    },
    {
      "cell_type": "code",
      "source": [
        "import numpy as np\n",
        "a11=np.arange(10)\n",
        "np.sin(a11)"
      ],
      "metadata": {
        "id": "ZJtkJyiEVMHd",
        "colab": {
          "base_uri": "https://localhost:8080/"
        },
        "outputId": "97e9299d-e99b-4c51-bef0-f3bf49b55080"
      },
      "execution_count": null,
      "outputs": [
        {
          "output_type": "execute_result",
          "data": {
            "text/plain": [
              "array([ 0.        ,  0.84147098,  0.90929743,  0.14112001, -0.7568025 ,\n",
              "       -0.95892427, -0.2794155 ,  0.6569866 ,  0.98935825,  0.41211849])"
            ]
          },
          "metadata": {},
          "execution_count": 11
        }
      ]
    },
    {
      "cell_type": "code",
      "source": [
        "#sigmoid function\n",
        "#sigmoid function is used in python to normalize arrays and to bring them within range 0 to 1."
      ],
      "metadata": {
        "id": "cnedLJN8a0J0"
      },
      "execution_count": null,
      "outputs": []
    },
    {
      "cell_type": "code",
      "source": [
        "#sigmoid\n",
        "import numpy as np\n",
        "def sigmoid(array):\n",
        "  return 1/(1+np.exp(-(array)))\n",
        "#array is first converted to -(array) and then we take exponent of each item of the array\n",
        "#now 1 is added to each item of the exponent and lastly we do inverse of every item of the array."
      ],
      "metadata": {
        "id": "lyX4jS2kjiqc"
      },
      "execution_count": null,
      "outputs": []
    },
    {
      "cell_type": "code",
      "source": [
        "import numpy as np\n",
        "a=np.arange(100)\n",
        "sigmoid(a)"
      ],
      "metadata": {
        "colab": {
          "base_uri": "https://localhost:8080/"
        },
        "id": "8KmFmy-sln60",
        "outputId": "9796ab9c-7464-48cb-97b0-972a01337211"
      },
      "execution_count": null,
      "outputs": [
        {
          "output_type": "execute_result",
          "data": {
            "text/plain": [
              "array([0.5       , 0.73105858, 0.88079708, 0.95257413, 0.98201379,\n",
              "       0.99330715, 0.99752738, 0.99908895, 0.99966465, 0.99987661,\n",
              "       0.9999546 , 0.9999833 , 0.99999386, 0.99999774, 0.99999917,\n",
              "       0.99999969, 0.99999989, 0.99999996, 0.99999998, 0.99999999,\n",
              "       1.        , 1.        , 1.        , 1.        , 1.        ,\n",
              "       1.        , 1.        , 1.        , 1.        , 1.        ,\n",
              "       1.        , 1.        , 1.        , 1.        , 1.        ,\n",
              "       1.        , 1.        , 1.        , 1.        , 1.        ,\n",
              "       1.        , 1.        , 1.        , 1.        , 1.        ,\n",
              "       1.        , 1.        , 1.        , 1.        , 1.        ,\n",
              "       1.        , 1.        , 1.        , 1.        , 1.        ,\n",
              "       1.        , 1.        , 1.        , 1.        , 1.        ,\n",
              "       1.        , 1.        , 1.        , 1.        , 1.        ,\n",
              "       1.        , 1.        , 1.        , 1.        , 1.        ,\n",
              "       1.        , 1.        , 1.        , 1.        , 1.        ,\n",
              "       1.        , 1.        , 1.        , 1.        , 1.        ,\n",
              "       1.        , 1.        , 1.        , 1.        , 1.        ,\n",
              "       1.        , 1.        , 1.        , 1.        , 1.        ,\n",
              "       1.        , 1.        , 1.        , 1.        , 1.        ,\n",
              "       1.        , 1.        , 1.        , 1.        , 1.        ])"
            ]
          },
          "metadata": {},
          "execution_count": 16
        }
      ]
    },
    {
      "cell_type": "code",
      "source": [
        "#mean-squared error using 2 arrays\n",
        "import numpy as np\n",
        "actual=np.random.randint(1,50,25)\n",
        "predicted=np.random.randint(1,50,25)\n"
      ],
      "metadata": {
        "id": "WBJd12TMn9b0"
      },
      "execution_count": null,
      "outputs": []
    },
    {
      "cell_type": "code",
      "source": [
        "def mean_squared(actual,predicted):\n",
        "  return np.mean()"
      ],
      "metadata": {
        "id": "I93rAXuqwt2f"
      },
      "execution_count": null,
      "outputs": []
    },
    {
      "cell_type": "code",
      "source": [
        "import numpy as np\n",
        "a=np.arange(5)\n",
        "print(np.mean(a))\n",
        "print(np.sum(a))"
      ],
      "metadata": {
        "colab": {
          "base_uri": "https://localhost:8080/"
        },
        "id": "hY9u4PdjxfBa",
        "outputId": "8de24864-3b22-4aad-8ad4-28e3f9278f6e"
      },
      "execution_count": null,
      "outputs": [
        {
          "output_type": "stream",
          "name": "stdout",
          "text": [
            "2.0\n",
            "10\n"
          ]
        }
      ]
    },
    {
      "cell_type": "code",
      "source": [
        "#mean-squared error using 2 arrays\n",
        "import numpy as np\n",
        "actual=np.random.randint(1,50,25)\n",
        "predicted=np.random.randint(1,50,25)"
      ],
      "metadata": {
        "id": "_xnKUKzJ9AQ4"
      },
      "execution_count": null,
      "outputs": []
    },
    {
      "cell_type": "code",
      "source": [
        "def mean_squared(actual,predicted):\n",
        "  return np.mean((actual-predicted)**2)\n",
        "\n",
        "mean_squared(actual,predicted)"
      ],
      "metadata": {
        "colab": {
          "base_uri": "https://localhost:8080/"
        },
        "id": "Qx5IiBOmP4zF",
        "outputId": "0c916f32-c158-4f23-eb3e-b7aed41c7891"
      },
      "execution_count": null,
      "outputs": [
        {
          "output_type": "execute_result",
          "data": {
            "text/plain": [
              "509.44"
            ]
          },
          "metadata": {},
          "execution_count": 2
        }
      ]
    },
    {
      "cell_type": "code",
      "source": [
        "#Working with missing values\n",
        "import numpy as np\n",
        "a11=np.array([1,2,3,4,np.nan,6])\n",
        "a11"
      ],
      "metadata": {
        "colab": {
          "base_uri": "https://localhost:8080/"
        },
        "id": "_lRVaYFJQrsK",
        "outputId": "7399f1d0-4c6a-4544-ca17-2e55db75cd05"
      },
      "execution_count": null,
      "outputs": [
        {
          "output_type": "execute_result",
          "data": {
            "text/plain": [
              "array([ 1.,  2.,  3.,  4., nan,  6.])"
            ]
          },
          "metadata": {},
          "execution_count": 5
        }
      ]
    },
    {
      "cell_type": "code",
      "source": [
        "import numpy as np\n",
        "np.isnan(a11)"
      ],
      "metadata": {
        "colab": {
          "base_uri": "https://localhost:8080/"
        },
        "id": "K1xOwZi6aovX",
        "outputId": "2e92b21d-14ac-4482-b97f-99289cdecefc"
      },
      "execution_count": null,
      "outputs": [
        {
          "output_type": "execute_result",
          "data": {
            "text/plain": [
              "array([False, False, False, False,  True, False])"
            ]
          },
          "metadata": {},
          "execution_count": 6
        }
      ]
    },
    {
      "cell_type": "code",
      "source": [
        "a11[~np.isnan(a11)]\n",
        "#this is how you eliminate all the missing values and choose only the non-missing values."
      ],
      "metadata": {
        "colab": {
          "base_uri": "https://localhost:8080/"
        },
        "id": "xVnATTIlgvi2",
        "outputId": "a171c87e-647a-4aed-c166-c55427a6b725"
      },
      "execution_count": null,
      "outputs": [
        {
          "output_type": "execute_result",
          "data": {
            "text/plain": [
              "array([1., 2., 3., 4., 6.])"
            ]
          },
          "metadata": {},
          "execution_count": 8
        }
      ]
    },
    {
      "cell_type": "code",
      "source": [
        "#working with missing values\n",
        "import numpy as np\n",
        "a11=np.array([1,2,3,4,np.nan,6,np.nan,8])\n",
        "a11"
      ],
      "metadata": {
        "colab": {
          "base_uri": "https://localhost:8080/"
        },
        "id": "hb7kkohpg3Bs",
        "outputId": "86e65ff0-8ea9-4381-9a3b-00880e767369"
      },
      "execution_count": null,
      "outputs": [
        {
          "output_type": "execute_result",
          "data": {
            "text/plain": [
              "array([ 1.,  2.,  3.,  4., nan,  6., nan,  8.])"
            ]
          },
          "metadata": {},
          "execution_count": 9
        }
      ]
    },
    {
      "cell_type": "code",
      "source": [
        "a11[~np.isnan(a11)]"
      ],
      "metadata": {
        "colab": {
          "base_uri": "https://localhost:8080/"
        },
        "id": "5jtANdc9hdhQ",
        "outputId": "25de1075-c473-4664-a25d-4e86938e86a1"
      },
      "execution_count": null,
      "outputs": [
        {
          "output_type": "execute_result",
          "data": {
            "text/plain": [
              "array([1., 2., 3., 4., 6., 8.])"
            ]
          },
          "metadata": {},
          "execution_count": 11
        }
      ]
    },
    {
      "cell_type": "code",
      "source": [
        "#Plotting 2-D graphs\n",
        "#y=x\n",
        "import numpy as np\n",
        "import matplotlib.pyplot as plt\n",
        "x=np.linspace(-10,10,100)\n",
        "y=x\n",
        "plt.plot(x,y)\n"
      ],
      "metadata": {
        "colab": {
          "base_uri": "https://localhost:8080/",
          "height": 447
        },
        "id": "HIq402SBhn4A",
        "outputId": "807e0833-5d1c-4664-c6ac-7ee086e0a6e4"
      },
      "execution_count": null,
      "outputs": [
        {
          "output_type": "execute_result",
          "data": {
            "text/plain": [
              "[<matplotlib.lines.Line2D at 0x7dcbd5f19b10>]"
            ]
          },
          "metadata": {},
          "execution_count": 12
        },
        {
          "output_type": "display_data",
          "data": {
            "text/plain": [
              "<Figure size 640x480 with 1 Axes>"
            ],
            "image/png": "[encoded data removed]"
          },
          "metadata": {}
        }
      ]
    },
    {
      "cell_type": "code",
      "source": [
        "import numpy as np\n",
        "import matplotlib.pyplot as plt\n",
        "x=np.linspace(-10,10,100)\n",
        "y=x\n",
        "plt.plot(x,y)"
      ],
      "metadata": {
        "colab": {
          "base_uri": "https://localhost:8080/",
          "height": 447
        },
        "id": "EKkMH40plgBi",
        "outputId": "9ec3ca23-dcee-4a9c-d115-5ae80bc8369e"
      },
      "execution_count": null,
      "outputs": [
        {
          "output_type": "execute_result",
          "data": {
            "text/plain": [
              "[<matplotlib.lines.Line2D at 0x7dcbd3a52dd0>]"
            ]
          },
          "metadata": {},
          "execution_count": 13
        },
        {
          "output_type": "display_data",
          "data": {
            "text/plain": [
              "<Figure size 640x480 with 1 Axes>"
            ],
            "image/png": "[encoded data removed]"
          },
          "metadata": {}
        }
      ]
    },
    {
      "cell_type": "code",
      "source": [
        "#y=x^2\n",
        "import numpy as np\n",
        "import matplotlib.pyplot as plt\n",
        "x=np.linspace(-10,10,100)\n",
        "y=x**2\n",
        "plt.plot(x,y)\n"
      ],
      "metadata": {
        "colab": {
          "base_uri": "https://localhost:8080/",
          "height": 447
        },
        "id": "FwANi1FNl1re",
        "outputId": "4fe0a6b9-77f5-4a38-eaed-9b4cf3f9c6ce"
      },
      "execution_count": null,
      "outputs": [
        {
          "output_type": "execute_result",
          "data": {
            "text/plain": [
              "[<matplotlib.lines.Line2D at 0x7dcbd39ad030>]"
            ]
          },
          "metadata": {},
          "execution_count": 14
        },
        {
          "output_type": "display_data",
          "data": {
            "text/plain": [
              "<Figure size 640x480 with 1 Axes>"
            ],
            "image/png": "[encoded data removed]"
          },
          "metadata": {}
        }
      ]
    },
    {
      "cell_type": "code",
      "source": [
        "import numpy as np\n",
        "import matplotlib.pyplot as plt\n",
        "x=np.linspace(-10,10,100)\n",
        "y=np.sin(x)\n",
        "plt.plot(x,y)"
      ],
      "metadata": {
        "colab": {
          "base_uri": "https://localhost:8080/",
          "height": 447
        },
        "id": "7FaGI-lsnyq1",
        "outputId": "dee353e4-4d87-475e-cced-147bb03d35c3"
      },
      "execution_count": null,
      "outputs": [
        {
          "output_type": "execute_result",
          "data": {
            "text/plain": [
              "[<matplotlib.lines.Line2D at 0x7dcbd38fee30>]"
            ]
          },
          "metadata": {},
          "execution_count": 15
        },
        {
          "output_type": "display_data",
          "data": {
            "text/plain": [
              "<Figure size 640x480 with 1 Axes>"
            ],
            "image/png": "[encoded data removed]"
          },
          "metadata": {}
        }
      ]
    },
    {
      "cell_type": "code",
      "source": [
        "#y=xlog(x)\n",
        "import numpy as np\n",
        "import matplotlib.pyplot as plt\n",
        "x=np.linspace(-10,10,100)\n",
        "y=x*np.log(x)\n",
        "plt.plot(x,y)\n"
      ],
      "metadata": {
        "colab": {
          "base_uri": "https://localhost:8080/",
          "height": 482
        },
        "id": "F7m5yngZqSqi",
        "outputId": "976a1306-88fb-4f23-d8fe-b3a9c6df6ca8"
      },
      "execution_count": null,
      "outputs": [
        {
          "output_type": "stream",
          "name": "stderr",
          "text": [
            "<ipython-input-16-e9d668fbbc0c>:5: RuntimeWarning: invalid value encountered in log\n",
            "  y=x*np.log(x)\n"
          ]
        },
        {
          "output_type": "execute_result",
          "data": {
            "text/plain": [
              "[<matplotlib.lines.Line2D at 0x7dcbd37a55a0>]"
            ]
          },
          "metadata": {},
          "execution_count": 16
        },
        {
          "output_type": "display_data",
          "data": {
            "text/plain": [
              "<Figure size 640x480 with 1 Axes>"
            ],
            "image/png": "[encoded data removed]"
          },
          "metadata": {}
        }
      ]
    },
    {
      "cell_type": "code",
      "source": [
        "#sigmoid\n",
        "import numpy as np\n",
        "import matplotlib.pyplot as plt\n",
        "x=np.linspace(-10,10,100)\n",
        "y=1/(1+np.exp(-x))\n",
        "plt.plot(x,y)"
      ],
      "metadata": {
        "colab": {
          "base_uri": "https://localhost:8080/",
          "height": 447
        },
        "id": "NDH8IaQFq0u-",
        "outputId": "1b874108-bd62-4409-8faa-c17cdf89e4bf"
      },
      "execution_count": null,
      "outputs": [
        {
          "output_type": "execute_result",
          "data": {
            "text/plain": [
              "[<matplotlib.lines.Line2D at 0x7dcbd377de70>]"
            ]
          },
          "metadata": {},
          "execution_count": 19
        },
        {
          "output_type": "display_data",
          "data": {
            "text/plain": [
              "<Figure size 640x480 with 1 Axes>"
            ],
            "image/png": "[encoded data removed]"
          },
          "metadata": {}
        }
      ]
    },
    {
      "cell_type": "code",
      "source": [
        "#Advantages of numpy over python list\n",
        "# (a).Numpy is faster because numpy n-dimensional arrays are static arrays on the other hand python lists are dynamic arrays,secondly\n",
        "#python lists are referential arrays which stores references of each of the items, so that adds extra time while we try to process\n",
        "#each of the elements.\n",
        "#(b).Element wise operations in python list requires a lot of code while element wise operations in Numpy arrays requires much lesser code\n",
        "#and element wise operations can be done in Numpy using broadcasting rules."
      ],
      "metadata": {
        "id": "ZjqMnKZ2rfmb"
      },
      "execution_count": null,
      "outputs": []
    },
    {
      "cell_type": "code",
      "source": [
        "import numpy as np\n",
        "a11=np.array([[4,3,2],\n",
        "              [8,5,1]])\n",
        "a11"
      ],
      "metadata": {
        "colab": {
          "base_uri": "https://localhost:8080/"
        },
        "id": "dmJ51B84t9b4",
        "outputId": "78f4ed03-427e-464c-b3d1-5d814f989860"
      },
      "execution_count": null,
      "outputs": [
        {
          "output_type": "execute_result",
          "data": {
            "text/plain": [
              "array([[4, 3, 2],\n",
              "       [8, 5, 1]])"
            ]
          },
          "metadata": {},
          "execution_count": 1
        }
      ]
    },
    {
      "cell_type": "code",
      "source": [
        "np.argmin(a11)\n",
        "#np.argmin(a11) returns the index of the minimum value in the flattened array."
      ],
      "metadata": {
        "colab": {
          "base_uri": "https://localhost:8080/"
        },
        "id": "R0jnWG3eNP4p",
        "outputId": "6b7fc539-f7f3-4a37-ebfa-3a7595c1f331"
      },
      "execution_count": null,
      "outputs": [
        {
          "output_type": "execute_result",
          "data": {
            "text/plain": [
              "5"
            ]
          },
          "metadata": {},
          "execution_count": 4
        }
      ]
    },
    {
      "cell_type": "code",
      "source": [
        "#Index of minimum value in the flattened array can be found out by using np.argmin(a11).\n"
      ],
      "metadata": {
        "id": "i4A5krvwQIed"
      },
      "execution_count": null,
      "outputs": []
    },
    {
      "cell_type": "code",
      "source": [
        "import numpy as np\n",
        "np.argmin(a11,axis=0)\n",
        "#Indices of minimum value along each column of a array."
      ],
      "metadata": {
        "colab": {
          "base_uri": "https://localhost:8080/"
        },
        "id": "YmgIsyNRTDID",
        "outputId": "60581aea-eff9-4dfb-9c66-2eb95c0c0fd0"
      },
      "execution_count": null,
      "outputs": [
        {
          "output_type": "execute_result",
          "data": {
            "text/plain": [
              "array([0, 0, 1])"
            ]
          },
          "metadata": {},
          "execution_count": 6
        }
      ]
    },
    {
      "cell_type": "code",
      "source": [
        "import numpy as np\n",
        "np.argmin(a11,axis=1)\n",
        "#Indices of minimum value along each row of a array(axis=1)"
      ],
      "metadata": {
        "colab": {
          "base_uri": "https://localhost:8080/"
        },
        "id": "vdiSDLCWUqs6",
        "outputId": "f3f86715-6699-4071-bb0d-754bd0292d25"
      },
      "execution_count": null,
      "outputs": [
        {
          "output_type": "execute_result",
          "data": {
            "text/plain": [
              "array([2, 2])"
            ]
          },
          "metadata": {},
          "execution_count": 8
        }
      ]
    },
    {
      "cell_type": "code",
      "source": [
        "a11"
      ],
      "metadata": {
        "colab": {
          "base_uri": "https://localhost:8080/"
        },
        "id": "WyejBnp6WPDK",
        "outputId": "c46f656d-ebe3-44c9-ec81-adc3aedf8697"
      },
      "execution_count": null,
      "outputs": [
        {
          "output_type": "execute_result",
          "data": {
            "text/plain": [
              "array([[4, 3, 2],\n",
              "       [8, 5, 1]])"
            ]
          },
          "metadata": {},
          "execution_count": 9
        }
      ]
    },
    {
      "cell_type": "code",
      "source": [
        "import numpy as np\n",
        "np.argmin(a11)\n",
        "#Index of minimum value in a flattened array."
      ],
      "metadata": {
        "colab": {
          "base_uri": "https://localhost:8080/"
        },
        "id": "hYw7BSijWY72",
        "outputId": "0fdec11b-766c-4f92-d59d-c42fc31ca6df"
      },
      "execution_count": null,
      "outputs": [
        {
          "output_type": "execute_result",
          "data": {
            "text/plain": [
              "5"
            ]
          },
          "metadata": {},
          "execution_count": 11
        }
      ]
    },
    {
      "cell_type": "code",
      "source": [
        "np.argmin(a11,axis=0)\n",
        "#Index of minimum value in a along column(axis=0)"
      ],
      "metadata": {
        "colab": {
          "base_uri": "https://localhost:8080/"
        },
        "id": "4AgVMlv2WmSK",
        "outputId": "a6463694-81e6-4593-e709-f7fd2899c195"
      },
      "execution_count": null,
      "outputs": [
        {
          "output_type": "execute_result",
          "data": {
            "text/plain": [
              "array([0, 0, 1])"
            ]
          },
          "metadata": {},
          "execution_count": 12
        }
      ]
    },
    {
      "cell_type": "code",
      "source": [
        "np.argmin(a11,axis=1)\n",
        "#Index of minimum value along rows(axis=1)"
      ],
      "metadata": {
        "colab": {
          "base_uri": "https://localhost:8080/"
        },
        "id": "cQPTMNw0W0bf",
        "outputId": "e1227227-799b-403b-a426-50389bb07941"
      },
      "execution_count": null,
      "outputs": [
        {
          "output_type": "execute_result",
          "data": {
            "text/plain": [
              "array([2, 2])"
            ]
          },
          "metadata": {},
          "execution_count": 13
        }
      ]
    },
    {
      "cell_type": "code",
      "source": [
        "import numpy as np\n",
        "np.abs(-1)"
      ],
      "metadata": {
        "colab": {
          "base_uri": "https://localhost:8080/"
        },
        "id": "hQ7IleG7W--2",
        "outputId": "ced19af4-652f-4935-b4a7-8beed46962a4"
      },
      "execution_count": null,
      "outputs": [
        {
          "output_type": "execute_result",
          "data": {
            "text/plain": [
              "1"
            ]
          },
          "metadata": {},
          "execution_count": 14
        }
      ]
    },
    {
      "cell_type": "code",
      "source": [
        "import numpy as np\n",
        "np.abs([-1,-2,-3,-4])"
      ],
      "metadata": {
        "colab": {
          "base_uri": "https://localhost:8080/"
        },
        "id": "TvonSl5Jad71",
        "outputId": "5e0b6720-1bb4-4a5f-9831-6a108c1c8d8d"
      },
      "execution_count": null,
      "outputs": [
        {
          "output_type": "execute_result",
          "data": {
            "text/plain": [
              "array([1, 2, 3, 4])"
            ]
          },
          "metadata": {},
          "execution_count": 15
        }
      ]
    },
    {
      "cell_type": "code",
      "source": [
        "import numpy as np\n",
        "np.abs([[-4,-5,-8],\n",
        "        [3,4,1]])"
      ],
      "metadata": {
        "colab": {
          "base_uri": "https://localhost:8080/"
        },
        "id": "TYFQtXB5annI",
        "outputId": "5c678df0-ccdc-411c-d5fb-119a1340f96d"
      },
      "execution_count": null,
      "outputs": [
        {
          "output_type": "execute_result",
          "data": {
            "text/plain": [
              "array([[4, 5, 8],\n",
              "       [3, 4, 1]])"
            ]
          },
          "metadata": {},
          "execution_count": 16
        }
      ]
    },
    {
      "cell_type": "code",
      "source": [
        "# Q-1: Find the nearest element in the array to a given integer.\n",
        "# Ex:-\n",
        "import numpy as np\n",
        "a=23\n",
        "a11=np.array([10, 17, 24, 31, 38, 45, 52, 59])\n",
        "a11"
      ],
      "metadata": {
        "colab": {
          "base_uri": "https://localhost:8080/"
        },
        "id": "Exw1IPKMdnoD",
        "outputId": "af38e41a-03fa-418b-ada6-96ee9fffea49"
      },
      "execution_count": null,
      "outputs": [
        {
          "output_type": "execute_result",
          "data": {
            "text/plain": [
              "array([10, 17, 24, 31, 38, 45, 52, 59])"
            ]
          },
          "metadata": {},
          "execution_count": 20
        }
      ]
    },
    {
      "cell_type": "code",
      "source": [
        "difference=np.abs(a11-a)\n",
        "a12=np.argmin(difference)\n",
        "a11[a12]\n",
        "#argmin() function is used to find the nearest element in an array to a given integer."
      ],
      "metadata": {
        "colab": {
          "base_uri": "https://localhost:8080/"
        },
        "id": "43LzzKkVeWKE",
        "outputId": "4f6f0830-a35b-4e8f-da61-fe53a85ee0fe"
      },
      "execution_count": null,
      "outputs": [
        {
          "output_type": "execute_result",
          "data": {
            "text/plain": [
              "24"
            ]
          },
          "metadata": {},
          "execution_count": 22
        }
      ]
    },
    {
      "cell_type": "code",
      "source": [
        "#Q1: Find the nearest element in the array to a given integer.\n",
        "import numpy as np\n",
        "a=23\n",
        "a11=np.array([10,17,24,31,38,45,52,59])\n",
        "difference=np.abs(a11-a)\n",
        "a14=np.argmin(difference)\n",
        "a11[a14]\n",
        "#np.abs is used for finding absolute values in an array. It converts negative values to positive values. The np.argmin(difference) is used\n",
        "#for finding the index of the minimum value in an array."
      ],
      "metadata": {
        "colab": {
          "base_uri": "https://localhost:8080/"
        },
        "id": "Giz9hcABfFu9",
        "outputId": "d6cc0843-856c-4a9c-b9f0-e0ff592053bf"
      },
      "execution_count": null,
      "outputs": [
        {
          "output_type": "execute_result",
          "data": {
            "text/plain": [
              "24"
            ]
          },
          "metadata": {},
          "execution_count": 24
        }
      ]
    },
    {
      "cell_type": "code",
      "source": [
        "# Q-2: Replace multiples of 3 or 5 as 0 in the given array.\n",
        "import numpy as np\n",
        "a11=np.array([1, 2, 3, 4, 5, 6, 7, 9])\n",
        "a11"
      ],
      "metadata": {
        "colab": {
          "base_uri": "https://localhost:8080/"
        },
        "id": "yNhrV92Nh1WS",
        "outputId": "e921ab94-0a8c-4164-de00-ae54d673d6ef"
      },
      "execution_count": null,
      "outputs": [
        {
          "output_type": "execute_result",
          "data": {
            "text/plain": [
              "array([1, 2, 3, 4, 5, 6, 7, 9])"
            ]
          },
          "metadata": {},
          "execution_count": 25
        }
      ]
    },
    {
      "cell_type": "code",
      "source": [
        "a11[(a11%5==0)|(a11%3==0)]=0\n",
        "a11"
      ],
      "metadata": {
        "colab": {
          "base_uri": "https://localhost:8080/"
        },
        "id": "U3VSOs7IlpTA",
        "outputId": "0b6a877d-1c86-497b-c9c5-c0c732abae8f"
      },
      "execution_count": null,
      "outputs": [
        {
          "output_type": "execute_result",
          "data": {
            "text/plain": [
              "array([1, 2, 0, 4, 0, 0, 7, 0])"
            ]
          },
          "metadata": {},
          "execution_count": 26
        }
      ]
    },
    {
      "cell_type": "code",
      "source": [
        "#Q3(a).Double the array elements at given indexes\n",
        "import numpy as np\n",
        "a11=np.arange(10)\n",
        "a11[[0,3,4,9]]=2*a11[[0,3,4,9]]\n",
        "a11"
      ],
      "metadata": {
        "colab": {
          "base_uri": "https://localhost:8080/"
        },
        "id": "Bc-riS_dmCYs",
        "outputId": "f2180873-7b58-4c32-eeb9-fb2f07f3e42c"
      },
      "execution_count": null,
      "outputs": [
        {
          "output_type": "execute_result",
          "data": {
            "text/plain": [
              "array([ 0,  1,  2,  6,  8,  5,  6,  7,  8, 18])"
            ]
          },
          "metadata": {},
          "execution_count": 1
        }
      ]
    },
    {
      "cell_type": "code",
      "source": [
        "#If a is an array then\n",
        "a=np.array([2,4])\n",
        "a[[1,1,0,1]]"
      ],
      "metadata": {
        "colab": {
          "base_uri": "https://localhost:8080/"
        },
        "id": "rw0heskkDqsW",
        "outputId": "d29af03e-75c9-4678-ce1a-28bae0870c20"
      },
      "execution_count": null,
      "outputs": [
        {
          "output_type": "execute_result",
          "data": {
            "text/plain": [
              "array([4, 4, 2, 4])"
            ]
          },
          "metadata": {},
          "execution_count": 2
        }
      ]
    },
    {
      "cell_type": "code",
      "source": [
        "#Q.3(b) Using a given array make a different array as in below example\n"
      ],
      "metadata": {
        "id": "0JjNnEakFnLV"
      },
      "execution_count": null,
      "outputs": []
    },
    {
      "cell_type": "code",
      "source": [
        "a14=[1,2,3,4]\n",
        "a14[[0,1,1,2,2,3,3,3,3,4,4,4,4,4]]\n",
        "#as you can see fancy indexes doesnot work with python lists"
      ],
      "metadata": {
        "colab": {
          "base_uri": "https://localhost:8080/",
          "height": 211
        },
        "id": "IGYftghnGcyR",
        "outputId": "bf6cb363-7943-4e5e-a4e0-f8f1a1e0fe31"
      },
      "execution_count": null,
      "outputs": [
        {
          "output_type": "error",
          "ename": "TypeError",
          "evalue": "ignored",
          "traceback": [
            "\u001b[0;31m---------------------------------------------------------------------------\u001b[0m",
            "\u001b[0;31mTypeError\u001b[0m                                 Traceback (most recent call last)",
            "\u001b[0;32m<ipython-input-4-ad6e907675a0>\u001b[0m in \u001b[0;36m<cell line: 2>\u001b[0;34m()\u001b[0m\n\u001b[1;32m      1\u001b[0m \u001b[0ma14\u001b[0m\u001b[0;34m=\u001b[0m\u001b[0;34m[\u001b[0m\u001b[0;36m1\u001b[0m\u001b[0;34m,\u001b[0m\u001b[0;36m2\u001b[0m\u001b[0;34m,\u001b[0m\u001b[0;36m3\u001b[0m\u001b[0;34m,\u001b[0m\u001b[0;36m4\u001b[0m\u001b[0;34m]\u001b[0m\u001b[0;34m\u001b[0m\u001b[0;34m\u001b[0m\u001b[0m\n\u001b[0;32m----> 2\u001b[0;31m \u001b[0ma14\u001b[0m\u001b[0;34m[\u001b[0m\u001b[0;34m[\u001b[0m\u001b[0;36m0\u001b[0m\u001b[0;34m,\u001b[0m\u001b[0;36m1\u001b[0m\u001b[0;34m,\u001b[0m\u001b[0;36m1\u001b[0m\u001b[0;34m,\u001b[0m\u001b[0;36m2\u001b[0m\u001b[0;34m,\u001b[0m\u001b[0;36m2\u001b[0m\u001b[0;34m,\u001b[0m\u001b[0;36m3\u001b[0m\u001b[0;34m,\u001b[0m\u001b[0;36m3\u001b[0m\u001b[0;34m,\u001b[0m\u001b[0;36m3\u001b[0m\u001b[0;34m,\u001b[0m\u001b[0;36m3\u001b[0m\u001b[0;34m,\u001b[0m\u001b[0;36m4\u001b[0m\u001b[0;34m,\u001b[0m\u001b[0;36m4\u001b[0m\u001b[0;34m,\u001b[0m\u001b[0;36m4\u001b[0m\u001b[0;34m,\u001b[0m\u001b[0;36m4\u001b[0m\u001b[0;34m,\u001b[0m\u001b[0;36m4\u001b[0m\u001b[0;34m]\u001b[0m\u001b[0;34m]\u001b[0m\u001b[0;34m\u001b[0m\u001b[0;34m\u001b[0m\u001b[0m\n\u001b[0m\u001b[1;32m      3\u001b[0m \u001b[0;31m#as you can see fancy indexes doesnot work with python lists\u001b[0m\u001b[0;34m\u001b[0m\u001b[0;34m\u001b[0m\u001b[0m\n",
            "\u001b[0;31mTypeError\u001b[0m: list indices must be integers or slices, not list"
          ]
        }
      ]
    },
    {
      "cell_type": "code",
      "source": [
        "# Q.3(b) Using a given array make a different array as in below example\n",
        "import numpy as np\n",
        "a=np.array([1,2,3])\n",
        "print(np.repeat(a,3))"
      ],
      "metadata": {
        "colab": {
          "base_uri": "https://localhost:8080/"
        },
        "id": "WlRR5awUdDtH",
        "outputId": "0bdce2a5-2b9d-4b8b-e626-418b6ee63dd6"
      },
      "execution_count": null,
      "outputs": [
        {
          "output_type": "stream",
          "name": "stdout",
          "text": [
            "[1 1 1 2 2 2 3 3 3]\n"
          ]
        }
      ]
    },
    {
      "cell_type": "code",
      "source": [
        "#Another way of solving the question is this\n",
        "import numpy as np\n",
        "a1=np.array([1,2,3])\n",
        "print(a1[[0,0,0,1,1,1,2,2,2]])"
      ],
      "metadata": {
        "colab": {
          "base_uri": "https://localhost:8080/"
        },
        "id": "64LpSERYdZn_",
        "outputId": "9ba3e343-6e82-4dfa-9ad4-3f6397964aee"
      },
      "execution_count": null,
      "outputs": [
        {
          "output_type": "stream",
          "name": "stdout",
          "text": [
            "[1 1 1 2 2 2 3 3 3]\n"
          ]
        }
      ]
    },
    {
      "cell_type": "code",
      "source": [
        "import scipy.stats"
      ],
      "metadata": {
        "id": "OREMhLZPdodZ"
      },
      "execution_count": null,
      "outputs": []
    },
    {
      "cell_type": "code",
      "source": [
        "# Q4.Your are given an array which is havig some nan value. You job is to fill those nan values with most common element in the array.\n",
        "import numpy as np\n",
        "from scipy.stats import mode\n",
        "arr=np.array([1,2,3,np.nan,4,2,np.nan,2,3,np.nan])\n",
        "mode(arr[~np.isnan(arr)])"
      ],
      "metadata": {
        "colab": {
          "base_uri": "https://localhost:8080/"
        },
        "id": "UKvoysgMlh0j",
        "outputId": "81f880cf-42d0-461c-c5a8-90f65b967c20"
      },
      "execution_count": null,
      "outputs": [
        {
          "output_type": "execute_result",
          "data": {
            "text/plain": [
              "ModeResult(mode=2.0, count=3)"
            ]
          },
          "metadata": {},
          "execution_count": 5
        }
      ]
    },
    {
      "cell_type": "code",
      "source": [
        "#Q4\n",
        "import numpy as np\n",
        "from scipy.stats import mode\n",
        "arr1=np.array([[1,2,np.nan],[4,2,6],[np.nan,np.nan,5]])\n",
        "mode(arr1[~np.nan(arr1)])\n",
        "m_common,count=mode(arr1[~np.nan(arr1)])\n",
        "arr1[np.isnan(arr)]=int(m_common)\n",
        "arr1"
      ],
      "metadata": {
        "colab": {
          "base_uri": "https://localhost:8080/",
          "height": 246
        },
        "id": "c_hvzBNbp9Mh",
        "outputId": "244d386a-7391-44c3-ea96-6e2c7c5722ad"
      },
      "execution_count": null,
      "outputs": [
        {
          "output_type": "error",
          "ename": "TypeError",
          "evalue": "ignored",
          "traceback": [
            "\u001b[0;31m---------------------------------------------------------------------------\u001b[0m",
            "\u001b[0;31mTypeError\u001b[0m                                 Traceback (most recent call last)",
            "\u001b[0;32m<ipython-input-9-17c465dbe0ee>\u001b[0m in \u001b[0;36m<cell line: 5>\u001b[0;34m()\u001b[0m\n\u001b[1;32m      3\u001b[0m \u001b[0;32mfrom\u001b[0m \u001b[0mscipy\u001b[0m\u001b[0;34m.\u001b[0m\u001b[0mstats\u001b[0m \u001b[0;32mimport\u001b[0m \u001b[0mmode\u001b[0m\u001b[0;34m\u001b[0m\u001b[0;34m\u001b[0m\u001b[0m\n\u001b[1;32m      4\u001b[0m \u001b[0marr1\u001b[0m\u001b[0;34m=\u001b[0m\u001b[0mnp\u001b[0m\u001b[0;34m.\u001b[0m\u001b[0marray\u001b[0m\u001b[0;34m(\u001b[0m\u001b[0;34m[\u001b[0m\u001b[0;34m[\u001b[0m\u001b[0;36m1\u001b[0m\u001b[0;34m,\u001b[0m\u001b[0;36m2\u001b[0m\u001b[0;34m,\u001b[0m\u001b[0mnp\u001b[0m\u001b[0;34m.\u001b[0m\u001b[0mnan\u001b[0m\u001b[0;34m]\u001b[0m\u001b[0;34m,\u001b[0m\u001b[0;34m[\u001b[0m\u001b[0;36m4\u001b[0m\u001b[0;34m,\u001b[0m\u001b[0;36m2\u001b[0m\u001b[0;34m,\u001b[0m\u001b[0;36m6\u001b[0m\u001b[0;34m]\u001b[0m\u001b[0;34m,\u001b[0m\u001b[0;34m[\u001b[0m\u001b[0mnp\u001b[0m\u001b[0;34m.\u001b[0m\u001b[0mnan\u001b[0m\u001b[0;34m,\u001b[0m\u001b[0mnp\u001b[0m\u001b[0;34m.\u001b[0m\u001b[0mnan\u001b[0m\u001b[0;34m,\u001b[0m\u001b[0;36m5\u001b[0m\u001b[0;34m]\u001b[0m\u001b[0;34m]\u001b[0m\u001b[0;34m)\u001b[0m\u001b[0;34m\u001b[0m\u001b[0;34m\u001b[0m\u001b[0m\n\u001b[0;32m----> 5\u001b[0;31m \u001b[0mmode\u001b[0m\u001b[0;34m(\u001b[0m\u001b[0marr1\u001b[0m\u001b[0;34m[\u001b[0m\u001b[0;34m~\u001b[0m\u001b[0mnp\u001b[0m\u001b[0;34m.\u001b[0m\u001b[0mnan\u001b[0m\u001b[0;34m(\u001b[0m\u001b[0marr1\u001b[0m\u001b[0;34m)\u001b[0m\u001b[0;34m]\u001b[0m\u001b[0;34m)\u001b[0m\u001b[0;34m\u001b[0m\u001b[0;34m\u001b[0m\u001b[0m\n\u001b[0m\u001b[1;32m      6\u001b[0m \u001b[0mm_common\u001b[0m\u001b[0;34m,\u001b[0m\u001b[0mcount\u001b[0m\u001b[0;34m=\u001b[0m\u001b[0mmode\u001b[0m\u001b[0;34m(\u001b[0m\u001b[0marr1\u001b[0m\u001b[0;34m[\u001b[0m\u001b[0;34m~\u001b[0m\u001b[0mnp\u001b[0m\u001b[0;34m.\u001b[0m\u001b[0mnan\u001b[0m\u001b[0;34m(\u001b[0m\u001b[0marr1\u001b[0m\u001b[0;34m)\u001b[0m\u001b[0;34m]\u001b[0m\u001b[0;34m)\u001b[0m\u001b[0;34m\u001b[0m\u001b[0;34m\u001b[0m\u001b[0m\n\u001b[1;32m      7\u001b[0m \u001b[0marr1\u001b[0m\u001b[0;34m[\u001b[0m\u001b[0mnp\u001b[0m\u001b[0;34m.\u001b[0m\u001b[0misnan\u001b[0m\u001b[0;34m(\u001b[0m\u001b[0marr\u001b[0m\u001b[0;34m)\u001b[0m\u001b[0;34m]\u001b[0m\u001b[0;34m=\u001b[0m\u001b[0mint\u001b[0m\u001b[0;34m(\u001b[0m\u001b[0mm_common\u001b[0m\u001b[0;34m)\u001b[0m\u001b[0;34m\u001b[0m\u001b[0;34m\u001b[0m\u001b[0m\n",
            "\u001b[0;31mTypeError\u001b[0m: 'float' object is not callable"
          ]
        }
      ]
    },
    {
      "cell_type": "code",
      "source": [
        "#Q4.\n",
        "import numpy as np\n",
        "from scipy.stats import mode\n",
        "arr1=np.array([[1,2,np.nan],[4,2,6],[np.nan,np.nan,5]])\n",
        "nou,count=mode(arr1[~np.isnan(arr1)])\n",
        "arr1[np.isnan(arr1)]=nou\n",
        "arr1"
      ],
      "metadata": {
        "colab": {
          "base_uri": "https://localhost:8080/"
        },
        "id": "6uKDPB4HrzNC",
        "outputId": "fb7d0d68-d920-4e60-caab-2c10abfa30b3"
      },
      "execution_count": null,
      "outputs": [
        {
          "output_type": "execute_result",
          "data": {
            "text/plain": [
              "array([[1., 2., 2.],\n",
              "       [4., 2., 6.],\n",
              "       [2., 2., 5.]])"
            ]
          },
          "metadata": {},
          "execution_count": 12
        }
      ]
    },
    {
      "cell_type": "code",
      "source": [
        "# Q-5: Write a NumPy program\n",
        "# to find the missing data in a given array. Return a boolean matrix.\n",
        "# also try to fill those missing values with 0. For that, you can use np.nan_to_num(a)\n",
        "import numpy as np\n",
        "\n",
        "a11=np.array([[3, 2, np.nan, 1],\n",
        "          [10, 12, 10, 9],\n",
        "          [5, np.nan, 1, np.nan]])\n",
        "np.isnan(a11)\n"
      ],
      "metadata": {
        "colab": {
          "base_uri": "https://localhost:8080/"
        },
        "id": "phCUEZcjwCaj",
        "outputId": "7d059a88-b1e0-4bb9-8107-7a8d91f7d9ff"
      },
      "execution_count": null,
      "outputs": [
        {
          "output_type": "execute_result",
          "data": {
            "text/plain": [
              "array([[False, False,  True, False],\n",
              "       [False, False, False, False],\n",
              "       [False,  True, False,  True]])"
            ]
          },
          "metadata": {},
          "execution_count": 1
        }
      ]
    },
    {
      "cell_type": "code",
      "source": [
        "a11[np.isnan(a11)]=0\n",
        "a11"
      ],
      "metadata": {
        "colab": {
          "base_uri": "https://localhost:8080/"
        },
        "id": "4Wv3aDAZknAe",
        "outputId": "1e77d8cf-d97f-4dcb-cfc8-2e17535b9b9b"
      },
      "execution_count": null,
      "outputs": [
        {
          "output_type": "execute_result",
          "data": {
            "text/plain": [
              "array([[ 3.,  2.,  0.,  1.],\n",
              "       [10., 12., 10.,  9.],\n",
              "       [ 5.,  0.,  1.,  0.]])"
            ]
          },
          "metadata": {},
          "execution_count": 2
        }
      ]
    },
    {
      "cell_type": "code",
      "source": [
        "# Q-6: Given two arrays, X and Y, construct the Cauchy matrix C.\n",
        "# Cij =1/(xi - yj)\n",
        "import numpy as np\n",
        "x = np.array([1,2,3,4]).reshape((-1, 1))\n",
        "y = np.array([5,6,7])\n",
        "print(x.shape)\n",
        "print(y.shape)"
      ],
      "metadata": {
        "colab": {
          "base_uri": "https://localhost:8080/"
        },
        "id": "IxvhZMQ5k37y",
        "outputId": "6b2bbd4d-936f-4130-d1dc-ea8102fc117e"
      },
      "execution_count": null,
      "outputs": [
        {
          "output_type": "stream",
          "name": "stdout",
          "text": [
            "(4, 1)\n",
            "(3,)\n"
          ]
        }
      ]
    },
    {
      "cell_type": "code",
      "source": [
        "cij=1/(x-y)\n",
        "cij"
      ],
      "metadata": {
        "colab": {
          "base_uri": "https://localhost:8080/"
        },
        "id": "RuR90iI2ooW6",
        "outputId": "163e1c68-91b8-402c-df68-492a665aa8b9"
      },
      "execution_count": null,
      "outputs": [
        {
          "output_type": "execute_result",
          "data": {
            "text/plain": [
              "array([[-0.25      , -0.2       , -0.16666667],\n",
              "       [-0.33333333, -0.25      , -0.2       ],\n",
              "       [-0.5       , -0.33333333, -0.25      ],\n",
              "       [-1.        , -0.5       , -0.33333333]])"
            ]
          },
          "metadata": {},
          "execution_count": 7
        }
      ]
    },
    {
      "cell_type": "code",
      "source": [
        "# Q-7: Plot this below equation.\n",
        "# y=(ex−e−x)/(ex+e−x)\n",
        "\n",
        "# Note: This equation is called tanh activation function. In deep learning, many times this function is used.\n",
        "# If you find some difference between the sigmoid function and this tanh function, note that to your notebook.\n",
        "import numpy as np\n",
        "import matplotlib.pyplot as plt\n",
        "x11=np.linspace(-10,10,50)\n",
        "y11=(np.exp(x11)-np.exp(-x11))/(np.exp(x11)+np.exp(-x11))\n",
        "plt.plot(x11,y11)\n",
        "\n",
        "\n"
      ],
      "metadata": {
        "colab": {
          "base_uri": "https://localhost:8080/",
          "height": 447
        },
        "id": "Z7Ay5nIOwMXc",
        "outputId": "af617dca-28c4-47dc-9ec6-df748b6251f8"
      },
      "execution_count": null,
      "outputs": [
        {
          "output_type": "execute_result",
          "data": {
            "text/plain": [
              "[<matplotlib.lines.Line2D at 0x797545387eb0>]"
            ]
          },
          "metadata": {},
          "execution_count": 8
        },
        {
          "output_type": "display_data",
          "data": {
            "text/plain": [
              "<Figure size 640x480 with 1 Axes>"
            ],
            "image/png": "[encoded data removed]"
          },
          "metadata": {}
        }
      ]
    },
    {
      "cell_type": "code",
      "source": [
        "import numpy as np\n",
        "import matplotlib.pyplot as plt\n",
        "x12=np.linspace(-10,10,50)\n",
        "y12=1/(1+np.exp(-x12))\n",
        "plt.plot(x12,y12)\n",
        "#As you can see that the only difference between sigmoid function and tanh activation function is that while sigmoid function reduces the\n",
        "#entire column between 0 to 1, the tanh activation function reduces the entire column between -1 and 1."
      ],
      "metadata": {
        "colab": {
          "base_uri": "https://localhost:8080/",
          "height": 447
        },
        "id": "rNzFZ67lxxip",
        "outputId": "92ef0b8e-abb3-47f0-d947-c6dffa140af9"
      },
      "execution_count": null,
      "outputs": [
        {
          "output_type": "execute_result",
          "data": {
            "text/plain": [
              "[<matplotlib.lines.Line2D at 0x797542b11fc0>]"
            ]
          },
          "metadata": {},
          "execution_count": 10
        },
        {
          "output_type": "display_data",
          "data": {
            "text/plain": [
              "<Figure size 640x480 with 1 Axes>"
            ],
            "image/png": "[encoded data removed]"
          },
          "metadata": {}
        }
      ]
    },
    {
      "cell_type": "code",
      "source": [
        "# Q-8: Plot the below equation.\n",
        "# y=36−(x−4)2−−−−−−−−−−√+2\n",
        "\n",
        "# The range of x should be between -2 to 10.  x∈[−2,10]\n",
        "import numpy as np\n",
        "a1=np.sqrt(25)\n",
        "print(a1)"
      ],
      "metadata": {
        "colab": {
          "base_uri": "https://localhost:8080/"
        },
        "id": "ElMX4JNq0Qrq",
        "outputId": "cddfce4f-9624-444e-9de3-073bb3de026c"
      },
      "execution_count": null,
      "outputs": [
        {
          "output_type": "stream",
          "name": "stdout",
          "text": [
            "5.0\n"
          ]
        }
      ]
    },
    {
      "cell_type": "code",
      "source": [
        "#Q8\n",
        "import numpy as np\n",
        "import matplotlib.pyplot as plt\n",
        "x11=np.linspace(-2,10,50)\n",
        "y11=np.sqrt((36-(x11-4)**2))+2\n",
        "plt.plot(x11,y11)"
      ],
      "metadata": {
        "colab": {
          "base_uri": "https://localhost:8080/",
          "height": 447
        },
        "id": "1hH43Kq_6Y_B",
        "outputId": "cc1dafbc-2e81-4b74-e89e-9f2e9cfd90bb"
      },
      "execution_count": null,
      "outputs": [
        {
          "output_type": "execute_result",
          "data": {
            "text/plain": [
              "[<matplotlib.lines.Line2D at 0x7a02b56810f0>]"
            ]
          },
          "metadata": {},
          "execution_count": 3
        },
        {
          "output_type": "display_data",
          "data": {
            "text/plain": [
              "<Figure size 640x480 with 1 Axes>"
            ],
            "image/png": "[encoded data removed]"
          },
          "metadata": {}
        }
      ]
    },
    {
      "cell_type": "code",
      "source": [
        "# Q-9: Write a program implement Boradcasting Rule to check if two array can be added or not.\n",
        "# Given tuples of shapes.\n",
        "\n",
        "# shape of a- (3,2,2)\n",
        "# shape of b- (2,2)\n",
        "\n",
        "# check_broadcast(a, b) -> return Boolean (True if can broadcasted, False other wise.)\n",
        "\n",
        "def check_broadcast(a,b):\n",
        "  try:\n",
        "    c=a+b\n",
        "  except:\n",
        "    return \"False\"\n",
        "  else:\n",
        "    return \"True\"\n",
        "a11=np.arange(12).reshape(3,2,2)\n",
        "a12=np.arange(4).reshape(2,2)\n",
        "check_broadcast(a11,a12)\n",
        "\n"
      ],
      "metadata": {
        "colab": {
          "base_uri": "https://localhost:8080/",
          "height": 35
        },
        "id": "3S9r3X86-QT-",
        "outputId": "8ce2b926-6c51-486a-c780-7662c7f84a58"
      },
      "execution_count": null,
      "outputs": [
        {
          "output_type": "execute_result",
          "data": {
            "text/plain": [
              "'True'"
            ],
            "application/vnd.google.colaboratory.intrinsic+json": {
              "type": "string"
            }
          },
          "metadata": {},
          "execution_count": 6
        }
      ]
    },
    {
      "cell_type": "code",
      "source": [
        "#We are doing the questions again\n",
        "#Q-1: Find the nearest element in the array to a given integer.\n",
        "import numpy as np\n",
        "a=23\n",
        "a11=np.array([10, 17, 24, 31, 38, 45, 52, 59])\n",
        "a11[np.argmin(np.abs(a11-a))]"
      ],
      "metadata": {
        "colab": {
          "base_uri": "https://localhost:8080/"
        },
        "id": "EAmE6TUdKSc4",
        "outputId": "7dadb940-301e-4af5-d323-c7802c3d6f6d"
      },
      "execution_count": null,
      "outputs": [
        {
          "output_type": "execute_result",
          "data": {
            "text/plain": [
              "24"
            ]
          },
          "metadata": {},
          "execution_count": 7
        }
      ]
    },
    {
      "cell_type": "code",
      "source": [
        "a11[np.abs(a11-a).argmin()]\n",
        "#So there are 2 ways of using argmin.... firstly by using a11[np.argmin(np.abs(a11-a))] and secondly by using a11[np.abs(a11-a).argmin()]"
      ],
      "metadata": {
        "colab": {
          "base_uri": "https://localhost:8080/"
        },
        "id": "R22os_s4LohY",
        "outputId": "40ecb015-c532-408d-86a4-9a77bcb30925"
      },
      "execution_count": null,
      "outputs": [
        {
          "output_type": "execute_result",
          "data": {
            "text/plain": [
              "24"
            ]
          },
          "metadata": {},
          "execution_count": 10
        }
      ]
    },
    {
      "cell_type": "code",
      "source": [
        "# Q-2: Replace multiples of 3 or 5 as 0 in the given array.\n",
        "import numpy as np\n",
        "arr=np.array([1, 2, 3, 4, 5, 6, 7, 9])\n",
        "arr[(arr%3==0) | (arr%5==0)]=0\n",
        "arr"
      ],
      "metadata": {
        "colab": {
          "base_uri": "https://localhost:8080/"
        },
        "id": "By3kTdB4MssY",
        "outputId": "83a786b2-dbbd-4d19-8855-cf7d701778f0"
      },
      "execution_count": null,
      "outputs": [
        {
          "output_type": "execute_result",
          "data": {
            "text/plain": [
              "array([1, 2, 0, 4, 0, 0, 7, 0])"
            ]
          },
          "metadata": {},
          "execution_count": 12
        }
      ]
    },
    {
      "cell_type": "code",
      "source": [
        "# Q-3: Use Fancy Indexing.\n",
        "# Double the array elements at given indexes\n",
        "import numpy as np\n",
        "arr = np.arange(10)\n",
        "indexes = [0,3,4,9]\n",
        "arr[indexes]=arr[indexes]*2\n",
        "arr"
      ],
      "metadata": {
        "colab": {
          "base_uri": "https://localhost:8080/"
        },
        "id": "jYAxobuJWIV9",
        "outputId": "5e4c4bbc-684f-405a-aaf1-77b9f1c2c025"
      },
      "execution_count": null,
      "outputs": [
        {
          "output_type": "execute_result",
          "data": {
            "text/plain": [
              "array([ 0,  1,  2,  6,  8,  5,  6,  7,  8, 18])"
            ]
          },
          "metadata": {},
          "execution_count": 14
        }
      ]
    },
    {
      "cell_type": "code",
      "source": [
        "a=[1,2,3]\n",
        "a1=[1]\n",
        "print(a1*2)\n",
        "print(a*2)\n",
        "print(a1+a)\n",
        "#As you can see if a1=[1] then a1*2 outputs [1,1] and if a=[1,2,3] then a*2 outputs [1,2,3,1,2,3]"
      ],
      "metadata": {
        "colab": {
          "base_uri": "https://localhost:8080/"
        },
        "id": "BvV5XE_oahRr",
        "outputId": "40c94aef-89aa-46e0-dfd9-55fac8d8de7f"
      },
      "execution_count": null,
      "outputs": [
        {
          "output_type": "stream",
          "name": "stdout",
          "text": [
            "[1, 1]\n",
            "[1, 2, 3, 1, 2, 3]\n",
            "[1, 1, 2, 3]\n"
          ]
        }
      ]
    },
    {
      "cell_type": "code",
      "source": [
        "a.extend([21,22])\n",
        "a\n",
        "#when we use extend then we append objects within a list to a list and it becomes part of that list permanently.\n",
        "#for example if a=[1,2,3] then a.extend([21,23]) would result in a=[1,2,3,21,22] but a.extend(22) would result in error."
      ],
      "metadata": {
        "colab": {
          "base_uri": "https://localhost:8080/"
        },
        "id": "zKNtK_Bxfq2w",
        "outputId": "b6c92153-eaba-4293-997f-e656324c41c0"
      },
      "execution_count": null,
      "outputs": [
        {
          "output_type": "execute_result",
          "data": {
            "text/plain": [
              "[1, 2, 3, 21, 22, 21, 22, 21, 22]"
            ]
          },
          "metadata": {},
          "execution_count": 22
        }
      ]
    },
    {
      "cell_type": "code",
      "source": [
        "# Q3(B).Using a given array make a different array as in below example\n",
        "import numpy as np\n",
        "array = np.array([1,2,3])\n",
        "c1=[]\n",
        "for index in range(len(array)):\n",
        "  c1.extend([index]*len(array))\n",
        "print(c1)\n",
        "print(array[c1])\n"
      ],
      "metadata": {
        "colab": {
          "base_uri": "https://localhost:8080/"
        },
        "id": "9JBJupmggSOB",
        "outputId": "8e8abd51-9840-4b43-a8ad-102eb87609ec"
      },
      "execution_count": null,
      "outputs": [
        {
          "output_type": "stream",
          "name": "stdout",
          "text": [
            "[0, 0, 0, 1, 1, 1, 2, 2, 2]\n",
            "[1 1 1 2 2 2 3 3 3]\n"
          ]
        }
      ]
    },
    {
      "cell_type": "code",
      "source": [
        "import numpy as np\n",
        "a111=np.array([1,2,3,4])\n",
        "c1=[]\n",
        "for index in range(len(a111)):\n",
        "  c1.extend([index]*len(a111))\n",
        "print(c1)\n",
        "print(a111[c1])"
      ],
      "metadata": {
        "colab": {
          "base_uri": "https://localhost:8080/"
        },
        "id": "ajDKjaXikl-0",
        "outputId": "aca73afa-a864-45f3-9f3c-e2885481bdd2"
      },
      "execution_count": null,
      "outputs": [
        {
          "output_type": "stream",
          "name": "stdout",
          "text": [
            "[0, 0, 0, 0, 1, 1, 1, 1, 2, 2, 2, 2, 3, 3, 3, 3]\n",
            "[1 1 1 1 2 2 2 2 3 3 3 3 4 4 4 4]\n"
          ]
        }
      ]
    },
    {
      "cell_type": "code",
      "source": [
        "# Q-4: Your are given an array which is havig some nan value. You job is to fill those nan values with most common element in the array.\n",
        "import numpy as np\n",
        "d={}\n",
        "arr=np.array([[1,2,np.nan],[4,2,6],[np.nan,np.nan,5]])\n",
        "for i in arr.flatten():\n",
        "  if i not in d:\n",
        "    d[i]=1\n",
        "  else:\n",
        "    d[i]+=1\n",
        "print(d)\n",
        "print(d.items())\n",
        "type(sorted(d.items(),key=lambda x:x[1]))\n",
        "#as you can see when we do sorted(d.items(),key=lambda x:x[1]) then it would result in a list. key here decides on what basis should\n",
        "#sorting happen(sorting happens from smaller to larger number)."
      ],
      "metadata": {
        "colab": {
          "base_uri": "https://localhost:8080/"
        },
        "id": "DcUHaS5TnnZT",
        "outputId": "2302a88d-63bc-47ff-a08d-5a5542c22d9c"
      },
      "execution_count": null,
      "outputs": [
        {
          "output_type": "stream",
          "name": "stdout",
          "text": [
            "{1.0: 1, 2.0: 2, nan: 1, 4.0: 1, 6.0: 1, nan: 1, nan: 1, 5.0: 1}\n",
            "dict_items([(1.0, 1), (2.0, 2), (nan, 1), (4.0, 1), (6.0, 1), (nan, 1), (nan, 1), (5.0, 1)])\n"
          ]
        },
        {
          "output_type": "execute_result",
          "data": {
            "text/plain": [
              "list"
            ]
          },
          "metadata": {},
          "execution_count": 35
        }
      ]
    },
    {
      "cell_type": "code",
      "source": [
        "import numpy as np\n",
        "d={}\n",
        "arr=np.array([[1,2,np.nan],[4,2,6],[np.nan,np.nan,5]])\n",
        "for i in arr.flatten():\n",
        "  if i not in d:\n",
        "    d[i]=1\n",
        "  else:\n",
        "    d[i]+=1\n",
        "k=sorted(d.items(),key=lambda x:x[1])[-1][0]\n",
        "arr[np.isnan(arr)]=k\n",
        "arr"
      ],
      "metadata": {
        "colab": {
          "base_uri": "https://localhost:8080/"
        },
        "id": "xkV3fQlI5T2T",
        "outputId": "2f439769-14c8-4885-e1f4-02163caaa8a1"
      },
      "execution_count": null,
      "outputs": [
        {
          "output_type": "execute_result",
          "data": {
            "text/plain": [
              "array([[1., 2., 2.],\n",
              "       [4., 2., 6.],\n",
              "       [2., 2., 5.]])"
            ]
          },
          "metadata": {},
          "execution_count": 40
        }
      ]
    },
    {
      "cell_type": "code",
      "source": [
        "import numpy as np\n",
        "d={}\n",
        "arr=np.array([[1,2,np.nan],[4,2,6],[np.nan,np.nan,5]])\n",
        "for i in arr.flatten():\n",
        "  if i not in d:\n",
        "    d[i]=1\n",
        "  else:\n",
        "    d[i]+=1\n",
        "k=sorted(d.items(),key=lambda x:x[1])[-1][0]\n",
        "arr[np.isnan(arr)]=k\n",
        "arr"
      ],
      "metadata": {
        "colab": {
          "base_uri": "https://localhost:8080/"
        },
        "id": "T0c2QWe1YKvP",
        "outputId": "45b9aecd-7995-4453-f18f-6ade18f20fda"
      },
      "execution_count": null,
      "outputs": [
        {
          "output_type": "execute_result",
          "data": {
            "text/plain": [
              "array([[1., 2., 2.],\n",
              "       [4., 2., 6.],\n",
              "       [2., 2., 5.]])"
            ]
          },
          "metadata": {},
          "execution_count": 1
        }
      ]
    },
    {
      "cell_type": "code",
      "source": [
        "# Q-5: Write a NumPy program\n",
        "# to find the missing data in a given array. Return a boolean matrix.\n",
        "# also try to fill those missing values with 0. For that, you can use np.nan_to_num(a)\n",
        "import numpy as np\n",
        "a11=np.array([[1,2,np.nan],[4,2,6],[5,1,np.nan],[8,9,np.nan]])\n",
        "np.isnan(a11)"
      ],
      "metadata": {
        "colab": {
          "base_uri": "https://localhost:8080/"
        },
        "id": "4R22xqkvaWZp",
        "outputId": "8afdf685-9498-449a-a742-8f69832f2cef"
      },
      "execution_count": null,
      "outputs": [
        {
          "output_type": "execute_result",
          "data": {
            "text/plain": [
              "array([[False, False,  True],\n",
              "       [False, False, False],\n",
              "       [False, False,  True],\n",
              "       [False, False,  True]])"
            ]
          },
          "metadata": {},
          "execution_count": 2
        }
      ]
    },
    {
      "cell_type": "code",
      "source": [
        "np.nan_to_num(a11)\n",
        "#by default nan is equal to 0"
      ],
      "metadata": {
        "colab": {
          "base_uri": "https://localhost:8080/"
        },
        "id": "9Txc-ZoHfXbx",
        "outputId": "a539e74a-c515-464c-e43b-6c8ab4e8c062"
      },
      "execution_count": null,
      "outputs": [
        {
          "output_type": "execute_result",
          "data": {
            "text/plain": [
              "array([[1., 2., 0.],\n",
              "       [4., 2., 6.],\n",
              "       [5., 1., 0.],\n",
              "       [8., 9., 0.]])"
            ]
          },
          "metadata": {},
          "execution_count": 3
        }
      ]
    },
    {
      "cell_type": "code",
      "source": [
        "np.nan_to_num(a11,nan=9)\n",
        "#by default nan is equal to 0 but you can set nan equivalent to any number."
      ],
      "metadata": {
        "colab": {
          "base_uri": "https://localhost:8080/"
        },
        "id": "w2e3scaxferS",
        "outputId": "b4ed3db0-a8f7-44e2-f687-ab62e8b5ff31"
      },
      "execution_count": null,
      "outputs": [
        {
          "output_type": "execute_result",
          "data": {
            "text/plain": [
              "array([[1., 2., 9.],\n",
              "       [4., 2., 6.],\n",
              "       [5., 1., 9.],\n",
              "       [8., 9., 9.]])"
            ]
          },
          "metadata": {},
          "execution_count": 5
        }
      ]
    },
    {
      "cell_type": "code",
      "source": [
        "import numpy as np\n",
        "x = np.array([1,2,3,4]).reshape((-1, 1))\n",
        "y = np.array([5,6,7])\n",
        "#shape of x is (4,1)(4 elements so as 1 is 1 of the elements the other element is by default 4)\n",
        "#shape of y is (3,) ....so when x-y is done then first 1 is extended to y making it (1,3) and now both can be subtracted but for that\n",
        "#both dimensions have to be extended...(4,1) and (1,3) to (4,3)"
      ],
      "metadata": {
        "id": "BVvu2FwogTlq"
      },
      "execution_count": null,
      "outputs": []
    },
    {
      "cell_type": "code",
      "source": [
        "print(np.broadcast_to(x,(4,3)))\n",
        "print(np.broadcast_to(y,(4,3)))"
      ],
      "metadata": {
        "colab": {
          "base_uri": "https://localhost:8080/"
        },
        "id": "gTDeWes1k-nZ",
        "outputId": "add55bfa-a493-47b2-bbdd-5d9da653744d"
      },
      "execution_count": null,
      "outputs": [
        {
          "output_type": "stream",
          "name": "stdout",
          "text": [
            "[[1 1 1]\n",
            " [2 2 2]\n",
            " [3 3 3]\n",
            " [4 4 4]]\n",
            "[[5 6 7]\n",
            " [5 6 7]\n",
            " [5 6 7]\n",
            " [5 6 7]]\n"
          ]
        }
      ]
    },
    {
      "cell_type": "code",
      "source": [
        "print(x-y)\n",
        "#Now you can see why x-y would give the below result"
      ],
      "metadata": {
        "colab": {
          "base_uri": "https://localhost:8080/"
        },
        "id": "EYyqanrZlL0V",
        "outputId": "dabe26a0-242f-4017-ab0e-b8164c32ae47"
      },
      "execution_count": null,
      "outputs": [
        {
          "output_type": "stream",
          "name": "stdout",
          "text": [
            "[[-4 -5 -6]\n",
            " [-3 -4 -5]\n",
            " [-2 -3 -4]\n",
            " [-1 -2 -3]]\n"
          ]
        }
      ]
    },
    {
      "cell_type": "code",
      "source": [
        "#Q8\n",
        "import numpy as np\n",
        "import matplotlib.pyplot as plt\n",
        "x11=np.linspace(-2,10,50)\n",
        "y11=np.sqrt(36-(x11-4)**2)+2\n",
        "plt.plot(x11,y11)"
      ],
      "metadata": {
        "colab": {
          "base_uri": "https://localhost:8080/"
        },
        "id": "9iV4xytslhfP",
        "outputId": "49915f52-94a5-4aa7-d905-09679add5fb8"
      },
      "execution_count": null,
      "outputs": [
        {
          "output_type": "execute_result",
          "data": {
            "text/plain": [
              "[<matplotlib.lines.Line2D at 0x7e1dd0b3e920>]"
            ]
          },
          "metadata": {},
          "execution_count": 12
        },
        {
          "output_type": "display_data",
          "data": {
            "text/plain": [
              "<Figure size 640x480 with 1 Axes>"
            ],
            "image/png": "[encoded data removed]"
          },
          "metadata": {}
        }
      ]
    },
    {
      "cell_type": "code",
      "source": [
        "#zip() function pairs corresponding elements from multiple iterables creating tuples of those elements.\n",
        "#zip() function pairs corresponding elements from multiple iterables creating tuples of those elements.\n",
        "#zip() function pairs corresponding elements from multiple iterables creating tuples of those elements.\n",
        "#zip() returns an iterator which can either be converted into list or used in used in loops to access\n",
        "#the zipped elements.\n",
        "#The iterator stops when the shortest iterable is exhausted, meaning it only pairs elements upto the length\n",
        "#of the shortest iterable."
      ],
      "metadata": {
        "id": "zfA80d3VvpMJ"
      },
      "execution_count": null,
      "outputs": []
    },
    {
      "cell_type": "code",
      "source": [
        "a=[1,2,3]\n",
        "b=[4,5,6,7,8,9,10]\n",
        "list(zip(a,b))\n",
        "#As you can see, you can use zip() function to pair corresponding elements from multiple iterables creating tuples of those elements\n",
        "#The zip() function returns an iterator which can be converted into a list or can be iterated over. Lastly the pairing is done only\n",
        "#until the shortest iterable is not exhausted. Lastly the iterator that is returned canbe converted to list or can be looped over using\n",
        "#the for loop."
      ],
      "metadata": {
        "colab": {
          "base_uri": "https://localhost:8080/"
        },
        "id": "gdjKUUuizOFO",
        "outputId": "214b5d0c-06f1-407f-87c8-994d868a006e"
      },
      "execution_count": null,
      "outputs": [
        {
          "output_type": "execute_result",
          "data": {
            "text/plain": [
              "[(1, 4), (2, 5), (3, 6)]"
            ]
          },
          "metadata": {},
          "execution_count": 1
        }
      ]
    },
    {
      "cell_type": "code",
      "source": [
        "a1=(1,2,3)\n",
        "a2=(4,5,6,7,8,9,10,11)\n",
        "list(zip(a1[::-1],a2[::-1]))\n",
        "#As you can see zip() function use used to pair corresponding elements from multiple iterables but the pairing is done only until the\n",
        "#shortest iterable is not exhausted and secondly zip returns an iterator which can be converted to a list or can be iterated over."
      ],
      "metadata": {
        "colab": {
          "base_uri": "https://localhost:8080/"
        },
        "id": "7dySXePVmkdw",
        "outputId": "54a29891-649c-4ce4-cddd-cde41bfb157c"
      },
      "execution_count": null,
      "outputs": [
        {
          "output_type": "execute_result",
          "data": {
            "text/plain": [
              "[(3, 11), (2, 10), (1, 9)]"
            ]
          },
          "metadata": {},
          "execution_count": 6
        }
      ]
    },
    {
      "cell_type": "code",
      "source": [
        "# Q-9: Write a program implement Boradcasting Rule to check if two array can be added or not.\n",
        "# Given tuples of shapes.\n",
        "\n",
        "# shape of a- (3,2,2)\n",
        "# shape of b- (2,2)\n",
        "def check_broadcast(a,b):\n",
        "  a1=a[::-1]\n",
        "  a2=b[::-1]\n",
        "  for ai,bi in zip(a1,a2):\n",
        "    if ai!=bi and ai!=1 and bi!=1:\n",
        "      return False\n",
        "  return True\n",
        "check_broadcast((3,2,2),(2,2))"
      ],
      "metadata": {
        "colab": {
          "base_uri": "https://localhost:8080/"
        },
        "id": "ZdwAx88MpHB5",
        "outputId": "86b664ee-2d80-453c-97ef-25a6dbf6fa85"
      },
      "execution_count": null,
      "outputs": [
        {
          "output_type": "execute_result",
          "data": {
            "text/plain": [
              "True"
            ]
          },
          "metadata": {},
          "execution_count": 10
        }
      ]
    },
    {
      "cell_type": "code",
      "source": [
        "check_broadcast((4,3,3,5),(2,5))"
      ],
      "metadata": {
        "colab": {
          "base_uri": "https://localhost:8080/"
        },
        "id": "sqeOo3Gntesh",
        "outputId": "77dfc607-4e31-40d7-bebb-a5dd6c57f17b"
      },
      "execution_count": null,
      "outputs": [
        {
          "output_type": "execute_result",
          "data": {
            "text/plain": [
              "False"
            ]
          },
          "metadata": {},
          "execution_count": 11
        }
      ]
    },
    {
      "cell_type": "code",
      "source": [
        "def check_broadcast1(a,b):\n",
        "  a1=a[::-1]\n",
        "  a2=b[::-1]\n",
        "  for ai,bi in zip(a1,a2):\n",
        "    if ai!=bi and ai!=1 and bi!=1:\n",
        "      return False\n",
        "    return True\n",
        "check_broadcast1((4,3,3,7),(2,5))\n",
        "#it mostly returns True unless the if block is executed in the very first iteration...if not then True is returned and the function gets\n",
        "#closed Hence if we want to check then we have to return True after the end of for loop."
      ],
      "metadata": {
        "colab": {
          "base_uri": "https://localhost:8080/"
        },
        "id": "-hBtBR-ouFQT",
        "outputId": "46a928ed-3f99-4dd8-99a1-0531cb724a92"
      },
      "execution_count": null,
      "outputs": [
        {
          "output_type": "execute_result",
          "data": {
            "text/plain": [
              "False"
            ]
          },
          "metadata": {},
          "execution_count": 13
        }
      ]
    },
    {
      "cell_type": "code",
      "source": [
        "def check_broadcast2(a,b):\n",
        "  a1=a[::-1]\n",
        "  b1=b[::-1]\n",
        "  for ai,bi in zip(a1,b1):\n",
        "    if ai!=bi and ai!=1 and bi!=1:\n",
        "      return False\n",
        "  return True\n",
        "check_broadcast2((4,3,3,5),(2,5))"
      ],
      "metadata": {
        "colab": {
          "base_uri": "https://localhost:8080/"
        },
        "id": "vZ6jUPMh1KMl",
        "outputId": "7500a0d5-5966-4e05-809b-c085fd0471ec"
      },
      "execution_count": null,
      "outputs": [
        {
          "output_type": "execute_result",
          "data": {
            "text/plain": [
              "False"
            ]
          },
          "metadata": {},
          "execution_count": 14
        }
      ]
    },
    {
      "cell_type": "code",
      "source": [
        "check_broadcast2((3,2,2),(2,2))"
      ],
      "metadata": {
        "colab": {
          "base_uri": "https://localhost:8080/"
        },
        "id": "YfYePzLB2YV8",
        "outputId": "ed18ee4d-d7d9-4a0b-e91c-c00d37d41c28"
      },
      "execution_count": null,
      "outputs": [
        {
          "output_type": "execute_result",
          "data": {
            "text/plain": [
              "True"
            ]
          },
          "metadata": {},
          "execution_count": 15
        }
      ]
    },
    {
      "cell_type": "code",
      "source": [
        "import numpy as np\n",
        "a1=np.random.randint(1,100,15)\n",
        "a1"
      ],
      "metadata": {
        "colab": {
          "base_uri": "https://localhost:8080/"
        },
        "id": "RRcMV79m2dHr",
        "outputId": "8a635397-88b4-425c-8998-a5ae4df17dcf"
      },
      "execution_count": null,
      "outputs": [
        {
          "output_type": "execute_result",
          "data": {
            "text/plain": [
              "array([53, 60, 12, 71, 92, 86, 55, 25, 44, 26,  6, 80, 24, 63, 50])"
            ]
          },
          "metadata": {},
          "execution_count": 16
        }
      ]
    },
    {
      "cell_type": "code",
      "source": [
        "sorted(a1)\n",
        "#as you can see the sorting can be done using sorted function as well but it returns a list. So we use np.sort() to return a numpy array"
      ],
      "metadata": {
        "colab": {
          "base_uri": "https://localhost:8080/"
        },
        "id": "botd-IO5ATn_",
        "outputId": "8c9eb12f-3731-43ea-9584-1256aa533ea6"
      },
      "execution_count": null,
      "outputs": [
        {
          "output_type": "execute_result",
          "data": {
            "text/plain": [
              "[6, 12, 24, 25, 26, 44, 50, 53, 55, 60, 63, 71, 80, 86, 92]"
            ]
          },
          "metadata": {},
          "execution_count": 18
        }
      ]
    },
    {
      "cell_type": "code",
      "source": [
        "b1=np.random.randint(1,100,24).reshape(6,4)\n",
        "b1"
      ],
      "metadata": {
        "colab": {
          "base_uri": "https://localhost:8080/"
        },
        "id": "zl2aBRDgGLMk",
        "outputId": "d175427c-d4ae-42c7-da5f-c7a5ecf64c22"
      },
      "execution_count": null,
      "outputs": [
        {
          "output_type": "execute_result",
          "data": {
            "text/plain": [
              "array([[83, 82,  3, 82],\n",
              "       [30, 57, 11, 36],\n",
              "       [18, 98, 47,  1],\n",
              "       [89, 16,  7, 52],\n",
              "       [57, 89, 24, 38],\n",
              "       [65, 20, 64, 84]])"
            ]
          },
          "metadata": {},
          "execution_count": 19
        }
      ]
    },
    {
      "cell_type": "code",
      "source": [
        "np.sort(b1)\n",
        "#by default the sorting happens along each row"
      ],
      "metadata": {
        "colab": {
          "base_uri": "https://localhost:8080/"
        },
        "id": "dK44aGmRGaUy",
        "outputId": "8ed27047-81a0-4ecc-cba9-4aa22c24bd22"
      },
      "execution_count": null,
      "outputs": [
        {
          "output_type": "execute_result",
          "data": {
            "text/plain": [
              "array([[ 3, 82, 82, 83],\n",
              "       [11, 30, 36, 57],\n",
              "       [ 1, 18, 47, 98],\n",
              "       [ 7, 16, 52, 89],\n",
              "       [24, 38, 57, 89],\n",
              "       [20, 64, 65, 84]])"
            ]
          },
          "metadata": {},
          "execution_count": 21
        }
      ]
    },
    {
      "cell_type": "code",
      "source": [
        "np.sort(b1,axis=1)\n",
        "#by default the sorting happens along each of the rows"
      ],
      "metadata": {
        "colab": {
          "base_uri": "https://localhost:8080/"
        },
        "id": "Qhzyeyk5Gl4Y",
        "outputId": "c2cd8c57-8434-4174-eb69-c3ebd45121bc"
      },
      "execution_count": null,
      "outputs": [
        {
          "output_type": "execute_result",
          "data": {
            "text/plain": [
              "array([[ 3, 82, 82, 83],\n",
              "       [11, 30, 36, 57],\n",
              "       [ 1, 18, 47, 98],\n",
              "       [ 7, 16, 52, 89],\n",
              "       [24, 38, 57, 89],\n",
              "       [20, 64, 65, 84]])"
            ]
          },
          "metadata": {},
          "execution_count": 23
        }
      ]
    },
    {
      "cell_type": "code",
      "source": [
        "np.sort(b1,axis=0)\n",
        "#To make sorting along columns we do np.sort(b1,axis=1)"
      ],
      "metadata": {
        "colab": {
          "base_uri": "https://localhost:8080/"
        },
        "id": "oTMvZL14HW5N",
        "outputId": "61dff735-731a-4b54-ab1b-6f304e7920e9"
      },
      "execution_count": null,
      "outputs": [
        {
          "output_type": "execute_result",
          "data": {
            "text/plain": [
              "array([[18, 16,  3,  1],\n",
              "       [30, 20,  7, 36],\n",
              "       [57, 57, 11, 38],\n",
              "       [65, 82, 24, 52],\n",
              "       [83, 89, 47, 82],\n",
              "       [89, 98, 64, 84]])"
            ]
          },
          "metadata": {},
          "execution_count": 25
        }
      ]
    },
    {
      "cell_type": "code",
      "source": [
        "np.sort(a1)[::-1]\n",
        "#This is how you sort the numpy array in descending order."
      ],
      "metadata": {
        "colab": {
          "base_uri": "https://localhost:8080/"
        },
        "id": "IooOW9sOHjep",
        "outputId": "949aa15e-83e5-4d1e-8ac1-92891dd23d70"
      },
      "execution_count": null,
      "outputs": [
        {
          "output_type": "execute_result",
          "data": {
            "text/plain": [
              "array([92, 86, 80, 71, 63, 60, 55, 53, 50, 44, 26, 25, 24, 12,  6])"
            ]
          },
          "metadata": {},
          "execution_count": 26
        }
      ]
    },
    {
      "cell_type": "code",
      "source": [
        "a1"
      ],
      "metadata": {
        "colab": {
          "base_uri": "https://localhost:8080/"
        },
        "id": "C6APS-1DJcah",
        "outputId": "6df19586-e28c-4c8a-f51b-c0d18cbcb647"
      },
      "execution_count": null,
      "outputs": [
        {
          "output_type": "execute_result",
          "data": {
            "text/plain": [
              "array([53, 60, 12, 71, 92, 86, 55, 25, 44, 26,  6, 80, 24, 63, 50])"
            ]
          },
          "metadata": {},
          "execution_count": 27
        }
      ]
    },
    {
      "cell_type": "code",
      "source": [
        "np.append(a1,200)\n",
        "#this is how you can append to 1D arrays. But not permanently"
      ],
      "metadata": {
        "colab": {
          "base_uri": "https://localhost:8080/"
        },
        "id": "ScV0MrRcMqgi",
        "outputId": "3f5c981f-f26a-4df3-d976-68776c0cad40"
      },
      "execution_count": null,
      "outputs": [
        {
          "output_type": "execute_result",
          "data": {
            "text/plain": [
              "array([ 53,  60,  12,  71,  92,  86,  55,  25,  44,  26,   6,  80,  24,\n",
              "        63,  50, 200])"
            ]
          },
          "metadata": {},
          "execution_count": 32
        }
      ]
    },
    {
      "cell_type": "code",
      "source": [
        "b1\n"
      ],
      "metadata": {
        "colab": {
          "base_uri": "https://localhost:8080/"
        },
        "id": "p5vAT2UBNfex",
        "outputId": "92a12c9a-78b6-4d02-bc28-e67014079354"
      },
      "execution_count": null,
      "outputs": [
        {
          "output_type": "execute_result",
          "data": {
            "text/plain": [
              "array([[83, 82,  3, 82],\n",
              "       [30, 57, 11, 36],\n",
              "       [18, 98, 47,  1],\n",
              "       [89, 16,  7, 52],\n",
              "       [57, 89, 24, 38],\n",
              "       [65, 20, 64, 84]])"
            ]
          },
          "metadata": {},
          "execution_count": 31
        }
      ]
    },
    {
      "cell_type": "code",
      "source": [
        "np.append(b1,np.random.randint(0,100,(b1.shape[0],1)),axis=1)"
      ],
      "metadata": {
        "colab": {
          "base_uri": "https://localhost:8080/"
        },
        "id": "_CnOG2BONkOY",
        "outputId": "3e8b4d90-3a6e-4b16-97bf-489e799c2f60"
      },
      "execution_count": null,
      "outputs": [
        {
          "output_type": "execute_result",
          "data": {
            "text/plain": [
              "array([[83, 82,  3, 82, 62],\n",
              "       [30, 57, 11, 36, 32],\n",
              "       [18, 98, 47,  1, 37],\n",
              "       [89, 16,  7, 52, 32],\n",
              "       [57, 89, 24, 38, 39],\n",
              "       [65, 20, 64, 84, 18]])"
            ]
          },
          "metadata": {},
          "execution_count": 41
        }
      ]
    },
    {
      "cell_type": "code",
      "source": [
        "b1.shape[0]"
      ],
      "metadata": {
        "colab": {
          "base_uri": "https://localhost:8080/"
        },
        "id": "1-0j2VfpOk3u",
        "outputId": "70d98c36-e283-4c55-b677-3e877664b729"
      },
      "execution_count": null,
      "outputs": [
        {
          "output_type": "execute_result",
          "data": {
            "text/plain": [
              "6"
            ]
          },
          "metadata": {},
          "execution_count": 37
        }
      ]
    },
    {
      "cell_type": "code",
      "source": [
        "np.append(b1,np.ones((b1.shape[0],1)),axis=1)"
      ],
      "metadata": {
        "colab": {
          "base_uri": "https://localhost:8080/"
        },
        "id": "9jncWunhO8eZ",
        "outputId": "404bc29a-9220-4bd6-c784-cb676fc806b6"
      },
      "execution_count": null,
      "outputs": [
        {
          "output_type": "execute_result",
          "data": {
            "text/plain": [
              "array([[83., 82.,  3., 82.,  1.],\n",
              "       [30., 57., 11., 36.,  1.],\n",
              "       [18., 98., 47.,  1.,  1.],\n",
              "       [89., 16.,  7., 52.,  1.],\n",
              "       [57., 89., 24., 38.,  1.],\n",
              "       [65., 20., 64., 84.,  1.]])"
            ]
          },
          "metadata": {},
          "execution_count": 39
        }
      ]
    },
    {
      "cell_type": "code",
      "source": [
        "np.append(b1,np.ones((1,b1.shape[1])),axis=0)"
      ],
      "metadata": {
        "colab": {
          "base_uri": "https://localhost:8080/"
        },
        "id": "7maQg_44Pcm2",
        "outputId": "002c759a-6d70-45ee-9b13-89a5e146b525"
      },
      "execution_count": null,
      "outputs": [
        {
          "output_type": "execute_result",
          "data": {
            "text/plain": [
              "array([[83., 82.,  3., 82.],\n",
              "       [30., 57., 11., 36.],\n",
              "       [18., 98., 47.,  1.],\n",
              "       [89., 16.,  7., 52.],\n",
              "       [57., 89., 24., 38.],\n",
              "       [65., 20., 64., 84.],\n",
              "       [ 1.,  1.,  1.,  1.]])"
            ]
          },
          "metadata": {},
          "execution_count": 42
        }
      ]
    },
    {
      "cell_type": "code",
      "source": [
        "np.append(b1,np.random.randint(1,100,(1,b1.shape[1])),axis=0)\n",
        "#as you can see, you can use append function to append both columns and rows in case of 2D matrix, for appending along rows the shape should\n",
        "#be (1,b1.shape[1]) and axis=0 and for appending across columns we use axis=1 and shape should be (b1.shape[0],1)."
      ],
      "metadata": {
        "colab": {
          "base_uri": "https://localhost:8080/"
        },
        "id": "QRPk2yGdT6wS",
        "outputId": "c751748b-3b8c-4dd4-d48f-14c1ff8e653d"
      },
      "execution_count": null,
      "outputs": [
        {
          "output_type": "execute_result",
          "data": {
            "text/plain": [
              "array([[83, 82,  3, 82],\n",
              "       [30, 57, 11, 36],\n",
              "       [18, 98, 47,  1],\n",
              "       [89, 16,  7, 52],\n",
              "       [57, 89, 24, 38],\n",
              "       [65, 20, 64, 84],\n",
              "       [54, 69, 95, 18]])"
            ]
          },
          "metadata": {},
          "execution_count": 44
        }
      ]
    },
    {
      "cell_type": "code",
      "source": [
        "import numpy as np\n",
        "b1=np.random.randint(1,100,(6,4))\n",
        "b1"
      ],
      "metadata": {
        "id": "OeqLzrPmVTz8",
        "colab": {
          "base_uri": "https://localhost:8080/"
        },
        "outputId": "b90dae8d-1fc0-461c-f2f2-37dd62ec3d23"
      },
      "execution_count": null,
      "outputs": [
        {
          "output_type": "execute_result",
          "data": {
            "text/plain": [
              "array([[ 5, 92, 86, 91],\n",
              "       [38, 37, 49, 25],\n",
              "       [22, 68, 42, 90],\n",
              "       [81, 85, 34, 62],\n",
              "       [16, 21, 13, 43],\n",
              "       [28, 51, 16, 72]])"
            ]
          },
          "metadata": {},
          "execution_count": 1
        }
      ]
    },
    {
      "cell_type": "code",
      "source": [
        "np.append(b1,np.random.randint(1,100,(b1.shape[0],1)),axis=1)"
      ],
      "metadata": {
        "colab": {
          "base_uri": "https://localhost:8080/"
        },
        "id": "1ZqkjAFw5wKu",
        "outputId": "a05210a9-cf6c-45e5-d52b-35f2e4cb473e"
      },
      "execution_count": null,
      "outputs": [
        {
          "output_type": "execute_result",
          "data": {
            "text/plain": [
              "array([[ 5, 92, 86, 91, 59],\n",
              "       [38, 37, 49, 25, 46],\n",
              "       [22, 68, 42, 90, 96],\n",
              "       [81, 85, 34, 62, 32],\n",
              "       [16, 21, 13, 43, 38],\n",
              "       [28, 51, 16, 72, 30]])"
            ]
          },
          "metadata": {},
          "execution_count": 3
        }
      ]
    },
    {
      "cell_type": "code",
      "source": [
        "np.append(b1,np.random.randint(1,100,(1,b1.shape[1])),axis=0)"
      ],
      "metadata": {
        "colab": {
          "base_uri": "https://localhost:8080/"
        },
        "id": "z2caSz0b6F0Z",
        "outputId": "4cb1b2ef-fb36-4320-83b7-42c3c049d860"
      },
      "execution_count": null,
      "outputs": [
        {
          "output_type": "execute_result",
          "data": {
            "text/plain": [
              "array([[ 5, 92, 86, 91],\n",
              "       [38, 37, 49, 25],\n",
              "       [22, 68, 42, 90],\n",
              "       [81, 85, 34, 62],\n",
              "       [16, 21, 13, 43],\n",
              "       [28, 51, 16, 72],\n",
              "       [58, 60, 27, 43]])"
            ]
          },
          "metadata": {},
          "execution_count": 4
        }
      ]
    },
    {
      "cell_type": "code",
      "source": [
        "np.append(b1,np.ones((1,b1.shape[1])),axis=0)"
      ],
      "metadata": {
        "colab": {
          "base_uri": "https://localhost:8080/"
        },
        "id": "BnEXtSg69Suy",
        "outputId": "7b9f461d-8fc7-4384-9b69-b417d28dc142"
      },
      "execution_count": null,
      "outputs": [
        {
          "output_type": "execute_result",
          "data": {
            "text/plain": [
              "array([[ 5., 92., 86., 91.],\n",
              "       [38., 37., 49., 25.],\n",
              "       [22., 68., 42., 90.],\n",
              "       [81., 85., 34., 62.],\n",
              "       [16., 21., 13., 43.],\n",
              "       [28., 51., 16., 72.],\n",
              "       [ 1.,  1.,  1.,  1.]])"
            ]
          },
          "metadata": {},
          "execution_count": 5
        }
      ]
    },
    {
      "cell_type": "code",
      "source": [
        "np.append(b1,np.ones((b1.shape[0],1)),axis=1)"
      ],
      "metadata": {
        "colab": {
          "base_uri": "https://localhost:8080/"
        },
        "id": "5nm7J48j9jGI",
        "outputId": "19ff9f3e-5178-470d-a421-0658aef3b7a0"
      },
      "execution_count": null,
      "outputs": [
        {
          "output_type": "execute_result",
          "data": {
            "text/plain": [
              "array([[ 5., 92., 86., 91.,  1.],\n",
              "       [38., 37., 49., 25.,  1.],\n",
              "       [22., 68., 42., 90.,  1.],\n",
              "       [81., 85., 34., 62.,  1.],\n",
              "       [16., 21., 13., 43.,  1.],\n",
              "       [28., 51., 16., 72.,  1.]])"
            ]
          },
          "metadata": {},
          "execution_count": 7
        }
      ]
    },
    {
      "cell_type": "code",
      "source": [
        "np.append(b1,np.random.random((b1.shape[0],1)),axis=1)"
      ],
      "metadata": {
        "colab": {
          "base_uri": "https://localhost:8080/"
        },
        "id": "5HQ5_BWq_RWQ",
        "outputId": "20dcd761-f0a0-484d-b51f-a1ddd4aa56d9"
      },
      "execution_count": null,
      "outputs": [
        {
          "output_type": "execute_result",
          "data": {
            "text/plain": [
              "array([[ 5.        , 92.        , 86.        , 91.        ,  0.39781123],\n",
              "       [38.        , 37.        , 49.        , 25.        ,  0.21342176],\n",
              "       [22.        , 68.        , 42.        , 90.        ,  0.21831012],\n",
              "       [81.        , 85.        , 34.        , 62.        ,  0.15845753],\n",
              "       [16.        , 21.        , 13.        , 43.        ,  0.4274306 ],\n",
              "       [28.        , 51.        , 16.        , 72.        ,  0.47122488]])"
            ]
          },
          "metadata": {},
          "execution_count": 8
        }
      ]
    },
    {
      "cell_type": "code",
      "source": [
        "np.append(b1,np.random.random((1,b1.shape[1])),axis=0)\n",
        "#axis=0 is used to append an entire row whereas axis=1 is used to append an entire column."
      ],
      "metadata": {
        "colab": {
          "base_uri": "https://localhost:8080/"
        },
        "id": "FoVyR7IeIHRR",
        "outputId": "23379cee-f1fd-44fa-d21f-4cce8d22f1dd"
      },
      "execution_count": null,
      "outputs": [
        {
          "output_type": "execute_result",
          "data": {
            "text/plain": [
              "array([[ 5.        , 92.        , 86.        , 91.        ],\n",
              "       [38.        , 37.        , 49.        , 25.        ],\n",
              "       [22.        , 68.        , 42.        , 90.        ],\n",
              "       [81.        , 85.        , 34.        , 62.        ],\n",
              "       [16.        , 21.        , 13.        , 43.        ],\n",
              "       [28.        , 51.        , 16.        , 72.        ],\n",
              "       [ 0.46411753,  0.1587022 ,  0.44952066,  0.78203735]])"
            ]
          },
          "metadata": {},
          "execution_count": 10
        }
      ]
    },
    {
      "cell_type": "code",
      "source": [
        "#np.concatenate() function is used in concatenating multiple numpy arrays along columns or along rows, it can be used as replacement to\n",
        "#np.hstack() or np.vstack() function\n",
        "import numpy as np\n",
        "a11=np.arange(6).reshape(2,3)\n",
        "a12=np.arange(6,12).reshape(2,3)\n",
        "np.concatenate((a11,a12),axis=0)"
      ],
      "metadata": {
        "colab": {
          "base_uri": "https://localhost:8080/"
        },
        "id": "-RXmX_dwJCEW",
        "outputId": "22c8daf0-2b5c-45ef-ed9b-9aba7a2368ef"
      },
      "execution_count": null,
      "outputs": [
        {
          "output_type": "execute_result",
          "data": {
            "text/plain": [
              "array([[ 0,  1,  2],\n",
              "       [ 3,  4,  5],\n",
              "       [ 6,  7,  8],\n",
              "       [ 9, 10, 11]])"
            ]
          },
          "metadata": {},
          "execution_count": 11
        }
      ]
    },
    {
      "cell_type": "code",
      "source": [
        "np.concatenate((a11,a12),axis=1)"
      ],
      "metadata": {
        "colab": {
          "base_uri": "https://localhost:8080/"
        },
        "id": "-LFUHiW4MY9f",
        "outputId": "16df84ae-d870-4980-d03d-2f58b1ac4242"
      },
      "execution_count": null,
      "outputs": [
        {
          "data": {
            "text/plain": [
              "array([[ 0,  1,  2,  6,  7,  8],\n",
              "       [ 3,  4,  5,  9, 10, 11]])"
            ]
          },
          "execution_count": 12,
          "metadata": {},
          "output_type": "execute_result"
        }
      ]
    },
    {
      "cell_type": "code",
      "source": [
        "import numpy as np\n",
        "a11=np.array([1,1,1,2,2,2,3,3,3,4,4,4])\n",
        "np.unique(a11)\n",
        "#This is used to find all the unique items....np.unique()"
      ],
      "metadata": {
        "colab": {
          "base_uri": "https://localhost:8080/"
        },
        "id": "70sGsS7MMfZk",
        "outputId": "1931a87a-3534-45d0-862b-8191a1dbba78"
      },
      "execution_count": null,
      "outputs": [
        {
          "output_type": "execute_result",
          "data": {
            "text/plain": [
              "array([1, 2, 3, 4])"
            ]
          },
          "metadata": {},
          "execution_count": 14
        }
      ]
    },
    {
      "cell_type": "code",
      "source": [
        "a12=np.arange(12).reshape(4,3)\n",
        "a12"
      ],
      "metadata": {
        "colab": {
          "base_uri": "https://localhost:8080/"
        },
        "id": "nV57GgrXWYtB",
        "outputId": "1de0e82f-0305-4903-8bb5-8f6224aa8f22"
      },
      "execution_count": null,
      "outputs": [
        {
          "output_type": "execute_result",
          "data": {
            "text/plain": [
              "array([[ 0,  1,  2],\n",
              "       [ 3,  4,  5],\n",
              "       [ 6,  7,  8],\n",
              "       [ 9, 10, 11]])"
            ]
          },
          "metadata": {},
          "execution_count": 15
        }
      ]
    },
    {
      "cell_type": "code",
      "source": [
        "a12=np.append(a12,np.random.randint(12,100,(1,a12.shape[1])),axis=0)\n",
        "a12"
      ],
      "metadata": {
        "colab": {
          "base_uri": "https://localhost:8080/"
        },
        "id": "dnKcwGwlW3ig",
        "outputId": "1a8be4b0-08e9-4ef6-9bff-e826f775149b"
      },
      "execution_count": null,
      "outputs": [
        {
          "output_type": "execute_result",
          "data": {
            "text/plain": [
              "array([[ 0,  1,  2],\n",
              "       [ 3,  4,  5],\n",
              "       [ 6,  7,  8],\n",
              "       [ 9, 10, 11],\n",
              "       [29, 61, 72],\n",
              "       [99, 86, 74]])"
            ]
          },
          "metadata": {},
          "execution_count": 17
        }
      ]
    },
    {
      "cell_type": "code",
      "source": [
        "a12=np.append(a12,np.random.randint(100,200,(a12.shape[0],1)),axis=1)\n",
        "a12"
      ],
      "metadata": {
        "colab": {
          "base_uri": "https://localhost:8080/"
        },
        "id": "OCWV0AR2Xr9n",
        "outputId": "7a3e702d-d6c4-427c-bfe5-32b74c22d2ae"
      },
      "execution_count": null,
      "outputs": [
        {
          "output_type": "execute_result",
          "data": {
            "text/plain": [
              "array([[  0,   1,   2, 183],\n",
              "       [  3,   4,   5, 173],\n",
              "       [  6,   7,   8, 165],\n",
              "       [  9,  10,  11, 158],\n",
              "       [ 29,  61,  72, 114],\n",
              "       [ 99,  86,  74, 144]])"
            ]
          },
          "metadata": {},
          "execution_count": 18
        }
      ]
    },
    {
      "cell_type": "code",
      "source": [
        "np.unique(a12)"
      ],
      "metadata": {
        "colab": {
          "base_uri": "https://localhost:8080/"
        },
        "id": "motE3znvYCF6",
        "outputId": "d1615586-6bdd-460e-d87c-03b167561990"
      },
      "execution_count": null,
      "outputs": [
        {
          "output_type": "execute_result",
          "data": {
            "text/plain": [
              "array([  0,   1,   2,   3,   4,   5,   6,   7,   8,   9,  10,  11,  29,\n",
              "        61,  72,  74,  86,  99, 114, 144, 158, 165, 173, 183])"
            ]
          },
          "metadata": {},
          "execution_count": 19
        }
      ]
    },
    {
      "cell_type": "code",
      "source": [
        "a12=np.append(a12,np.zeros((1,a12.shape[1])),axis=0)\n",
        "a12"
      ],
      "metadata": {
        "colab": {
          "base_uri": "https://localhost:8080/"
        },
        "id": "6Jasv6_eYMsJ",
        "outputId": "ef82a239-02b8-4025-c3e0-df732bd1296c"
      },
      "execution_count": null,
      "outputs": [
        {
          "output_type": "execute_result",
          "data": {
            "text/plain": [
              "array([[  0.,   1.,   2., 183.],\n",
              "       [  3.,   4.,   5., 173.],\n",
              "       [  6.,   7.,   8., 165.],\n",
              "       [  9.,  10.,  11., 158.],\n",
              "       [ 29.,  61.,  72., 114.],\n",
              "       [ 99.,  86.,  74., 144.],\n",
              "       [  0.,   0.,   0.,   0.]])"
            ]
          },
          "metadata": {},
          "execution_count": 20
        }
      ]
    },
    {
      "cell_type": "code",
      "source": [
        "a12=np.append(a12,np.zeros((a12.shape[0],1)),axis=1)\n",
        "a12"
      ],
      "metadata": {
        "colab": {
          "base_uri": "https://localhost:8080/"
        },
        "id": "aAiJ36wpYgZl",
        "outputId": "c302673c-6e30-4b20-d7e8-56cf7a64738f"
      },
      "execution_count": null,
      "outputs": [
        {
          "output_type": "execute_result",
          "data": {
            "text/plain": [
              "array([[  0.,   1.,   2., 183.,   0.],\n",
              "       [  3.,   4.,   5., 173.,   0.],\n",
              "       [  6.,   7.,   8., 165.,   0.],\n",
              "       [  9.,  10.,  11., 158.,   0.],\n",
              "       [ 29.,  61.,  72., 114.,   0.],\n",
              "       [ 99.,  86.,  74., 144.,   0.],\n",
              "       [  0.,   0.,   0.,   0.,   0.]])"
            ]
          },
          "metadata": {},
          "execution_count": 21
        }
      ]
    },
    {
      "cell_type": "code",
      "source": [
        "np.unique(a12)"
      ],
      "metadata": {
        "colab": {
          "base_uri": "https://localhost:8080/"
        },
        "id": "c2iCgv2uYy3X",
        "outputId": "e69cd8da-f40d-4a86-fba8-33190e2b3a8c"
      },
      "execution_count": null,
      "outputs": [
        {
          "output_type": "execute_result",
          "data": {
            "text/plain": [
              "array([  0.,   1.,   2.,   3.,   4.,   5.,   6.,   7.,   8.,   9.,  10.,\n",
              "        11.,  29.,  61.,  72.,  74.,  86.,  99., 114., 144., 158., 165.,\n",
              "       173., 183.])"
            ]
          },
          "metadata": {},
          "execution_count": 22
        }
      ]
    },
    {
      "cell_type": "code",
      "source": [
        "import numpy as np\n",
        "a11=np.arange(9)\n",
        "a11\n",
        "a11.shape"
      ],
      "metadata": {
        "colab": {
          "base_uri": "https://localhost:8080/"
        },
        "id": "wMxkBWdcY4UE",
        "outputId": "97f706ea-9822-41fb-e605-feae43e526c6"
      },
      "execution_count": null,
      "outputs": [
        {
          "output_type": "execute_result",
          "data": {
            "text/plain": [
              "(9,)"
            ]
          },
          "metadata": {},
          "execution_count": 28
        }
      ]
    },
    {
      "cell_type": "code",
      "source": [
        "print(np.expand_dims(a11,axis=0))\n",
        "\n",
        "#expand_dims at axis=0 expands 1 more row into the array\n",
        "#as u can see the actual shape of a11 was (9,), now it is (1,9). It now has 1 row and 9 columns."
      ],
      "metadata": {
        "colab": {
          "base_uri": "https://localhost:8080/"
        },
        "id": "kJk6Pf04iMMa",
        "outputId": "96745b32-aeaf-48c8-b741-b8126e1a3d96"
      },
      "execution_count": null,
      "outputs": [
        {
          "output_type": "stream",
          "name": "stdout",
          "text": [
            "[[0 1 2 3 4 5 6 7 8]]\n"
          ]
        }
      ]
    },
    {
      "cell_type": "code",
      "source": [
        "print(np.expand_dims(a11,axis=1))\n",
        "#expand_dims at axis=1 creates a 2D array with shape (9,1)\n",
        "print(np.expand_dims(a11,axis=1).shape)\n",
        "#expand_dims at axis=1 create a 2D array where 1 is added towards columns."
      ],
      "metadata": {
        "colab": {
          "base_uri": "https://localhost:8080/"
        },
        "id": "kyRqi1sCiRFu",
        "outputId": "eb54a457-fc7a-4bb8-be34-78584a2cdfc9"
      },
      "execution_count": null,
      "outputs": [
        {
          "output_type": "stream",
          "name": "stdout",
          "text": [
            "[[0]\n",
            " [1]\n",
            " [2]\n",
            " [3]\n",
            " [4]\n",
            " [5]\n",
            " [6]\n",
            " [7]\n",
            " [8]]\n",
            "(9, 1)\n"
          ]
        }
      ]
    },
    {
      "cell_type": "code",
      "source": [
        "#numpy.where() function returns indices of elements of the input array where the condition is satisfied.\n",
        "#numpy.where() function returns indices of elements of the input array where the cpndition is satisfied.\n",
        "import numpy as np\n",
        "a11=np.random.randint(1,100,24)\n",
        "a11"
      ],
      "metadata": {
        "colab": {
          "base_uri": "https://localhost:8080/"
        },
        "id": "SH_fr_FhohoC",
        "outputId": "f4003e8a-aa2a-4013-c472-a75f2344c409"
      },
      "execution_count": null,
      "outputs": [
        {
          "output_type": "execute_result",
          "data": {
            "text/plain": [
              "array([97,  7, 48, 45, 67, 39, 97, 80, 98,  1, 76, 85, 64, 32, 99, 88, 24,\n",
              "       56, 76, 54, 91, 84, 18, 98])"
            ]
          },
          "metadata": {},
          "execution_count": 33
        }
      ]
    },
    {
      "cell_type": "code",
      "source": [
        "np.where(a11>50)"
      ],
      "metadata": {
        "colab": {
          "base_uri": "https://localhost:8080/"
        },
        "id": "2SnOZ8tHvsHD",
        "outputId": "275bb224-780c-4c0c-d443-c4c8a8a1263b"
      },
      "execution_count": null,
      "outputs": [
        {
          "output_type": "execute_result",
          "data": {
            "text/plain": [
              "(array([ 0,  4,  6,  7,  8, 10, 11, 12, 14, 15, 17, 18, 19, 20, 21, 23]),)"
            ]
          },
          "metadata": {},
          "execution_count": 34
        }
      ]
    },
    {
      "cell_type": "code",
      "source": [
        "a11[np.where(a11>50)]"
      ],
      "metadata": {
        "colab": {
          "base_uri": "https://localhost:8080/"
        },
        "id": "Tj657LZ1vyPd",
        "outputId": "9a7de434-e6dd-4ea4-ef42-2547d8a2c2f7"
      },
      "execution_count": null,
      "outputs": [
        {
          "output_type": "execute_result",
          "data": {
            "text/plain": [
              "array([97, 67, 97, 80, 98, 76, 85, 64, 99, 88, 56, 76, 54, 91, 84, 98])"
            ]
          },
          "metadata": {},
          "execution_count": 35
        }
      ]
    },
    {
      "cell_type": "code",
      "source": [
        "#numpy.where() function returns indices of elements of the input array where the condition is satisfied."
      ],
      "metadata": {
        "id": "57CHgVYHv427"
      },
      "execution_count": null,
      "outputs": []
    },
    {
      "cell_type": "code",
      "source": [
        "import numpy as np\n",
        "#numpy.where(a11>50,T1,F1)....for all the indices for which the condition holds True, those indices will be replaced by T1 and for those\n",
        "#indices for which the condition holds False, those indices will be replaced by F1."
      ],
      "metadata": {
        "id": "CHdK06WVyx3D"
      },
      "execution_count": null,
      "outputs": []
    },
    {
      "cell_type": "code",
      "source": [
        "import numpy as np\n"
      ],
      "metadata": {
        "id": "pfwnhvY6zxxi"
      },
      "execution_count": null,
      "outputs": []
    },
    {
      "cell_type": "code",
      "source": [
        "a11=np.random.randint(1,100,24)\n",
        "a11"
      ],
      "metadata": {
        "colab": {
          "base_uri": "https://localhost:8080/"
        },
        "id": "lBD8IMa12B5z",
        "outputId": "f65b153c-23ce-445c-d9fe-64bb6c28441a"
      },
      "execution_count": null,
      "outputs": [
        {
          "output_type": "execute_result",
          "data": {
            "text/plain": [
              "array([11, 43, 20, 19, 64, 89, 97, 13, 82, 87,  5, 12, 18, 44, 25, 94, 56,\n",
              "       24, 49, 10,  1, 77, 91, 37])"
            ]
          },
          "metadata": {},
          "execution_count": 36
        }
      ]
    },
    {
      "cell_type": "code",
      "source": [
        "np.where(a11>50)\n",
        "#np.where() function returns the indices for which the condition holds True"
      ],
      "metadata": {
        "colab": {
          "base_uri": "https://localhost:8080/"
        },
        "id": "nlbXU2Sb2H9B",
        "outputId": "68207986-237e-462d-8c43-f0993bbd54c5"
      },
      "execution_count": null,
      "outputs": [
        {
          "output_type": "execute_result",
          "data": {
            "text/plain": [
              "(array([ 4,  5,  6,  8,  9, 15, 16, 21, 22]),)"
            ]
          },
          "metadata": {},
          "execution_count": 40
        }
      ]
    },
    {
      "cell_type": "code",
      "source": [
        "a11[np.where(a11>50)]\n",
        "#a11[np.where(a11>50)] returns the entire array where the condition holds True."
      ],
      "metadata": {
        "colab": {
          "base_uri": "https://localhost:8080/"
        },
        "id": "beVtB4i-2NJI",
        "outputId": "55805fc7-30dc-4d61-b494-6f332255915e"
      },
      "execution_count": null,
      "outputs": [
        {
          "output_type": "execute_result",
          "data": {
            "text/plain": [
              "array([64, 89, 97, 82, 87, 94, 56, 77, 91])"
            ]
          },
          "metadata": {},
          "execution_count": 41
        }
      ]
    },
    {
      "cell_type": "code",
      "source": [
        "np.where(a11>50,0,1)\n",
        "#here for the respective indices where a11 is greater than 50 for that it gets replaced with 0 and the indices for which a11>50 holds False\n",
        "#those indices are replaced with 1."
      ],
      "metadata": {
        "colab": {
          "base_uri": "https://localhost:8080/"
        },
        "id": "5h7zSZOj2rs8",
        "outputId": "ecb09e67-c8f6-4cfe-b13c-2cc8420b4937"
      },
      "execution_count": null,
      "outputs": [
        {
          "output_type": "execute_result",
          "data": {
            "text/plain": [
              "array([1, 1, 1, 1, 0, 0, 0, 1, 0, 0, 1, 1, 1, 1, 1, 0, 0, 1, 1, 1, 1, 0,\n",
              "       0, 1])"
            ]
          },
          "metadata": {},
          "execution_count": 45
        }
      ]
    },
    {
      "cell_type": "code",
      "source": [
        "a11"
      ],
      "metadata": {
        "colab": {
          "base_uri": "https://localhost:8080/"
        },
        "id": "V5nkKSPz3Oz1",
        "outputId": "9419d3f1-8cb2-498c-acce-3bff407fc14d"
      },
      "execution_count": null,
      "outputs": [
        {
          "output_type": "execute_result",
          "data": {
            "text/plain": [
              "array([11, 43, 20, 19, 64, 89, 97, 13, 82, 87,  5, 12, 18, 44, 25, 94, 56,\n",
              "       24, 49, 10,  1, 77, 91, 37])"
            ]
          },
          "metadata": {},
          "execution_count": 44
        }
      ]
    },
    {
      "cell_type": "code",
      "source": [
        "#replace the indices at which a11 is greater than 50 with zero.\n",
        "np.where(a11>50,0,a11)\n",
        "#here for the respective indices where a11>50 holds True those indices will be replaced by 0 and the indices for which that condition\n",
        "#doesnot hold True that is replaced with a11."
      ],
      "metadata": {
        "colab": {
          "base_uri": "https://localhost:8080/"
        },
        "id": "lK-NxMjI3fih",
        "outputId": "3381ff60-2564-49cb-f10c-50d1d6acfdd3"
      },
      "execution_count": null,
      "outputs": [
        {
          "output_type": "execute_result",
          "data": {
            "text/plain": [
              "array([11, 43, 20, 19,  0,  0,  0, 13,  0,  0,  5, 12, 18, 44, 25,  0,  0,\n",
              "       24, 49, 10,  1,  0,  0, 37])"
            ]
          },
          "metadata": {},
          "execution_count": 48
        }
      ]
    },
    {
      "cell_type": "code",
      "source": [
        "#replace the elements that are even with zero.\n",
        "np.where(a11%2==0,0,a11)"
      ],
      "metadata": {
        "colab": {
          "base_uri": "https://localhost:8080/"
        },
        "id": "1PUpZojr4bBH",
        "outputId": "8c09c7de-1af0-4d09-fe46-65cf7433ad85"
      },
      "execution_count": null,
      "outputs": [
        {
          "output_type": "execute_result",
          "data": {
            "text/plain": [
              "array([11, 43,  0, 19,  0, 89, 97, 13,  0, 87,  5,  0,  0,  0, 25,  0,  0,\n",
              "        0, 49,  0,  1, 77, 91, 37])"
            ]
          },
          "metadata": {},
          "execution_count": 50
        }
      ]
    },
    {
      "cell_type": "code",
      "source": [
        "#np.argmax() function returns the index of maximum element along a particular axis."
      ],
      "metadata": {
        "id": "iJXSfbuI-jFk"
      },
      "execution_count": null,
      "outputs": []
    },
    {
      "cell_type": "code",
      "source": [
        "import numpy as np\n",
        "a11=np.random.randint(1,100,24)\n",
        "a11"
      ],
      "metadata": {
        "colab": {
          "base_uri": "https://localhost:8080/"
        },
        "id": "_ZNPZInSAMfX",
        "outputId": "b32c9c68-baec-449d-a10e-5d069ece2067"
      },
      "execution_count": null,
      "outputs": [
        {
          "output_type": "execute_result",
          "data": {
            "text/plain": [
              "array([92, 16, 39, 56, 32, 71,  4,  8, 90, 23, 37, 31, 76, 72, 41, 86, 83,\n",
              "       33, 36, 37, 60, 16, 66,  6])"
            ]
          },
          "metadata": {},
          "execution_count": 51
        }
      ]
    },
    {
      "cell_type": "code",
      "source": [
        "np.argmax(a11)\n",
        "#as you can see the index of the maximum element is 0 which is returned."
      ],
      "metadata": {
        "colab": {
          "base_uri": "https://localhost:8080/"
        },
        "id": "2Whx4Zw_DcD_",
        "outputId": "c5ea18ee-43a8-4d96-df1a-990b6b696bd2"
      },
      "execution_count": null,
      "outputs": [
        {
          "output_type": "execute_result",
          "data": {
            "text/plain": [
              "0"
            ]
          },
          "metadata": {},
          "execution_count": 53
        }
      ]
    },
    {
      "cell_type": "code",
      "source": [
        "import numpy as np\n",
        "a12=np.random.randint(1,100,(6,4))\n",
        "a12"
      ],
      "metadata": {
        "colab": {
          "base_uri": "https://localhost:8080/"
        },
        "id": "XT-iXg7dDl-Q",
        "outputId": "78f8b0ea-8018-47e0-b894-0ef3b37d02d3"
      },
      "execution_count": null,
      "outputs": [
        {
          "output_type": "execute_result",
          "data": {
            "text/plain": [
              "array([[41,  2, 39, 89],\n",
              "       [18, 80, 37, 96],\n",
              "       [87, 59, 56, 26],\n",
              "       [11,  1, 15, 18],\n",
              "       [39, 71, 17, 72],\n",
              "       [10, 62, 58, 72]])"
            ]
          },
          "metadata": {},
          "execution_count": 54
        }
      ]
    },
    {
      "cell_type": "code",
      "source": [
        "np.argmax(a12,axis=0)\n",
        "#This means finding the maximum element along columns(axis=0)"
      ],
      "metadata": {
        "colab": {
          "base_uri": "https://localhost:8080/"
        },
        "id": "HDYpAVsnDucR",
        "outputId": "8e3dde45-c2e1-47cc-9edc-4862e4060956"
      },
      "execution_count": null,
      "outputs": [
        {
          "output_type": "execute_result",
          "data": {
            "text/plain": [
              "array([2, 1, 5, 1])"
            ]
          },
          "metadata": {},
          "execution_count": 56
        }
      ]
    },
    {
      "cell_type": "code",
      "source": [
        "np.argmax(a12,axis=1)\n",
        "#This means finding the maximum element along each rows(axis=1)."
      ],
      "metadata": {
        "colab": {
          "base_uri": "https://localhost:8080/"
        },
        "id": "ibh0kL0XL-c8",
        "outputId": "a6e3030a-a986-476b-daf7-9b70bfa1dd96"
      },
      "execution_count": null,
      "outputs": [
        {
          "output_type": "execute_result",
          "data": {
            "text/plain": [
              "array([3, 3, 0, 3, 3, 3])"
            ]
          },
          "metadata": {},
          "execution_count": 58
        }
      ]
    },
    {
      "cell_type": "code",
      "source": [
        "np.argmin(a12,axis=0)\n",
        "#This means finding the minimum element along each column(axis=0)."
      ],
      "metadata": {
        "colab": {
          "base_uri": "https://localhost:8080/"
        },
        "id": "IVV0DSJ9Mr1E",
        "outputId": "569ebab3-a74e-4561-fc47-1148bd3e6d3e"
      },
      "execution_count": null,
      "outputs": [
        {
          "output_type": "execute_result",
          "data": {
            "text/plain": [
              "array([5, 3, 3, 3])"
            ]
          },
          "metadata": {},
          "execution_count": 61
        }
      ]
    },
    {
      "cell_type": "code",
      "source": [
        "np.argmin(a12,axis=1)\n",
        "#This means finding the minimum element along each row(axis=1)."
      ],
      "metadata": {
        "colab": {
          "base_uri": "https://localhost:8080/"
        },
        "id": "ZfGNSkpTNmWQ",
        "outputId": "3aa70bcc-84eb-4ff6-ffbb-0f9c8131c8b9"
      },
      "execution_count": null,
      "outputs": [
        {
          "output_type": "execute_result",
          "data": {
            "text/plain": [
              "array([1, 0, 3, 1, 2, 0])"
            ]
          },
          "metadata": {},
          "execution_count": 62
        }
      ]
    },
    {
      "cell_type": "code",
      "source": [
        "import numpy as np\n",
        "a11=np.random.randint(1,100,24)\n",
        "a11"
      ],
      "metadata": {
        "colab": {
          "base_uri": "https://localhost:8080/"
        },
        "id": "wPLUioGsOFIe",
        "outputId": "5196aafe-33fe-45c6-e95e-e474ec2a21a3"
      },
      "execution_count": null,
      "outputs": [
        {
          "output_type": "execute_result",
          "data": {
            "text/plain": [
              "array([45, 41, 31, 81, 71, 61, 75, 90, 47, 64, 23, 39, 87, 46, 36, 88, 36,\n",
              "        6,  1,  9, 87, 26, 57, 43])"
            ]
          },
          "metadata": {},
          "execution_count": 63
        }
      ]
    },
    {
      "cell_type": "code",
      "source": [
        "np.cumsum(a11)\n",
        "#cumulative sum"
      ],
      "metadata": {
        "colab": {
          "base_uri": "https://localhost:8080/"
        },
        "id": "8TUF7tIjQKs_",
        "outputId": "65441801-ff5a-419f-8374-4bb8042f64b2"
      },
      "execution_count": null,
      "outputs": [
        {
          "output_type": "execute_result",
          "data": {
            "text/plain": [
              "array([  45,   86,  117,  198,  269,  330,  405,  495,  542,  606,  629,\n",
              "        668,  755,  801,  837,  925,  961,  967,  968,  977, 1064, 1090,\n",
              "       1147, 1190])"
            ]
          },
          "metadata": {},
          "execution_count": 65
        }
      ]
    },
    {
      "cell_type": "code",
      "source": [
        "a12=np.random.randint(1,100,(6,4))\n",
        "a12"
      ],
      "metadata": {
        "colab": {
          "base_uri": "https://localhost:8080/"
        },
        "id": "7Wb3FQroQXOq",
        "outputId": "2c9029dd-1911-459d-8dc6-2c345ff7ce3b"
      },
      "execution_count": null,
      "outputs": [
        {
          "output_type": "execute_result",
          "data": {
            "text/plain": [
              "array([[27, 16, 24, 88],\n",
              "       [78, 18, 73, 35],\n",
              "       [21, 30, 24, 23],\n",
              "       [44, 34, 20, 52],\n",
              "       [86, 33, 72,  3],\n",
              "       [14,  5, 67, 51]])"
            ]
          },
          "metadata": {},
          "execution_count": 66
        }
      ]
    },
    {
      "cell_type": "code",
      "source": [
        "np.cumsum(a12,axis=0)\n",
        "#cumulative sum along the columns at axis=0"
      ],
      "metadata": {
        "colab": {
          "base_uri": "https://localhost:8080/"
        },
        "id": "XNHkFyFFQe7S",
        "outputId": "ff10dfc2-2136-4bd0-d546-114604270197"
      },
      "execution_count": null,
      "outputs": [
        {
          "output_type": "execute_result",
          "data": {
            "text/plain": [
              "array([[ 27,  16,  24,  88],\n",
              "       [105,  34,  97, 123],\n",
              "       [126,  64, 121, 146],\n",
              "       [170,  98, 141, 198],\n",
              "       [256, 131, 213, 201],\n",
              "       [270, 136, 280, 252]])"
            ]
          },
          "metadata": {},
          "execution_count": 68
        }
      ]
    },
    {
      "cell_type": "code",
      "source": [
        "np.cumsum(a12,axis=1)\n",
        "#cumulative sum along the rows at axis=1."
      ],
      "metadata": {
        "colab": {
          "base_uri": "https://localhost:8080/"
        },
        "id": "WRxDzLupQtMV",
        "outputId": "828eb835-201f-4735-b735-da58bf1d6c85"
      },
      "execution_count": null,
      "outputs": [
        {
          "output_type": "execute_result",
          "data": {
            "text/plain": [
              "array([[ 27,  43,  67, 155],\n",
              "       [ 78,  96, 169, 204],\n",
              "       [ 21,  51,  75,  98],\n",
              "       [ 44,  78,  98, 150],\n",
              "       [ 86, 119, 191, 194],\n",
              "       [ 14,  19,  86, 137]])"
            ]
          },
          "metadata": {},
          "execution_count": 70
        }
      ]
    },
    {
      "cell_type": "code",
      "source": [
        "np.cumsum(a12)"
      ],
      "metadata": {
        "colab": {
          "base_uri": "https://localhost:8080/"
        },
        "id": "FuucvLtEQ4ti",
        "outputId": "97b332f3-f21f-4eae-f3aa-9651d8ec7f05"
      },
      "execution_count": null,
      "outputs": [
        {
          "output_type": "execute_result",
          "data": {
            "text/plain": [
              "array([ 27,  43,  67, 155, 233, 251, 324, 359, 380, 410, 434, 457, 501,\n",
              "       535, 555, 607, 693, 726, 798, 801, 815, 820, 887, 938])"
            ]
          },
          "metadata": {},
          "execution_count": 72
        }
      ]
    },
    {
      "cell_type": "code",
      "source": [
        "a12\n"
      ],
      "metadata": {
        "colab": {
          "base_uri": "https://localhost:8080/"
        },
        "id": "QLpaQW97RGVq",
        "outputId": "def9f0a6-76d4-41f2-9d33-0a2704722620"
      },
      "execution_count": null,
      "outputs": [
        {
          "output_type": "execute_result",
          "data": {
            "text/plain": [
              "array([[27, 16, 24, 88],\n",
              "       [78, 18, 73, 35],\n",
              "       [21, 30, 24, 23],\n",
              "       [44, 34, 20, 52],\n",
              "       [86, 33, 72,  3],\n",
              "       [14,  5, 67, 51]])"
            ]
          },
          "metadata": {},
          "execution_count": 73
        }
      ]
    },
    {
      "cell_type": "code",
      "source": [
        "np.cumprod(a12)\n",
        "#cumulative product"
      ],
      "metadata": {
        "colab": {
          "base_uri": "https://localhost:8080/"
        },
        "id": "4mBwEmvLknf9",
        "outputId": "7ea7acb9-0c33-4a19-ab8f-4e304573ec46"
      },
      "execution_count": null,
      "outputs": [
        {
          "output_type": "execute_result",
          "data": {
            "text/plain": [
              "array([                  27,                  432,                10368,\n",
              "                     912384,             71165952,           1280987136,\n",
              "                93512060928,        3272922132480,       68731364782080,\n",
              "           2061940943462400,    49486582643097600,  1138191400791244800,\n",
              "       -5259810586313883648,  5633880802423472128,  1997151606212132864,\n",
              "       -6828580919226400768,  3037851305235185664,  8015372704213368832,\n",
              "        5257768418366455808, -2673438818610184192,  -534655313123475456,\n",
              "       -2673276565617377280,  5357910840731238400, -3447708228350115840])"
            ]
          },
          "metadata": {},
          "execution_count": 75
        }
      ]
    },
    {
      "cell_type": "code",
      "source": [
        "np.cumprod(a12,axis=0)\n",
        "#cumprod at axis=0 is used to find cumulative product along the columns."
      ],
      "metadata": {
        "colab": {
          "base_uri": "https://localhost:8080/"
        },
        "id": "jjqEWTvbk6wK",
        "outputId": "554e19f0-6a15-4c84-e9ec-8fede4a0e49a"
      },
      "execution_count": null,
      "outputs": [
        {
          "output_type": "execute_result",
          "data": {
            "text/plain": [
              "array([[        27,         16,         24,         88],\n",
              "       [      2106,        288,       1752,       3080],\n",
              "       [     44226,       8640,      42048,      70840],\n",
              "       [   1945944,     293760,     840960,    3683680],\n",
              "       [ 167351184,    9694080,   60549120,   11051040],\n",
              "       [2342916576,   48470400, 4056791040,  563603040]])"
            ]
          },
          "metadata": {},
          "execution_count": 77
        }
      ]
    },
    {
      "cell_type": "code",
      "source": [
        "np.cumprod(a12,axis=1)\n",
        "#cumprod at axis=1 is used to find the cumulative product along the rows."
      ],
      "metadata": {
        "colab": {
          "base_uri": "https://localhost:8080/"
        },
        "id": "HVr-dJbWl0h1",
        "outputId": "cb708dda-4716-4278-ea52-adc3e1d08df3"
      },
      "execution_count": null,
      "outputs": [
        {
          "output_type": "execute_result",
          "data": {
            "text/plain": [
              "array([[     27,     432,   10368,  912384],\n",
              "       [     78,    1404,  102492, 3587220],\n",
              "       [     21,     630,   15120,  347760],\n",
              "       [     44,    1496,   29920, 1555840],\n",
              "       [     86,    2838,  204336,  613008],\n",
              "       [     14,      70,    4690,  239190]])"
            ]
          },
          "metadata": {},
          "execution_count": 79
        }
      ]
    },
    {
      "cell_type": "code",
      "source": [
        "#numpy.percentile() function is used to find the nth percentile in a given data.\n",
        "#numpy.percentile() function is used to find the nth percentile in a given data.\n",
        "#numpy.percentile() function is used to find the nth percentile of a given data"
      ],
      "metadata": {
        "id": "hR8Y0ixOmBsC"
      },
      "execution_count": null,
      "outputs": []
    },
    {
      "cell_type": "code",
      "source": [
        "a11=np.random.randint(1,100,24)\n",
        "a11"
      ],
      "metadata": {
        "colab": {
          "base_uri": "https://localhost:8080/"
        },
        "id": "IvTONB8nyy0o",
        "outputId": "bde772dc-0d0f-4ea6-a203-aafa8dae3bba"
      },
      "execution_count": null,
      "outputs": [
        {
          "output_type": "execute_result",
          "data": {
            "text/plain": [
              "array([36, 81, 33, 73, 36, 37, 78, 85, 79, 24, 62, 88, 61, 69, 12, 41, 24,\n",
              "       14,  2, 65, 86, 82, 92,  2])"
            ]
          },
          "metadata": {},
          "execution_count": 81
        }
      ]
    },
    {
      "cell_type": "code",
      "source": [
        "np.percentile(a11,100)\n",
        "#100 percentile means that 100 percent of the numbers are below this."
      ],
      "metadata": {
        "colab": {
          "base_uri": "https://localhost:8080/"
        },
        "id": "qVtJxvEKy8H1",
        "outputId": "03459801-1836-4125-82df-26063ad983da"
      },
      "execution_count": null,
      "outputs": [
        {
          "output_type": "execute_result",
          "data": {
            "text/plain": [
              "92.0"
            ]
          },
          "metadata": {},
          "execution_count": 83
        }
      ]
    },
    {
      "cell_type": "code",
      "source": [
        "np.percentile(a11,0)\n",
        "#0 percentile means 0 percent of numbers are below this"
      ],
      "metadata": {
        "colab": {
          "base_uri": "https://localhost:8080/"
        },
        "id": "_4wJFvSPzMLi",
        "outputId": "7032429e-8e5b-4906-8a30-f334a658fac7"
      },
      "execution_count": null,
      "outputs": [
        {
          "output_type": "execute_result",
          "data": {
            "text/plain": [
              "2.0"
            ]
          },
          "metadata": {},
          "execution_count": 84
        }
      ]
    },
    {
      "cell_type": "code",
      "source": [
        "np.percentile(a11,50)\n",
        "#50 percentile means 50 percent of numbers are below this"
      ],
      "metadata": {
        "colab": {
          "base_uri": "https://localhost:8080/"
        },
        "id": "mRNj7DrQ0SSI",
        "outputId": "c6340d2d-dd8e-420a-8433-9ab628545082"
      },
      "execution_count": null,
      "outputs": [
        {
          "output_type": "execute_result",
          "data": {
            "text/plain": [
              "61.5"
            ]
          },
          "metadata": {},
          "execution_count": 85
        }
      ]
    },
    {
      "cell_type": "code",
      "source": [
        "np.median(a11)\n",
        "#As we can see, np.percentile(a11,50) is the same as median....in both the cases 50 percent of numbers are below the median."
      ],
      "metadata": {
        "colab": {
          "base_uri": "https://localhost:8080/"
        },
        "id": "5XQ453ax0iQz",
        "outputId": "5f418f54-2247-492a-fe44-bd235b48ec7d"
      },
      "execution_count": null,
      "outputs": [
        {
          "output_type": "execute_result",
          "data": {
            "text/plain": [
              "61.5"
            ]
          },
          "metadata": {},
          "execution_count": 87
        }
      ]
    },
    {
      "cell_type": "code",
      "source": [
        "#percentile means (n/N)*100. Here n stands for number elements below x and N is total number of elements.\n",
        "#percentile of x is (n/N)*100. Here n stands for number of elements below x and N is total number of elements.\n"
      ],
      "metadata": {
        "id": "75ofnMzF1PR5"
      },
      "execution_count": null,
      "outputs": []
    },
    {
      "cell_type": "code",
      "source": [
        "#Numpy has a numpy.histogram() function that represents the frequency of data distribution in graphical form.\n",
        "#Numpy has a numpy.histogram() function that represents the frequency of data distribution in graphical form.\n",
        "#Numpy has a numpy.histogram() function that represents the frequency of data distribution in graphical form."
      ],
      "metadata": {
        "id": "XOgynNKd8OLX"
      },
      "execution_count": null,
      "outputs": []
    },
    {
      "cell_type": "code",
      "source": [
        "import numpy as np\n",
        "a11=np.random.randint(1,100,24)\n",
        "a11"
      ],
      "metadata": {
        "colab": {
          "base_uri": "https://localhost:8080/"
        },
        "id": "JixW09Sx-Ovq",
        "outputId": "8e20ac58-7411-4167-de2a-b265844cc3f1"
      },
      "execution_count": null,
      "outputs": [
        {
          "output_type": "execute_result",
          "data": {
            "text/plain": [
              "array([22, 32, 31, 81, 14, 30, 92, 30, 66, 70, 53, 60, 97, 24, 43, 10,  8,\n",
              "       82, 91, 14, 54, 71, 21, 42])"
            ]
          },
          "metadata": {},
          "execution_count": 3
        }
      ]
    },
    {
      "cell_type": "code",
      "source": [
        "np.histogram(a11,bins=[0,10,20,30,40,50,60,70,80,90,100])\n",
        "#so there are 1 items between 0 and 10, 3 item between 10-20, 3 between 20-30, 4 between 30-40, 2 between 40-50, 2 between 50-60\n",
        "#2 between 60-70, 2 between 70-80, 2 between 80-90, 3 between 90-100."
      ],
      "metadata": {
        "colab": {
          "base_uri": "https://localhost:8080/"
        },
        "id": "Xx_vwXNxCax8",
        "outputId": "4fd01689-1568-45bc-d807-d17b48878bf2"
      },
      "execution_count": null,
      "outputs": [
        {
          "output_type": "execute_result",
          "data": {
            "text/plain": [
              "(array([1, 3, 3, 4, 2, 2, 2, 2, 2, 3]),\n",
              " array([  0,  10,  20,  30,  40,  50,  60,  70,  80,  90, 100]))"
            ]
          },
          "metadata": {},
          "execution_count": 7
        }
      ]
    },
    {
      "cell_type": "code",
      "source": [
        "import numpy as np\n",
        "np.histogram(a11,bins=[0,50,100])\n",
        "# 13 items lie between 0 and 50 and 11 lie between 50 and 100 when np.histogram(a11,bins=[0,50,100]) is done."
      ],
      "metadata": {
        "colab": {
          "base_uri": "https://localhost:8080/"
        },
        "id": "vk_lsSIZGdSd",
        "outputId": "37dc7469-0bd7-4abf-cd5f-1cc9301478f7"
      },
      "execution_count": null,
      "outputs": [
        {
          "output_type": "execute_result",
          "data": {
            "text/plain": [
              "(array([13, 11]), array([  0,  50, 100]))"
            ]
          },
          "metadata": {},
          "execution_count": 6
        }
      ]
    },
    {
      "cell_type": "code",
      "source": [
        "#np.corrcoef() returns the co-relation coefficient between 2 paramters. This co-relation coefficient exists between -1 to 1....If the number\n",
        "#is 0 then there is no co-relation between 2 parameters, if the number is -1 then as one parameter will increase the other parameter will\n",
        "#decrease and if the co-relation coefficient is 1 then they are directly propotional meaning as one parameter increases the other too shall\n",
        "#increase."
      ],
      "metadata": {
        "id": "1mbFIKdGeCpv"
      },
      "execution_count": null,
      "outputs": []
    },
    {
      "cell_type": "code",
      "source": [
        "import numpy as np\n",
        "salary=np.array([20000,40000,25000,35000,60000])\n",
        "experience=np.array([1,3,2,4,2])"
      ],
      "metadata": {
        "id": "q2jb-4oZz_7W"
      },
      "execution_count": null,
      "outputs": []
    },
    {
      "cell_type": "code",
      "source": [
        "np.corrcoef(salary,experience)\n",
        "#            salary        experience\n",
        "#salary       1            0.25344572\n",
        "#experience   0.35344572   1\n",
        "#as we can see as salary is directly propotional to salary to the correlation coefficient value will be 1, as experience is directly\n",
        "#propotional to experience so correlation coefficient value will be 1 and correlation coeffiencit value of experience and salary is\n",
        "#0.25344572 which is still a positive coefficient."
      ],
      "metadata": {
        "colab": {
          "base_uri": "https://localhost:8080/"
        },
        "id": "R5NHIeSO0-vj",
        "outputId": "18f9be8f-1069-4656-f097-439bd0cec2ff"
      },
      "execution_count": null,
      "outputs": [
        {
          "output_type": "execute_result",
          "data": {
            "text/plain": [
              "array([[1.        , 0.25344572],\n",
              "       [0.25344572, 1.        ]])"
            ]
          },
          "metadata": {},
          "execution_count": 11
        }
      ]
    },
    {
      "cell_type": "code",
      "source": [
        "#np.isin----> With the help of np.isin() function we see that one numpy array having different size is checked with a different numpy array\n",
        "#of different size. np.isin(a,b) returns a boolean numpy array, True is returned with respect to those indices where element(of a) is found\n",
        "#in element of b."
      ],
      "metadata": {
        "id": "qc6PQaHR31aT"
      },
      "execution_count": null,
      "outputs": []
    },
    {
      "cell_type": "code",
      "source": [
        "import numpy as np\n",
        "a11=np.random.randint(1,100,24)\n",
        "a11"
      ],
      "metadata": {
        "colab": {
          "base_uri": "https://localhost:8080/"
        },
        "id": "8LbaCA6qWIg8",
        "outputId": "479e5842-19bd-4695-f1ea-c75fc1f88152"
      },
      "execution_count": null,
      "outputs": [
        {
          "output_type": "execute_result",
          "data": {
            "text/plain": [
              "array([74, 10, 63, 33, 38,  2, 89, 18, 21, 16, 17, 31, 52,  1, 43, 30, 13,\n",
              "       85, 51, 85, 95, 23, 98, 61])"
            ]
          },
          "metadata": {},
          "execution_count": 2
        }
      ]
    },
    {
      "cell_type": "code",
      "source": [
        "b11=np.random.randint(1,100,24)\n",
        "b11"
      ],
      "metadata": {
        "colab": {
          "base_uri": "https://localhost:8080/"
        },
        "id": "IZ63lcK5WTO3",
        "outputId": "4f96bbfb-c329-4062-cb5f-cb7a7d001346"
      },
      "execution_count": null,
      "outputs": [
        {
          "output_type": "execute_result",
          "data": {
            "text/plain": [
              "array([39, 25, 82, 28, 14, 49, 32, 63, 82, 87, 96, 17,  7, 22, 40, 70, 63,\n",
              "       36, 67, 79, 14, 41, 30, 94])"
            ]
          },
          "metadata": {},
          "execution_count": 3
        }
      ]
    },
    {
      "cell_type": "code",
      "source": [
        "np.isin(a11,b11)\n",
        "#np.isin(a11,b11) returns a boolean array where True is returned when the element at the respective index is also found in b11.\n",
        "#False is returned when the element at the respective index doesnot match with any element of b11"
      ],
      "metadata": {
        "colab": {
          "base_uri": "https://localhost:8080/"
        },
        "id": "lctPR2jYWYyE",
        "outputId": "bd92768f-155a-4efb-cf69-bd4a5a7e76b7"
      },
      "execution_count": null,
      "outputs": [
        {
          "output_type": "execute_result",
          "data": {
            "text/plain": [
              "array([False, False,  True, False, False, False, False, False, False,\n",
              "       False,  True, False, False, False, False,  True, False, False,\n",
              "       False, False, False, False, False, False])"
            ]
          },
          "metadata": {},
          "execution_count": 6
        }
      ]
    },
    {
      "cell_type": "code",
      "source": [
        "np.isin(b11,a11)\n",
        "#np.isnan(b11,a11) returns a boolean array where True is returned when the element at the respective index of b11 is found in a11 too\n",
        "#False is returned when the element at respective index is not found in a11."
      ],
      "metadata": {
        "colab": {
          "base_uri": "https://localhost:8080/"
        },
        "id": "fTCywmbPW5z1",
        "outputId": "d22e01cf-a5ab-4d96-9483-7361619fe50c"
      },
      "execution_count": null,
      "outputs": [
        {
          "output_type": "execute_result",
          "data": {
            "text/plain": [
              "array([False, False, False, False, False, False, False,  True, False,\n",
              "       False, False,  True, False, False, False, False,  True, False,\n",
              "       False, False, False, False,  True, False])"
            ]
          },
          "metadata": {},
          "execution_count": 7
        }
      ]
    },
    {
      "cell_type": "code",
      "source": [
        "a11[np.isin(a11,b11)]\n",
        "#it returns the respective elements in a11 that matches."
      ],
      "metadata": {
        "colab": {
          "base_uri": "https://localhost:8080/"
        },
        "id": "DXd1n2GabgJR",
        "outputId": "95e9d905-582d-452b-ee2d-45ff66a10c29"
      },
      "execution_count": null,
      "outputs": [
        {
          "output_type": "execute_result",
          "data": {
            "text/plain": [
              "array([63, 17, 30])"
            ]
          },
          "metadata": {},
          "execution_count": 9
        }
      ]
    },
    {
      "cell_type": "code",
      "source": [
        "b11[np.isin(b11,a11)]\n",
        "#it returns the respective elements in b11 that matches."
      ],
      "metadata": {
        "colab": {
          "base_uri": "https://localhost:8080/"
        },
        "id": "gBjnyFsabqoQ",
        "outputId": "574109eb-faa2-4998-c7af-41a9a039973e"
      },
      "execution_count": null,
      "outputs": [
        {
          "output_type": "execute_result",
          "data": {
            "text/plain": [
              "array([63, 17, 63, 30])"
            ]
          },
          "metadata": {},
          "execution_count": 11
        }
      ]
    },
    {
      "cell_type": "code",
      "source": [
        "#np.flip() function flips the order of the elements along axis while retaining the order\n",
        "import numpy as np\n",
        "a11=np.random.randint(1,100,24)\n",
        "a11"
      ],
      "metadata": {
        "colab": {
          "base_uri": "https://localhost:8080/"
        },
        "id": "I3FSAy5cb0p1",
        "outputId": "2507620c-e24f-4ac2-b70d-e1df76895dd6"
      },
      "execution_count": null,
      "outputs": [
        {
          "output_type": "execute_result",
          "data": {
            "text/plain": [
              "array([87, 59, 23, 55, 77, 74, 64, 36, 56, 85, 12, 85, 93, 71, 88, 13, 25,\n",
              "       55, 58, 70,  2, 33, 87, 65])"
            ]
          },
          "metadata": {},
          "execution_count": 1
        }
      ]
    },
    {
      "cell_type": "code",
      "source": [
        "np.flip(a11)"
      ],
      "metadata": {
        "colab": {
          "base_uri": "https://localhost:8080/"
        },
        "id": "ygfKKEx4m2xj",
        "outputId": "974f7c7e-a3ea-40bc-dcf4-11e7c9cdefab"
      },
      "execution_count": null,
      "outputs": [
        {
          "output_type": "execute_result",
          "data": {
            "text/plain": [
              "array([65, 87, 33,  2, 70, 58, 55, 25, 13, 88, 71, 93, 85, 12, 85, 56, 36,\n",
              "       64, 74, 77, 55, 23, 59, 87])"
            ]
          },
          "metadata": {},
          "execution_count": 2
        }
      ]
    },
    {
      "cell_type": "code",
      "source": [
        "a12=np.random.randint(1,100,(6,4))\n",
        "a12"
      ],
      "metadata": {
        "colab": {
          "base_uri": "https://localhost:8080/"
        },
        "id": "CCIyW60vm6nu",
        "outputId": "d48ccd2f-b7fe-4ce0-d94e-9bf7dfab90d3"
      },
      "execution_count": null,
      "outputs": [
        {
          "output_type": "execute_result",
          "data": {
            "text/plain": [
              "array([[75, 49, 29, 21],\n",
              "       [77, 11, 25, 74],\n",
              "       [68, 82,  1, 19],\n",
              "       [79, 14, 76, 10],\n",
              "       [37, 57, 86, 97],\n",
              "       [98, 44, 38, 98]])"
            ]
          },
          "metadata": {},
          "execution_count": 3
        }
      ]
    },
    {
      "cell_type": "code",
      "source": [
        "np.flip(a12)\n",
        "#As you can see first elements are flipped along the row then along the column\n",
        "#96 is first flipped along the row to make it [[56,57,90,96],\n",
        "#                                              [8,17,77,70],\n",
        "#                                              [95,14,12,17],\n",
        "#                                              [24,40,69,42],\n",
        "#                                              [3,85,31,38],\n",
        "#                                              [93,33,44,18]]\n",
        "#And now the inversion happens along the column [[93,33,44,18],\n",
        "#                                                [3,85,31,38],\n",
        "#                                                [24,40,69,42],\n",
        "#                                                [95,14,12,17],\n",
        "#                                                [8,17,77,70],\n",
        "#                                                [56,57,90,96]]"
      ],
      "metadata": {
        "colab": {
          "base_uri": "https://localhost:8080/"
        },
        "id": "5_nN2ZUznINf",
        "outputId": "205101b9-90af-4149-f3b7-4968ccccb016"
      },
      "execution_count": null,
      "outputs": [
        {
          "output_type": "execute_result",
          "data": {
            "text/plain": [
              "array([[98, 38, 44, 98],\n",
              "       [97, 86, 57, 37],\n",
              "       [10, 76, 14, 79],\n",
              "       [19,  1, 82, 68],\n",
              "       [74, 25, 11, 77],\n",
              "       [21, 29, 49, 75]])"
            ]
          },
          "metadata": {},
          "execution_count": 4
        }
      ]
    },
    {
      "cell_type": "code",
      "source": [
        "np.flip(a12,axis=0)\n",
        "#np.flip(a12,axis=0) flips the column of the numpy array."
      ],
      "metadata": {
        "id": "qXG6qCODquQQ",
        "colab": {
          "base_uri": "https://localhost:8080/"
        },
        "outputId": "55b2121f-c858-46b2-9048-8baf6d31e006"
      },
      "execution_count": null,
      "outputs": [
        {
          "output_type": "execute_result",
          "data": {
            "text/plain": [
              "array([[98, 44, 38, 98],\n",
              "       [37, 57, 86, 97],\n",
              "       [79, 14, 76, 10],\n",
              "       [68, 82,  1, 19],\n",
              "       [77, 11, 25, 74],\n",
              "       [75, 49, 29, 21]])"
            ]
          },
          "metadata": {},
          "execution_count": 6
        }
      ]
    },
    {
      "cell_type": "code",
      "source": [
        "np.flip(a12,axis=1)\n",
        "#np.flip(a12,axis=1) flips all the rows."
      ],
      "metadata": {
        "colab": {
          "base_uri": "https://localhost:8080/"
        },
        "id": "EiH9k1u9bp0G",
        "outputId": "27519b04-eced-443a-bbfe-aa0c733d0df6"
      },
      "execution_count": null,
      "outputs": [
        {
          "output_type": "execute_result",
          "data": {
            "text/plain": [
              "array([[21, 29, 49, 75],\n",
              "       [74, 25, 11, 77],\n",
              "       [19,  1, 82, 68],\n",
              "       [10, 76, 14, 79],\n",
              "       [97, 86, 57, 37],\n",
              "       [98, 38, 44, 98]])"
            ]
          },
          "metadata": {},
          "execution_count": 9
        }
      ]
    },
    {
      "cell_type": "code",
      "source": [
        "a12"
      ],
      "metadata": {
        "colab": {
          "base_uri": "https://localhost:8080/"
        },
        "id": "7_eTPDLEbwmv",
        "outputId": "a9e4f06c-01a2-486e-8b6d-14826cc4c6e9"
      },
      "execution_count": null,
      "outputs": [
        {
          "output_type": "execute_result",
          "data": {
            "text/plain": [
              "array([[75, 49, 29, 21],\n",
              "       [77, 11, 25, 74],\n",
              "       [68, 82,  1, 19],\n",
              "       [79, 14, 76, 10],\n",
              "       [37, 57, 86, 97],\n",
              "       [98, 44, 38, 98]])"
            ]
          },
          "metadata": {},
          "execution_count": 8
        }
      ]
    },
    {
      "cell_type": "code",
      "source": [
        "#The numpy.put() function replaces specific elements of an array with given values of p-array.\n",
        "#The numpy.put() function replaces specific elements of an array with given values of p-array. The numpy.put() function replaces specific\n",
        "#elements of an array with given values of p-array. The numpy.put() function replaces specific element of an array with given values of\n",
        "#p-array.\n",
        "import numpy as np\n",
        "a14=np.random.randint(1,100,24)\n",
        "a14"
      ],
      "metadata": {
        "colab": {
          "base_uri": "https://localhost:8080/"
        },
        "id": "g5_n9TrZcBf1",
        "outputId": "9502a1ab-a97e-47c8-d39b-ad03ce73f252"
      },
      "execution_count": null,
      "outputs": [
        {
          "output_type": "execute_result",
          "data": {
            "text/plain": [
              "array([23, 24, 58, 63, 70, 97, 12, 56,  1, 26, 17, 60, 92, 59, 42, 11, 67,\n",
              "       72, 72, 74, 78, 91, 60, 97])"
            ]
          },
          "metadata": {},
          "execution_count": 10
        }
      ]
    },
    {
      "cell_type": "code",
      "source": [
        "np.put(a14,[0,1],[122,123])\n",
        "#This changes the array permanently by placing 122 and 123 at index position 0 and 1."
      ],
      "metadata": {
        "id": "UE8nPlTOffGC"
      },
      "execution_count": null,
      "outputs": []
    },
    {
      "cell_type": "code",
      "source": [
        "a14"
      ],
      "metadata": {
        "colab": {
          "base_uri": "https://localhost:8080/"
        },
        "id": "o0m-Hae9fzDE",
        "outputId": "22253115-af3c-4264-b639-feb6de695e23"
      },
      "execution_count": null,
      "outputs": [
        {
          "output_type": "execute_result",
          "data": {
            "text/plain": [
              "array([122, 123,  58,  63,  70,  97,  12,  56,   1,  26,  17,  60,  92,\n",
              "        59,  42,  11,  67,  72,  72,  74,  78,  91,  60,  97])"
            ]
          },
          "metadata": {},
          "execution_count": 13
        }
      ]
    },
    {
      "cell_type": "code",
      "source": [
        "import numpy as np\n",
        "a16=np.array([[1,2,3],\n",
        "              [4,5,6]])\n",
        "np.put(a16,[1,3],[9,8])\n",
        "a16\n",
        "#numpy.put() function replaces elements at respective indices with the respective numbers. numpy.put() function replaces elements at\n",
        "#respective indices with the respective elements by flattening the array. Element at index position 1 is replaced with 9 and element at\n",
        "#index position 3 is replaced with 8."
      ],
      "metadata": {
        "colab": {
          "base_uri": "https://localhost:8080/"
        },
        "id": "GnJjdw6If19J",
        "outputId": "3540583a-ac68-471a-ec8d-a2e2d590f229"
      },
      "execution_count": null,
      "outputs": [
        {
          "output_type": "execute_result",
          "data": {
            "text/plain": [
              "array([[1, 9, 3],\n",
              "       [8, 5, 6]])"
            ]
          },
          "metadata": {},
          "execution_count": 15
        }
      ]
    },
    {
      "cell_type": "code",
      "source": [
        "#The numpy.delete() function returns a new array with the deletion of sub-arrays along with the mentioned axis.\n",
        "#The numpy.delete() function returns a new array with the deletion of sub-arrays along with the mentioned axis.\n",
        "#The numpy.delete() function returns a new array with the deletion of sub-arrays along with the mentioned axis.\n",
        "#The numpy.delete() function returns a new array with the deletion of sub-arrays along with the mentioned axis."
      ],
      "metadata": {
        "id": "bmXypRVNiPzZ"
      },
      "execution_count": null,
      "outputs": []
    },
    {
      "cell_type": "code",
      "source": [
        "import numpy as np\n",
        "a18=np.random.randint(1,100,24)\n",
        "a18"
      ],
      "metadata": {
        "colab": {
          "base_uri": "https://localhost:8080/"
        },
        "id": "1t7IoB6e2mAI",
        "outputId": "3b55d000-8b4a-4d2b-b93c-6c3a1151a489"
      },
      "execution_count": null,
      "outputs": [
        {
          "output_type": "execute_result",
          "data": {
            "text/plain": [
              "array([59, 93, 79, 46, 55, 12, 41, 85, 91,  6, 47, 10, 29, 78, 99, 10, 73,\n",
              "       55, 63, 67, 36, 29, 26, 66])"
            ]
          },
          "metadata": {},
          "execution_count": 18
        }
      ]
    },
    {
      "cell_type": "code",
      "source": [
        "np.delete(a18,[0])"
      ],
      "metadata": {
        "colab": {
          "base_uri": "https://localhost:8080/"
        },
        "id": "A-RJbxZF2zug",
        "outputId": "7c7a7d47-0ddc-4e27-b1b4-5b11e6060639"
      },
      "execution_count": null,
      "outputs": [
        {
          "output_type": "execute_result",
          "data": {
            "text/plain": [
              "array([93, 79, 46, 55, 12, 41, 85, 91,  6, 47, 10, 29, 78, 99, 10, 73, 55,\n",
              "       63, 67, 36, 29, 26, 66])"
            ]
          },
          "metadata": {},
          "execution_count": 21
        }
      ]
    },
    {
      "cell_type": "code",
      "source": [
        "np.delete(a18,[0,1,2])"
      ],
      "metadata": {
        "colab": {
          "base_uri": "https://localhost:8080/"
        },
        "id": "VwPj7DnC2-_0",
        "outputId": "60adefc4-f1dd-4409-e418-59a14ee1c244"
      },
      "execution_count": null,
      "outputs": [
        {
          "output_type": "execute_result",
          "data": {
            "text/plain": [
              "array([46, 55, 12, 41, 85, 91,  6, 47, 10, 29, 78, 99, 10, 73, 55, 63, 67,\n",
              "       36, 29, 26, 66])"
            ]
          },
          "metadata": {},
          "execution_count": 22
        }
      ]
    },
    {
      "cell_type": "code",
      "source": [
        "np.delete(a18,[0,5,10])"
      ],
      "metadata": {
        "colab": {
          "base_uri": "https://localhost:8080/"
        },
        "id": "qSA-_jmU3TaK",
        "outputId": "159483d5-b30f-400e-c036-4af8792431f9"
      },
      "execution_count": null,
      "outputs": [
        {
          "output_type": "execute_result",
          "data": {
            "text/plain": [
              "array([93, 79, 46, 55, 41, 85, 91,  6, 10, 29, 78, 99, 10, 73, 55, 63, 67,\n",
              "       36, 29, 26, 66])"
            ]
          },
          "metadata": {},
          "execution_count": 23
        }
      ]
    },
    {
      "cell_type": "code",
      "source": [
        "#np.union1d\n",
        "import numpy as np\n",
        "a11=np.array([1,2,3,4,5])\n",
        "a12=np.array([3,4,5,6,7])\n",
        "np.union1d(a11,a12)"
      ],
      "metadata": {
        "colab": {
          "base_uri": "https://localhost:8080/"
        },
        "id": "EQviwf3E3jCP",
        "outputId": "41eecf4e-319f-452f-89b3-69015df0a6ab"
      },
      "execution_count": null,
      "outputs": [
        {
          "output_type": "execute_result",
          "data": {
            "text/plain": [
              "array([1, 2, 3, 4, 5, 6, 7])"
            ]
          },
          "metadata": {},
          "execution_count": 1
        }
      ]
    },
    {
      "cell_type": "code",
      "source": [
        "a14=np.array([[1,2,3],\n",
        "              [4,5,6]])\n",
        "a16=np.array([[4,5,6],\n",
        "              [7,8,9]])\n",
        "np.union1d(a14,a16)"
      ],
      "metadata": {
        "colab": {
          "base_uri": "https://localhost:8080/"
        },
        "id": "vBrinQv_6JqS",
        "outputId": "ac629bf8-3e3e-4642-cec6-592f853dd265"
      },
      "execution_count": null,
      "outputs": [
        {
          "output_type": "execute_result",
          "data": {
            "text/plain": [
              "array([1, 2, 3, 4, 5, 6, 7, 8, 9])"
            ]
          },
          "metadata": {},
          "execution_count": 2
        }
      ]
    },
    {
      "cell_type": "code",
      "source": [
        "#np.intersect1d()\n",
        "np.intersect1d(a14,a16)"
      ],
      "metadata": {
        "colab": {
          "base_uri": "https://localhost:8080/"
        },
        "id": "iqF8h4vE6q0O",
        "outputId": "2d3c7737-a9a3-4510-d0ec-ff044373c0d3"
      },
      "execution_count": null,
      "outputs": [
        {
          "output_type": "execute_result",
          "data": {
            "text/plain": [
              "array([4, 5, 6])"
            ]
          },
          "metadata": {},
          "execution_count": 3
        }
      ]
    },
    {
      "cell_type": "code",
      "source": [
        "np.intersect1d(a11,a12)"
      ],
      "metadata": {
        "colab": {
          "base_uri": "https://localhost:8080/"
        },
        "id": "UF7Yithl60Mm",
        "outputId": "b9945c1a-51b7-48c4-fe5b-1beae088ba74"
      },
      "execution_count": null,
      "outputs": [
        {
          "output_type": "execute_result",
          "data": {
            "text/plain": [
              "array([3, 4, 5])"
            ]
          },
          "metadata": {},
          "execution_count": 4
        }
      ]
    },
    {
      "cell_type": "code",
      "source": [
        "#np.setdiff1d()\n",
        "np.setdiff1d(a11,a12)\n",
        "#np.setdiff1d(a11,a12) returns that part of a11 which is not present in a12."
      ],
      "metadata": {
        "colab": {
          "base_uri": "https://localhost:8080/"
        },
        "id": "V9HNSEFB65LA",
        "outputId": "cac378e0-78cd-4422-d400-ab4e35b31f3b"
      },
      "execution_count": null,
      "outputs": [
        {
          "output_type": "execute_result",
          "data": {
            "text/plain": [
              "array([1, 2])"
            ]
          },
          "metadata": {},
          "execution_count": 5
        }
      ]
    },
    {
      "cell_type": "code",
      "source": [
        "np.setdiff1d(a12,a11)\n",
        "#np.setdiff1d(a12,a11) returns that part of a12 which is not present in a11."
      ],
      "metadata": {
        "colab": {
          "base_uri": "https://localhost:8080/"
        },
        "id": "1iQrVOXJDWKw",
        "outputId": "91c2bad8-ff3a-47f3-bb13-cb702564694d"
      },
      "execution_count": null,
      "outputs": [
        {
          "output_type": "execute_result",
          "data": {
            "text/plain": [
              "array([6, 7])"
            ]
          },
          "metadata": {},
          "execution_count": 6
        }
      ]
    },
    {
      "cell_type": "code",
      "source": [
        "np.setxor1d(a11,a12)\n",
        "#np.setxor1d(a11,a12) operation eliminates the intersection between union of two arrays and returns the rest."
      ],
      "metadata": {
        "colab": {
          "base_uri": "https://localhost:8080/"
        },
        "id": "1RFGNjMKEC0j",
        "outputId": "4e64e59f-004f-4a1e-cb35-d60884a69a66"
      },
      "execution_count": null,
      "outputs": [
        {
          "output_type": "execute_result",
          "data": {
            "text/plain": [
              "array([1, 2, 6, 7])"
            ]
          },
          "metadata": {},
          "execution_count": 7
        }
      ]
    },
    {
      "cell_type": "code",
      "source": [
        "np.setxor1d(a12,a11)\n",
        "#np.setxor1d(a12,a11) operation eliminates the intersection between union of two arrays and returns the rest.\n",
        "#np.setxor1d(a12,a11) operation eliminates the intersection between union of two arrays and returns the rest."
      ],
      "metadata": {
        "colab": {
          "base_uri": "https://localhost:8080/"
        },
        "id": "x_Szlkk7FQPl",
        "outputId": "067eabd2-e038-4854-8b02-9e0b5055f12f"
      },
      "execution_count": null,
      "outputs": [
        {
          "output_type": "execute_result",
          "data": {
            "text/plain": [
              "array([1, 2, 6, 7])"
            ]
          },
          "metadata": {},
          "execution_count": 8
        }
      ]
    },
    {
      "cell_type": "code",
      "source": [
        "np.in1d(a11,a12)\n",
        "#np.in1d returns boolean array which holds True for those index positions where an element of a11 is present in a12."
      ],
      "metadata": {
        "colab": {
          "base_uri": "https://localhost:8080/"
        },
        "id": "6PBJXeijF8sy",
        "outputId": "dd6eba81-d223-40cb-afd9-63b0cbe13f49"
      },
      "execution_count": null,
      "outputs": [
        {
          "output_type": "execute_result",
          "data": {
            "text/plain": [
              "array([False, False,  True,  True,  True])"
            ]
          },
          "metadata": {},
          "execution_count": 9
        }
      ]
    },
    {
      "cell_type": "code",
      "source": [
        "np.in1d(a12,a11)\n",
        "#np.in1d returns boolean array which holds True for those index positions where an element of a12 is present in a11."
      ],
      "metadata": {
        "colab": {
          "base_uri": "https://localhost:8080/"
        },
        "id": "enQABrCNR5HM",
        "outputId": "ad9b3d81-e366-4d1e-d093-85358ec03141"
      },
      "execution_count": null,
      "outputs": [
        {
          "output_type": "execute_result",
          "data": {
            "text/plain": [
              "array([ True,  True,  True, False, False])"
            ]
          },
          "metadata": {},
          "execution_count": 11
        }
      ]
    },
    {
      "cell_type": "code",
      "source": [
        "import numpy as np\n",
        "a11=np.random.randint(1,100,24)\n",
        "a11"
      ],
      "metadata": {
        "colab": {
          "base_uri": "https://localhost:8080/"
        },
        "id": "7w9lyMiwccRD",
        "outputId": "c1989d36-9206-4617-ee1a-c23420ef9dee"
      },
      "execution_count": null,
      "outputs": [
        {
          "output_type": "execute_result",
          "data": {
            "text/plain": [
              "array([37, 59, 40, 50, 15, 21, 28, 94, 39, 63, 21, 17,  2, 54, 97,  7, 73,\n",
              "       58, 27,  6,  1, 87, 13, 90])"
            ]
          },
          "metadata": {},
          "execution_count": 1
        }
      ]
    },
    {
      "cell_type": "code",
      "source": [
        "np.clip(a11,a_min=25,a_max=75)"
      ],
      "metadata": {
        "colab": {
          "base_uri": "https://localhost:8080/"
        },
        "id": "UaFX5WOIp1QL",
        "outputId": "0c6695af-0dc2-40c3-edfa-bd81763d07e3"
      },
      "execution_count": null,
      "outputs": [
        {
          "output_type": "execute_result",
          "data": {
            "text/plain": [
              "array([37, 59, 40, 50, 25, 25, 28, 75, 39, 63, 25, 25, 25, 54, 75, 25, 73,\n",
              "       58, 27, 25, 25, 75, 25, 75])"
            ]
          },
          "metadata": {},
          "execution_count": 2
        }
      ]
    },
    {
      "cell_type": "code",
      "source": [
        "a12=np.random.randint(1,200,24)\n",
        "a12"
      ],
      "metadata": {
        "colab": {
          "base_uri": "https://localhost:8080/"
        },
        "id": "_ak1q76QqpoT",
        "outputId": "b2183103-98e7-4c79-dc26-a527e01dc6db"
      },
      "execution_count": null,
      "outputs": [
        {
          "output_type": "execute_result",
          "data": {
            "text/plain": [
              "array([ 71, 196,   5, 120, 131, 165,   9,  28,  57, 140, 190, 100,  23,\n",
              "        25,  84, 181,  65, 170,  36,  85, 193, 185,  13,  25])"
            ]
          },
          "metadata": {},
          "execution_count": 3
        }
      ]
    },
    {
      "cell_type": "code",
      "source": [
        "np.clip(a12,a_min=25,a_max=75)\n",
        "#as you can see anything greater than 75 is clipped to 75 and anything lower than 25 is clipped to 25."
      ],
      "metadata": {
        "colab": {
          "base_uri": "https://localhost:8080/"
        },
        "id": "6Zcs53Inqwj_",
        "outputId": "ee52d7c4-e017-4bee-b477-ee6125e06d95"
      },
      "execution_count": null,
      "outputs": [
        {
          "output_type": "execute_result",
          "data": {
            "text/plain": [
              "array([71, 75, 25, 75, 75, 75, 25, 28, 57, 75, 75, 75, 25, 25, 75, 75, 65,\n",
              "       75, 36, 75, 75, 75, 25, 25])"
            ]
          },
          "metadata": {},
          "execution_count": 5
        }
      ]
    },
    {
      "cell_type": "code",
      "source": [
        "# Q-1: Create a random 3x4 matrix with value between 0-100. And perform below tasks\n",
        "# i. Sort this matrix. np.sort()\n",
        "# ii. Sort this matrix based on values in 2nd column.\n",
        "# iii. Sort this matrix based on max value in each row.\n",
        "# iv. Sort based on elements value."
      ],
      "metadata": {
        "id": "mAPzC5Aisfd4"
      },
      "execution_count": null,
      "outputs": []
    },
    {
      "cell_type": "code",
      "source": [
        "import numpy as np\n",
        "a11=np.random.randint(1,100,(4,4))\n",
        "a11"
      ],
      "metadata": {
        "colab": {
          "base_uri": "https://localhost:8080/"
        },
        "id": "v0xQ33ag6463",
        "outputId": "c4db736d-7680-4ea2-9503-df1c363cc6ee"
      },
      "execution_count": null,
      "outputs": [
        {
          "output_type": "execute_result",
          "data": {
            "text/plain": [
              "array([[99, 84, 41, 41],\n",
              "       [19, 92, 21, 59],\n",
              "       [59, 89, 87, 80],\n",
              "       [68, 51,  2, 51]])"
            ]
          },
          "metadata": {},
          "execution_count": 19
        }
      ]
    },
    {
      "cell_type": "code",
      "source": [
        "np.sort(a11,axis=1)"
      ],
      "metadata": {
        "colab": {
          "base_uri": "https://localhost:8080/"
        },
        "id": "9_iiuJsZ7bjA",
        "outputId": "92ce2f88-a077-4cd3-8e63-dd3546b4ca2c"
      },
      "execution_count": null,
      "outputs": [
        {
          "output_type": "execute_result",
          "data": {
            "text/plain": [
              "array([[41, 41, 84, 99],\n",
              "       [19, 21, 59, 92],\n",
              "       [59, 80, 87, 89],\n",
              "       [ 2, 51, 51, 68]])"
            ]
          },
          "metadata": {},
          "execution_count": 20
        }
      ]
    },
    {
      "cell_type": "code",
      "source": [
        "import numpy as np\n",
        "\n",
        "# Example matrix\n",
        "matrix = np.array([[92, 90, 74],\n",
        "    [ 6, 63, 93],\n",
        "    [15, 93, 96],\n",
        "    [70, 60, 48]])\n",
        "\n",
        "# Get the indices that would sort the second column\n",
        "sorted_indices = matrix[:, 1].argsort()\n",
        "\n",
        "# Sort the matrix based on the sorted indices\n",
        "sorted_matrix = matrix[sorted_indices]\n",
        "\n",
        "print(\"Sorted Matrix based on 2nd column:\")\n",
        "print(sorted_matrix)\n"
      ],
      "metadata": {
        "colab": {
          "base_uri": "https://localhost:8080/"
        },
        "id": "Mx9P_XaU73is",
        "outputId": "18fa29be-ab09-4242-bd37-f3594a343b70"
      },
      "execution_count": null,
      "outputs": [
        {
          "output_type": "stream",
          "name": "stdout",
          "text": [
            "Sorted Matrix based on 2nd column:\n",
            "[[70 60 48]\n",
            " [ 6 63 93]\n",
            " [92 90 74]\n",
            " [15 93 96]]\n"
          ]
        }
      ]
    },
    {
      "cell_type": "code",
      "source": [
        "matrix[:,1].argsort()"
      ],
      "metadata": {
        "colab": {
          "base_uri": "https://localhost:8080/"
        },
        "id": "-p6zu0HD_Qm8",
        "outputId": "e65ebd24-4d54-4b14-eac9-25b7724ba79a"
      },
      "execution_count": null,
      "outputs": [
        {
          "output_type": "execute_result",
          "data": {
            "text/plain": [
              "array([3, 1, 0, 2])"
            ]
          },
          "metadata": {},
          "execution_count": 14
        }
      ]
    },
    {
      "cell_type": "code",
      "source": [
        "#np.argsort(array) or array.argsort() returns indices that would sort the array in ascending order.\n",
        "#np.argsort(array) or array.argsort() returns indices that would sort the array in ascending order.\n",
        "#np.argsort(array) or array.argsort() returns indices that would sort the array in ascending order."
      ],
      "metadata": {
        "id": "5GWgR4muNYsy"
      },
      "execution_count": null,
      "outputs": []
    },
    {
      "cell_type": "code",
      "source": [
        "# np.argsort(array) or array.argsort() returns indices that would sort the array in ascending order."
      ],
      "metadata": {
        "id": "baQmIFNlObca"
      },
      "execution_count": null,
      "outputs": []
    },
    {
      "cell_type": "code",
      "source": [
        "import numpy as np\n",
        "a11=np.array([3,1,8,5,2])\n",
        "print(a11.argsort())\n",
        "print(np.argsort(a11))"
      ],
      "metadata": {
        "colab": {
          "base_uri": "https://localhost:8080/"
        },
        "id": "FUsO7GDzPwKL",
        "outputId": "ccb55943-d5e2-40f5-896c-f2df00a12373"
      },
      "execution_count": null,
      "outputs": [
        {
          "output_type": "stream",
          "name": "stdout",
          "text": [
            "[1 4 0 3 2]\n",
            "[1 4 0 3 2]\n"
          ]
        }
      ]
    },
    {
      "cell_type": "code",
      "source": [
        "print(a11[a11.argsort()])"
      ],
      "metadata": {
        "colab": {
          "base_uri": "https://localhost:8080/"
        },
        "id": "ybbvLRZkQqb1",
        "outputId": "83eda029-3045-4b2a-e998-6c687083b268"
      },
      "execution_count": null,
      "outputs": [
        {
          "output_type": "stream",
          "name": "stdout",
          "text": [
            "[1 2 3 5 8]\n"
          ]
        }
      ]
    },
    {
      "cell_type": "code",
      "source": [
        "#2. Sort the array based on the 2nd column.\n",
        "a11"
      ],
      "metadata": {
        "colab": {
          "base_uri": "https://localhost:8080/"
        },
        "id": "2p1FtaGcQ1T6",
        "outputId": "4d19b693-56b4-4130-f09d-9b05c964ebcf"
      },
      "execution_count": null,
      "outputs": [
        {
          "output_type": "execute_result",
          "data": {
            "text/plain": [
              "array([[99, 84, 41, 41],\n",
              "       [19, 92, 21, 59],\n",
              "       [59, 89, 87, 80],\n",
              "       [68, 51,  2, 51]])"
            ]
          },
          "metadata": {},
          "execution_count": 21
        }
      ]
    },
    {
      "cell_type": "code",
      "source": [
        "a11[:,1]"
      ],
      "metadata": {
        "colab": {
          "base_uri": "https://localhost:8080/"
        },
        "id": "TA4ZFCGBRlEK",
        "outputId": "f3414e00-d8cd-46c0-e87d-ea3ba3fa6746"
      },
      "execution_count": null,
      "outputs": [
        {
          "output_type": "execute_result",
          "data": {
            "text/plain": [
              "array([84, 92, 89, 51])"
            ]
          },
          "metadata": {},
          "execution_count": 22
        }
      ]
    },
    {
      "cell_type": "code",
      "source": [
        "a11[a11[:,1].argsort()]"
      ],
      "metadata": {
        "colab": {
          "base_uri": "https://localhost:8080/"
        },
        "id": "SMAy2VACR1CX",
        "outputId": "f082360b-2ae4-4ae0-a2fa-aa89995c5d51"
      },
      "execution_count": null,
      "outputs": [
        {
          "output_type": "execute_result",
          "data": {
            "text/plain": [
              "array([[68, 51,  2, 51],\n",
              "       [99, 84, 41, 41],\n",
              "       [59, 89, 87, 80],\n",
              "       [19, 92, 21, 59]])"
            ]
          },
          "metadata": {},
          "execution_count": 23
        }
      ]
    },
    {
      "cell_type": "code",
      "source": [
        "import numpy as np\n",
        "a12=np.array([[92, 90, 74],\n",
        "    [ 6, 63, 93],\n",
        "    [15, 93, 96],\n",
        "    [70, 60, 48]])\n",
        "a12"
      ],
      "metadata": {
        "colab": {
          "base_uri": "https://localhost:8080/"
        },
        "id": "uQwHKEYoSOCn",
        "outputId": "4df2a159-a498-4c96-fe76-7447f41788f9"
      },
      "execution_count": null,
      "outputs": [
        {
          "output_type": "execute_result",
          "data": {
            "text/plain": [
              "array([[92, 90, 74],\n",
              "       [ 6, 63, 93],\n",
              "       [15, 93, 96],\n",
              "       [70, 60, 48]])"
            ]
          },
          "metadata": {},
          "execution_count": 25
        }
      ]
    },
    {
      "cell_type": "code",
      "source": [
        "a12[:,1]\n",
        "#it returns all the rows and first column."
      ],
      "metadata": {
        "colab": {
          "base_uri": "https://localhost:8080/"
        },
        "id": "hytcfH-DTARP",
        "outputId": "ce736f00-6a5b-468e-ed76-68c333d9f7cf"
      },
      "execution_count": null,
      "outputs": [
        {
          "output_type": "execute_result",
          "data": {
            "text/plain": [
              "array([90, 63, 93, 60])"
            ]
          },
          "metadata": {},
          "execution_count": 27
        }
      ]
    },
    {
      "cell_type": "code",
      "source": [
        "a12[a12[:,1].argsort(),:]"
      ],
      "metadata": {
        "colab": {
          "base_uri": "https://localhost:8080/"
        },
        "id": "xy-BKaZUTnAJ",
        "outputId": "5ec4e645-f90a-40ed-afd1-f57e0f008633"
      },
      "execution_count": null,
      "outputs": [
        {
          "output_type": "execute_result",
          "data": {
            "text/plain": [
              "array([[70, 60, 48],\n",
              "       [ 6, 63, 93],\n",
              "       [92, 90, 74],\n",
              "       [15, 93, 96]])"
            ]
          },
          "metadata": {},
          "execution_count": 29
        }
      ]
    },
    {
      "cell_type": "code",
      "source": [
        "a12[a12[:,1].argsort()]"
      ],
      "metadata": {
        "colab": {
          "base_uri": "https://localhost:8080/"
        },
        "id": "ZrmdQGJzUZPS",
        "outputId": "2dc6c881-a4b5-4349-b789-9cca9d8c12ba"
      },
      "execution_count": null,
      "outputs": [
        {
          "output_type": "execute_result",
          "data": {
            "text/plain": [
              "array([[70, 60, 48],\n",
              "       [ 6, 63, 93],\n",
              "       [92, 90, 74],\n",
              "       [15, 93, 96]])"
            ]
          },
          "metadata": {},
          "execution_count": 30
        }
      ]
    },
    {
      "cell_type": "code",
      "source": [
        "#based on row max -ascending\n"
      ],
      "metadata": {
        "id": "KHY4WMfcUfzG"
      },
      "execution_count": null,
      "outputs": []
    },
    {
      "cell_type": "code",
      "source": [
        "import numpy as np\n",
        "\n",
        "# Example matrix\n",
        "matrix = np.array([\n",
        "    [4, 9, 1],\n",
        "    [2, 5, 3],\n",
        "    [6, 3, 7]\n",
        "])\n",
        "\n",
        "# Get indices of maximum values in each row\n",
        "max_indices = np.argmax(matrix, axis=1)\n",
        "\n",
        "# Sort the matrix based on the max values' indices\n",
        "# sorted_matrix = matrix[max_indices.argsort()]\n",
        "\n",
        "# print(\"Sorted Matrix based on max value in each row:\")\n",
        "# print(sorted_matrix)\n",
        "print(max_indices)\n",
        "print(max_indices.argsort())\n"
      ],
      "metadata": {
        "colab": {
          "base_uri": "https://localhost:8080/"
        },
        "id": "7Q8vQm18vwDk",
        "outputId": "8e916033-a7b3-48d0-b06f-b70a6be1dc29"
      },
      "execution_count": null,
      "outputs": [
        {
          "output_type": "stream",
          "name": "stdout",
          "text": [
            "[1 1 2]\n",
            "[0 1 2]\n"
          ]
        }
      ]
    },
    {
      "cell_type": "code",
      "source": [
        "a12"
      ],
      "metadata": {
        "colab": {
          "base_uri": "https://localhost:8080/"
        },
        "id": "NMZ4viTCyBrE",
        "outputId": "091b09e1-f63d-4c71-bd5e-908f8daec2b9"
      },
      "execution_count": null,
      "outputs": [
        {
          "output_type": "execute_result",
          "data": {
            "text/plain": [
              "array([[92, 90, 74],\n",
              "       [ 6, 63, 93],\n",
              "       [15, 93, 96],\n",
              "       [70, 60, 48]])"
            ]
          },
          "metadata": {},
          "execution_count": 34
        }
      ]
    },
    {
      "cell_type": "code",
      "source": [
        "import numpy as np\n",
        "\n",
        "# Example matrix\n",
        "matrix = np.array([\n",
        "    [4, 9, 1],\n",
        "    [2, 5, 3],\n",
        "    [6, 3, 7]\n",
        "])\n",
        "\n",
        "# Get indices of maximum values in each row\n",
        "max_indices = np.argmax(a12, axis=1)\n",
        "\n",
        "# Sort the matrix based on the max values' indices\n",
        "sorted_matrix = a12[max_indices.argsort()]\n",
        "\n",
        "print(\"Sorted Matrix based on max value in each row:\")\n",
        "print(sorted_matrix)\n",
        "print(max_indices)\n",
        "print(max_indices.argsort())"
      ],
      "metadata": {
        "colab": {
          "base_uri": "https://localhost:8080/"
        },
        "id": "l5MEwfjb704J",
        "outputId": "2aa22004-4316-4c0d-8fd4-0e72a4b729b5"
      },
      "execution_count": null,
      "outputs": [
        {
          "output_type": "stream",
          "name": "stdout",
          "text": [
            "Sorted Matrix based on max value in each row:\n",
            "[[92 90 74]\n",
            " [70 60 48]\n",
            " [ 6 63 93]\n",
            " [15 93 96]]\n",
            "[0 2 2 0]\n",
            "[0 3 1 2]\n"
          ]
        }
      ]
    },
    {
      "cell_type": "code",
      "source": [
        "import numpy as np\n",
        "a112=np.random.randint(1,100,(6,4))\n",
        "a112"
      ],
      "metadata": {
        "colab": {
          "base_uri": "https://localhost:8080/"
        },
        "id": "iP5FKM_08ldt",
        "outputId": "e7de2a9b-61ad-4959-fb49-eadef6a161e1"
      },
      "execution_count": null,
      "outputs": [
        {
          "output_type": "execute_result",
          "data": {
            "text/plain": [
              "array([[61, 34, 77, 38],\n",
              "       [ 5, 43, 27, 37],\n",
              "       [34, 58, 83, 54],\n",
              "       [77,  6, 94,  7],\n",
              "       [58, 71, 49, 69],\n",
              "       [ 6, 95, 58, 17]])"
            ]
          },
          "metadata": {},
          "execution_count": 39
        }
      ]
    },
    {
      "cell_type": "code",
      "source": [
        "a112.argmax()"
      ],
      "metadata": {
        "colab": {
          "base_uri": "https://localhost:8080/"
        },
        "id": "NCxjh1d4AVom",
        "outputId": "fbaac7e6-beb8-43a4-ccd7-b6abf7687976"
      },
      "execution_count": null,
      "outputs": [
        {
          "output_type": "execute_result",
          "data": {
            "text/plain": [
              "21"
            ]
          },
          "metadata": {},
          "execution_count": 40
        }
      ]
    },
    {
      "cell_type": "code",
      "source": [
        "a112[a112.argmax()]"
      ],
      "metadata": {
        "colab": {
          "base_uri": "https://localhost:8080/",
          "height": 177
        },
        "id": "imzZfai5B595",
        "outputId": "85621993-20a2-4ed8-f13c-5a6784031fb1"
      },
      "execution_count": null,
      "outputs": [
        {
          "output_type": "error",
          "ename": "IndexError",
          "evalue": "index 21 is out of bounds for axis 0 with size 6",
          "traceback": [
            "\u001b[0;31m---------------------------------------------------------------------------\u001b[0m",
            "\u001b[0;31mIndexError\u001b[0m                                Traceback (most recent call last)",
            "\u001b[0;32m<ipython-input-41-9c1fd3b93e02>\u001b[0m in \u001b[0;36m<cell line: 1>\u001b[0;34m()\u001b[0m\n\u001b[0;32m----> 1\u001b[0;31m \u001b[0ma112\u001b[0m\u001b[0;34m[\u001b[0m\u001b[0ma112\u001b[0m\u001b[0;34m.\u001b[0m\u001b[0margmax\u001b[0m\u001b[0;34m(\u001b[0m\u001b[0;34m)\u001b[0m\u001b[0;34m]\u001b[0m\u001b[0;34m\u001b[0m\u001b[0;34m\u001b[0m\u001b[0m\n\u001b[0m",
            "\u001b[0;31mIndexError\u001b[0m: index 21 is out of bounds for axis 0 with size 6"
          ]
        }
      ]
    },
    {
      "cell_type": "code",
      "source": [
        "a112.argmax(axis=0)"
      ],
      "metadata": {
        "colab": {
          "base_uri": "https://localhost:8080/"
        },
        "id": "mSy8GfPkCEU0",
        "outputId": "6d9684cf-41bd-4d93-d53c-3b4cd754de2e"
      },
      "execution_count": null,
      "outputs": [
        {
          "output_type": "execute_result",
          "data": {
            "text/plain": [
              "array([3, 5, 3, 4])"
            ]
          },
          "metadata": {},
          "execution_count": 42
        }
      ]
    },
    {
      "cell_type": "code",
      "source": [
        "a112.argmax(axis=1)"
      ],
      "metadata": {
        "colab": {
          "base_uri": "https://localhost:8080/"
        },
        "id": "7PxcRXXuDP44",
        "outputId": "77cbf9e1-5dac-4602-a2df-cf7cd35d2d4b"
      },
      "execution_count": null,
      "outputs": [
        {
          "output_type": "execute_result",
          "data": {
            "text/plain": [
              "array([2, 1, 2, 2, 1, 1])"
            ]
          },
          "metadata": {},
          "execution_count": 43
        }
      ]
    },
    {
      "cell_type": "code",
      "source": [
        "a112[a112.argmax(axis=1)]"
      ],
      "metadata": {
        "colab": {
          "base_uri": "https://localhost:8080/"
        },
        "id": "nhE8uMF0DlO6",
        "outputId": "c6b4f123-90ed-45bd-beec-0a1f2d6f380a"
      },
      "execution_count": null,
      "outputs": [
        {
          "output_type": "execute_result",
          "data": {
            "text/plain": [
              "array([[34, 58, 83, 54],\n",
              "       [ 5, 43, 27, 37],\n",
              "       [34, 58, 83, 54],\n",
              "       [34, 58, 83, 54],\n",
              "       [ 5, 43, 27, 37],\n",
              "       [ 5, 43, 27, 37]])"
            ]
          },
          "metadata": {},
          "execution_count": 44
        }
      ]
    },
    {
      "cell_type": "code",
      "source": [
        "a112"
      ],
      "metadata": {
        "colab": {
          "base_uri": "https://localhost:8080/"
        },
        "id": "XIuHXK3pFIic",
        "outputId": "0265ccf3-b9af-4148-f4ba-8a2e32335010"
      },
      "execution_count": null,
      "outputs": [
        {
          "output_type": "execute_result",
          "data": {
            "text/plain": [
              "array([[61, 34, 77, 38],\n",
              "       [ 5, 43, 27, 37],\n",
              "       [34, 58, 83, 54],\n",
              "       [77,  6, 94,  7],\n",
              "       [58, 71, 49, 69],\n",
              "       [ 6, 95, 58, 17]])"
            ]
          },
          "metadata": {},
          "execution_count": 45
        }
      ]
    },
    {
      "cell_type": "code",
      "source": [
        "import numpy as np\n",
        "ab=np.argmax(a112,axis=1)\n",
        "ab"
      ],
      "metadata": {
        "colab": {
          "base_uri": "https://localhost:8080/"
        },
        "id": "0OqiWT5yHfP0",
        "outputId": "80cc436b-d910-401e-b18a-6ec3275e9518"
      },
      "execution_count": null,
      "outputs": [
        {
          "output_type": "execute_result",
          "data": {
            "text/plain": [
              "array([2, 1, 2, 2, 1, 1])"
            ]
          },
          "metadata": {},
          "execution_count": 46
        }
      ]
    },
    {
      "cell_type": "code",
      "source": [
        "ab1=a112[np.arange(len())]"
      ],
      "metadata": {
        "id": "65m9tnhMO7s9"
      },
      "execution_count": null,
      "outputs": []
    },
    {
      "cell_type": "code",
      "source": [
        "len(a112)\n",
        "#len(a112) would give the number of rows of the matrix as output."
      ],
      "metadata": {
        "colab": {
          "base_uri": "https://localhost:8080/"
        },
        "id": "oyh-cLP6Pk6n",
        "outputId": "870e7dee-46ba-41f5-c9ad-58c33c0e775d"
      },
      "execution_count": null,
      "outputs": [
        {
          "output_type": "execute_result",
          "data": {
            "text/plain": [
              "6"
            ]
          },
          "metadata": {},
          "execution_count": 49
        }
      ]
    },
    {
      "cell_type": "code",
      "source": [
        "ab1=a112[np.arange(len(a112)),ab]"
      ],
      "metadata": {
        "id": "kkdbCs3dQrtN"
      },
      "execution_count": null,
      "outputs": []
    },
    {
      "cell_type": "code",
      "source": [
        "a112"
      ],
      "metadata": {
        "colab": {
          "base_uri": "https://localhost:8080/"
        },
        "id": "07xS0HHmQ-WO",
        "outputId": "577d24e9-0744-46aa-f9f2-7b209ddbf7fc"
      },
      "execution_count": null,
      "outputs": [
        {
          "output_type": "execute_result",
          "data": {
            "text/plain": [
              "array([[61, 34, 77, 38],\n",
              "       [ 5, 43, 27, 37],\n",
              "       [34, 58, 83, 54],\n",
              "       [77,  6, 94,  7],\n",
              "       [58, 71, 49, 69],\n",
              "       [ 6, 95, 58, 17]])"
            ]
          },
          "metadata": {},
          "execution_count": 50
        }
      ]
    },
    {
      "cell_type": "code",
      "source": [
        "a112[[0,2],[2,1]]\n",
        "#so going by this we pick up element at (0,2) and the element at (2,1)."
      ],
      "metadata": {
        "colab": {
          "base_uri": "https://localhost:8080/"
        },
        "id": "2axv7UU5RAzW",
        "outputId": "8646b26f-eebf-41ee-85e6-ea5f238c16f2"
      },
      "execution_count": null,
      "outputs": [
        {
          "output_type": "execute_result",
          "data": {
            "text/plain": [
              "array([77, 58])"
            ]
          },
          "metadata": {},
          "execution_count": 52
        }
      ]
    },
    {
      "cell_type": "code",
      "source": [
        "ab2=np.argmax(a112,axis=1)\n",
        "ab2"
      ],
      "metadata": {
        "colab": {
          "base_uri": "https://localhost:8080/"
        },
        "id": "BVUe3zarSFBM",
        "outputId": "53ca3335-9e20-442c-c29b-b7796b1d7ac7"
      },
      "execution_count": null,
      "outputs": [
        {
          "output_type": "execute_result",
          "data": {
            "text/plain": [
              "array([2, 1, 2, 2, 1, 1])"
            ]
          },
          "metadata": {},
          "execution_count": 53
        }
      ]
    },
    {
      "cell_type": "code",
      "source": [
        "a114=a112[np.arange(len(a112)),ab2]\n",
        "a114"
      ],
      "metadata": {
        "colab": {
          "base_uri": "https://localhost:8080/"
        },
        "id": "qM6kUUsYTT3x",
        "outputId": "1fe1989d-e887-4a9b-dd7a-3be3c671ee37"
      },
      "execution_count": null,
      "outputs": [
        {
          "output_type": "execute_result",
          "data": {
            "text/plain": [
              "array([77, 43, 83, 94, 71, 95])"
            ]
          },
          "metadata": {},
          "execution_count": 54
        }
      ]
    },
    {
      "cell_type": "code",
      "source": [
        "a116=a114.argsort()[::-1]\n",
        "a116"
      ],
      "metadata": {
        "colab": {
          "base_uri": "https://localhost:8080/"
        },
        "id": "3ExkGhugTmsX",
        "outputId": "e8af8b34-abf3-40c8-b950-beb23552e749"
      },
      "execution_count": null,
      "outputs": [
        {
          "output_type": "execute_result",
          "data": {
            "text/plain": [
              "array([5, 3, 2, 0, 4, 1])"
            ]
          },
          "metadata": {},
          "execution_count": 55
        }
      ]
    },
    {
      "cell_type": "code",
      "source": [
        "a112[a116]"
      ],
      "metadata": {
        "colab": {
          "base_uri": "https://localhost:8080/"
        },
        "id": "-iaxKvLmT0BF",
        "outputId": "123569f6-7206-4f27-ca3b-cbfa78abab59"
      },
      "execution_count": null,
      "outputs": [
        {
          "output_type": "execute_result",
          "data": {
            "text/plain": [
              "array([[ 6, 95, 58, 17],\n",
              "       [77,  6, 94,  7],\n",
              "       [34, 58, 83, 54],\n",
              "       [61, 34, 77, 38],\n",
              "       [58, 71, 49, 69],\n",
              "       [ 5, 43, 27, 37]])"
            ]
          },
          "metadata": {},
          "execution_count": 56
        }
      ]
    },
    {
      "cell_type": "code",
      "source": [
        "import numpy as np\n",
        "a12=np.array([[92, 90, 74],\n",
        "    [ 6, 63, 93],\n",
        "    [15, 93, 96],\n",
        "    [70, 60, 48]])\n",
        "a12"
      ],
      "metadata": {
        "colab": {
          "base_uri": "https://localhost:8080/"
        },
        "id": "V5WkycGdT5iJ",
        "outputId": "3e151ea0-9599-486a-b4e5-a7786b6e672a"
      },
      "execution_count": null,
      "outputs": [
        {
          "output_type": "execute_result",
          "data": {
            "text/plain": [
              "array([[92, 90, 74],\n",
              "       [ 6, 63, 93],\n",
              "       [15, 93, 96],\n",
              "       [70, 60, 48]])"
            ]
          },
          "metadata": {},
          "execution_count": 58
        }
      ]
    },
    {
      "cell_type": "code",
      "source": [
        "a121=a12[np.arange(len(a12)),np.argmax(a12,axis=1)]\n",
        "print(a121)\n",
        "anew=np.argsort(a121)[::-1]\n",
        "print(anew)\n",
        "print(a12[anew])"
      ],
      "metadata": {
        "colab": {
          "base_uri": "https://localhost:8080/"
        },
        "id": "OYNZj1FQUc9X",
        "outputId": "6e8fa53d-a2c1-40ab-c915-330a6d206515"
      },
      "execution_count": null,
      "outputs": [
        {
          "output_type": "stream",
          "name": "stdout",
          "text": [
            "[92 93 96 70]\n",
            "[2 1 0 3]\n",
            "[[15 93 96]\n",
            " [ 6 63 93]\n",
            " [92 90 74]\n",
            " [70 60 48]]\n"
          ]
        }
      ]
    },
    {
      "cell_type": "code",
      "source": [
        "import numpy as np\n",
        "a90=np.random.randint(1,100,(6,4))\n",
        "a90"
      ],
      "metadata": {
        "colab": {
          "base_uri": "https://localhost:8080/"
        },
        "id": "Tx_HdMihYGg2",
        "outputId": "ee58996c-d281-490e-83e7-87ea4e27a518"
      },
      "execution_count": null,
      "outputs": [
        {
          "output_type": "execute_result",
          "data": {
            "text/plain": [
              "array([[73, 84, 74, 85],\n",
              "       [92, 29, 59, 33],\n",
              "       [83, 32, 97, 29],\n",
              "       [87, 68,  5, 99],\n",
              "       [37, 68,  9, 99],\n",
              "       [62, 86, 50, 95]])"
            ]
          },
          "metadata": {},
          "execution_count": 59
        }
      ]
    },
    {
      "cell_type": "code",
      "source": [
        "a90.argmax(axis=1)"
      ],
      "metadata": {
        "colab": {
          "base_uri": "https://localhost:8080/"
        },
        "id": "U2q_B1WEYQ_g",
        "outputId": "0435dcf1-8378-4b03-ffc5-d70a04bf020a"
      },
      "execution_count": null,
      "outputs": [
        {
          "output_type": "execute_result",
          "data": {
            "text/plain": [
              "array([3, 0, 2, 3, 3, 3])"
            ]
          },
          "metadata": {},
          "execution_count": 60
        }
      ]
    },
    {
      "cell_type": "code",
      "source": [
        "import numpy as np\n",
        "\n",
        "arr=np.array([[92, 90, 74],\n",
        "    [ 6, 63, 93],\n",
        "    [15, 93, 96],\n",
        "    [70, 60, 48]])\n",
        "arr"
      ],
      "metadata": {
        "colab": {
          "base_uri": "https://localhost:8080/"
        },
        "id": "g1bKtqmHbJy6",
        "outputId": "a32d5ccf-4f1f-47e4-e68a-bba8b2c01115"
      },
      "execution_count": null,
      "outputs": [
        {
          "output_type": "execute_result",
          "data": {
            "text/plain": [
              "array([[92, 90, 74],\n",
              "       [ 6, 63, 93],\n",
              "       [15, 93, 96],\n",
              "       [70, 60, 48]])"
            ]
          },
          "metadata": {},
          "execution_count": 1
        }
      ]
    },
    {
      "cell_type": "code",
      "source": [
        "#Sort this matrix based on max value in each row.\n",
        "a_new=arr[np.arange(len(arr)),np.argmax(arr,axis=1)]\n",
        "a_new1=np.argsort(a_new)[::-1]\n",
        "arr[a_new1]"
      ],
      "metadata": {
        "colab": {
          "base_uri": "https://localhost:8080/"
        },
        "id": "wDRj_jhPcIVL",
        "outputId": "e89c6fd6-4da8-4f0d-8ffc-783cf18e28ca"
      },
      "execution_count": null,
      "outputs": [
        {
          "output_type": "execute_result",
          "data": {
            "text/plain": [
              "array([[15, 93, 96],\n",
              "       [ 6, 63, 93],\n",
              "       [92, 90, 74],\n",
              "       [70, 60, 48]])"
            ]
          },
          "metadata": {},
          "execution_count": 3
        }
      ]
    },
    {
      "cell_type": "code",
      "source": [
        "#Sort the matrix based on element values.\n",
        "np.sort(arr.flatten()).reshape(arr.shape)"
      ],
      "metadata": {
        "colab": {
          "base_uri": "https://localhost:8080/"
        },
        "id": "Sc9BGXbKeH_X",
        "outputId": "8e1305ad-2511-4381-b3fc-28dc65945e75"
      },
      "execution_count": null,
      "outputs": [
        {
          "output_type": "execute_result",
          "data": {
            "text/plain": [
              "array([[ 6, 15, 48],\n",
              "       [60, 63, 70],\n",
              "       [74, 90, 92],\n",
              "       [93, 93, 96]])"
            ]
          },
          "metadata": {},
          "execution_count": 7
        }
      ]
    },
    {
      "cell_type": "code",
      "source": [
        "#Sort the matrix based on 2nd column.\n",
        "arr[np.argsort(arr[:,1])]"
      ],
      "metadata": {
        "colab": {
          "base_uri": "https://localhost:8080/"
        },
        "id": "W9fEcj9Thgfx",
        "outputId": "6064def8-27e5-487a-c77c-3863bdd063e3"
      },
      "execution_count": null,
      "outputs": [
        {
          "output_type": "execute_result",
          "data": {
            "text/plain": [
              "array([[70, 60, 48],\n",
              "       [ 6, 63, 93],\n",
              "       [92, 90, 74],\n",
              "       [15, 93, 96]])"
            ]
          },
          "metadata": {},
          "execution_count": 10
        }
      ]
    },
    {
      "cell_type": "code",
      "source": [
        "# Q-2: There is an array of marks of 5 students in 4 subjects. Further you are asked to perform below task.\n",
        "# i. Add marks every student of an extra subject in the same array.\n",
        "# ii. Add two new students marks in respective 5 subjects.(one subject added in above task)\n",
        "# iii. Add extra column with sum of all subjects(5-subjects) marks\n",
        "# iv. Sort the array(non-ascending order) on total marks column--one added in above task. Show top 2 rows."
      ],
      "metadata": {
        "id": "yMpXHUjvkDdt"
      },
      "execution_count": null,
      "outputs": []
    },
    {
      "cell_type": "code",
      "source": [
        "import numpy as np\n",
        "marks =np.array([[13, 10,  9, 33],\n",
        "       [63, 46, 90, 42],\n",
        "       [39, 76, 13, 29],\n",
        "       [82,  9, 29, 78],\n",
        "       [67, 61, 59, 36]])\n",
        "\n",
        "extra_subject = [41, 87, 72, 36, 92]\n",
        "# Two extra students record-\n",
        "rec1 = [77, 83, 98, 95, 89]\n",
        "rec2 = [92, 71, 52, 61, 53]\n",
        "np.concatenate((marks,extra_subject),axis=1)\n"
      ],
      "metadata": {
        "colab": {
          "base_uri": "https://localhost:8080/",
          "height": 263
        },
        "id": "rnMIp96tml1c",
        "outputId": "0abc6821-925d-467b-ac98-3d03d49dba3d"
      },
      "execution_count": null,
      "outputs": [
        {
          "output_type": "error",
          "ename": "ValueError",
          "evalue": "all the input arrays must have same number of dimensions, but the array at index 0 has 2 dimension(s) and the array at index 1 has 1 dimension(s)",
          "traceback": [
            "\u001b[0;31m---------------------------------------------------------------------------\u001b[0m",
            "\u001b[0;31mValueError\u001b[0m                                Traceback (most recent call last)",
            "\u001b[0;32m<ipython-input-1-ca946300ed51>\u001b[0m in \u001b[0;36m<cell line: 12>\u001b[0;34m()\u001b[0m\n\u001b[1;32m     10\u001b[0m \u001b[0mrec1\u001b[0m \u001b[0;34m=\u001b[0m \u001b[0;34m[\u001b[0m\u001b[0;36m77\u001b[0m\u001b[0;34m,\u001b[0m \u001b[0;36m83\u001b[0m\u001b[0;34m,\u001b[0m \u001b[0;36m98\u001b[0m\u001b[0;34m,\u001b[0m \u001b[0;36m95\u001b[0m\u001b[0;34m,\u001b[0m \u001b[0;36m89\u001b[0m\u001b[0;34m]\u001b[0m\u001b[0;34m\u001b[0m\u001b[0;34m\u001b[0m\u001b[0m\n\u001b[1;32m     11\u001b[0m \u001b[0mrec2\u001b[0m \u001b[0;34m=\u001b[0m \u001b[0;34m[\u001b[0m\u001b[0;36m92\u001b[0m\u001b[0;34m,\u001b[0m \u001b[0;36m71\u001b[0m\u001b[0;34m,\u001b[0m \u001b[0;36m52\u001b[0m\u001b[0;34m,\u001b[0m \u001b[0;36m61\u001b[0m\u001b[0;34m,\u001b[0m \u001b[0;36m53\u001b[0m\u001b[0;34m]\u001b[0m\u001b[0;34m\u001b[0m\u001b[0;34m\u001b[0m\u001b[0m\n\u001b[0;32m---> 12\u001b[0;31m \u001b[0mnp\u001b[0m\u001b[0;34m.\u001b[0m\u001b[0mconcatenate\u001b[0m\u001b[0;34m(\u001b[0m\u001b[0;34m(\u001b[0m\u001b[0mmarks\u001b[0m\u001b[0;34m,\u001b[0m\u001b[0mextra_subject\u001b[0m\u001b[0;34m)\u001b[0m\u001b[0;34m,\u001b[0m\u001b[0maxis\u001b[0m\u001b[0;34m=\u001b[0m\u001b[0;36m1\u001b[0m\u001b[0;34m)\u001b[0m\u001b[0;34m\u001b[0m\u001b[0;34m\u001b[0m\u001b[0m\n\u001b[0m",
            "\u001b[0;32m/usr/local/lib/python3.10/dist-packages/numpy/core/overrides.py\u001b[0m in \u001b[0;36mconcatenate\u001b[0;34m(*args, **kwargs)\u001b[0m\n",
            "\u001b[0;31mValueError\u001b[0m: all the input arrays must have same number of dimensions, but the array at index 0 has 2 dimension(s) and the array at index 1 has 1 dimension(s)"
          ]
        }
      ]
    },
    {
      "cell_type": "code",
      "source": [
        "a12=np.array(extra_subject)\n",
        "np.append(marks,a11.reshape(a11.shape[0],1),axis=1)"
      ],
      "metadata": {
        "colab": {
          "base_uri": "https://localhost:8080/"
        },
        "id": "ETRkDEFt3pUH",
        "outputId": "733155bf-8eee-4a92-af98-c43fc885efdb"
      },
      "execution_count": null,
      "outputs": [
        {
          "output_type": "execute_result",
          "data": {
            "text/plain": [
              "array([[13, 10,  9, 33, 41],\n",
              "       [63, 46, 90, 42, 87],\n",
              "       [39, 76, 13, 29, 72],\n",
              "       [82,  9, 29, 78, 36],\n",
              "       [67, 61, 59, 36, 92]])"
            ]
          },
          "metadata": {},
          "execution_count": 6
        }
      ]
    },
    {
      "cell_type": "code",
      "source": [
        "np.array(extra_subject).shape[0]"
      ],
      "metadata": {
        "colab": {
          "base_uri": "https://localhost:8080/"
        },
        "id": "jvwnSo4z4ETk",
        "outputId": "4bd26077-cc4d-49f9-9fbf-db2fe68bdc98"
      },
      "execution_count": null,
      "outputs": [
        {
          "output_type": "execute_result",
          "data": {
            "text/plain": [
              "5"
            ]
          },
          "metadata": {},
          "execution_count": 3
        }
      ]
    },
    {
      "cell_type": "code",
      "source": [
        "a11=np.array(extra_subject)\n",
        "a11.reshape(a11.shape[0],1)"
      ],
      "metadata": {
        "colab": {
          "base_uri": "https://localhost:8080/"
        },
        "id": "teYmoyRs5UMH",
        "outputId": "f4692d80-bd6d-4a19-8007-89fe1ad17180"
      },
      "execution_count": null,
      "outputs": [
        {
          "output_type": "execute_result",
          "data": {
            "text/plain": [
              "array([[41],\n",
              "       [87],\n",
              "       [72],\n",
              "       [36],\n",
              "       [92]])"
            ]
          },
          "metadata": {},
          "execution_count": 4
        }
      ]
    },
    {
      "cell_type": "code",
      "source": [
        "#2 i. Add marks of every student of an extra subject in the same array.\n",
        "a12=np.array(extra_subject)\n",
        "print(a12)\n",
        "a14=np.append(marks,a12.reshape(a12.shape[0],1),axis=1)\n",
        "a14"
      ],
      "metadata": {
        "colab": {
          "base_uri": "https://localhost:8080/"
        },
        "id": "V6v4hluOPDDo",
        "outputId": "bbe932c2-bee1-4cd6-ee8e-970a035558ab"
      },
      "execution_count": null,
      "outputs": [
        {
          "output_type": "stream",
          "name": "stdout",
          "text": [
            "[41 87 72 36 92]\n"
          ]
        },
        {
          "output_type": "execute_result",
          "data": {
            "text/plain": [
              "array([[13, 10,  9, 33, 41],\n",
              "       [63, 46, 90, 42, 87],\n",
              "       [39, 76, 13, 29, 72],\n",
              "       [82,  9, 29, 78, 36],\n",
              "       [67, 61, 59, 36, 92]])"
            ]
          },
          "metadata": {},
          "execution_count": 7
        }
      ]
    },
    {
      "cell_type": "code",
      "source": [
        "#2 ii. Add 2 new students in the above matrix.\n",
        "rec1rec2=np.array([rec1,rec2])\n",
        "print(rec1rec2)\n",
        "a16=np.append(a14,rec1rec2,axis=0)\n",
        "a16"
      ],
      "metadata": {
        "colab": {
          "base_uri": "https://localhost:8080/"
        },
        "id": "YQIogyjWQM3b",
        "outputId": "c8b06099-daa2-4953-881a-0ba8e489d0ae"
      },
      "execution_count": null,
      "outputs": [
        {
          "output_type": "stream",
          "name": "stdout",
          "text": [
            "[[77 83 98 95 89]\n",
            " [92 71 52 61 53]]\n"
          ]
        },
        {
          "output_type": "execute_result",
          "data": {
            "text/plain": [
              "array([[13, 10,  9, 33, 41],\n",
              "       [63, 46, 90, 42, 87],\n",
              "       [39, 76, 13, 29, 72],\n",
              "       [82,  9, 29, 78, 36],\n",
              "       [67, 61, 59, 36, 92],\n",
              "       [77, 83, 98, 95, 89],\n",
              "       [92, 71, 52, 61, 53]])"
            ]
          },
          "metadata": {},
          "execution_count": 8
        }
      ]
    },
    {
      "cell_type": "code",
      "source": [
        "#2 iii. Add extra column with sum of all 5 subjects.\n",
        "a17=np.sum(a16,axis=1)\n",
        "a18=np.append(a16,a17.reshape(a17.shape[0],1),axis=1)\n",
        "a18"
      ],
      "metadata": {
        "colab": {
          "base_uri": "https://localhost:8080/"
        },
        "id": "vrMUODxiYfcy",
        "outputId": "ab01c16a-b293-4c27-8476-fdcae1e2945c"
      },
      "execution_count": null,
      "outputs": [
        {
          "output_type": "execute_result",
          "data": {
            "text/plain": [
              "array([[ 13,  10,   9,  33,  41, 106],\n",
              "       [ 63,  46,  90,  42,  87, 328],\n",
              "       [ 39,  76,  13,  29,  72, 229],\n",
              "       [ 82,   9,  29,  78,  36, 234],\n",
              "       [ 67,  61,  59,  36,  92, 315],\n",
              "       [ 77,  83,  98,  95,  89, 442],\n",
              "       [ 92,  71,  52,  61,  53, 329]])"
            ]
          },
          "metadata": {},
          "execution_count": 10
        }
      ]
    },
    {
      "cell_type": "code",
      "source": [
        "#2 iv. Sort the array in descending order based on total marks. Show top 2 rows.\n",
        "import numpy as np\n",
        "a14=np.argsort(a18[:,-1])[::-1]\n",
        "a18[a14][0:2]"
      ],
      "metadata": {
        "id": "YnMhJKL4en9M",
        "colab": {
          "base_uri": "https://localhost:8080/"
        },
        "outputId": "85a82505-9c5f-452f-e755-97936235017e"
      },
      "execution_count": null,
      "outputs": [
        {
          "output_type": "execute_result",
          "data": {
            "text/plain": [
              "array([[ 77,  83,  98,  95,  89, 442],\n",
              "       [ 92,  71,  52,  61,  53, 329]])"
            ]
          },
          "metadata": {},
          "execution_count": 15
        }
      ]
    },
    {
      "cell_type": "code",
      "source": [
        "# Q-3: Find unique arrays from a 2D array column wise and row wise.\n",
        "arr = np.array([[1,2,3,3,1,1],\n",
        "                [0,9,1,2,8,8],\n",
        "                [1,2,3,8,8,8],\n",
        "                [1,2,3,3,1,1]])\n",
        "np.unique(arr,axis=1)\n",
        "#column-wise unique array"
      ],
      "metadata": {
        "colab": {
          "base_uri": "https://localhost:8080/"
        },
        "id": "bRvHvs34fwwD",
        "outputId": "8a7fb3b1-1013-44a1-8aff-b9333a32cb42"
      },
      "execution_count": null,
      "outputs": [
        {
          "output_type": "execute_result",
          "data": {
            "text/plain": [
              "array([[1, 1, 2, 3, 3],\n",
              "       [0, 8, 9, 1, 2],\n",
              "       [1, 8, 2, 3, 8],\n",
              "       [1, 1, 2, 3, 3]])"
            ]
          },
          "metadata": {},
          "execution_count": 20
        }
      ]
    },
    {
      "cell_type": "code",
      "source": [
        "np.unique(arr,axis=0)\n",
        "#row-wise unique array"
      ],
      "metadata": {
        "colab": {
          "base_uri": "https://localhost:8080/"
        },
        "id": "k2u8_hyFsN68",
        "outputId": "f080e775-53d2-46b6-9eeb-fa288019e02a"
      },
      "execution_count": null,
      "outputs": [
        {
          "output_type": "execute_result",
          "data": {
            "text/plain": [
              "array([[0, 9, 1, 2, 8, 8],\n",
              "       [1, 2, 3, 3, 1, 1],\n",
              "       [1, 2, 3, 8, 8, 8]])"
            ]
          },
          "metadata": {},
          "execution_count": 19
        }
      ]
    },
    {
      "cell_type": "code",
      "source": [
        "a18"
      ],
      "metadata": {
        "colab": {
          "base_uri": "https://localhost:8080/"
        },
        "id": "jQpGQWxotF6n",
        "outputId": "c9d7da72-a12d-4591-aa6f-d32734adb05d"
      },
      "execution_count": null,
      "outputs": [
        {
          "output_type": "execute_result",
          "data": {
            "text/plain": [
              "array([[ 13,  10,   9,  33,  41, 106],\n",
              "       [ 63,  46,  90,  42,  87, 328],\n",
              "       [ 39,  76,  13,  29,  72, 229],\n",
              "       [ 82,   9,  29,  78,  36, 234],\n",
              "       [ 67,  61,  59,  36,  92, 315],\n",
              "       [ 77,  83,  98,  95,  89, 442],\n",
              "       [ 92,  71,  52,  61,  53, 329]])"
            ]
          },
          "metadata": {},
          "execution_count": 22
        }
      ]
    },
    {
      "cell_type": "code",
      "source": [
        "import numpy as np\n",
        "np.flip(a18,axis=0)\n",
        "#np.flip(a18,axis=0) flips all the rows upside down."
      ],
      "metadata": {
        "colab": {
          "base_uri": "https://localhost:8080/"
        },
        "id": "Xx8zjTgWx9rN",
        "outputId": "cdc60d4d-e098-4890-9bc4-2e93cb6f6f95"
      },
      "execution_count": null,
      "outputs": [
        {
          "output_type": "execute_result",
          "data": {
            "text/plain": [
              "array([[ 92,  71,  52,  61,  53, 329],\n",
              "       [ 77,  83,  98,  95,  89, 442],\n",
              "       [ 67,  61,  59,  36,  92, 315],\n",
              "       [ 82,   9,  29,  78,  36, 234],\n",
              "       [ 39,  76,  13,  29,  72, 229],\n",
              "       [ 63,  46,  90,  42,  87, 328],\n",
              "       [ 13,  10,   9,  33,  41, 106]])"
            ]
          },
          "metadata": {},
          "execution_count": 24
        }
      ]
    },
    {
      "cell_type": "code",
      "source": [
        "np.flip(a18,axis=1)\n",
        "#np.flip(a18,axis=1) flips all the columns from left to the right.\n"
      ],
      "metadata": {
        "colab": {
          "base_uri": "https://localhost:8080/"
        },
        "id": "RtQuAkIjyRkx",
        "outputId": "cde4334b-1bac-4cf0-e69a-f4342e920cbd"
      },
      "execution_count": null,
      "outputs": [
        {
          "output_type": "execute_result",
          "data": {
            "text/plain": [
              "array([[106,  41,  33,   9,  10,  13],\n",
              "       [328,  87,  42,  90,  46,  63],\n",
              "       [229,  72,  29,  13,  76,  39],\n",
              "       [234,  36,  78,  29,   9,  82],\n",
              "       [315,  92,  36,  59,  61,  67],\n",
              "       [442,  89,  95,  98,  83,  77],\n",
              "       [329,  53,  61,  52,  71,  92]])"
            ]
          },
          "metadata": {},
          "execution_count": 26
        }
      ]
    },
    {
      "cell_type": "code",
      "source": [
        "# Q-4: Flip given 2-D array along both axes at the same time.\n",
        "np.flip(a18)\n",
        "#np.flip(a18) would flip numpy array a18 along both the axis at the same time."
      ],
      "metadata": {
        "colab": {
          "base_uri": "https://localhost:8080/"
        },
        "id": "PHfbndMz3IGN",
        "outputId": "e653b45c-aa1e-4abd-cc92-ba4ddbe55d81"
      },
      "execution_count": null,
      "outputs": [
        {
          "output_type": "execute_result",
          "data": {
            "text/plain": [
              "array([[329,  53,  61,  52,  71,  92],\n",
              "       [442,  89,  95,  98,  83,  77],\n",
              "       [315,  92,  36,  59,  61,  67],\n",
              "       [234,  36,  78,  29,   9,  82],\n",
              "       [229,  72,  29,  13,  76,  39],\n",
              "       [328,  87,  42,  90,  46,  63],\n",
              "       [106,  41,  33,   9,  10,  13]])"
            ]
          },
          "metadata": {},
          "execution_count": 27
        }
      ]
    },
    {
      "cell_type": "code",
      "source": [
        "# Q-5: Get row numbers of NumPy array having element larger than X.\n",
        "import numpy as np\n",
        "arr =np.array([[1,2,3,4,5],\n",
        "      [10,-3,30,4,5],\n",
        "      [3,2,5,-4,5],\n",
        "      [9,7,3,6,5]])\n",
        "\n",
        "X = 6\n",
        "np.unique(np.where(arr>X)[0])"
      ],
      "metadata": {
        "colab": {
          "base_uri": "https://localhost:8080/"
        },
        "id": "nfhEieLNsGGf",
        "outputId": "aa780f8c-c79e-47b9-d032-a5d48051d93c"
      },
      "execution_count": null,
      "outputs": [
        {
          "output_type": "execute_result",
          "data": {
            "text/plain": [
              "array([1, 3])"
            ]
          },
          "metadata": {},
          "execution_count": 6
        }
      ]
    },
    {
      "cell_type": "code",
      "source": [
        "# Q-6: How to convert an array of arrays into a flat 1d array?\n",
        "import numpy as np\n",
        "arr1 = np.arange(3)\n",
        "arr2 = np.arange(3,7)\n",
        "arr3 = np.arange(7,10)\n",
        "np.hstack((arr1,arr2,arr3))\n",
        "#As you can see concatenate() and append() function works with only 2 arrays whereas vstack() function and hstack() function works with\n",
        "#multiple arrays."
      ],
      "metadata": {
        "colab": {
          "base_uri": "https://localhost:8080/"
        },
        "id": "mTMtmwSQvjtG",
        "outputId": "c416a942-e2e5-470f-a16b-e8520f3f6cf5"
      },
      "execution_count": null,
      "outputs": [
        {
          "output_type": "execute_result",
          "data": {
            "text/plain": [
              "array([0, 1, 2, 3, 4, 5, 6, 7, 8, 9])"
            ]
          },
          "metadata": {},
          "execution_count": 6
        }
      ]
    },
    {
      "cell_type": "code",
      "source": [
        "np.delete(arr1,1)"
      ],
      "metadata": {
        "colab": {
          "base_uri": "https://localhost:8080/"
        },
        "id": "Brn6PihGGFy8",
        "outputId": "984b57e6-460f-4459-cf44-8567e5d35acc"
      },
      "execution_count": null,
      "outputs": [
        {
          "output_type": "execute_result",
          "data": {
            "text/plain": [
              "array([0, 2])"
            ]
          },
          "metadata": {},
          "execution_count": 3
        }
      ]
    },
    {
      "cell_type": "code",
      "source": [
        "np.max(arr1)"
      ],
      "metadata": {
        "colab": {
          "base_uri": "https://localhost:8080/"
        },
        "id": "8LPBSY5zGtZ_",
        "outputId": "7b82e01e-aaeb-45c6-e946-4778a049f168"
      },
      "execution_count": null,
      "outputs": [
        {
          "output_type": "execute_result",
          "data": {
            "text/plain": [
              "2"
            ]
          },
          "metadata": {},
          "execution_count": 4
        }
      ]
    },
    {
      "cell_type": "code",
      "source": [
        "np.min(arr1)"
      ],
      "metadata": {
        "colab": {
          "base_uri": "https://localhost:8080/"
        },
        "id": "r817TN2bGwxR",
        "outputId": "8a6c5a00-ec27-423c-c61a-cd8fa2cc6cff"
      },
      "execution_count": null,
      "outputs": [
        {
          "output_type": "execute_result",
          "data": {
            "text/plain": [
              "0"
            ]
          },
          "metadata": {},
          "execution_count": 5
        }
      ]
    },
    {
      "cell_type": "code",
      "source": [
        "# Q-7: You are given a array. You have to find the minimum and maximum array element and remove that from the array.\n",
        "import numpy as np\n",
        "\n",
        "np.random.seed(400)\n",
        "arr = np.random.randint(100, 1000, 200).reshape((1, 200))\n",
        "arr"
      ],
      "metadata": {
        "colab": {
          "base_uri": "https://localhost:8080/"
        },
        "id": "OECecG0ZGztl",
        "outputId": "d6820c20-bdeb-41c6-e91b-bf189c3480b6"
      },
      "execution_count": null,
      "outputs": [
        {
          "output_type": "execute_result",
          "data": {
            "text/plain": [
              "array([[448, 563, 418, 240, 507, 362, 345, 236, 719, 291, 298, 639, 458,\n",
              "        387, 262, 613, 267, 882, 181, 425, 790, 635, 889, 818, 872, 967,\n",
              "        277, 470, 336, 920, 917, 295, 557, 830, 506, 385, 353, 975, 592,\n",
              "        997, 137, 340, 222, 215, 472, 459, 617, 649, 935, 956, 914, 932,\n",
              "        645, 952, 921, 490, 527, 972, 278, 307, 840, 958, 246, 449, 251,\n",
              "        957, 103, 627, 920, 824, 356, 825, 173, 323, 372, 960, 710, 464,\n",
              "        244, 782, 763, 635, 436, 774, 171, 469, 178, 458, 624, 211, 771,\n",
              "        270, 308, 231, 952, 514, 699, 702, 433, 900, 373, 318, 998, 265,\n",
              "        503, 320, 230, 324, 922, 967, 620, 743, 527, 117, 566, 804, 123,\n",
              "        946, 587, 227, 853, 757, 944, 328, 855, 930, 325, 729, 426, 514,\n",
              "        296, 879, 575, 936, 705, 209, 191, 743, 510, 513, 628, 559, 658,\n",
              "        528, 395, 525, 922, 136, 496, 225, 895, 975, 263, 908, 420, 711,\n",
              "        800, 976, 786, 235, 930, 859, 618, 226, 695, 460, 218, 483, 490,\n",
              "        803, 621, 453, 193, 607, 677, 637, 728, 724, 534, 748, 291, 194,\n",
              "        761, 875, 687, 569, 228, 482, 781, 554, 654, 739, 885, 197, 266,\n",
              "        228, 892, 207, 883, 588]])"
            ]
          },
          "metadata": {},
          "execution_count": 7
        }
      ]
    },
    {
      "cell_type": "code",
      "source": [
        "np.delete(arr1,(1,2))"
      ],
      "metadata": {
        "colab": {
          "base_uri": "https://localhost:8080/"
        },
        "id": "wTGcjqPuJ0Ra",
        "outputId": "eadf77e8-6d8b-4cd1-8f27-2bf0f463c1ea"
      },
      "execution_count": null,
      "outputs": [
        {
          "output_type": "execute_result",
          "data": {
            "text/plain": [
              "array([0])"
            ]
          },
          "metadata": {},
          "execution_count": 8
        }
      ]
    },
    {
      "cell_type": "code",
      "source": [
        "np.max(arr)"
      ],
      "metadata": {
        "colab": {
          "base_uri": "https://localhost:8080/"
        },
        "id": "OGVoclWfKDxW",
        "outputId": "05d0a698-c5da-4739-a132-9b8abf071f0f"
      },
      "execution_count": null,
      "outputs": [
        {
          "output_type": "execute_result",
          "data": {
            "text/plain": [
              "998"
            ]
          },
          "metadata": {},
          "execution_count": 10
        }
      ]
    },
    {
      "cell_type": "code",
      "source": [
        "np.min(arr)"
      ],
      "metadata": {
        "colab": {
          "base_uri": "https://localhost:8080/"
        },
        "id": "Vr5-GZywKZoU",
        "outputId": "024a2ed5-a70c-4de5-c65e-3f88aaa62aa1"
      },
      "execution_count": null,
      "outputs": [
        {
          "output_type": "execute_result",
          "data": {
            "text/plain": [
              "103"
            ]
          },
          "metadata": {},
          "execution_count": 11
        }
      ]
    },
    {
      "cell_type": "code",
      "source": [
        "arr[np.where(arr==np.max(arr))][0]"
      ],
      "metadata": {
        "colab": {
          "base_uri": "https://localhost:8080/"
        },
        "id": "pD10ULX7KcVH",
        "outputId": "de2ac664-a920-4b2c-b564-73b12dfa985c"
      },
      "execution_count": null,
      "outputs": [
        {
          "output_type": "execute_result",
          "data": {
            "text/plain": [
              "998"
            ]
          },
          "metadata": {},
          "execution_count": 16
        }
      ]
    },
    {
      "cell_type": "code",
      "source": [
        "arr[np.where(arr==np.min(arr))][0]"
      ],
      "metadata": {
        "colab": {
          "base_uri": "https://localhost:8080/"
        },
        "id": "HdYuk9K7NjZR",
        "outputId": "287cba18-6528-407d-ca64-ac5f6f30ab23"
      },
      "execution_count": null,
      "outputs": [
        {
          "output_type": "execute_result",
          "data": {
            "text/plain": [
              "103"
            ]
          },
          "metadata": {},
          "execution_count": 19
        }
      ]
    },
    {
      "cell_type": "code",
      "source": [
        "np.delete(arr,(np.where(arr==np.max(arr)),np.where(arr==np.min(arr))))"
      ],
      "metadata": {
        "colab": {
          "base_uri": "https://localhost:8080/"
        },
        "id": "VbhbG_MbNufg",
        "outputId": "118ce2ea-45b7-4b93-c534-f0971dce2cc5"
      },
      "execution_count": null,
      "outputs": [
        {
          "output_type": "execute_result",
          "data": {
            "text/plain": [
              "array([563, 418, 240, 507, 362, 345, 236, 719, 291, 298, 639, 458, 387,\n",
              "       262, 613, 267, 882, 181, 425, 790, 635, 889, 818, 872, 967, 277,\n",
              "       470, 336, 920, 917, 295, 557, 830, 506, 385, 353, 975, 592, 997,\n",
              "       137, 340, 222, 215, 472, 459, 617, 649, 935, 956, 914, 932, 645,\n",
              "       952, 921, 490, 527, 972, 278, 307, 840, 958, 246, 449, 251, 957,\n",
              "       627, 920, 824, 356, 825, 173, 323, 372, 960, 710, 464, 244, 782,\n",
              "       763, 635, 436, 774, 171, 469, 178, 458, 624, 211, 771, 270, 308,\n",
              "       231, 952, 514, 699, 702, 433, 900, 373, 318, 265, 503, 320, 230,\n",
              "       324, 922, 967, 620, 743, 527, 117, 566, 804, 123, 946, 587, 227,\n",
              "       853, 757, 944, 328, 855, 930, 325, 729, 426, 514, 296, 879, 575,\n",
              "       936, 705, 209, 191, 743, 510, 513, 628, 559, 658, 528, 395, 525,\n",
              "       922, 136, 496, 225, 895, 975, 263, 908, 420, 711, 800, 976, 786,\n",
              "       235, 930, 859, 618, 226, 695, 460, 218, 483, 490, 803, 621, 453,\n",
              "       193, 607, 677, 637, 728, 724, 534, 748, 291, 194, 761, 875, 687,\n",
              "       569, 228, 482, 781, 554, 654, 739, 885, 197, 266, 228, 892, 207,\n",
              "       883, 588])"
            ]
          },
          "metadata": {},
          "execution_count": 22
        }
      ]
    },
    {
      "cell_type": "code",
      "source": [
        "np.where(arr==np.max(arr))"
      ],
      "metadata": {
        "colab": {
          "base_uri": "https://localhost:8080/"
        },
        "id": "vP3n-tU9O8yL",
        "outputId": "70e250c2-904d-4d1b-cb25-249c8f1b550f"
      },
      "execution_count": null,
      "outputs": [
        {
          "output_type": "execute_result",
          "data": {
            "text/plain": [
              "(array([0]), array([102]))"
            ]
          },
          "metadata": {},
          "execution_count": 21
        }
      ]
    },
    {
      "cell_type": "code",
      "source": [
        "#Q-8: You are given an arrays. You have to limit this array's elements between 100 to 200.  arr∈[100,700] .\n",
        "# So replace those values accordingly with the minimum and maximum value.\n",
        "# Then sort the array and perform the cumulative sum of that array.\n",
        "import numpy as np\n",
        "a11=np.random.randint(100,701,40)\n",
        "a11"
      ],
      "metadata": {
        "colab": {
          "base_uri": "https://localhost:8080/"
        },
        "id": "79jdA73wT1mq",
        "outputId": "defd0c6c-ed9a-46a2-a371-6537897e7165"
      },
      "execution_count": null,
      "outputs": [
        {
          "output_type": "execute_result",
          "data": {
            "text/plain": [
              "array([674, 218, 153, 146, 261, 669, 454, 367, 661, 564, 573, 491, 123,\n",
              "       384, 237, 163, 624, 640, 589, 130, 471, 103, 110, 340, 129, 463,\n",
              "       443, 524, 197, 523, 662, 571, 637, 102, 562, 441, 416, 121, 340,\n",
              "       640])"
            ]
          },
          "metadata": {},
          "execution_count": 27
        }
      ]
    },
    {
      "cell_type": "code",
      "source": [
        "a11=np.clip(a11,a_min=100,a_max=200)\n",
        "a11"
      ],
      "metadata": {
        "colab": {
          "base_uri": "https://localhost:8080/"
        },
        "id": "RYlopdnBX321",
        "outputId": "df136926-2911-4681-9b6f-b7bfaa968359"
      },
      "execution_count": null,
      "outputs": [
        {
          "output_type": "execute_result",
          "data": {
            "text/plain": [
              "array([200, 200, 153, 146, 200, 200, 200, 200, 200, 200, 200, 200, 123,\n",
              "       200, 200, 163, 200, 200, 200, 130, 200, 103, 110, 200, 129, 200,\n",
              "       200, 200, 197, 200, 200, 200, 200, 102, 200, 200, 200, 121, 200,\n",
              "       200])"
            ]
          },
          "metadata": {},
          "execution_count": 30
        }
      ]
    },
    {
      "cell_type": "code",
      "source": [
        "a11=np.sort(a11)\n",
        "a11"
      ],
      "metadata": {
        "colab": {
          "base_uri": "https://localhost:8080/"
        },
        "id": "vmhJCdkfYToh",
        "outputId": "2d3f1379-fa7f-458b-9665-f1e96f9759c3"
      },
      "execution_count": null,
      "outputs": [
        {
          "output_type": "execute_result",
          "data": {
            "text/plain": [
              "array([102, 103, 110, 121, 123, 129, 130, 146, 153, 163, 197, 200, 200,\n",
              "       200, 200, 200, 200, 200, 200, 200, 200, 200, 200, 200, 200, 200,\n",
              "       200, 200, 200, 200, 200, 200, 200, 200, 200, 200, 200, 200, 200,\n",
              "       200])"
            ]
          },
          "metadata": {},
          "execution_count": 32
        }
      ]
    },
    {
      "cell_type": "code",
      "source": [
        "np.cumsum(a11)"
      ],
      "metadata": {
        "colab": {
          "base_uri": "https://localhost:8080/"
        },
        "id": "1aNG2IY-boC6",
        "outputId": "d042c645-9d3e-4372-f202-5250b805c4b0"
      },
      "execution_count": null,
      "outputs": [
        {
          "output_type": "execute_result",
          "data": {
            "text/plain": [
              "array([ 102,  205,  315,  436,  559,  688,  818,  964, 1117, 1280, 1477,\n",
              "       1677, 1877, 2077, 2277, 2477, 2677, 2877, 3077, 3277, 3477, 3677,\n",
              "       3877, 4077, 4277, 4477, 4677, 4877, 5077, 5277, 5477, 5677, 5877,\n",
              "       6077, 6277, 6477, 6677, 6877, 7077, 7277])"
            ]
          },
          "metadata": {},
          "execution_count": 33
        }
      ]
    },
    {
      "cell_type": "code",
      "source": [
        "np.round(1.324556,3)"
      ],
      "metadata": {
        "colab": {
          "base_uri": "https://localhost:8080/"
        },
        "id": "i7Yn20xcbunF",
        "outputId": "5b592923-8363-44a6-f55e-4a935277d58f"
      },
      "execution_count": null,
      "outputs": [
        {
          "output_type": "execute_result",
          "data": {
            "text/plain": [
              "1.325"
            ]
          },
          "metadata": {},
          "execution_count": 34
        }
      ]
    },
    {
      "cell_type": "code",
      "source": [
        "import numpy as np\n",
        "a11=np.random.random(24)\n",
        "a11\n",
        "#np.random.random() function only outputs values between 0 and 1."
      ],
      "metadata": {
        "colab": {
          "base_uri": "https://localhost:8080/"
        },
        "id": "hb6GsmMO08O7",
        "outputId": "100044e5-23ee-4e24-fd1b-ef4b32b278ac"
      },
      "execution_count": null,
      "outputs": [
        {
          "output_type": "execute_result",
          "data": {
            "text/plain": [
              "array([0.27644185, 0.11724111, 0.35354801, 0.26724237, 0.36020063,\n",
              "       0.60563568, 0.7098525 , 0.29562449, 0.98965341, 0.37738563,\n",
              "       0.02746849, 0.32522979, 0.75704123, 0.91078487, 0.1023893 ,\n",
              "       0.02533703, 0.65164466, 0.65474876, 0.61894461, 0.92026453,\n",
              "       0.78433274, 0.40815046, 0.34940581, 0.58076077])"
            ]
          },
          "metadata": {},
          "execution_count": 2
        }
      ]
    },
    {
      "cell_type": "code",
      "source": [
        "# Q-9: You are given a array ( arr∈[0,1] ). First you have round off the elements upto 3 decimal places and compare that\n",
        "#find the difference betwen 51th percenile and 50th percentile values\n",
        "a11=np.round(a11,3)\n",
        "a11"
      ],
      "metadata": {
        "colab": {
          "base_uri": "https://localhost:8080/"
        },
        "id": "UdbR-Bx11gMw",
        "outputId": "82ba3bc5-b38c-47c9-d71b-0904908a3a8e"
      },
      "execution_count": null,
      "outputs": [
        {
          "output_type": "execute_result",
          "data": {
            "text/plain": [
              "array([0.276, 0.117, 0.354, 0.267, 0.36 , 0.606, 0.71 , 0.296, 0.99 ,\n",
              "       0.377, 0.027, 0.325, 0.757, 0.911, 0.102, 0.025, 0.652, 0.655,\n",
              "       0.619, 0.92 , 0.784, 0.408, 0.349, 0.581])"
            ]
          },
          "metadata": {},
          "execution_count": 5
        }
      ]
    },
    {
      "cell_type": "code",
      "source": [
        "np.percentile(a11,100)"
      ],
      "metadata": {
        "colab": {
          "base_uri": "https://localhost:8080/"
        },
        "id": "5g4XBbJm5x6J",
        "outputId": "8b3c30c9-4058-42fe-b98a-d94338174c74"
      },
      "execution_count": null,
      "outputs": [
        {
          "output_type": "execute_result",
          "data": {
            "text/plain": [
              "0.99"
            ]
          },
          "metadata": {},
          "execution_count": 6
        }
      ]
    },
    {
      "cell_type": "code",
      "source": [
        "np.percentile(a11,51)-np.percentile(a11,50)"
      ],
      "metadata": {
        "colab": {
          "base_uri": "https://localhost:8080/"
        },
        "id": "F_GbI2dm7S41",
        "outputId": "ae14d81c-d694-4771-ca3d-b952eff1f0d0"
      },
      "execution_count": null,
      "outputs": [
        {
          "output_type": "execute_result",
          "data": {
            "text/plain": [
              "0.007130000000000025"
            ]
          },
          "metadata": {},
          "execution_count": 7
        }
      ]
    },
    {
      "cell_type": "code",
      "source": [
        "# Q-1: Create a random 3x4 matrix with value between 0-100. And perform below tasks\n",
        "# 1(i)\n",
        "import numpy as np\n",
        "a11=np.array([[92, 90, 74],\n",
        "    [ 6, 63, 93],\n",
        "    [15, 93, 96],\n",
        "    [70, 60, 48]])\n",
        "a11"
      ],
      "metadata": {
        "colab": {
          "base_uri": "https://localhost:8080/"
        },
        "id": "cDgWeKzV8AZr",
        "outputId": "b043668e-ed80-445d-ce1f-bd2dc79805f9"
      },
      "execution_count": null,
      "outputs": [
        {
          "output_type": "execute_result",
          "data": {
            "text/plain": [
              "array([[92, 90, 74],\n",
              "       [ 6, 63, 93],\n",
              "       [15, 93, 96],\n",
              "       [70, 60, 48]])"
            ]
          },
          "metadata": {},
          "execution_count": 3
        }
      ]
    },
    {
      "cell_type": "code",
      "source": [
        "#1(i). Sort each row\n",
        "np.sort(a11,axis=1)"
      ],
      "metadata": {
        "colab": {
          "base_uri": "https://localhost:8080/"
        },
        "id": "SvCP4j10ABJr",
        "outputId": "6e3893de-ea43-45d0-fec1-a0e9ff7a726b"
      },
      "execution_count": null,
      "outputs": [
        {
          "output_type": "execute_result",
          "data": {
            "text/plain": [
              "array([[74, 90, 92],\n",
              "       [ 6, 63, 93],\n",
              "       [15, 93, 96],\n",
              "       [48, 60, 70]])"
            ]
          },
          "metadata": {},
          "execution_count": 9
        }
      ]
    },
    {
      "cell_type": "code",
      "source": [
        "# 1(ii). Sorting based on second column.\n",
        "a12=np.argsort(a11[:,1])\n",
        "a11[a12]"
      ],
      "metadata": {
        "colab": {
          "base_uri": "https://localhost:8080/"
        },
        "id": "kcXVywn_DyEM",
        "outputId": "6ba069fe-7cfc-4ebe-b6d4-27a12367eac5"
      },
      "execution_count": null,
      "outputs": [
        {
          "output_type": "execute_result",
          "data": {
            "text/plain": [
              "array([[70, 60, 48],\n",
              "       [ 6, 63, 93],\n",
              "       [92, 90, 74],\n",
              "       [15, 93, 96]])"
            ]
          },
          "metadata": {},
          "execution_count": 10
        }
      ]
    },
    {
      "cell_type": "code",
      "source": [
        "#1(iii).Based on max value in each row.\n",
        "import numpy as np\n",
        "np.argmax(a11,axis=1)"
      ],
      "metadata": {
        "colab": {
          "base_uri": "https://localhost:8080/"
        },
        "id": "OocjpuOREYog",
        "outputId": "865a5397-1fff-4f47-cc57-dd98799b9e12"
      },
      "execution_count": null,
      "outputs": [
        {
          "output_type": "execute_result",
          "data": {
            "text/plain": [
              "array([0, 2, 2, 0])"
            ]
          },
          "metadata": {},
          "execution_count": 4
        }
      ]
    },
    {
      "cell_type": "code",
      "source": [
        "a11"
      ],
      "metadata": {
        "colab": {
          "base_uri": "https://localhost:8080/"
        },
        "id": "uNVpcYleggFE",
        "outputId": "52612bc2-6193-400f-eed0-9308d9847468"
      },
      "execution_count": null,
      "outputs": [
        {
          "output_type": "execute_result",
          "data": {
            "text/plain": [
              "array([[92, 90, 74],\n",
              "       [ 6, 63, 93],\n",
              "       [15, 93, 96],\n",
              "       [70, 60, 48]])"
            ]
          },
          "metadata": {},
          "execution_count": 5
        }
      ]
    },
    {
      "cell_type": "code",
      "source": [
        "#sorting based on max values in each row.\n",
        "a11[np.argsort(a11[np.arange(len(a11)),np.argmax(a11,axis=1)])[::-1]]"
      ],
      "metadata": {
        "colab": {
          "base_uri": "https://localhost:8080/"
        },
        "id": "bMj-rB-ll3Hq",
        "outputId": "423162e1-7582-4b32-e8b2-f1f211174d81"
      },
      "execution_count": null,
      "outputs": [
        {
          "output_type": "execute_result",
          "data": {
            "text/plain": [
              "array([[15, 93, 96],\n",
              "       [ 6, 63, 93],\n",
              "       [92, 90, 74],\n",
              "       [70, 60, 48]])"
            ]
          },
          "metadata": {},
          "execution_count": 11
        }
      ]
    },
    {
      "cell_type": "code",
      "source": [
        "#1(iv). Sorting based on element values.\n",
        "np.sort(a11.flatten()).reshape(a11.shape)"
      ],
      "metadata": {
        "colab": {
          "base_uri": "https://localhost:8080/"
        },
        "id": "rTyCv3gHnj5M",
        "outputId": "7f6b77f4-b1eb-44e9-81bd-99772c9291c4"
      },
      "execution_count": null,
      "outputs": [
        {
          "output_type": "execute_result",
          "data": {
            "text/plain": [
              "array([[ 6, 15, 48],\n",
              "       [60, 63, 70],\n",
              "       [74, 90, 92],\n",
              "       [93, 93, 96]])"
            ]
          },
          "metadata": {},
          "execution_count": 14
        }
      ]
    },
    {
      "cell_type": "code",
      "source": [
        "# Q-2: There is an array of marks of 5 students in 4 subjects. Further you are asked to perform below task.\n",
        "# i. Add marks every student of an extra subject in the same array.\n",
        "import numpy as np\n",
        "marks = np.array([[13, 10,  9, 33],\n",
        "       [63, 46, 90, 42],\n",
        "       [39, 76, 13, 29],\n",
        "       [82,  9, 29, 78],\n",
        "       [67, 61, 59, 36]])\n",
        "\n",
        "extra_subject = [41, 87, 72, 36, 92]\n",
        "# Two extra students record-\n",
        "rec1 = [77, 83, 98, 95, 89]\n",
        "rec2 = [92, 71, 52, 61, 53]"
      ],
      "metadata": {
        "id": "aZpOVb_von3S"
      },
      "execution_count": null,
      "outputs": []
    },
    {
      "cell_type": "code",
      "source": [
        "extra_subject=np.array(extra_subject)\n",
        "a12=np.append(marks,extra_subject.reshape(extra_subject.shape[0],1),axis=1)\n",
        "a12"
      ],
      "metadata": {
        "colab": {
          "base_uri": "https://localhost:8080/"
        },
        "id": "7IuNfqyEqJay",
        "outputId": "7f8f7641-4abf-4dc4-ba87-dda162cb6f02"
      },
      "execution_count": null,
      "outputs": [
        {
          "output_type": "execute_result",
          "data": {
            "text/plain": [
              "array([[13, 10,  9, 33, 41],\n",
              "       [63, 46, 90, 42, 87],\n",
              "       [39, 76, 13, 29, 72],\n",
              "       [82,  9, 29, 78, 36],\n",
              "       [67, 61, 59, 36, 92]])"
            ]
          },
          "metadata": {},
          "execution_count": 2
        }
      ]
    },
    {
      "cell_type": "code",
      "source": [
        "# 2 (ii) . Add two new students marks in respective 5 subjects.(one subject added in above task)\n",
        "rec1rec2=np.array([rec1,rec2])\n",
        "a12=np.append(a12,rec1rec2,axis=0)\n",
        "a12"
      ],
      "metadata": {
        "colab": {
          "base_uri": "https://localhost:8080/"
        },
        "id": "F6PEHKsls_ph",
        "outputId": "acfbfae1-6ec4-4a28-9138-457ac3c76058"
      },
      "execution_count": null,
      "outputs": [
        {
          "output_type": "execute_result",
          "data": {
            "text/plain": [
              "array([[13, 10,  9, 33, 41],\n",
              "       [63, 46, 90, 42, 87],\n",
              "       [39, 76, 13, 29, 72],\n",
              "       [82,  9, 29, 78, 36],\n",
              "       [67, 61, 59, 36, 92],\n",
              "       [77, 83, 98, 95, 89],\n",
              "       [92, 71, 52, 61, 53]])"
            ]
          },
          "metadata": {},
          "execution_count": 3
        }
      ]
    },
    {
      "cell_type": "code",
      "source": [
        "# 2 (iii) . Add extra column with sum of all subjects(5-subjects) marks\n",
        "a14=np.sum(a12,axis=1)\n",
        "a14\n",
        "a16=np.append(a12,a14.reshape(a14.shape[0],1),axis=1)\n",
        "a16"
      ],
      "metadata": {
        "colab": {
          "base_uri": "https://localhost:8080/"
        },
        "id": "OqHLctBAv7uX",
        "outputId": "140e2d90-007f-40b2-95c2-de39e8e2b460"
      },
      "execution_count": null,
      "outputs": [
        {
          "output_type": "execute_result",
          "data": {
            "text/plain": [
              "array([[ 13,  10,   9,  33,  41, 106],\n",
              "       [ 63,  46,  90,  42,  87, 328],\n",
              "       [ 39,  76,  13,  29,  72, 229],\n",
              "       [ 82,   9,  29,  78,  36, 234],\n",
              "       [ 67,  61,  59,  36,  92, 315],\n",
              "       [ 77,  83,  98,  95,  89, 442],\n",
              "       [ 92,  71,  52,  61,  53, 329]])"
            ]
          },
          "metadata": {},
          "execution_count": 6
        }
      ]
    },
    {
      "cell_type": "code",
      "source": [
        "# 2.iv. Sort the array(non-ascending order) on total marks column--one added in above task. Show top 2 rows.\n",
        "a17=np.argsort(a16[:,-1])[::-1]\n",
        "a16[a17][:2,:]\n",
        "#so, we get the top 2 rows as output as seen...."
      ],
      "metadata": {
        "colab": {
          "base_uri": "https://localhost:8080/"
        },
        "id": "F79lm6NlY77_",
        "outputId": "6b4370e6-80ba-4b10-8798-ab86474c6344"
      },
      "execution_count": null,
      "outputs": [
        {
          "output_type": "execute_result",
          "data": {
            "text/plain": [
              "array([[ 77,  83,  98,  95,  89, 442],\n",
              "       [ 92,  71,  52,  61,  53, 329]])"
            ]
          },
          "metadata": {},
          "execution_count": 9
        }
      ]
    },
    {
      "cell_type": "code",
      "source": [
        "# Q-3: Find unique arrays from a 2D array column wise and row wise.\n",
        "import numpy as np\n",
        "arr = np.array([[1,2,3,3,1,1],\n",
        "                [0,9,1,2,8,8],\n",
        "                [1,2,3,8,8,8],\n",
        "                [1,2,3,3,1,1]])\n",
        "#column-wise\n",
        "np.unique(arr,axis=1)"
      ],
      "metadata": {
        "colab": {
          "base_uri": "https://localhost:8080/"
        },
        "id": "doal0dQ6d1F1",
        "outputId": "6facfa44-f7ff-4e2b-a3ce-e9ca24fb3fa4"
      },
      "execution_count": null,
      "outputs": [
        {
          "output_type": "execute_result",
          "data": {
            "text/plain": [
              "array([[1, 1, 2, 3, 3],\n",
              "       [0, 8, 9, 1, 2],\n",
              "       [1, 8, 2, 3, 8],\n",
              "       [1, 1, 2, 3, 3]])"
            ]
          },
          "metadata": {},
          "execution_count": 10
        }
      ]
    },
    {
      "cell_type": "code",
      "source": [
        "#row-wise\n",
        "np.unique(arr,axis=0)"
      ],
      "metadata": {
        "colab": {
          "base_uri": "https://localhost:8080/"
        },
        "id": "WanGh9a7fJB_",
        "outputId": "58e18f6e-35e4-410e-ca56-762cfadfe44e"
      },
      "execution_count": null,
      "outputs": [
        {
          "output_type": "execute_result",
          "data": {
            "text/plain": [
              "array([[0, 9, 1, 2, 8, 8],\n",
              "       [1, 2, 3, 3, 1, 1],\n",
              "       [1, 2, 3, 8, 8, 8]])"
            ]
          },
          "metadata": {},
          "execution_count": 11
        }
      ]
    },
    {
      "cell_type": "code",
      "source": [
        "# Q-4: Flip given 2-D array along both axes at the same time.\n",
        "import numpy as np\n",
        "a11=np.random.randint(1,100,(8,5))\n",
        "a11"
      ],
      "metadata": {
        "colab": {
          "base_uri": "https://localhost:8080/"
        },
        "id": "HpzUKkr9g-Cz",
        "outputId": "976deda7-fe43-4a0a-8f3a-a8633407d39b"
      },
      "execution_count": null,
      "outputs": [
        {
          "output_type": "execute_result",
          "data": {
            "text/plain": [
              "array([[14, 98, 33, 44,  5],\n",
              "       [57, 88, 79, 98, 88],\n",
              "       [13, 53,  2, 39, 33],\n",
              "       [15, 78, 57, 16, 87],\n",
              "       [74, 13, 93, 42, 90],\n",
              "       [ 7, 86, 91, 34, 58],\n",
              "       [28, 17,  6, 65, 52],\n",
              "       [68, 55, 63,  9, 35]])"
            ]
          },
          "metadata": {},
          "execution_count": 12
        }
      ]
    },
    {
      "cell_type": "code",
      "source": [
        "np.flip(a11)"
      ],
      "metadata": {
        "colab": {
          "base_uri": "https://localhost:8080/"
        },
        "id": "FVzNUJSfjQ0j",
        "outputId": "e89a060b-2ef2-4e01-8dcb-a01f20eb7f9b"
      },
      "execution_count": null,
      "outputs": [
        {
          "output_type": "execute_result",
          "data": {
            "text/plain": [
              "array([[35,  9, 63, 55, 68],\n",
              "       [52, 65,  6, 17, 28],\n",
              "       [58, 34, 91, 86,  7],\n",
              "       [90, 42, 93, 13, 74],\n",
              "       [87, 16, 57, 78, 15],\n",
              "       [33, 39,  2, 53, 13],\n",
              "       [88, 98, 79, 88, 57],\n",
              "       [ 5, 44, 33, 98, 14]])"
            ]
          },
          "metadata": {},
          "execution_count": 13
        }
      ]
    },
    {
      "cell_type": "code",
      "source": [
        "# Q-5: Get row numbers of NumPy array having element larger than X.\n",
        "import numpy as np\n",
        "arr = np.array([[1,2,3,4,5],\n",
        "      [10,-3,30,4,5],\n",
        "      [3,2,5,-4,5],\n",
        "      [9,7,3,6,5]])\n",
        "\n",
        "X = 6\n",
        "np.unique(np.where(arr>X)[0])"
      ],
      "metadata": {
        "colab": {
          "base_uri": "https://localhost:8080/"
        },
        "id": "rpLATZvFjb6R",
        "outputId": "0ad80faf-f0b9-43bc-cd7c-8a9a7abb2731"
      },
      "execution_count": null,
      "outputs": [
        {
          "output_type": "execute_result",
          "data": {
            "text/plain": [
              "array([1, 3])"
            ]
          },
          "metadata": {},
          "execution_count": 16
        }
      ]
    },
    {
      "cell_type": "code",
      "source": [
        "# Q-6: How to convert an array of arrays into a flat 1d array?\n",
        "# These arrays are given.\n",
        "arr1 = np.arange(3)\n",
        "arr2 = np.arange(3,7)\n",
        "arr3 = np.arange(7,10)\n",
        "np.hstack((arr1,arr2,arr3))\n"
      ],
      "metadata": {
        "colab": {
          "base_uri": "https://localhost:8080/"
        },
        "id": "5-VmM2L4nchw",
        "outputId": "cd644f6b-6b7e-46f4-da77-8a58bf905ac4"
      },
      "execution_count": null,
      "outputs": [
        {
          "output_type": "execute_result",
          "data": {
            "text/plain": [
              "array([0, 1, 2, 3, 4, 5, 6, 7, 8, 9])"
            ]
          },
          "metadata": {},
          "execution_count": 17
        }
      ]
    },
    {
      "cell_type": "code",
      "source": [
        "# Q-7: You are given a array. You have to find the minimum and maximum array element and remove that from the array.\n",
        "import numpy as np\n",
        "\n",
        "np.random.seed(400)\n",
        "arr = np.random.randint(100, 1000, 200).reshape((1, 200))\n",
        "arr"
      ],
      "metadata": {
        "colab": {
          "base_uri": "https://localhost:8080/"
        },
        "id": "_eLotkWg59I4",
        "outputId": "704e3086-3213-459e-aeeb-d05e74701258"
      },
      "execution_count": null,
      "outputs": [
        {
          "output_type": "execute_result",
          "data": {
            "text/plain": [
              "array([[448, 563, 418, 240, 507, 362, 345, 236, 719, 291, 298, 639, 458,\n",
              "        387, 262, 613, 267, 882, 181, 425, 790, 635, 889, 818, 872, 967,\n",
              "        277, 470, 336, 920, 917, 295, 557, 830, 506, 385, 353, 975, 592,\n",
              "        997, 137, 340, 222, 215, 472, 459, 617, 649, 935, 956, 914, 932,\n",
              "        645, 952, 921, 490, 527, 972, 278, 307, 840, 958, 246, 449, 251,\n",
              "        957, 103, 627, 920, 824, 356, 825, 173, 323, 372, 960, 710, 464,\n",
              "        244, 782, 763, 635, 436, 774, 171, 469, 178, 458, 624, 211, 771,\n",
              "        270, 308, 231, 952, 514, 699, 702, 433, 900, 373, 318, 998, 265,\n",
              "        503, 320, 230, 324, 922, 967, 620, 743, 527, 117, 566, 804, 123,\n",
              "        946, 587, 227, 853, 757, 944, 328, 855, 930, 325, 729, 426, 514,\n",
              "        296, 879, 575, 936, 705, 209, 191, 743, 510, 513, 628, 559, 658,\n",
              "        528, 395, 525, 922, 136, 496, 225, 895, 975, 263, 908, 420, 711,\n",
              "        800, 976, 786, 235, 930, 859, 618, 226, 695, 460, 218, 483, 490,\n",
              "        803, 621, 453, 193, 607, 677, 637, 728, 724, 534, 748, 291, 194,\n",
              "        761, 875, 687, 569, 228, 482, 781, 554, 654, 739, 885, 197, 266,\n",
              "        228, 892, 207, 883, 588]])"
            ]
          },
          "metadata": {},
          "execution_count": 18
        }
      ]
    },
    {
      "cell_type": "code",
      "source": [
        "import numpy as np\n",
        "np.delete(arr,(np.where(np.max(arr)),np.where(np.min(arr))))"
      ],
      "metadata": {
        "colab": {
          "base_uri": "https://localhost:8080/"
        },
        "id": "m2qD6uoJ7YSM",
        "outputId": "860c5133-0001-40d3-c1c5-99ffac58d5d9"
      },
      "execution_count": null,
      "outputs": [
        {
          "output_type": "execute_result",
          "data": {
            "text/plain": [
              "array([563, 418, 240, 507, 362, 345, 236, 719, 291, 298, 639, 458, 387,\n",
              "       262, 613, 267, 882, 181, 425, 790, 635, 889, 818, 872, 967, 277,\n",
              "       470, 336, 920, 917, 295, 557, 830, 506, 385, 353, 975, 592, 997,\n",
              "       137, 340, 222, 215, 472, 459, 617, 649, 935, 956, 914, 932, 645,\n",
              "       952, 921, 490, 527, 972, 278, 307, 840, 958, 246, 449, 251, 957,\n",
              "       103, 627, 920, 824, 356, 825, 173, 323, 372, 960, 710, 464, 244,\n",
              "       782, 763, 635, 436, 774, 171, 469, 178, 458, 624, 211, 771, 270,\n",
              "       308, 231, 952, 514, 699, 702, 433, 900, 373, 318, 998, 265, 503,\n",
              "       320, 230, 324, 922, 967, 620, 743, 527, 117, 566, 804, 123, 946,\n",
              "       587, 227, 853, 757, 944, 328, 855, 930, 325, 729, 426, 514, 296,\n",
              "       879, 575, 936, 705, 209, 191, 743, 510, 513, 628, 559, 658, 528,\n",
              "       395, 525, 922, 136, 496, 225, 895, 975, 263, 908, 420, 711, 800,\n",
              "       976, 786, 235, 930, 859, 618, 226, 695, 460, 218, 483, 490, 803,\n",
              "       621, 453, 193, 607, 677, 637, 728, 724, 534, 748, 291, 194, 761,\n",
              "       875, 687, 569, 228, 482, 781, 554, 654, 739, 885, 197, 266, 228,\n",
              "       892, 207, 883, 588])"
            ]
          },
          "metadata": {},
          "execution_count": 20
        }
      ]
    },
    {
      "cell_type": "code",
      "source": [
        "np.where(np.delete(arr,(np.where(np.max(arr)),np.where(np.min(arr))))==998)"
      ],
      "metadata": {
        "colab": {
          "base_uri": "https://localhost:8080/"
        },
        "id": "QbBYMfFD-Brk",
        "outputId": "a1008818-cdda-4bf2-932f-87f8884eaded"
      },
      "execution_count": null,
      "outputs": [
        {
          "output_type": "execute_result",
          "data": {
            "text/plain": [
              "(array([101]),)"
            ]
          },
          "metadata": {},
          "execution_count": 21
        }
      ]
    },
    {
      "cell_type": "code",
      "source": [
        "np.where(arr==998)"
      ],
      "metadata": {
        "colab": {
          "base_uri": "https://localhost:8080/"
        },
        "id": "TX5k8jQY_ETj",
        "outputId": "d4f26a7e-02eb-4a82-ce27-a48a0f5a1c2b"
      },
      "execution_count": null,
      "outputs": [
        {
          "output_type": "execute_result",
          "data": {
            "text/plain": [
              "(array([0]), array([102]))"
            ]
          },
          "metadata": {},
          "execution_count": 22
        }
      ]
    },
    {
      "cell_type": "code",
      "source": [
        "np.max(arr)"
      ],
      "metadata": {
        "colab": {
          "base_uri": "https://localhost:8080/"
        },
        "id": "9b5EtRPAAcfJ",
        "outputId": "52eecae5-773b-4aef-de5e-8e5d3416b4c8"
      },
      "execution_count": null,
      "outputs": [
        {
          "output_type": "execute_result",
          "data": {
            "text/plain": [
              "998"
            ]
          },
          "metadata": {},
          "execution_count": 23
        }
      ]
    },
    {
      "cell_type": "code",
      "source": [
        "np.min(arr)"
      ],
      "metadata": {
        "colab": {
          "base_uri": "https://localhost:8080/"
        },
        "id": "vQ2FDZSJAh3q",
        "outputId": "5143edd1-8bd7-486d-9a2c-cd5052417fd4"
      },
      "execution_count": null,
      "outputs": [
        {
          "output_type": "execute_result",
          "data": {
            "text/plain": [
              "103"
            ]
          },
          "metadata": {},
          "execution_count": 24
        }
      ]
    },
    {
      "cell_type": "code",
      "source": [
        "np.where(np.delete(arr,(np.where(np.max(arr)),np.where(np.min(arr))))==103)"
      ],
      "metadata": {
        "colab": {
          "base_uri": "https://localhost:8080/"
        },
        "id": "y9ChFiiiAt1c",
        "outputId": "94a415cb-910a-4d56-efbe-e8dfeb208656"
      },
      "execution_count": null,
      "outputs": [
        {
          "output_type": "execute_result",
          "data": {
            "text/plain": [
              "(array([65]),)"
            ]
          },
          "metadata": {},
          "execution_count": 25
        }
      ]
    },
    {
      "cell_type": "code",
      "source": [
        "np.where(arr==103)"
      ],
      "metadata": {
        "colab": {
          "base_uri": "https://localhost:8080/"
        },
        "id": "Zv4wNnJfA3Up",
        "outputId": "51f03c0e-e062-45f7-e599-97608dfb8a95"
      },
      "execution_count": null,
      "outputs": [
        {
          "output_type": "execute_result",
          "data": {
            "text/plain": [
              "(array([0]), array([66]))"
            ]
          },
          "metadata": {},
          "execution_count": 26
        }
      ]
    },
    {
      "cell_type": "code",
      "source": [
        "# Q-8: You are given an arrays. You have to limit this array's elements between 100 to 200.  arr∈[100,700] .\n",
        "# So replace those values accordingly with the minimum and maximum value.\n",
        "# Then sort the array and perform the cumulative sum of that array.\n",
        "import numpy as np\n",
        "a11=np.random.randint(100,700,40)\n",
        "a11"
      ],
      "metadata": {
        "colab": {
          "base_uri": "https://localhost:8080/"
        },
        "id": "VaJVDERLBX3v",
        "outputId": "034fe4ac-9c22-486b-ab51-5cf384d2a5bb"
      },
      "execution_count": null,
      "outputs": [
        {
          "output_type": "execute_result",
          "data": {
            "text/plain": [
              "array([505, 381, 689, 427, 478, 573, 483, 394, 401, 223, 644, 249, 392,\n",
              "       454, 524, 282, 632, 300, 646, 249, 574, 157, 411, 133, 609, 340,\n",
              "       649, 456, 632, 544, 413, 131, 544, 232, 482, 410, 532, 471, 405,\n",
              "       100])"
            ]
          },
          "metadata": {},
          "execution_count": 28
        }
      ]
    },
    {
      "cell_type": "code",
      "source": [
        "np.cumsum(np.sort(np.clip(a11,a_min=100,a_max=200)))"
      ],
      "metadata": {
        "colab": {
          "base_uri": "https://localhost:8080/"
        },
        "id": "XwpFKaV_JxyF",
        "outputId": "e87c6ca1-45df-437f-b4f7-3a66b070c3d8"
      },
      "execution_count": null,
      "outputs": [
        {
          "output_type": "execute_result",
          "data": {
            "text/plain": [
              "array([ 100,  231,  364,  521,  721,  921, 1121, 1321, 1521, 1721, 1921,\n",
              "       2121, 2321, 2521, 2721, 2921, 3121, 3321, 3521, 3721, 3921, 4121,\n",
              "       4321, 4521, 4721, 4921, 5121, 5321, 5521, 5721, 5921, 6121, 6321,\n",
              "       6521, 6721, 6921, 7121, 7321, 7521, 7721])"
            ]
          },
          "metadata": {},
          "execution_count": 31
        }
      ]
    },
    {
      "cell_type": "code",
      "source": [
        "# Q-9: You are given a array ( arr∈[0,1] ). First you have round off the elements upto 3 decimal places and compare that\n",
        "import numpy as np\n",
        "a11=np.random.random(40)\n",
        "a11"
      ],
      "metadata": {
        "colab": {
          "base_uri": "https://localhost:8080/"
        },
        "id": "MhvGYPXvQb6t",
        "outputId": "be1a314e-885f-4e8b-de09-ef663d590786"
      },
      "execution_count": null,
      "outputs": [
        {
          "output_type": "execute_result",
          "data": {
            "text/plain": [
              "array([0.0791273 , 0.61180952, 0.2251835 , 0.6519617 , 0.21188297,\n",
              "       0.27860815, 0.62891927, 0.65918269, 0.0595746 , 0.39093509,\n",
              "       0.79314398, 0.84375631, 0.20283723, 0.21118453, 0.42349959,\n",
              "       0.13076533, 0.16936349, 0.61588919, 0.6453125 , 0.19106675,\n",
              "       0.35438916, 0.07456232, 0.31676966, 0.28762598, 0.58229407,\n",
              "       0.70700655, 0.96449153, 0.85457328, 0.49540394, 0.3966822 ,\n",
              "       0.20128261, 0.60698738, 0.87872164, 0.50614725, 0.50777372,\n",
              "       0.51948285, 0.80207045, 0.44892812, 0.01461995, 0.3389353 ])"
            ]
          },
          "metadata": {},
          "execution_count": 32
        }
      ]
    },
    {
      "cell_type": "code",
      "source": [
        "a11=np.round(a11,3)\n",
        "a11"
      ],
      "metadata": {
        "colab": {
          "base_uri": "https://localhost:8080/"
        },
        "id": "tnzZZZGNRLzT",
        "outputId": "d96f93b6-a61a-4928-8e02-cf2bbece316c"
      },
      "execution_count": null,
      "outputs": [
        {
          "output_type": "execute_result",
          "data": {
            "text/plain": [
              "array([0.079, 0.612, 0.225, 0.652, 0.212, 0.279, 0.629, 0.659, 0.06 ,\n",
              "       0.391, 0.793, 0.844, 0.203, 0.211, 0.423, 0.131, 0.169, 0.616,\n",
              "       0.645, 0.191, 0.354, 0.075, 0.317, 0.288, 0.582, 0.707, 0.964,\n",
              "       0.855, 0.495, 0.397, 0.201, 0.607, 0.879, 0.506, 0.508, 0.519,\n",
              "       0.802, 0.449, 0.015, 0.339])"
            ]
          },
          "metadata": {},
          "execution_count": 33
        }
      ]
    },
    {
      "cell_type": "code",
      "source": [
        "np.percentile(a11,51)-np.percentile(a11,50)"
      ],
      "metadata": {
        "colab": {
          "base_uri": "https://localhost:8080/"
        },
        "id": "uXNCEQHmRbdC",
        "outputId": "c7eaf14d-8023-453f-b19f-45125ff511eb"
      },
      "execution_count": null,
      "outputs": [
        {
          "output_type": "execute_result",
          "data": {
            "text/plain": [
              "0.010140000000000038"
            ]
          },
          "metadata": {},
          "execution_count": 34
        }
      ]
    },
    {
      "cell_type": "code",
      "source": [
        "import numpy as np\n",
        "arr =np.array([[92,90,74],\n",
        "    [6,63,93],\n",
        "    [15,93,96],\n",
        "    [70,60,48]])\n",
        "arr"
      ],
      "metadata": {
        "colab": {
          "base_uri": "https://localhost:8080/"
        },
        "id": "thsq5sqUXla2",
        "outputId": "7c4d2c43-1a8a-4e94-915f-51d84cd80cde"
      },
      "execution_count": null,
      "outputs": [
        {
          "output_type": "execute_result",
          "data": {
            "text/plain": [
              "array([[92, 90, 74],\n",
              "       [ 6, 63, 93],\n",
              "       [15, 93, 96],\n",
              "       [70, 60, 48]])"
            ]
          },
          "metadata": {},
          "execution_count": 35
        }
      ]
    },
    {
      "cell_type": "code",
      "source": [
        "#sorting each row\n",
        "np.sort(arr)"
      ],
      "metadata": {
        "colab": {
          "base_uri": "https://localhost:8080/"
        },
        "id": "vKa2qWJ5k4wQ",
        "outputId": "169eecd3-f104-49d6-c7ea-9f279cd1720c"
      },
      "execution_count": null,
      "outputs": [
        {
          "output_type": "execute_result",
          "data": {
            "text/plain": [
              "array([[74, 90, 92],\n",
              "       [ 6, 63, 93],\n",
              "       [15, 93, 96],\n",
              "       [48, 60, 70]])"
            ]
          },
          "metadata": {},
          "execution_count": 36
        }
      ]
    },
    {
      "cell_type": "code",
      "source": [
        "#1(ii). Sorting the matrix based on second column.\n",
        "arr[arr[:,1].argsort()]"
      ],
      "metadata": {
        "colab": {
          "base_uri": "https://localhost:8080/"
        },
        "id": "O543h_cKnSBL",
        "outputId": "be2bfb77-c923-487c-8495-08aac8498037"
      },
      "execution_count": null,
      "outputs": [
        {
          "output_type": "execute_result",
          "data": {
            "text/plain": [
              "array([[70, 60, 48],\n",
              "       [ 6, 63, 93],\n",
              "       [92, 90, 74],\n",
              "       [15, 93, 96]])"
            ]
          },
          "metadata": {},
          "execution_count": 37
        }
      ]
    },
    {
      "cell_type": "code",
      "source": [
        "#1(iii). Sort this matrix based on max value in each row.\n",
        "import numpy as np\n",
        "np.array(sorted(arr,key=lambda x:max(x)))"
      ],
      "metadata": {
        "colab": {
          "base_uri": "https://localhost:8080/"
        },
        "id": "4bNMVSqjodrZ",
        "outputId": "17c5de67-cd27-4842-8ba4-b8c55f6b0eff"
      },
      "execution_count": null,
      "outputs": [
        {
          "output_type": "execute_result",
          "data": {
            "text/plain": [
              "array([[70, 60, 48],\n",
              "       [92, 90, 74],\n",
              "       [ 6, 63, 93],\n",
              "       [15, 93, 96]])"
            ]
          },
          "metadata": {},
          "execution_count": 39
        }
      ]
    },
    {
      "cell_type": "code",
      "source": [
        "students = [(\"Alice\", 22), (\"Bob\", 19), (\"Charlie\", 25), (\"David\", 20)]\n",
        "sorted(students,key=lambda x:x[1])\n",
        "#sorting now is done in this order...."
      ],
      "metadata": {
        "colab": {
          "base_uri": "https://localhost:8080/"
        },
        "id": "3IjxTlgAtSKa",
        "outputId": "fb3cdab5-8cd7-4f75-e033-1b13763d261b"
      },
      "execution_count": null,
      "outputs": [
        {
          "output_type": "execute_result",
          "data": {
            "text/plain": [
              "[('Bob', 19), ('David', 20), ('Alice', 22), ('Charlie', 25)]"
            ]
          },
          "metadata": {},
          "execution_count": 41
        }
      ]
    },
    {
      "cell_type": "code",
      "source": [
        "sorted(students,key=lambda x:x[1],reverse=True)"
      ],
      "metadata": {
        "colab": {
          "base_uri": "https://localhost:8080/"
        },
        "id": "-PGnnBZmtiTJ",
        "outputId": "a625c4c3-61ef-460c-9a82-07e24a551a59"
      },
      "execution_count": null,
      "outputs": [
        {
          "output_type": "execute_result",
          "data": {
            "text/plain": [
              "[('Charlie', 25), ('Alice', 22), ('David', 20), ('Bob', 19)]"
            ]
          },
          "metadata": {},
          "execution_count": 42
        }
      ]
    },
    {
      "cell_type": "code",
      "source": [
        "arr"
      ],
      "metadata": {
        "colab": {
          "base_uri": "https://localhost:8080/"
        },
        "id": "pF2bTNV4vyBx",
        "outputId": "875687ab-8fe5-4e59-f6ac-466d1a516f74"
      },
      "execution_count": null,
      "outputs": [
        {
          "output_type": "execute_result",
          "data": {
            "text/plain": [
              "array([[92, 90, 74],\n",
              "       [ 6, 63, 93],\n",
              "       [15, 93, 96],\n",
              "       [70, 60, 48]])"
            ]
          },
          "metadata": {},
          "execution_count": 43
        }
      ]
    },
    {
      "cell_type": "code",
      "source": [
        "import numpy as np\n",
        "print(np.array(sorted(arr,key=lambda x:max(x),reverse=True)))"
      ],
      "metadata": {
        "colab": {
          "base_uri": "https://localhost:8080/"
        },
        "id": "zpubaJ7lv0eg",
        "outputId": "62a5d58d-a623-4020-e7c3-23086f9aa17b"
      },
      "execution_count": null,
      "outputs": [
        {
          "output_type": "stream",
          "name": "stdout",
          "text": [
            "[[15 93 96]\n",
            " [ 6 63 93]\n",
            " [92 90 74]\n",
            " [70 60 48]]\n"
          ]
        }
      ]
    },
    {
      "cell_type": "code",
      "source": [
        "# 1.iv. Sort based on elements value.\n",
        "import numpy as np\n",
        "print(np.sort(arr,axis=None).reshape(arr.shape))"
      ],
      "metadata": {
        "colab": {
          "base_uri": "https://localhost:8080/"
        },
        "id": "YpkXa2bCzFjd",
        "outputId": "0c2113f2-ad74-46e5-96ca-84eb158469c2"
      },
      "execution_count": null,
      "outputs": [
        {
          "output_type": "stream",
          "name": "stdout",
          "text": [
            "[[ 6 15 48]\n",
            " [60 63 70]\n",
            " [74 90 92]\n",
            " [93 93 96]]\n"
          ]
        }
      ]
    },
    {
      "cell_type": "code",
      "source": [
        "# Q-2: There is an array of marks of 5 students in 4 subjects. Further you are asked to perform below task.\n",
        "# i. Add marks every student of an extra subject in the same array.\n",
        "marks = [[13, 10,  9, 33],\n",
        "       [63, 46, 90, 42],\n",
        "       [39, 76, 13, 29],\n",
        "       [82,  9, 29, 78],\n",
        "       [67, 61, 59, 36]]\n",
        "\n",
        "extra_subject = [41, 87, 72, 36, 92]\n",
        "# Two extra students record-\n",
        "rec1 = [77, 83, 98, 95, 89]\n",
        "rec2 = [92, 71, 52, 61, 53]"
      ],
      "metadata": {
        "id": "gjvyqKSP1-9o"
      },
      "execution_count": null,
      "outputs": []
    },
    {
      "cell_type": "code",
      "source": [
        "marks=np.array(marks)\n",
        "extra_subject=np.array(extra_subject).reshape(-1,1)\n",
        "marks=np.concatenate((marks,extra_subject),axis=1)\n",
        "marks"
      ],
      "metadata": {
        "colab": {
          "base_uri": "https://localhost:8080/"
        },
        "id": "VjQcp5eA7AcX",
        "outputId": "db4683e5-ad12-4ec8-bd5c-ba6675fd4235"
      },
      "execution_count": null,
      "outputs": [
        {
          "output_type": "execute_result",
          "data": {
            "text/plain": [
              "array([[13, 10,  9, 33, 41],\n",
              "       [63, 46, 90, 42, 87],\n",
              "       [39, 76, 13, 29, 72],\n",
              "       [82,  9, 29, 78, 36],\n",
              "       [67, 61, 59, 36, 92]])"
            ]
          },
          "metadata": {},
          "execution_count": 54
        }
      ]
    },
    {
      "cell_type": "code",
      "source": [
        "# ii. Add two new students marks in respective 5 subjects.(one subject added in above task)\n",
        "rec1=np.array(rec1).reshape(1,-1)\n",
        "rec2=np.array(rec2).reshape(1,-1)\n",
        "marks=np.concatenate([marks,rec1,rec2],axis=0)\n",
        "marks"
      ],
      "metadata": {
        "colab": {
          "base_uri": "https://localhost:8080/"
        },
        "id": "LZKhZc1o_6Yb",
        "outputId": "900f2de3-21c6-4186-c557-018e62674610"
      },
      "execution_count": null,
      "outputs": [
        {
          "output_type": "execute_result",
          "data": {
            "text/plain": [
              "array([[13, 10,  9, 33, 41],\n",
              "       [63, 46, 90, 42, 87],\n",
              "       [39, 76, 13, 29, 72],\n",
              "       [82,  9, 29, 78, 36],\n",
              "       [67, 61, 59, 36, 92],\n",
              "       [77, 83, 98, 95, 89],\n",
              "       [92, 71, 52, 61, 53]])"
            ]
          },
          "metadata": {},
          "execution_count": 55
        }
      ]
    },
    {
      "cell_type": "code",
      "source": [
        "# iii. Add extra column with sum of all subjects(5-subjects) marks\n",
        "sum_of_stud=marks.sum(axis=1)\n",
        "sum_of_stud\n",
        "#keepdims=True retains the dimension of the array even while doing operations were dimension is reduced"
      ],
      "metadata": {
        "colab": {
          "base_uri": "https://localhost:8080/"
        },
        "id": "PXLp8yJFCUW2",
        "outputId": "041d44a3-e16f-4ba3-eb3b-f718a5633ced"
      },
      "execution_count": null,
      "outputs": [
        {
          "output_type": "execute_result",
          "data": {
            "text/plain": [
              "array([106, 328, 229, 234, 315, 442, 329])"
            ]
          },
          "metadata": {},
          "execution_count": 59
        }
      ]
    },
    {
      "cell_type": "code",
      "source": [
        "sum_of_stud=marks.sum(axis=1,keepdims=True)\n",
        "sum_of_stud"
      ],
      "metadata": {
        "colab": {
          "base_uri": "https://localhost:8080/"
        },
        "id": "SGvaaqGAMiMj",
        "outputId": "a6f9ede8-de30-43e0-e49b-d952dba8e32c"
      },
      "execution_count": null,
      "outputs": [
        {
          "output_type": "execute_result",
          "data": {
            "text/plain": [
              "array([[106],\n",
              "       [328],\n",
              "       [229],\n",
              "       [234],\n",
              "       [315],\n",
              "       [442],\n",
              "       [329]])"
            ]
          },
          "metadata": {},
          "execution_count": 60
        }
      ]
    },
    {
      "cell_type": "code",
      "source": [
        "marks=np.concatenate((marks,sum_of_stud),axis=1)\n",
        "marks"
      ],
      "metadata": {
        "colab": {
          "base_uri": "https://localhost:8080/"
        },
        "id": "KmBZwzk0MusR",
        "outputId": "f943b20e-46eb-4365-85e8-6fca39ad9cbe"
      },
      "execution_count": null,
      "outputs": [
        {
          "output_type": "execute_result",
          "data": {
            "text/plain": [
              "array([[ 13,  10,   9,  33,  41, 106],\n",
              "       [ 63,  46,  90,  42,  87, 328],\n",
              "       [ 39,  76,  13,  29,  72, 229],\n",
              "       [ 82,   9,  29,  78,  36, 234],\n",
              "       [ 67,  61,  59,  36,  92, 315],\n",
              "       [ 77,  83,  98,  95,  89, 442],\n",
              "       [ 92,  71,  52,  61,  53, 329]])"
            ]
          },
          "metadata": {},
          "execution_count": 61
        }
      ]
    },
    {
      "cell_type": "code",
      "source": [
        "# iv. Sort the array(non-ascending order) on total marks column--one added in above task. Show top 2 rows.\n",
        "np.array(sorted(marks,key=lambda x:x[-1],reverse=True)[:2])"
      ],
      "metadata": {
        "colab": {
          "base_uri": "https://localhost:8080/"
        },
        "id": "XvHFt8HEM7r8",
        "outputId": "bdbfc8d9-766a-470f-9f69-cbce6dce0e86"
      },
      "execution_count": null,
      "outputs": [
        {
          "output_type": "execute_result",
          "data": {
            "text/plain": [
              "array([[ 77,  83,  98,  95,  89, 442],\n",
              "       [ 92,  71,  52,  61,  53, 329]])"
            ]
          },
          "metadata": {},
          "execution_count": 62
        }
      ]
    },
    {
      "cell_type": "code",
      "source": [
        "np.array(sorted(marks,key=lambda x:x[-1],reverse=True)[:2])"
      ],
      "metadata": {
        "colab": {
          "base_uri": "https://localhost:8080/"
        },
        "id": "S7jsmILsPAXq",
        "outputId": "b5d57962-1ffa-40ad-d927-e0e4ac795805"
      },
      "execution_count": null,
      "outputs": [
        {
          "output_type": "execute_result",
          "data": {
            "text/plain": [
              "array([[ 77,  83,  98,  95,  89, 442],\n",
              "       [ 92,  71,  52,  61,  53, 329]])"
            ]
          },
          "metadata": {},
          "execution_count": 63
        }
      ]
    },
    {
      "cell_type": "code",
      "source": [
        "# Q-3: Find unique arrays from a 2D array column wise and row wise.\n",
        "import numpy as np\n",
        "arr = np.array([[1,2,3,3,1,1],\n",
        "                [0,9,1,2,8,8],\n",
        "                [1,2,3,8,8,8],\n",
        "                [1,2,3,3,1,1]])\n",
        "np.unique(arr,axis=0)\n",
        "#Only unique rows are selected over here."
      ],
      "metadata": {
        "colab": {
          "base_uri": "https://localhost:8080/"
        },
        "id": "hs8fEsyjQQP_",
        "outputId": "62ddd20c-f885-42e4-b04c-692096190aac"
      },
      "execution_count": null,
      "outputs": [
        {
          "output_type": "execute_result",
          "data": {
            "text/plain": [
              "array([[0, 9, 1, 2, 8, 8],\n",
              "       [1, 2, 3, 3, 1, 1],\n",
              "       [1, 2, 3, 8, 8, 8]])"
            ]
          },
          "metadata": {},
          "execution_count": 2
        }
      ]
    },
    {
      "cell_type": "code",
      "source": [
        "#Only unique columns selected\n",
        "np.unique(arr,axis=1)"
      ],
      "metadata": {
        "colab": {
          "base_uri": "https://localhost:8080/"
        },
        "id": "DBlMxhYM0Z9e",
        "outputId": "1a8a30fa-1109-4a87-afe0-6456f2b5b280"
      },
      "execution_count": null,
      "outputs": [
        {
          "output_type": "execute_result",
          "data": {
            "text/plain": [
              "array([[1, 1, 2, 3, 3],\n",
              "       [0, 8, 9, 1, 2],\n",
              "       [1, 8, 2, 3, 8],\n",
              "       [1, 1, 2, 3, 3]])"
            ]
          },
          "metadata": {},
          "execution_count": 3
        }
      ]
    },
    {
      "cell_type": "code",
      "source": [
        "# Q-4: Flip given 2-D array along both axes at the same time.\n",
        "import numpy as np\n",
        "a11=np.random.randint(1,100,(8,5))\n",
        "a11"
      ],
      "metadata": {
        "colab": {
          "base_uri": "https://localhost:8080/"
        },
        "id": "DxsynAO01Ul5",
        "outputId": "b14ae152-b885-46ef-90db-8bdc513fe062"
      },
      "execution_count": null,
      "outputs": [
        {
          "output_type": "execute_result",
          "data": {
            "text/plain": [
              "array([[37, 27, 13, 30, 92],\n",
              "       [ 1, 85, 89, 42, 10],\n",
              "       [39, 53, 50, 78, 80],\n",
              "       [ 3, 95, 63, 27, 15],\n",
              "       [44,  5, 94, 19, 17],\n",
              "       [23, 83, 63, 82,  4],\n",
              "       [26, 64, 64, 36, 51],\n",
              "       [73, 30, 91,  6, 78]])"
            ]
          },
          "metadata": {},
          "execution_count": 4
        }
      ]
    },
    {
      "cell_type": "code",
      "source": [
        "np.flip(a11)"
      ],
      "metadata": {
        "colab": {
          "base_uri": "https://localhost:8080/"
        },
        "id": "afu9YqXo1tGv",
        "outputId": "1f5308df-f0d4-435b-955c-59f429d84d6e"
      },
      "execution_count": null,
      "outputs": [
        {
          "output_type": "execute_result",
          "data": {
            "text/plain": [
              "array([[78,  6, 91, 30, 73],\n",
              "       [51, 36, 64, 64, 26],\n",
              "       [ 4, 82, 63, 83, 23],\n",
              "       [17, 19, 94,  5, 44],\n",
              "       [15, 27, 63, 95,  3],\n",
              "       [80, 78, 50, 53, 39],\n",
              "       [10, 42, 89, 85,  1],\n",
              "       [92, 30, 13, 27, 37]])"
            ]
          },
          "metadata": {},
          "execution_count": 5
        }
      ]
    },
    {
      "cell_type": "code",
      "source": [
        "# Q-5: Get row numbers of NumPy array having element larger than X.\n",
        "import numpy as np\n",
        "arr =np.array([[1,2,3,4,5],\n",
        "      [10,-3,30,4,5],\n",
        "      [3,2,5,-4,5],\n",
        "      [9,7,3,6,5]])\n",
        "\n",
        "X = 6"
      ],
      "metadata": {
        "id": "RTtDtbLGJmqg"
      },
      "execution_count": null,
      "outputs": []
    },
    {
      "cell_type": "code",
      "source": [
        "arr>X"
      ],
      "metadata": {
        "colab": {
          "base_uri": "https://localhost:8080/"
        },
        "id": "tdUUu8QGRymF",
        "outputId": "4ee5aeee-73c6-44e9-dcc2-e5866d8c13c3"
      },
      "execution_count": null,
      "outputs": [
        {
          "output_type": "execute_result",
          "data": {
            "text/plain": [
              "array([[False, False, False, False, False],\n",
              "       [ True, False,  True, False, False],\n",
              "       [False, False, False, False, False],\n",
              "       [ True,  True, False, False, False]])"
            ]
          },
          "metadata": {},
          "execution_count": 8
        }
      ]
    },
    {
      "cell_type": "code",
      "source": [
        "np.any(arr>X,axis=1)\n",
        "#It returns the row with respect to which True is returned"
      ],
      "metadata": {
        "colab": {
          "base_uri": "https://localhost:8080/"
        },
        "id": "RRWPLumDTlJO",
        "outputId": "088daa92-74d5-415b-af23-252288782e1a"
      },
      "execution_count": null,
      "outputs": [
        {
          "output_type": "execute_result",
          "data": {
            "text/plain": [
              "array([False,  True, False,  True])"
            ]
          },
          "metadata": {},
          "execution_count": 11
        }
      ]
    },
    {
      "cell_type": "code",
      "source": [
        "np.where(np.any(arr>X,axis=1))[0]"
      ],
      "metadata": {
        "colab": {
          "base_uri": "https://localhost:8080/"
        },
        "id": "y4HxMy_cT4GJ",
        "outputId": "a6f22a3b-43ae-4260-c995-3ba142cc8361"
      },
      "execution_count": null,
      "outputs": [
        {
          "output_type": "execute_result",
          "data": {
            "text/plain": [
              "array([1, 3])"
            ]
          },
          "metadata": {},
          "execution_count": 13
        }
      ]
    },
    {
      "cell_type": "code",
      "source": [
        "# Q-6: How to convert an array of arrays into a flat 1d array?\n",
        "import numpy as np\n",
        "# These arrays are given.\n",
        "arr1 = np.arange(3)\n",
        "arr2 = np.arange(3,7)\n",
        "arr3 = np.arange(7,10)\n"
      ],
      "metadata": {
        "id": "6s4eK3tdUdZs"
      },
      "execution_count": null,
      "outputs": []
    },
    {
      "cell_type": "code",
      "source": [
        "np.concatenate((arr1,arr2,arr3))"
      ],
      "metadata": {
        "colab": {
          "base_uri": "https://localhost:8080/"
        },
        "id": "6Gxa8abpU2HK",
        "outputId": "8b130f16-6c4d-4919-c157-9d510f1f0115"
      },
      "execution_count": null,
      "outputs": [
        {
          "output_type": "execute_result",
          "data": {
            "text/plain": [
              "array([0, 1, 2, 3, 4, 5, 6, 7, 8, 9])"
            ]
          },
          "metadata": {},
          "execution_count": 16
        }
      ]
    },
    {
      "cell_type": "code",
      "source": [
        "import numpy as np\n",
        "\n",
        "# Example array\n",
        "arr = np.array([[1, 2, 3],\n",
        "                [4, 5, 6],\n",
        "                [7, 8, 9]])\n",
        "\n",
        "# Delete the second row (index 1)\n",
        "new_arr = np.delete(arr, 1, axis=0)\n",
        "\n",
        "print(\"Original Array:\")\n",
        "print(arr)\n",
        "\n",
        "print(\"\\nArray after deleting the second row:\")\n",
        "print(new_arr)\n"
      ],
      "metadata": {
        "colab": {
          "base_uri": "https://localhost:8080/"
        },
        "id": "n6Wro2thVFcO",
        "outputId": "dc827bd9-977c-4295-f7ce-a51442a06151"
      },
      "execution_count": null,
      "outputs": [
        {
          "output_type": "stream",
          "name": "stdout",
          "text": [
            "Original Array:\n",
            "[[1 2 3]\n",
            " [4 5 6]\n",
            " [7 8 9]]\n",
            "\n",
            "Array after deleting the second row:\n",
            "[[1 2 3]\n",
            " [7 8 9]]\n"
          ]
        }
      ]
    },
    {
      "cell_type": "code",
      "source": [
        "import numpy as np\n",
        "\n",
        "# Example 2D array\n",
        "matrix = np.array([[1, 2, 3],\n",
        "                   [4, 5, 6],\n",
        "                   [7, 8, 9]])\n",
        "\n",
        "# Find the index of the maximum value in the entire matrix\n",
        "max_index = np.argmax(matrix)\n",
        "\n",
        "print(\"Original Matrix:\")\n",
        "print(matrix)\n",
        "\n",
        "print(\"\\nIndex of Maximum Value:\", max_index)\n"
      ],
      "metadata": {
        "colab": {
          "base_uri": "https://localhost:8080/"
        },
        "id": "WU2i03tZYto1",
        "outputId": "8e2010c8-d120-4b4c-8526-9ab2bea65c57"
      },
      "execution_count": null,
      "outputs": [
        {
          "output_type": "stream",
          "name": "stdout",
          "text": [
            "Original Matrix:\n",
            "[[1 2 3]\n",
            " [4 5 6]\n",
            " [7 8 9]]\n",
            "\n",
            "Index of Maximum Value: 8\n"
          ]
        }
      ]
    },
    {
      "cell_type": "code",
      "source": [
        "matrix.argmax(axis=0)\n",
        "#"
      ],
      "metadata": {
        "colab": {
          "base_uri": "https://localhost:8080/"
        },
        "id": "aKlIDkjdaNVf",
        "outputId": "2a3c4eb4-76ed-4131-fbfd-e6ab768de208"
      },
      "execution_count": null,
      "outputs": [
        {
          "output_type": "execute_result",
          "data": {
            "text/plain": [
              "array([2, 2, 2])"
            ]
          },
          "metadata": {},
          "execution_count": 20
        }
      ]
    },
    {
      "cell_type": "code",
      "source": [
        "matrix.argmax(axis=1)"
      ],
      "metadata": {
        "colab": {
          "base_uri": "https://localhost:8080/"
        },
        "id": "QIP8O89baVn_",
        "outputId": "4d13ab69-1d47-4182-9d56-2449d290b818"
      },
      "execution_count": null,
      "outputs": [
        {
          "output_type": "execute_result",
          "data": {
            "text/plain": [
              "array([2, 2, 2])"
            ]
          },
          "metadata": {},
          "execution_count": 21
        }
      ]
    },
    {
      "cell_type": "code",
      "source": [
        "matrix.argmax()"
      ],
      "metadata": {
        "colab": {
          "base_uri": "https://localhost:8080/"
        },
        "id": "whHJPvuSagEX",
        "outputId": "1e5ad288-39f7-4289-9ffc-374f009d1ca6"
      },
      "execution_count": null,
      "outputs": [
        {
          "output_type": "execute_result",
          "data": {
            "text/plain": [
              "8"
            ]
          },
          "metadata": {},
          "execution_count": 22
        }
      ]
    },
    {
      "cell_type": "code",
      "source": [
        "import numpy as np\n",
        "a11=np.random.randint(1,100,(8,5))\n",
        "print(a11)\n",
        "print(a11.argmax())"
      ],
      "metadata": {
        "colab": {
          "base_uri": "https://localhost:8080/"
        },
        "id": "Slzqb8-qJD1T",
        "outputId": "63134c35-5cd5-44c8-dc8b-ed90e2df408f"
      },
      "execution_count": null,
      "outputs": [
        {
          "output_type": "stream",
          "name": "stdout",
          "text": [
            "[[62 68 64 45 96]\n",
            " [ 7 41 99 19 82]\n",
            " [70 30  3  7 97]\n",
            " [41 22  4 21 71]\n",
            " [67 68 74 36  6]\n",
            " [ 6 26 62 74 30]\n",
            " [88 68 66 58 89]\n",
            " [22 94 67 23 12]]\n",
            "7\n"
          ]
        }
      ]
    },
    {
      "cell_type": "code",
      "source": [
        "print(a11.argmin())\n",
        "#Both a11.argmax() function and a11.argmin() function flattens the array and then find the index of the maximum and minimum element and\n",
        "#outputs it."
      ],
      "metadata": {
        "colab": {
          "base_uri": "https://localhost:8080/"
        },
        "id": "DvVKSqCDKGvu",
        "outputId": "ce579d74-408e-4554-b4fc-f3d6ecca2433"
      },
      "execution_count": null,
      "outputs": [
        {
          "output_type": "stream",
          "name": "stdout",
          "text": [
            "12\n"
          ]
        }
      ]
    },
    {
      "cell_type": "code",
      "source": [
        "print(a11.argmax(axis=0))\n",
        "#a11.argmax(axis=0) function outputs the argument of maximum at each column."
      ],
      "metadata": {
        "colab": {
          "base_uri": "https://localhost:8080/"
        },
        "id": "q6tQEJW4KgSB",
        "outputId": "30a9f6df-89ce-4cf3-d718-c6367a0b6b42"
      },
      "execution_count": null,
      "outputs": [
        {
          "output_type": "stream",
          "name": "stdout",
          "text": [
            "[6 7 1 5 2]\n"
          ]
        }
      ]
    },
    {
      "cell_type": "code",
      "source": [
        "print(a11.argmin(axis=1))\n",
        "#a11.argmin(axis=1) function outputs the argument of minimum at each row"
      ],
      "metadata": {
        "colab": {
          "base_uri": "https://localhost:8080/"
        },
        "id": "vqtfzjnlZQ36",
        "outputId": "fba64e1b-b49b-4ce6-deb1-ba6fe3831027"
      },
      "execution_count": null,
      "outputs": [
        {
          "output_type": "stream",
          "name": "stdout",
          "text": [
            "[3 0 2 2 4 0 3 4]\n"
          ]
        }
      ]
    },
    {
      "cell_type": "code",
      "source": [
        "# Q-7: You are given a array. You have to find the minimum and maximum array element and remove that from the array.\n",
        "import numpy as np\n",
        "\n",
        "np.random.seed(400)\n",
        "arr = np.random.randint(100, 1000, 200).reshape((1, 200))\n",
        "arr"
      ],
      "metadata": {
        "colab": {
          "base_uri": "https://localhost:8080/"
        },
        "id": "0nFbdRbraOJZ",
        "outputId": "ef083012-a7cd-41fb-a4a0-be47542ff06b"
      },
      "execution_count": null,
      "outputs": [
        {
          "output_type": "execute_result",
          "data": {
            "text/plain": [
              "array([[448, 563, 418, 240, 507, 362, 345, 236, 719, 291, 298, 639, 458,\n",
              "        387, 262, 613, 267, 882, 181, 425, 790, 635, 889, 818, 872, 967,\n",
              "        277, 470, 336, 920, 917, 295, 557, 830, 506, 385, 353, 975, 592,\n",
              "        997, 137, 340, 222, 215, 472, 459, 617, 649, 935, 956, 914, 932,\n",
              "        645, 952, 921, 490, 527, 972, 278, 307, 840, 958, 246, 449, 251,\n",
              "        957, 103, 627, 920, 824, 356, 825, 173, 323, 372, 960, 710, 464,\n",
              "        244, 782, 763, 635, 436, 774, 171, 469, 178, 458, 624, 211, 771,\n",
              "        270, 308, 231, 952, 514, 699, 702, 433, 900, 373, 318, 998, 265,\n",
              "        503, 320, 230, 324, 922, 967, 620, 743, 527, 117, 566, 804, 123,\n",
              "        946, 587, 227, 853, 757, 944, 328, 855, 930, 325, 729, 426, 514,\n",
              "        296, 879, 575, 936, 705, 209, 191, 743, 510, 513, 628, 559, 658,\n",
              "        528, 395, 525, 922, 136, 496, 225, 895, 975, 263, 908, 420, 711,\n",
              "        800, 976, 786, 235, 930, 859, 618, 226, 695, 460, 218, 483, 490,\n",
              "        803, 621, 453, 193, 607, 677, 637, 728, 724, 534, 748, 291, 194,\n",
              "        761, 875, 687, 569, 228, 482, 781, 554, 654, 739, 885, 197, 266,\n",
              "        228, 892, 207, 883, 588]])"
            ]
          },
          "metadata": {},
          "execution_count": 7
        }
      ]
    },
    {
      "cell_type": "code",
      "source": [
        "arr.argmax()"
      ],
      "metadata": {
        "colab": {
          "base_uri": "https://localhost:8080/"
        },
        "id": "5JgbduubdD_j",
        "outputId": "a0af24eb-eebf-4b64-ed7c-8d60d018bb44"
      },
      "execution_count": null,
      "outputs": [
        {
          "output_type": "execute_result",
          "data": {
            "text/plain": [
              "102"
            ]
          },
          "metadata": {},
          "execution_count": 8
        }
      ]
    },
    {
      "cell_type": "code",
      "source": [
        "arr.argmin()"
      ],
      "metadata": {
        "colab": {
          "base_uri": "https://localhost:8080/"
        },
        "id": "dO7ILdrHdRYP",
        "outputId": "c7160972-6763-4c06-a56e-9fdc042488df"
      },
      "execution_count": null,
      "outputs": [
        {
          "output_type": "execute_result",
          "data": {
            "text/plain": [
              "66"
            ]
          },
          "metadata": {},
          "execution_count": 9
        }
      ]
    },
    {
      "cell_type": "code",
      "source": [
        "max_element=arr.argmax()\n",
        "min_element=arr.argmin()\n",
        "print(arr.max(),arr.min())\n",
        "arr=np.delete(arr,max_element,axis=1)\n",
        "arr=np.delete(arr,min_element,axis=1)\n",
        "print(arr.max(),arr.min())"
      ],
      "metadata": {
        "colab": {
          "base_uri": "https://localhost:8080/"
        },
        "id": "ObCwsPmFd3nE",
        "outputId": "fa8ef6d6-de88-4a62-dd7d-e8d128e3c26d"
      },
      "execution_count": null,
      "outputs": [
        {
          "output_type": "stream",
          "name": "stdout",
          "text": [
            "998 103\n",
            "997 117\n"
          ]
        }
      ]
    },
    {
      "cell_type": "code",
      "source": [
        "import numpy as np\n",
        "a11=np.random.randint(1,100,(4,5))\n",
        "a11"
      ],
      "metadata": {
        "colab": {
          "base_uri": "https://localhost:8080/"
        },
        "id": "b0Y7Y1ZDfs6V",
        "outputId": "a7aa65f6-5703-4edd-e533-6f6055e1bf81"
      },
      "execution_count": null,
      "outputs": [
        {
          "output_type": "execute_result",
          "data": {
            "text/plain": [
              "array([[22, 26, 78, 72, 76],\n",
              "       [90, 19,  6, 39, 46],\n",
              "       [40, 91, 33, 22, 37],\n",
              "       [ 7, 99, 41, 55, 21]])"
            ]
          },
          "metadata": {},
          "execution_count": 11
        }
      ]
    },
    {
      "cell_type": "code",
      "source": [
        "np.delete(a11,1,axis=1)\n",
        "#This deletes the second column."
      ],
      "metadata": {
        "colab": {
          "base_uri": "https://localhost:8080/"
        },
        "id": "EXGk70Itf79d",
        "outputId": "1d34f2c5-efbd-44f4-bc26-78c8f899959e"
      },
      "execution_count": null,
      "outputs": [
        {
          "output_type": "execute_result",
          "data": {
            "text/plain": [
              "array([[22, 78, 72, 76],\n",
              "       [90,  6, 39, 46],\n",
              "       [40, 33, 22, 37],\n",
              "       [ 7, 41, 55, 21]])"
            ]
          },
          "metadata": {},
          "execution_count": 13
        }
      ]
    },
    {
      "cell_type": "code",
      "source": [
        "np.delete(a11,1,axis=0)\n",
        "#This would delete the second row"
      ],
      "metadata": {
        "colab": {
          "base_uri": "https://localhost:8080/"
        },
        "id": "nneWIQ1ggn2h",
        "outputId": "83d40799-760d-4929-827d-916fa10fadf5"
      },
      "execution_count": null,
      "outputs": [
        {
          "output_type": "execute_result",
          "data": {
            "text/plain": [
              "array([[22, 26, 78, 72, 76],\n",
              "       [40, 91, 33, 22, 37],\n",
              "       [ 7, 99, 41, 55, 21]])"
            ]
          },
          "metadata": {},
          "execution_count": 15
        }
      ]
    },
    {
      "cell_type": "code",
      "source": [
        "# Q7\n",
        "import numpy as np\n",
        "\n",
        "np.random.seed(400)\n",
        "arr = np.random.randint(100, 1000, 200).reshape((1, 200))\n",
        "arr"
      ],
      "metadata": {
        "colab": {
          "base_uri": "https://localhost:8080/"
        },
        "id": "ciNByzw8oBO6",
        "outputId": "6586a988-28f1-4f2f-aecc-8c15233b4d45"
      },
      "execution_count": null,
      "outputs": [
        {
          "output_type": "execute_result",
          "data": {
            "text/plain": [
              "array([[448, 563, 418, 240, 507, 362, 345, 236, 719, 291, 298, 639, 458,\n",
              "        387, 262, 613, 267, 882, 181, 425, 790, 635, 889, 818, 872, 967,\n",
              "        277, 470, 336, 920, 917, 295, 557, 830, 506, 385, 353, 975, 592,\n",
              "        997, 137, 340, 222, 215, 472, 459, 617, 649, 935, 956, 914, 932,\n",
              "        645, 952, 921, 490, 527, 972, 278, 307, 840, 958, 246, 449, 251,\n",
              "        957, 103, 627, 920, 824, 356, 825, 173, 323, 372, 960, 710, 464,\n",
              "        244, 782, 763, 635, 436, 774, 171, 469, 178, 458, 624, 211, 771,\n",
              "        270, 308, 231, 952, 514, 699, 702, 433, 900, 373, 318, 998, 265,\n",
              "        503, 320, 230, 324, 922, 967, 620, 743, 527, 117, 566, 804, 123,\n",
              "        946, 587, 227, 853, 757, 944, 328, 855, 930, 325, 729, 426, 514,\n",
              "        296, 879, 575, 936, 705, 209, 191, 743, 510, 513, 628, 559, 658,\n",
              "        528, 395, 525, 922, 136, 496, 225, 895, 975, 263, 908, 420, 711,\n",
              "        800, 976, 786, 235, 930, 859, 618, 226, 695, 460, 218, 483, 490,\n",
              "        803, 621, 453, 193, 607, 677, 637, 728, 724, 534, 748, 291, 194,\n",
              "        761, 875, 687, 569, 228, 482, 781, 554, 654, 739, 885, 197, 266,\n",
              "        228, 892, 207, 883, 588]])"
            ]
          },
          "metadata": {},
          "execution_count": 16
        }
      ]
    },
    {
      "cell_type": "code",
      "source": [
        "max_element=arr.argmax()\n",
        "min_element=arr.argmin()\n",
        "print(arr.max(),arr.min())\n",
        "arr1=np.delete(arr,max_element,axis=1)\n",
        "print(arr1)\n",
        "print(arr1.shape)\n",
        "#As u can see the array arr contains 1 row and 199 columns, so on deletion with axis=1, the respective column would get deleted."
      ],
      "metadata": {
        "colab": {
          "base_uri": "https://localhost:8080/"
        },
        "id": "f4PKWczaoR_y",
        "outputId": "04c65988-647e-4694-b04d-af9c6cae89e7"
      },
      "execution_count": null,
      "outputs": [
        {
          "output_type": "stream",
          "name": "stdout",
          "text": [
            "998 103\n",
            "[[448 563 418 240 507 362 345 236 719 291 298 639 458 387 262 613 267 882\n",
            "  181 425 790 635 889 818 872 967 277 470 336 920 917 295 557 830 506 385\n",
            "  353 975 592 997 137 340 222 215 472 459 617 649 935 956 914 932 645 952\n",
            "  921 490 527 972 278 307 840 958 246 449 251 957 103 627 920 824 356 825\n",
            "  173 323 372 960 710 464 244 782 763 635 436 774 171 469 178 458 624 211\n",
            "  771 270 308 231 952 514 699 702 433 900 373 318 265 503 320 230 324 922\n",
            "  967 620 743 527 117 566 804 123 946 587 227 853 757 944 328 855 930 325\n",
            "  729 426 514 296 879 575 936 705 209 191 743 510 513 628 559 658 528 395\n",
            "  525 922 136 496 225 895 975 263 908 420 711 800 976 786 235 930 859 618\n",
            "  226 695 460 218 483 490 803 621 453 193 607 677 637 728 724 534 748 291\n",
            "  194 761 875 687 569 228 482 781 554 654 739 885 197 266 228 892 207 883\n",
            "  588]]\n",
            "(1, 199)\n"
          ]
        }
      ]
    },
    {
      "cell_type": "code",
      "source": [
        "max_element=arr.argmax()\n",
        "min_element=arr.argmin()\n",
        "print(arr.max(),arr.min())\n",
        "arr=np.delete(arr,max_element,axis=1)\n",
        "arr=np.delete(arr,min_element,axis=1)\n",
        "print(arr.max(),arr.min())"
      ],
      "metadata": {
        "colab": {
          "base_uri": "https://localhost:8080/"
        },
        "id": "yIFUunDErjk2",
        "outputId": "5513c5ad-8136-4cc7-9fa3-3177b351fa75"
      },
      "execution_count": null,
      "outputs": [
        {
          "output_type": "stream",
          "name": "stdout",
          "text": [
            "998 103\n",
            "997 117\n"
          ]
        }
      ]
    },
    {
      "cell_type": "code",
      "source": [
        "# Q-8: You are given an arrays. You have to limit this array's elements between 100 to 200.  arr∈[100,700] .\n",
        "# So replace those values accordingly with the minimum and maximum value.\n",
        "# Then sort the array and perform the cumulative sum of that array.\n",
        "import numpy as np\n",
        "a11=np.random.randint(0,2000,250)\n",
        "a11"
      ],
      "metadata": {
        "colab": {
          "base_uri": "https://localhost:8080/"
        },
        "id": "KaoO5gCZu4rL",
        "outputId": "065557c6-19c2-4c6c-d618-4e914789eb76"
      },
      "execution_count": null,
      "outputs": [
        {
          "output_type": "execute_result",
          "data": {
            "text/plain": [
              "array([ 681,  708, 1762,  497,  788,  788, 1417, 1793,  600, 1636,   58,\n",
              "       1327,  336, 1304, 1352,  186,  549,  884, 1379, 1830,  321,  468,\n",
              "        606,  244,  473, 1850,   63,  877,  920,  882, 1670,  447, 1455,\n",
              "        303,  982, 1842,  712,  434, 1855,  747, 1096, 1301, 1337,  476,\n",
              "       1819,  612, 1663, 1566,  205,  861,  820,  714, 1301,  865, 1864,\n",
              "        668, 1012, 1874, 1899,  834,  384,  582, 1994, 1414, 1170,  204,\n",
              "        221, 1859, 1687,  398, 1164,  482, 1967, 1701,  738, 1200,  352,\n",
              "        529, 1724, 1865,  412,  948, 1094, 1406, 1295, 1210,  455,  339,\n",
              "       1614,   67, 1684, 1833,  575, 1845, 1183, 1093,  331, 1653,  532,\n",
              "       1595,  662, 1416, 1170,  800,  815, 1632, 1234, 1211, 1679,  672,\n",
              "       1296, 1716, 1442,  399,  671, 1711,   54, 1648, 1272,  442, 1766,\n",
              "       1866,  604,  146,  328, 1499, 1198,  838, 1125,  360, 1468, 1585,\n",
              "        324,  204, 1107, 1711, 1810,  159,   89,  478, 1645,  913, 1222,\n",
              "        570, 1899, 1229,  185, 1933,  260,  472,  629, 1906,  743,  902,\n",
              "        928, 1395,  783,  593,  390,  407,   69, 1260, 1262,  240,  833,\n",
              "       1643,  207, 1201, 1911, 1182,  401,  343, 1007, 1813, 1503, 1407,\n",
              "        512, 1829,  128, 1380,   74, 1092, 1566, 1510, 1027,   25, 1902,\n",
              "        323,  481,  259, 1486, 1193,  117, 1714,  337, 1843, 1460, 1878,\n",
              "        788, 1129,  679,  875, 1114,  315, 1084,  370, 1509,  112,  129,\n",
              "       1155, 1050,  494, 1040,  185,  281, 1849,   50,  542,  405, 1404,\n",
              "       1713, 1773, 1228, 1149, 1984,  203,  532, 1424,  664,  573, 1693,\n",
              "        303, 1238, 1695, 1571,  279, 1426, 1453,  486,  520,  868,  751,\n",
              "        175, 1586,  906, 1153, 1577,  422, 1410,  504])"
            ]
          },
          "metadata": {},
          "execution_count": 24
        }
      ]
    },
    {
      "cell_type": "code",
      "source": [
        "np.cumsum(np.sort(np.clip(a11,a_min=100,a_max=200)))"
      ],
      "metadata": {
        "colab": {
          "base_uri": "https://localhost:8080/"
        },
        "id": "97DEwU4u0YP9",
        "outputId": "b30b001b-4116-4129-d675-0ace244aa14a"
      },
      "execution_count": null,
      "outputs": [
        {
          "output_type": "execute_result",
          "data": {
            "text/plain": [
              "array([  100,   200,   300,   400,   500,   600,   700,   800,   900,\n",
              "        1012,  1129,  1257,  1386,  1532,  1691,  1866,  2051,  2236,\n",
              "        2422,  2622,  2822,  3022,  3222,  3422,  3622,  3822,  4022,\n",
              "        4222,  4422,  4622,  4822,  5022,  5222,  5422,  5622,  5822,\n",
              "        6022,  6222,  6422,  6622,  6822,  7022,  7222,  7422,  7622,\n",
              "        7822,  8022,  8222,  8422,  8622,  8822,  9022,  9222,  9422,\n",
              "        9622,  9822, 10022, 10222, 10422, 10622, 10822, 11022, 11222,\n",
              "       11422, 11622, 11822, 12022, 12222, 12422, 12622, 12822, 13022,\n",
              "       13222, 13422, 13622, 13822, 14022, 14222, 14422, 14622, 14822,\n",
              "       15022, 15222, 15422, 15622, 15822, 16022, 16222, 16422, 16622,\n",
              "       16822, 17022, 17222, 17422, 17622, 17822, 18022, 18222, 18422,\n",
              "       18622, 18822, 19022, 19222, 19422, 19622, 19822, 20022, 20222,\n",
              "       20422, 20622, 20822, 21022, 21222, 21422, 21622, 21822, 22022,\n",
              "       22222, 22422, 22622, 22822, 23022, 23222, 23422, 23622, 23822,\n",
              "       24022, 24222, 24422, 24622, 24822, 25022, 25222, 25422, 25622,\n",
              "       25822, 26022, 26222, 26422, 26622, 26822, 27022, 27222, 27422,\n",
              "       27622, 27822, 28022, 28222, 28422, 28622, 28822, 29022, 29222,\n",
              "       29422, 29622, 29822, 30022, 30222, 30422, 30622, 30822, 31022,\n",
              "       31222, 31422, 31622, 31822, 32022, 32222, 32422, 32622, 32822,\n",
              "       33022, 33222, 33422, 33622, 33822, 34022, 34222, 34422, 34622,\n",
              "       34822, 35022, 35222, 35422, 35622, 35822, 36022, 36222, 36422,\n",
              "       36622, 36822, 37022, 37222, 37422, 37622, 37822, 38022, 38222,\n",
              "       38422, 38622, 38822, 39022, 39222, 39422, 39622, 39822, 40022,\n",
              "       40222, 40422, 40622, 40822, 41022, 41222, 41422, 41622, 41822,\n",
              "       42022, 42222, 42422, 42622, 42822, 43022, 43222, 43422, 43622,\n",
              "       43822, 44022, 44222, 44422, 44622, 44822, 45022, 45222, 45422,\n",
              "       45622, 45822, 46022, 46222, 46422, 46622, 46822, 47022, 47222,\n",
              "       47422, 47622, 47822, 48022, 48222, 48422, 48622])"
            ]
          },
          "metadata": {},
          "execution_count": 26
        }
      ]
    },
    {
      "cell_type": "code",
      "source": [
        "# Q-9: You are given a array ( arr∈[0,1] ). First you have round off the elements upto 3 decimal places and compare that\n",
        "# 0th percentile == minimum value of the array\n",
        "# 100th percentile == maximum value of the array\n",
        "# also find the difference betwen 51th percenile and 50th percentile values\n",
        "import numpy as np\n",
        "a11=np.random.random(100)\n",
        "a11=np.around(a11,3)\n",
        "print(a11)"
      ],
      "metadata": {
        "colab": {
          "base_uri": "https://localhost:8080/"
        },
        "id": "kGEAUN-34rU6",
        "outputId": "ad55798c-5f8c-47ce-e232-04e6d3589e4b"
      },
      "execution_count": null,
      "outputs": [
        {
          "output_type": "stream",
          "name": "stdout",
          "text": [
            "[0.107 0.758 0.524 0.382 0.014 0.711 0.403 0.807 0.723 0.825 0.207 0.973\n",
            " 0.318 0.726 0.963 0.724 0.521 0.3   0.205 0.263 0.842 0.166 0.224 0.712\n",
            " 0.438 0.831 0.049 0.48  0.295 0.52  0.865 0.844 0.691 0.113 0.183 0.868\n",
            " 0.481 0.169 0.192 0.895 0.742 0.23  0.885 0.739 0.736 0.304 0.472 0.715\n",
            " 0.449 0.33  0.234 0.019 0.152 0.912 0.793 0.257 0.591 0.583 0.468 0.009\n",
            " 0.144 0.646 0.964 0.548 0.007 0.984 0.062 0.193 0.862 0.703 0.187 0.08\n",
            " 0.482 0.252 0.513 0.301 0.053 0.872 0.287 0.308 0.714 0.013 0.19  0.506\n",
            " 0.795 0.682 0.255 0.374 0.744 0.897 0.433 0.002 0.725 0.773 0.92  0.687\n",
            " 0.184 0.347 0.48  0.227]\n"
          ]
        }
      ]
    },
    {
      "cell_type": "code",
      "source": [
        "print(\"0th percentile==minimum value of the array \",(np.percentile(a11,0)==a11.min()))\n",
        "print(\"100th percentile==maximum value of the array \",(np.percentile(a11,100)==a11.max()))\n",
        "print(\"51st percentile-50th percentile \",(np.percentile(a11,51)-np.percentile(a11,50)))"
      ],
      "metadata": {
        "colab": {
          "base_uri": "https://localhost:8080/"
        },
        "id": "a7fsTjID9qA5",
        "outputId": "bcf5fc67-2f51-420b-f8b9-27e4f45642e5"
      },
      "execution_count": null,
      "outputs": [
        {
          "output_type": "stream",
          "name": "stdout",
          "text": [
            "0th percentile==minimum value of the array  True\n",
            "100th percentile==maximum value of the array  True\n",
            "51st percentile-50th percentile  0.0004899999999999904\n"
          ]
        }
      ]
    },
    {
      "cell_type": "code",
      "source": [
        "from flask import Flask\n",
        "app=Flask(__name__)\n",
        "@app.route('/')\n",
        "def index():\n",
        "  return \"hello world\"\n",
        "app.run()\n",
        "#The flask application sets a web server that responds with the execution of a particular function when the user acesses the root path\n",
        "#('/' in this case). The app.run() method starts the development server."
      ],
      "metadata": {
        "colab": {
          "base_uri": "https://localhost:8080/"
        },
        "id": "dHvH5QZu-dEx",
        "outputId": "35b9bf4b-99bf-47bd-8d2a-611c9413b7fb"
      },
      "execution_count": null,
      "outputs": [
        {
          "output_type": "stream",
          "name": "stdout",
          "text": [
            " * Serving Flask app '__main__'\n",
            " * Debug mode: off\n"
          ]
        },
        {
          "output_type": "stream",
          "name": "stderr",
          "text": [
            "INFO:werkzeug:\u001b[31m\u001b[1mWARNING: This is a development server. Do not use it in a production deployment. Use a production WSGI server instead.\u001b[0m\n",
            " * Running on http://127.0.0.1:5000\n",
            "INFO:werkzeug:\u001b[33mPress CTRL+C to quit\u001b[0m\n"
          ]
        }
      ]
    },
    {
      "cell_type": "code",
      "source": [
        "import json\n",
        "a1={'a':1,'b':2,'c':3,'d':4}\n",
        "with open('many.json','w') as wf:\n",
        "  json.dump(a1,wf)\n",
        "with open('many.json') as wf1:\n",
        "  a2=json.load(wf1)\n",
        "  print(a2)"
      ],
      "metadata": {
        "id": "CPavqWeC1VmX",
        "colab": {
          "base_uri": "https://localhost:8080/"
        },
        "outputId": "28e9a0a6-8434-46bc-c747-bebd53233d55"
      },
      "execution_count": null,
      "outputs": [
        {
          "output_type": "stream",
          "name": "stdout",
          "text": [
            "{'a': 1, 'b': 2, 'c': 3, 'd': 4}\n"
          ]
        }
      ]
    },
    {
      "cell_type": "code",
      "source": [
        "with open('many.json') as f1:\n",
        "  a4=json.load(f1)\n",
        "  a4['email']=91\n",
        "with open('many.json','w') as f2:\n",
        "  json.dump(a4,f2)\n",
        "with open('many.json') as f3:\n",
        "  a5=json.load(f3)\n",
        "  print(a5)\n"
      ],
      "metadata": {
        "colab": {
          "base_uri": "https://localhost:8080/"
        },
        "id": "Y_NaUj5SwZPi",
        "outputId": "715670d9-8444-4639-ea8e-bd4ade04d092"
      },
      "execution_count": null,
      "outputs": [
        {
          "output_type": "stream",
          "name": "stdout",
          "text": [
            "{'a': 1, 'b': 2, 'c': 3, 'd': 4, 'email': 91}\n"
          ]
        }
      ]
    },
    {
      "cell_type": "code",
      "source": [
        "a1={'sentiment':{'negative': 0.068, 'neutral': 0.46, 'positive': 0.472}}\n",
        "for i in a1['sentiment']:\n",
        "  print(i)"
      ],
      "metadata": {
        "id": "WF-8jNO-xOQO",
        "colab": {
          "base_uri": "https://localhost:8080/"
        },
        "outputId": "3ae01cae-8048-4092-de72-a04ca57df447"
      },
      "execution_count": null,
      "outputs": [
        {
          "output_type": "stream",
          "name": "stdout",
          "text": [
            "negative\n",
            "neutral\n",
            "positive\n"
          ]
        }
      ]
    },
    {
      "cell_type": "code",
      "source": [
        "for i in a1['sentiment']:\n",
        "  print(f\"{i} ==> {a1['sentiment'][i]}\")\n",
        "#flask sets up a web server which can host web-pages for the user."
      ],
      "metadata": {
        "colab": {
          "base_uri": "https://localhost:8080/"
        },
        "id": "soYgIyVI8tNv",
        "outputId": "ca5592f2-85e5-4699-dc0e-7bf3e614ebed"
      },
      "execution_count": null,
      "outputs": [
        {
          "output_type": "stream",
          "name": "stdout",
          "text": [
            "negative ==> 0.068\n",
            "neutral ==> 0.46\n",
            "positive ==> 0.472\n"
          ]
        }
      ]
    },
    {
      "cell_type": "code",
      "source": [
        "import numpy as np\n",
        "a1=np.random.randint(1,100,(4,5))\n",
        "print(a1)"
      ],
      "metadata": {
        "colab": {
          "base_uri": "https://localhost:8080/"
        },
        "id": "XPH3Cw0DC2UQ",
        "outputId": "54f5d9c1-7bb3-4409-bb06-b27221d03f96"
      },
      "execution_count": null,
      "outputs": [
        {
          "output_type": "stream",
          "name": "stdout",
          "text": [
            "[[57 25 30 38 48]\n",
            " [77 86 99 81 33]\n",
            " [16 19 54 34 34]\n",
            " [86 62 76 94 22]]\n"
          ]
        }
      ]
    },
    {
      "cell_type": "code",
      "source": [
        "np.resize(a1,(9,7))"
      ],
      "metadata": {
        "colab": {
          "base_uri": "https://localhost:8080/"
        },
        "id": "6XRslY4YJxXJ",
        "outputId": "77b879d5-347b-4d25-aa75-c557d24a997e"
      },
      "execution_count": null,
      "outputs": [
        {
          "output_type": "execute_result",
          "data": {
            "text/plain": [
              "array([[57, 25, 30, 38, 48, 77, 86],\n",
              "       [99, 81, 33, 16, 19, 54, 34],\n",
              "       [34, 86, 62, 76, 94, 22, 57],\n",
              "       [25, 30, 38, 48, 77, 86, 99],\n",
              "       [81, 33, 16, 19, 54, 34, 34],\n",
              "       [86, 62, 76, 94, 22, 57, 25],\n",
              "       [30, 38, 48, 77, 86, 99, 81],\n",
              "       [33, 16, 19, 54, 34, 34, 86],\n",
              "       [62, 76, 94, 22, 57, 25, 30]])"
            ]
          },
          "metadata": {},
          "execution_count": 2
        }
      ]
    },
    {
      "cell_type": "code",
      "source": [
        "a1.reshape(5,4)\n",
        "#As you can see reshape function just modifies the shape of the array while resize function modifies the array itself(adds new elements or)\n",
        "#subtracts some elements."
      ],
      "metadata": {
        "colab": {
          "base_uri": "https://localhost:8080/"
        },
        "id": "2EDhYq7fqpZI",
        "outputId": "08ec79de-6f13-4101-bf4b-fe4b9c5474f4"
      },
      "execution_count": null,
      "outputs": [
        {
          "output_type": "execute_result",
          "data": {
            "text/plain": [
              "array([[57, 25, 30, 38],\n",
              "       [48, 77, 86, 99],\n",
              "       [81, 33, 16, 19],\n",
              "       [54, 34, 34, 86],\n",
              "       [62, 76, 94, 22]])"
            ]
          },
          "metadata": {},
          "execution_count": 4
        }
      ]
    },
    {
      "cell_type": "code",
      "source": [
        "import numpy as np\n",
        "a1=np.arange(12).reshape(3,4)\n",
        "a1"
      ],
      "metadata": {
        "colab": {
          "base_uri": "https://localhost:8080/"
        },
        "id": "UJ0k1klgrSCo",
        "outputId": "ac821253-68d0-4a6b-dfc8-b760dd4562b4"
      },
      "execution_count": null,
      "outputs": [
        {
          "output_type": "execute_result",
          "data": {
            "text/plain": [
              "array([[ 0,  1,  2,  3],\n",
              "       [ 4,  5,  6,  7],\n",
              "       [ 8,  9, 10, 11]])"
            ]
          },
          "metadata": {},
          "execution_count": 7
        }
      ]
    },
    {
      "cell_type": "code",
      "source": [
        "#numpy has ndarray"
      ],
      "metadata": {
        "id": "aGoo6kC4sk7r"
      },
      "execution_count": null,
      "outputs": []
    },
    {
      "cell_type": "code",
      "source": [
        "import numpy as np\n",
        "a1=np.array([1,2,3],dtype=\"complex\")\n",
        "print(a1)\n",
        "#As you can see when the dtype has been mentioned as \"complex\" then we get complex numbers as output."
      ],
      "metadata": {
        "colab": {
          "base_uri": "https://localhost:8080/"
        },
        "id": "knL6LdZ2sxJp",
        "outputId": "c3167e71-3341-4a34-8796-ee3352c88a20"
      },
      "execution_count": null,
      "outputs": [
        {
          "output_type": "stream",
          "name": "stdout",
          "text": [
            "[1.+0.j 2.+0.j 3.+0.j]\n"
          ]
        }
      ]
    },
    {
      "cell_type": "code",
      "source": [
        "# Each built-in data type has a character code that uniquely identifies it. What is meaning of code \"M\"?\n",
        "#The character code \"M\" represents the datetime64 datatype in Numpy.\n",
        "import numpy as np\n",
        "a1=np.array(['2022-01-01','2022-03-03','2022-05-05'],dtype='M')\n",
        "print(a1)"
      ],
      "metadata": {
        "colab": {
          "base_uri": "https://localhost:8080/"
        },
        "id": "ldcZ1Q8btOTU",
        "outputId": "e014e121-bd42-46a6-9cce-64f833cd2fcd"
      },
      "execution_count": null,
      "outputs": [
        {
          "output_type": "stream",
          "name": "stdout",
          "text": [
            "['2022-01-01' '2022-03-03' '2022-05-05']\n"
          ]
        }
      ]
    },
    {
      "cell_type": "code",
      "source": [
        "import numpy as np\n",
        "\n",
        "original_list = [1, 2, 3]\n",
        "arr_copy = np.array(original_list, copy=True)\n",
        "arr_view = np.array(original_list, copy=False)\n",
        "\n",
        "original_list[0] = 99\n",
        "print(arr_copy)  # Output: [1 2 3]\n",
        "print(arr_view)  # Output: [99 2 3]\n"
      ],
      "metadata": {
        "colab": {
          "base_uri": "https://localhost:8080/"
        },
        "id": "cLmW9jx1ujxa",
        "outputId": "756fe2f7-aa70-4d7f-cd5d-22fb1842a131"
      },
      "execution_count": null,
      "outputs": [
        {
          "output_type": "stream",
          "name": "stdout",
          "text": [
            "[1 2 3]\n",
            "[1 2 3]\n"
          ]
        }
      ]
    },
    {
      "cell_type": "code",
      "source": [
        "import numpy as np\n",
        "\n",
        "original_list = [1, 2, 3]\n",
        "arr_ndmin = np.array(original_list, ndmin=2)\n",
        "\n",
        "print(arr_ndmin.shape)  # Output: (1, 3)\n"
      ],
      "metadata": {
        "colab": {
          "base_uri": "https://localhost:8080/"
        },
        "id": "AdS6UPDRw9QU",
        "outputId": "63787771-9816-4b93-9dc5-f7eb01b491a3"
      },
      "execution_count": null,
      "outputs": [
        {
          "output_type": "stream",
          "name": "stdout",
          "text": [
            "(1, 3)\n"
          ]
        }
      ]
    },
    {
      "cell_type": "code",
      "source": [
        "import numpy as np\n",
        "\n",
        "original_list = [1, 2, 3]\n",
        "arr_ndmin = np.array(original_list, ndmin=1)\n",
        "\n",
        "print(arr_ndmin.shape)  # Output: (1, 3)\n"
      ],
      "metadata": {
        "colab": {
          "base_uri": "https://localhost:8080/"
        },
        "id": "qlXnyIrIw_6Q",
        "outputId": "4b03838e-f16a-49fd-a84f-bb64a6087529"
      },
      "execution_count": null,
      "outputs": [
        {
          "output_type": "stream",
          "name": "stdout",
          "text": [
            "(3,)\n"
          ]
        }
      ]
    },
    {
      "cell_type": "code",
      "source": [
        "import numpy as np\n",
        "\n",
        "original_list = [1, 2, 3]\n",
        "arr_ndmin = np.array(original_list, ndmin=3)\n",
        "\n",
        "print(arr_ndmin.shape)  # Output: (1, 3)\n",
        "print(arr_ndmin)\n"
      ],
      "metadata": {
        "colab": {
          "base_uri": "https://localhost:8080/"
        },
        "id": "j8ErYwNQxCyk",
        "outputId": "f67101cb-b5f2-4743-8643-35c06d0d4be5"
      },
      "execution_count": null,
      "outputs": [
        {
          "output_type": "stream",
          "name": "stdout",
          "text": [
            "(1, 1, 3)\n",
            "[[[1 2 3]]]\n"
          ]
        }
      ]
    },
    {
      "cell_type": "code",
      "source": [
        "import numpy as np\n",
        "\n",
        "original_list = [1, 2, 3]\n",
        "arr_ndmin = np.array(original_list, ndmin=0)\n",
        "\n",
        "print(arr_ndmin.shape)  # Output: (1, 3)\n",
        "print(arr_ndmin)"
      ],
      "metadata": {
        "colab": {
          "base_uri": "https://localhost:8080/"
        },
        "id": "52PJZoiCxK30",
        "outputId": "f0b16bff-28d4-4d7c-c3b6-c54bdb62b6f4"
      },
      "execution_count": null,
      "outputs": [
        {
          "output_type": "stream",
          "name": "stdout",
          "text": [
            "(3,)\n",
            "[1 2 3]\n"
          ]
        }
      ]
    },
    {
      "cell_type": "code",
      "source": [
        "import numpy as np\n",
        "\n",
        "original_list = [1, 2, 3]\n",
        "arr_ndmin = np.array(original_list, ndmin=4)\n",
        "\n",
        "print(arr_ndmin.shape)  # Output: (1, 3)\n",
        "print(arr_ndmin)"
      ],
      "metadata": {
        "colab": {
          "base_uri": "https://localhost:8080/"
        },
        "id": "YBbNYNkXz0Ds",
        "outputId": "c376d13e-774c-46a2-e844-cd63d169a8d3"
      },
      "execution_count": null,
      "outputs": [
        {
          "output_type": "stream",
          "name": "stdout",
          "text": [
            "(1, 1, 1, 3)\n",
            "[[[[1 2 3]]]]\n"
          ]
        }
      ]
    },
    {
      "cell_type": "code",
      "source": [
        "#ndmin argument is used for setting up the dimension of the Array"
      ],
      "metadata": {
        "id": "-ivNzJcfz5GX"
      },
      "execution_count": null,
      "outputs": []
    },
    {
      "cell_type": "code",
      "source": [
        "import numpy as np\n",
        "\n",
        "# Creating three 1-D arrays\n",
        "arr1 = np.array([1, 2, 3])\n",
        "arr2 = np.array([4, 5, 6])\n",
        "arr3 = np.array([7, 8, 9])\n",
        "\n",
        "# Using column_stack to stack them as columns\n",
        "result_array = np.column_stack((arr1, arr2, arr3))\n",
        "\n",
        "print(\"Array 1:\")\n",
        "print(arr1)\n",
        "\n",
        "print(\"\\nArray 2:\")\n",
        "print(arr2)\n",
        "\n",
        "print(\"\\nArray 3:\")\n",
        "print(arr3)\n",
        "\n",
        "print(\"\\nResulting 2-D Array:\")\n",
        "print(result_array)\n"
      ],
      "metadata": {
        "colab": {
          "base_uri": "https://localhost:8080/"
        },
        "id": "b5CIZ1nj0DTU",
        "outputId": "36aa60c3-c710-4e62-8cf8-0b0537d446d8"
      },
      "execution_count": null,
      "outputs": [
        {
          "output_type": "stream",
          "name": "stdout",
          "text": [
            "Array 1:\n",
            "[1 2 3]\n",
            "\n",
            "Array 2:\n",
            "[4 5 6]\n",
            "\n",
            "Array 3:\n",
            "[7 8 9]\n",
            "\n",
            "Resulting 2-D Array:\n",
            "[[1 4 7]\n",
            " [2 5 8]\n",
            " [3 6 9]]\n"
          ]
        }
      ]
    },
    {
      "cell_type": "code",
      "source": [
        "import numpy as np\n",
        "a11=np.array([[1,2,3],[4,5,6]])\n",
        "a12=np.array([[7,8,9],[10,11,12]])\n",
        "print(np.column_stack((a11,a12)))"
      ],
      "metadata": {
        "colab": {
          "base_uri": "https://localhost:8080/"
        },
        "id": "Yp0wXWK303zz",
        "outputId": "58bd11cd-9e03-4113-e715-7929445ec639"
      },
      "execution_count": null,
      "outputs": [
        {
          "output_type": "stream",
          "name": "stdout",
          "text": [
            "[[ 1  2  3  7  8  9]\n",
            " [ 4  5  6 10 11 12]]\n"
          ]
        }
      ]
    },
    {
      "cell_type": "code",
      "source": [
        "import numpy as np\n",
        "a14=np.array([1,2,3])\n",
        "a15=np.array([4,5,6,7,8])\n",
        "print(np.column_stack((a14,a15)))"
      ],
      "metadata": {
        "colab": {
          "base_uri": "https://localhost:8080/",
          "height": 287
        },
        "id": "2801GOlE233v",
        "outputId": "660522e9-66b2-4a55-e96d-5d84c14c6127"
      },
      "execution_count": null,
      "outputs": [
        {
          "output_type": "error",
          "ename": "ValueError",
          "evalue": "all the input array dimensions for the concatenation axis must match exactly, but along dimension 0, the array at index 0 has size 3 and the array at index 1 has size 5",
          "traceback": [
            "\u001b[0;31m---------------------------------------------------------------------------\u001b[0m",
            "\u001b[0;31mValueError\u001b[0m                                Traceback (most recent call last)",
            "\u001b[0;32m<ipython-input-27-ee6b17fcacbe>\u001b[0m in \u001b[0;36m<cell line: 4>\u001b[0;34m()\u001b[0m\n\u001b[1;32m      2\u001b[0m \u001b[0ma14\u001b[0m\u001b[0;34m=\u001b[0m\u001b[0mnp\u001b[0m\u001b[0;34m.\u001b[0m\u001b[0marray\u001b[0m\u001b[0;34m(\u001b[0m\u001b[0;34m[\u001b[0m\u001b[0;36m1\u001b[0m\u001b[0;34m,\u001b[0m\u001b[0;36m2\u001b[0m\u001b[0;34m,\u001b[0m\u001b[0;36m3\u001b[0m\u001b[0;34m]\u001b[0m\u001b[0;34m)\u001b[0m\u001b[0;34m\u001b[0m\u001b[0;34m\u001b[0m\u001b[0m\n\u001b[1;32m      3\u001b[0m \u001b[0ma15\u001b[0m\u001b[0;34m=\u001b[0m\u001b[0mnp\u001b[0m\u001b[0;34m.\u001b[0m\u001b[0marray\u001b[0m\u001b[0;34m(\u001b[0m\u001b[0;34m[\u001b[0m\u001b[0;36m4\u001b[0m\u001b[0;34m,\u001b[0m\u001b[0;36m5\u001b[0m\u001b[0;34m,\u001b[0m\u001b[0;36m6\u001b[0m\u001b[0;34m,\u001b[0m\u001b[0;36m7\u001b[0m\u001b[0;34m,\u001b[0m\u001b[0;36m8\u001b[0m\u001b[0;34m]\u001b[0m\u001b[0;34m)\u001b[0m\u001b[0;34m\u001b[0m\u001b[0;34m\u001b[0m\u001b[0m\n\u001b[0;32m----> 4\u001b[0;31m \u001b[0mprint\u001b[0m\u001b[0;34m(\u001b[0m\u001b[0mnp\u001b[0m\u001b[0;34m.\u001b[0m\u001b[0mcolumn_stack\u001b[0m\u001b[0;34m(\u001b[0m\u001b[0;34m(\u001b[0m\u001b[0ma14\u001b[0m\u001b[0;34m,\u001b[0m\u001b[0ma15\u001b[0m\u001b[0;34m)\u001b[0m\u001b[0;34m)\u001b[0m\u001b[0;34m)\u001b[0m\u001b[0;34m\u001b[0m\u001b[0;34m\u001b[0m\u001b[0m\n\u001b[0m",
            "\u001b[0;32m/usr/local/lib/python3.10/dist-packages/numpy/core/overrides.py\u001b[0m in \u001b[0;36mcolumn_stack\u001b[0;34m(*args, **kwargs)\u001b[0m\n",
            "\u001b[0;32m/usr/local/lib/python3.10/dist-packages/numpy/lib/shape_base.py\u001b[0m in \u001b[0;36mcolumn_stack\u001b[0;34m(tup)\u001b[0m\n\u001b[1;32m    654\u001b[0m             \u001b[0marr\u001b[0m \u001b[0;34m=\u001b[0m \u001b[0marray\u001b[0m\u001b[0;34m(\u001b[0m\u001b[0marr\u001b[0m\u001b[0;34m,\u001b[0m \u001b[0mcopy\u001b[0m\u001b[0;34m=\u001b[0m\u001b[0;32mFalse\u001b[0m\u001b[0;34m,\u001b[0m \u001b[0msubok\u001b[0m\u001b[0;34m=\u001b[0m\u001b[0;32mTrue\u001b[0m\u001b[0;34m,\u001b[0m \u001b[0mndmin\u001b[0m\u001b[0;34m=\u001b[0m\u001b[0;36m2\u001b[0m\u001b[0;34m)\u001b[0m\u001b[0;34m.\u001b[0m\u001b[0mT\u001b[0m\u001b[0;34m\u001b[0m\u001b[0;34m\u001b[0m\u001b[0m\n\u001b[1;32m    655\u001b[0m         \u001b[0marrays\u001b[0m\u001b[0;34m.\u001b[0m\u001b[0mappend\u001b[0m\u001b[0;34m(\u001b[0m\u001b[0marr\u001b[0m\u001b[0;34m)\u001b[0m\u001b[0;34m\u001b[0m\u001b[0;34m\u001b[0m\u001b[0m\n\u001b[0;32m--> 656\u001b[0;31m     \u001b[0;32mreturn\u001b[0m \u001b[0m_nx\u001b[0m\u001b[0;34m.\u001b[0m\u001b[0mconcatenate\u001b[0m\u001b[0;34m(\u001b[0m\u001b[0marrays\u001b[0m\u001b[0;34m,\u001b[0m \u001b[0;36m1\u001b[0m\u001b[0;34m)\u001b[0m\u001b[0;34m\u001b[0m\u001b[0;34m\u001b[0m\u001b[0m\n\u001b[0m\u001b[1;32m    657\u001b[0m \u001b[0;34m\u001b[0m\u001b[0m\n\u001b[1;32m    658\u001b[0m \u001b[0;34m\u001b[0m\u001b[0m\n",
            "\u001b[0;32m/usr/local/lib/python3.10/dist-packages/numpy/core/overrides.py\u001b[0m in \u001b[0;36mconcatenate\u001b[0;34m(*args, **kwargs)\u001b[0m\n",
            "\u001b[0;31mValueError\u001b[0m: all the input array dimensions for the concatenation axis must match exactly, but along dimension 0, the array at index 0 has size 3 and the array at index 1 has size 5"
          ]
        }
      ]
    },
    {
      "cell_type": "code",
      "source": [
        "import numpy as np\n",
        "\n",
        "# Creating three 1-D arrays with different lengths\n",
        "arr1 = np.array([1, 2, 3])\n",
        "arr2 = np.array([4, 5])\n",
        "arr3 = np.array([7, 8, 9, 10])\n",
        "\n",
        "# Using column_stack to stack them as columns\n",
        "result_array = np.column_stack((arr1, arr2, arr3))\n",
        "\n",
        "print(\"Array 1:\")\n",
        "print(arr1)\n",
        "\n",
        "print(\"\\nArray 2:\")\n",
        "print(arr2)\n",
        "\n",
        "print(\"\\nArray 3:\")\n",
        "print(arr3)\n",
        "\n",
        "print(\"\\nResulting 2-D Array:\")\n",
        "print(result_array)\n"
      ],
      "metadata": {
        "colab": {
          "base_uri": "https://localhost:8080/",
          "height": 322
        },
        "id": "Owm0AAll3hdE",
        "outputId": "9ea94ffc-3b6e-4a2d-f374-e5eb3a0ff953"
      },
      "execution_count": null,
      "outputs": [
        {
          "output_type": "error",
          "ename": "ValueError",
          "evalue": "all the input array dimensions for the concatenation axis must match exactly, but along dimension 0, the array at index 0 has size 3 and the array at index 1 has size 2",
          "traceback": [
            "\u001b[0;31m---------------------------------------------------------------------------\u001b[0m",
            "\u001b[0;31mValueError\u001b[0m                                Traceback (most recent call last)",
            "\u001b[0;32m<ipython-input-28-8db887e1a282>\u001b[0m in \u001b[0;36m<cell line: 9>\u001b[0;34m()\u001b[0m\n\u001b[1;32m      7\u001b[0m \u001b[0;34m\u001b[0m\u001b[0m\n\u001b[1;32m      8\u001b[0m \u001b[0;31m# Using column_stack to stack them as columns\u001b[0m\u001b[0;34m\u001b[0m\u001b[0;34m\u001b[0m\u001b[0m\n\u001b[0;32m----> 9\u001b[0;31m \u001b[0mresult_array\u001b[0m \u001b[0;34m=\u001b[0m \u001b[0mnp\u001b[0m\u001b[0;34m.\u001b[0m\u001b[0mcolumn_stack\u001b[0m\u001b[0;34m(\u001b[0m\u001b[0;34m(\u001b[0m\u001b[0marr1\u001b[0m\u001b[0;34m,\u001b[0m \u001b[0marr2\u001b[0m\u001b[0;34m,\u001b[0m \u001b[0marr3\u001b[0m\u001b[0;34m)\u001b[0m\u001b[0;34m)\u001b[0m\u001b[0;34m\u001b[0m\u001b[0;34m\u001b[0m\u001b[0m\n\u001b[0m\u001b[1;32m     10\u001b[0m \u001b[0;34m\u001b[0m\u001b[0m\n\u001b[1;32m     11\u001b[0m \u001b[0mprint\u001b[0m\u001b[0;34m(\u001b[0m\u001b[0;34m\"Array 1:\"\u001b[0m\u001b[0;34m)\u001b[0m\u001b[0;34m\u001b[0m\u001b[0;34m\u001b[0m\u001b[0m\n",
            "\u001b[0;32m/usr/local/lib/python3.10/dist-packages/numpy/core/overrides.py\u001b[0m in \u001b[0;36mcolumn_stack\u001b[0;34m(*args, **kwargs)\u001b[0m\n",
            "\u001b[0;32m/usr/local/lib/python3.10/dist-packages/numpy/lib/shape_base.py\u001b[0m in \u001b[0;36mcolumn_stack\u001b[0;34m(tup)\u001b[0m\n\u001b[1;32m    654\u001b[0m             \u001b[0marr\u001b[0m \u001b[0;34m=\u001b[0m \u001b[0marray\u001b[0m\u001b[0;34m(\u001b[0m\u001b[0marr\u001b[0m\u001b[0;34m,\u001b[0m \u001b[0mcopy\u001b[0m\u001b[0;34m=\u001b[0m\u001b[0;32mFalse\u001b[0m\u001b[0;34m,\u001b[0m \u001b[0msubok\u001b[0m\u001b[0;34m=\u001b[0m\u001b[0;32mTrue\u001b[0m\u001b[0;34m,\u001b[0m \u001b[0mndmin\u001b[0m\u001b[0;34m=\u001b[0m\u001b[0;36m2\u001b[0m\u001b[0;34m)\u001b[0m\u001b[0;34m.\u001b[0m\u001b[0mT\u001b[0m\u001b[0;34m\u001b[0m\u001b[0;34m\u001b[0m\u001b[0m\n\u001b[1;32m    655\u001b[0m         \u001b[0marrays\u001b[0m\u001b[0;34m.\u001b[0m\u001b[0mappend\u001b[0m\u001b[0;34m(\u001b[0m\u001b[0marr\u001b[0m\u001b[0;34m)\u001b[0m\u001b[0;34m\u001b[0m\u001b[0;34m\u001b[0m\u001b[0m\n\u001b[0;32m--> 656\u001b[0;31m     \u001b[0;32mreturn\u001b[0m \u001b[0m_nx\u001b[0m\u001b[0;34m.\u001b[0m\u001b[0mconcatenate\u001b[0m\u001b[0;34m(\u001b[0m\u001b[0marrays\u001b[0m\u001b[0;34m,\u001b[0m \u001b[0;36m1\u001b[0m\u001b[0;34m)\u001b[0m\u001b[0;34m\u001b[0m\u001b[0;34m\u001b[0m\u001b[0m\n\u001b[0m\u001b[1;32m    657\u001b[0m \u001b[0;34m\u001b[0m\u001b[0m\n\u001b[1;32m    658\u001b[0m \u001b[0;34m\u001b[0m\u001b[0m\n",
            "\u001b[0;32m/usr/local/lib/python3.10/dist-packages/numpy/core/overrides.py\u001b[0m in \u001b[0;36mconcatenate\u001b[0;34m(*args, **kwargs)\u001b[0m\n",
            "\u001b[0;31mValueError\u001b[0m: all the input array dimensions for the concatenation axis must match exactly, but along dimension 0, the array at index 0 has size 3 and the array at index 1 has size 2"
          ]
        }
      ]
    },
    {
      "cell_type": "code",
      "source": [
        "#column_stack function is used for adding 2 arrays along columns but they should have the same dimension."
      ],
      "metadata": {
        "id": "LfE5qY9h3oDV"
      },
      "execution_count": null,
      "outputs": []
    },
    {
      "cell_type": "code",
      "source": [
        "import numpy as np\n",
        "dt=np.dtype('i4')\n",
        "print(dt)\n",
        "#'i4' is the string representation to indicate 32 bit signed integer. 'i4' is the string representation to indicate 32 bit signed integer\n",
        "#np.dtype('i4') is used to create a datatype object.Signed integer means it can be both positive and negative."
      ],
      "metadata": {
        "colab": {
          "base_uri": "https://localhost:8080/"
        },
        "id": "uDK658Qo32Td",
        "outputId": "0db80af3-ff28-4fac-b66b-77ece1199100"
      },
      "execution_count": 2,
      "outputs": [
        {
          "output_type": "stream",
          "name": "stdout",
          "text": [
            "int32\n"
          ]
        }
      ]
    },
    {
      "cell_type": "code",
      "source": [
        "import numpy as np\n",
        "dt=np.dtype([('age',np.int8)])\n",
        "a=np.array([(10,),(20,),(30,)],dtype=dt)\n",
        "print(a['age'])"
      ],
      "metadata": {
        "colab": {
          "base_uri": "https://localhost:8080/"
        },
        "id": "v5JvoFJk5KvH",
        "outputId": "9ea8ffca-fd55-4d09-89f3-448e6a70e7b2"
      },
      "execution_count": 4,
      "outputs": [
        {
          "output_type": "stream",
          "name": "stdout",
          "text": [
            "[10 20 30]\n"
          ]
        }
      ]
    },
    {
      "cell_type": "code",
      "source": [
        "a=(10)\n",
        "print(type(a))"
      ],
      "metadata": {
        "colab": {
          "base_uri": "https://localhost:8080/"
        },
        "id": "3MWLCXIl7xz6",
        "outputId": "3fe727e8-a657-4b01-9ed6-2b4b83fa5614"
      },
      "execution_count": 5,
      "outputs": [
        {
          "output_type": "stream",
          "name": "stdout",
          "text": [
            "<class 'int'>\n"
          ]
        }
      ]
    },
    {
      "cell_type": "code",
      "source": [
        "a1=(20)\n",
        "print(type(a1))"
      ],
      "metadata": {
        "colab": {
          "base_uri": "https://localhost:8080/"
        },
        "id": "6YG-nGbN-uPi",
        "outputId": "3d719489-9c7e-48da-bb8a-c4b4c21472d4"
      },
      "execution_count": 6,
      "outputs": [
        {
          "output_type": "stream",
          "name": "stdout",
          "text": [
            "<class 'int'>\n"
          ]
        }
      ]
    },
    {
      "cell_type": "code",
      "source": [
        "a2=(20,)\n",
        "print(type(a2))"
      ],
      "metadata": {
        "colab": {
          "base_uri": "https://localhost:8080/"
        },
        "id": "ZHffEE5J-yGx",
        "outputId": "1b829fe7-766c-4d85-eae4-41b2119c511e"
      },
      "execution_count": 7,
      "outputs": [
        {
          "output_type": "stream",
          "name": "stdout",
          "text": [
            "<class 'tuple'>\n"
          ]
        }
      ]
    },
    {
      "cell_type": "code",
      "source": [
        "import numpy as np\n",
        "dt=np.dtype([('age',np.int8)])\n",
        "a1=np.array([(10,),(20,),(30,)],dtype=dt)\n",
        "print(a1)\n",
        "print(a1['age'])\n",
        "#[('age',np.int8)] This is a list of tuples with 'age' being the field-name and np.int8 being the data-type of each field."
      ],
      "metadata": {
        "colab": {
          "base_uri": "https://localhost:8080/"
        },
        "id": "owLWES-3HUvs",
        "outputId": "c4f875f5-e8c3-4640-aac8-589dcc65d2c4"
      },
      "execution_count": 9,
      "outputs": [
        {
          "output_type": "stream",
          "name": "stdout",
          "text": [
            "[(10,) (20,) (30,)]\n",
            "[10 20 30]\n"
          ]
        }
      ]
    },
    {
      "cell_type": "code",
      "source": [
        "#unit32 datatype in numpy represents unsigned 32 bit integer. It represents only non-negative values.\n",
        "#unit32 datatype in numpy represents unsigned 32 bit integer. It represents only non-negative values."
      ],
      "metadata": {
        "id": "HYjwPPpDJBLQ"
      },
      "execution_count": 10,
      "outputs": []
    },
    {
      "cell_type": "code",
      "source": [
        "import numpy as np\n",
        "a11=np.eye(4)\n",
        "print(a11)"
      ],
      "metadata": {
        "colab": {
          "base_uri": "https://localhost:8080/"
        },
        "id": "Gpg9dqJpMZTt",
        "outputId": "7cf96cf8-f147-4871-9c7f-8ffbf40bceee"
      },
      "execution_count": 11,
      "outputs": [
        {
          "output_type": "stream",
          "name": "stdout",
          "text": [
            "[[1. 0. 0. 0.]\n",
            " [0. 1. 0. 0.]\n",
            " [0. 0. 1. 0.]\n",
            " [0. 0. 0. 1.]]\n"
          ]
        }
      ]
    },
    {
      "cell_type": "code",
      "source": [
        "a12=np.eye(5)\n",
        "print(a12)\n",
        "#eye() function is used to create identity matrix. In this case np.eye(5) has created a 5*5 identity matrix."
      ],
      "metadata": {
        "colab": {
          "base_uri": "https://localhost:8080/"
        },
        "id": "RxIms1aocUdc",
        "outputId": "00db49b1-a158-4ca3-e9bb-126402f15754"
      },
      "execution_count": 13,
      "outputs": [
        {
          "output_type": "stream",
          "name": "stdout",
          "text": [
            "[[1. 0. 0. 0. 0.]\n",
            " [0. 1. 0. 0. 0.]\n",
            " [0. 0. 1. 0. 0.]\n",
            " [0. 0. 0. 1. 0.]\n",
            " [0. 0. 0. 0. 1.]]\n"
          ]
        }
      ]
    },
    {
      "cell_type": "code",
      "source": [
        "import numpy as np\n",
        "a=np.array([7,10,2,4,13,16])\n",
        "med=np.percentile(a,50)\n",
        "print(med)\n",
        "#when you sort this array you get [2,4,7,10,13,16], now as the total number of elements is 6, so median will be the mean of 2 elements in\n",
        "#the middle. (7+10)/2 is equal to 8.5 in this case. So, np.percentile(a,50) would be equivalent to 8.5"
      ],
      "metadata": {
        "colab": {
          "base_uri": "https://localhost:8080/"
        },
        "id": "s2cVfRVJgqrK",
        "outputId": "275c52d5-c26b-4445-e754-bf43100d90a0"
      },
      "execution_count": 15,
      "outputs": [
        {
          "output_type": "stream",
          "name": "stdout",
          "text": [
            "8.5\n"
          ]
        }
      ]
    },
    {
      "cell_type": "code",
      "source": [
        "#If there is an array of shape (11,12), then index(x,y) position of the 100th element will be\n",
        "#12*8=96....so we will move to 9th row and 4th element which will lead to index position of (8,3)"
      ],
      "metadata": {
        "id": "e0Lb5PQqkMGL"
      },
      "execution_count": 16,
      "outputs": []
    },
    {
      "cell_type": "code",
      "source": [
        "import numpy as np\n",
        "a11=np.random.randint(1,100,(8,5))\n",
        "a11"
      ],
      "metadata": {
        "colab": {
          "base_uri": "https://localhost:8080/"
        },
        "id": "FXF3zLKPmcTQ",
        "outputId": "18d8a33d-b94e-4046-bb24-c681124edea1"
      },
      "execution_count": 17,
      "outputs": [
        {
          "output_type": "execute_result",
          "data": {
            "text/plain": [
              "array([[78, 98, 45, 14,  4],\n",
              "       [28, 31, 66, 66, 13],\n",
              "       [13, 68, 24, 49,  4],\n",
              "       [24,  3, 98, 13, 91],\n",
              "       [23, 55, 15, 29, 88],\n",
              "       [19, 85, 16, 21, 92],\n",
              "       [87, 20, 68, 85, 87],\n",
              "       [88, 87, 41, 82, 92]])"
            ]
          },
          "metadata": {},
          "execution_count": 17
        }
      ]
    },
    {
      "cell_type": "code",
      "source": [
        "a11.shape\n",
        "#a11.shape is used to find the shape of the array."
      ],
      "metadata": {
        "colab": {
          "base_uri": "https://localhost:8080/"
        },
        "id": "FC-HWrS2muBY",
        "outputId": "fd0e5f41-f694-4190-86c3-11652906290d"
      },
      "execution_count": 22,
      "outputs": [
        {
          "output_type": "execute_result",
          "data": {
            "text/plain": [
              "(8, 5)"
            ]
          },
          "metadata": {},
          "execution_count": 22
        }
      ]
    },
    {
      "cell_type": "code",
      "source": [
        "a11.ndim\n",
        "#a11.ndim is used to find the respective dimension of an array and not arr.ndim()"
      ],
      "metadata": {
        "colab": {
          "base_uri": "https://localhost:8080/"
        },
        "id": "JbqbGKllmzAT",
        "outputId": "56f2bfd6-e159-42b2-9aa6-eafea11000c1"
      },
      "execution_count": 23,
      "outputs": [
        {
          "output_type": "execute_result",
          "data": {
            "text/plain": [
              "2"
            ]
          },
          "metadata": {},
          "execution_count": 23
        }
      ]
    },
    {
      "cell_type": "code",
      "source": [
        "#arr.ndim is used to find the dimension of an array"
      ],
      "metadata": {
        "id": "IxXSynCroQVd"
      },
      "execution_count": 24,
      "outputs": []
    },
    {
      "cell_type": "code",
      "source": [
        "#arr.ndim is used to find the dimension of an array."
      ],
      "metadata": {
        "id": "az0QDr2ToV5i"
      },
      "execution_count": 25,
      "outputs": []
    },
    {
      "cell_type": "code",
      "source": [
        "import numpy as np\n",
        "a11=np.array([[1,2,3,4,5],[6,7,8,9,10]])\n",
        "a11[1,2]\n",
        "#This is how you access 8....a11[1,2] where 1 represents the 2nd row and 2 represents the 3rd column."
      ],
      "metadata": {
        "colab": {
          "base_uri": "https://localhost:8080/"
        },
        "id": "lJqh0AtPvxZf",
        "outputId": "6d7b35e9-4ac6-4fd8-92cb-298a5a133ea8"
      },
      "execution_count": 27,
      "outputs": [
        {
          "output_type": "execute_result",
          "data": {
            "text/plain": [
              "8"
            ]
          },
          "metadata": {},
          "execution_count": 27
        }
      ]
    },
    {
      "cell_type": "code",
      "source": [
        "import numpy as np\n",
        "a12=np.array([[1,2,3,4,5],[6,7,8,9,10]])\n",
        "a12.dtype\n",
        "#a12.dtype is used to find the datatype of the array."
      ],
      "metadata": {
        "colab": {
          "base_uri": "https://localhost:8080/"
        },
        "id": "MNYPllmAwPPy",
        "outputId": "675bdaac-8de1-4466-94eb-f81f38cc1010"
      },
      "execution_count": 29,
      "outputs": [
        {
          "output_type": "execute_result",
          "data": {
            "text/plain": [
              "dtype('int64')"
            ]
          },
          "metadata": {},
          "execution_count": 29
        }
      ]
    }
  ]
}